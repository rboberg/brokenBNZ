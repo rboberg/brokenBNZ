{
 "metadata": {
  "name": "",
  "signature": "sha256:ca5c8b27e2b3e2584d59a2f5f22a3f00c79589129b6291a8fd7f4c900f9aa432"
 },
 "nbformat": 3,
 "nbformat_minor": 0,
 "worksheets": [
  {
   "cells": [
    {
     "cell_type": "code",
     "collapsed": false,
     "input": [
      "\n",
      "from bs4 import BeautifulSoup\n",
      "from urllib import urlopen\n",
      "import re\n",
      "import numpy as np\n",
      "import pandas as pd\n",
      "\n",
      "webpage = urlopen('http://en.wikipedia.org/wiki/List_of_United_States_cities_by_population')\n",
      "soup=BeautifulSoup(webpage, \"html.parser\")\n",
      "table = soup.find('table', {'class' : 'wikitable sortable'})\n"
     ],
     "language": "python",
     "metadata": {},
     "outputs": [],
     "prompt_number": 48
    },
    {
     "cell_type": "code",
     "collapsed": false,
     "input": [
      "us_cities = []\n",
      "\n",
      "rows = table.findAll('tr')\n",
      "for row in rows[1:200]:\n",
      "    cells = row.findAll('td')\n",
      "\n",
      "    output = []\n",
      "\n",
      "    for i, cell in enumerate(cells):\n",
      "        if i < 4:\n",
      "            text = cell.text.strip().lower()\n",
      "            if i == 0:\n",
      "                text = int(text)\n",
      "            if i == 1 or i == 2:\n",
      "                text = re.sub(r\"\\[.*\\]|'\",'',text)\n",
      "            if i == 3:\n",
      "                text = int(re.sub(r',','',text))\n",
      "            output.append(text)\n",
      "    us_cities.append(output)\n",
      "    \n",
      "us_cities = pd.DataFrame(np.array(us_cities),columns=['rank','city','state','pop'])"
     ],
     "language": "python",
     "metadata": {},
     "outputs": [],
     "prompt_number": 56
    },
    {
     "cell_type": "code",
     "collapsed": false,
     "input": [
      "state_abr_raw = [(\n",
      "\"Alabama\",\"AL\"),(\"Alaska\",\"AK\"),(\n",
      "\"Arizona\",\"AZ\"),(\"Arkansas\",\"AR\"),(\n",
      "\"California\",\"CA\"\n",
      "),(\"Colorado\",\"CO\"),(\n",
      "\"Connecticut\",\"CT\"\n",
      "),(\"Delaware\",\"DE\"),(\n",
      "\"District of Columbia\",\"DC\"),(\n",
      "\"Florida\",\"FL\"),\n",
      "(\"Georgia\",\"GA\"\n",
      "),(\"Hawaii\",\"HI\"\n",
      "),(\"Idaho\",\"ID\"),(\n",
      "\"Illinois\",\"IL\"\n",
      "),(\"Indiana\",\"IN\"),(\n",
      "\"Iowa\",\"IA\"),(\n",
      "\"Kansas\",\"KS\"\n",
      "),(\"Kentucky\",\"KY\"),(\n",
      "\"Louisiana\",\"LA\"\n",
      "),(\"Maine\",\"ME\"\n",
      "),(\"Montana\",\"MT\"\n",
      "),(\"Nebraska\",\"NE\"),(\n",
      "\"Nevada\",\"NV\"),(\n",
      "\"New Hampshire\",\"NH\"),(\n",
      "\"New Jersey\",\"NJ\"),(\n",
      "\"New Mexico\",\"NM\"),(\n",
      "\"New York\",\"NY\"\n",
      "),(\"North Carolina\",\"NC\"),(\n",
      "\"North Dakota\",\"ND\"),(\n",
      "\"Ohio\",\"OH\"\n",
      "),(\"Oklahoma\",\"OK\"\n",
      "),(\"Oregon\",\"OR\"),(\n",
      "\"Maryland\",\"MD\"\n",
      "),(\"Massachusetts\",\"MA\"),(\n",
      "\"Michigan\",\"MI\"\n",
      "),(\"Minnesota\",\"MN\"),(\n",
      "\"Mississippi\",\"MS\"\n",
      "),(\"Missouri\",\"MO\"),(\n",
      "\"Pennsylvania\",\"PA\"),(\n",
      "\"Rhode Island\",\"RI\"\n",
      "),(\"South Carolina\",\"SC\"\n",
      "),(\"South Dakota\",\"SD\"\n",
      "),(\"Tennessee\",\"TN\"),(\n",
      "\"Texas\",\"TX\"),(\n",
      "\"Utah\",\"UT\"),(\n",
      "\"Vermont\",\"VT\"\n",
      "),(\"Virginia\",\"VA\"),(\n",
      "\"Washington\",\"WA\"\n",
      "),(\"West Virginia\",\"WV\"),(\n",
      "\"Wisconsin\",\"WI\"),(\n",
      "\"Wyoming\",\"WY\")]\n"
     ],
     "language": "python",
     "metadata": {},
     "outputs": [],
     "prompt_number": 57
    },
    {
     "cell_type": "code",
     "collapsed": false,
     "input": [
      "state_abr = []\n",
      "for st, abr in state_abr_raw:\n",
      "    state_abr.append([st.lower(), abr.lower()])\n",
      "state_abr = pd.DataFrame(np.array(state_abr), columns = ['state','abr'])"
     ],
     "language": "python",
     "metadata": {},
     "outputs": [],
     "prompt_number": 60
    },
    {
     "cell_type": "code",
     "collapsed": false,
     "input": [
      "us_city_state = pd.merge(us_cities,state_abr)"
     ],
     "language": "python",
     "metadata": {},
     "outputs": [],
     "prompt_number": 63
    },
    {
     "cell_type": "code",
     "collapsed": false,
     "input": [
      "# US geos\n",
      "usgeo = us_city_state.loc[:,['city','abr']]\n",
      "usgeo.columns = ['loc','g1']\n",
      "usgeo = pd.concat([usgeo,pd.DataFrame({'loc':usgeo.g1,'g1':usgeo.g1})])\n",
      "usgeo = pd.concat([usgeo,pd.DataFrame({'loc':state_abr.state,'g1':state_abr.abr})])\n",
      "usgeo['g2'] = 'us'"
     ],
     "language": "python",
     "metadata": {},
     "outputs": [],
     "prompt_number": 89
    },
    {
     "cell_type": "code",
     "collapsed": false,
     "input": [
      "other_geos = [\n",
      "{'loc':'nyc', 'g1':'ny', 'g2':'us'}\n",
      "]"
     ],
     "language": "python",
     "metadata": {},
     "outputs": [],
     "prompt_number": 90
    },
    {
     "cell_type": "code",
     "collapsed": false,
     "input": [
      "geo = pd.concat([usgeo, pd.DataFrame(other_geos)])"
     ],
     "language": "python",
     "metadata": {},
     "outputs": [],
     "prompt_number": 91
    }
   ],
   "metadata": {}
  }
 ]
}