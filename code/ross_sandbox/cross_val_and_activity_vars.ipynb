{
 "metadata": {
  "name": "",
  "signature": "sha256:8891d14af89792599d8e663165856dd98c276835c306381637a58ab963c2fb4c"
 },
 "nbformat": 3,
 "nbformat_minor": 0,
 "worksheets": [
  {
   "cells": [
    {
     "cell_type": "code",
     "collapsed": false,
     "input": [
      "import json\n",
      "import csv\n",
      "import numpy as np\n",
      "import random as rand\n",
      "import pandas as pd\n",
      "from sklearn.linear_model import LogisticRegression\n",
      "from sklearn.svm import SVC\n",
      "from sklearn.metrics import classification_report\n",
      "from sklearn.metrics import roc_auc_score\n",
      "from sklearn.cross_validation import KFold\n",
      "from sklearn.preprocessing import StandardScaler"
     ],
     "language": "python",
     "metadata": {},
     "outputs": [],
     "prompt_number": 1
    },
    {
     "cell_type": "code",
     "collapsed": false,
     "input": [
      "def load_json_file(path):\n",
      "    with open(path) as f:\n",
      "        data = json.load(f)\n",
      "    return data\n",
      "\n",
      "def make_submission_csv(predictions, ids, submission_name, path = '../../predictions'):\n",
      "    with open(path+'/'+submission_name+'.csv', 'w') as csvfile:\n",
      "        field_names = ['request_id', 'requester_received_pizza']\n",
      "        writer = csv.DictWriter(csvfile, fieldnames = field_names)\n",
      "        writer.writeheader()\n",
      "        csv_data = zip(ids, predictions)\n",
      "        for row in csv_data:\n",
      "            writer.writerow({field_names[0]:row[0], field_names[1]:int(row[1])})\n",
      "    "
     ],
     "language": "python",
     "metadata": {},
     "outputs": [],
     "prompt_number": 2
    },
    {
     "cell_type": "code",
     "collapsed": false,
     "input": [
      "# load data from JSON file as list of dicts\n",
      "all_train_dict_list = load_json_file('../../data/train.json')\n",
      "submit_dict_list =  load_json_file('../../data/test.json')\n",
      "\n",
      "n_all = len(all_train_dict_list)\n",
      "n_submit = len(submit_dict_list)\n",
      "\n",
      "# shuffle data to avoid biased split of train / dev data\n",
      "rand.shuffle(all_train_dict_list)\n",
      "\n",
      "kf = KFold(n_all, n_folds = 5)"
     ],
     "language": "python",
     "metadata": {},
     "outputs": [],
     "prompt_number": 3
    },
    {
     "cell_type": "code",
     "collapsed": false,
     "input": [
      "# process labels\n",
      "all_train_labels = np.array([x['requester_received_pizza'] for x in all_train_dict_list])\n",
      "\n",
      "# pandas is useful for turning dicts in to matrix-like objects\n",
      "# where each column is an numpy array\n",
      "submit_df = pd.DataFrame(submit_dict_list)\n",
      "all_train_df = pd.DataFrame(all_train_dict_list)\n",
      "\n",
      "# limit train to columns available in submit_df\n",
      "submit_cols = submit_df.columns\n",
      "all_train_df = all_train_df[submit_cols]"
     ],
     "language": "python",
     "metadata": {},
     "outputs": [],
     "prompt_number": 4
    },
    {
     "cell_type": "code",
     "collapsed": false,
     "input": [
      "all_train_df.columns.values"
     ],
     "language": "python",
     "metadata": {},
     "outputs": [
      {
       "metadata": {},
       "output_type": "pyout",
       "prompt_number": 5,
       "text": [
        "array([u'giver_username_if_known', u'request_id',\n",
        "       u'request_text_edit_aware', u'request_title',\n",
        "       u'requester_account_age_in_days_at_request',\n",
        "       u'requester_days_since_first_post_on_raop_at_request',\n",
        "       u'requester_number_of_comments_at_request',\n",
        "       u'requester_number_of_comments_in_raop_at_request',\n",
        "       u'requester_number_of_posts_at_request',\n",
        "       u'requester_number_of_posts_on_raop_at_request',\n",
        "       u'requester_number_of_subreddits_at_request',\n",
        "       u'requester_subreddits_at_request',\n",
        "       u'requester_upvotes_minus_downvotes_at_request',\n",
        "       u'requester_upvotes_plus_downvotes_at_request',\n",
        "       u'requester_username', u'unix_timestamp_of_request',\n",
        "       u'unix_timestamp_of_request_utc'], dtype=object)"
       ]
      }
     ],
     "prompt_number": 5
    },
    {
     "cell_type": "code",
     "collapsed": false,
     "input": [
      "# which columns are numeric activity variables\n",
      "activity_var = ['requester_account_age_in_days_at_request',\n",
      "                'requester_days_since_first_post_on_raop_at_request',\n",
      "                'requester_number_of_comments_at_request',\n",
      "                'requester_number_of_comments_in_raop_at_request',\n",
      "                'requester_number_of_posts_at_request',\n",
      "                'requester_number_of_posts_on_raop_at_request',\n",
      "                'requester_number_of_subreddits_at_request',\n",
      "                'requester_upvotes_minus_downvotes_at_request',\n",
      "                'requester_upvotes_plus_downvotes_at_request'\n",
      "                ]\n",
      "# look at correlations of requester activity variables:\n",
      "all_train_df.loc[:,activity_var].corr()\n",
      "\n",
      "# probably only need to include upvotes_minus_downvotes\n",
      "# OR upvotes_plus_downvotes? they are 90% correlated\n",
      "\n",
      "# number of comments is also highly correlated with number of subreddits"
     ],
     "language": "python",
     "metadata": {},
     "outputs": [
      {
       "html": [
        "<div style=\"max-height:1000px;max-width:1500px;overflow:auto;\">\n",
        "<table border=\"1\" class=\"dataframe\">\n",
        "  <thead>\n",
        "    <tr style=\"text-align: right;\">\n",
        "      <th></th>\n",
        "      <th>requester_account_age_in_days_at_request</th>\n",
        "      <th>requester_days_since_first_post_on_raop_at_request</th>\n",
        "      <th>requester_number_of_comments_at_request</th>\n",
        "      <th>requester_number_of_comments_in_raop_at_request</th>\n",
        "      <th>requester_number_of_posts_at_request</th>\n",
        "      <th>requester_number_of_posts_on_raop_at_request</th>\n",
        "      <th>requester_number_of_subreddits_at_request</th>\n",
        "      <th>requester_upvotes_minus_downvotes_at_request</th>\n",
        "      <th>requester_upvotes_plus_downvotes_at_request</th>\n",
        "    </tr>\n",
        "  </thead>\n",
        "  <tbody>\n",
        "    <tr>\n",
        "      <th>requester_account_age_in_days_at_request</th>\n",
        "      <td> 1.000000</td>\n",
        "      <td> 0.231437</td>\n",
        "      <td> 0.488341</td>\n",
        "      <td> 0.054243</td>\n",
        "      <td> 0.411907</td>\n",
        "      <td> 0.033078</td>\n",
        "      <td> 0.588118</td>\n",
        "      <td> 0.271963</td>\n",
        "      <td> 0.115681</td>\n",
        "    </tr>\n",
        "    <tr>\n",
        "      <th>requester_days_since_first_post_on_raop_at_request</th>\n",
        "      <td> 0.231437</td>\n",
        "      <td> 1.000000</td>\n",
        "      <td> 0.204728</td>\n",
        "      <td> 0.354446</td>\n",
        "      <td> 0.099312</td>\n",
        "      <td> 0.292962</td>\n",
        "      <td> 0.193807</td>\n",
        "      <td> 0.112943</td>\n",
        "      <td> 0.078312</td>\n",
        "    </tr>\n",
        "    <tr>\n",
        "      <th>requester_number_of_comments_at_request</th>\n",
        "      <td> 0.488341</td>\n",
        "      <td> 0.204728</td>\n",
        "      <td> 1.000000</td>\n",
        "      <td> 0.122674</td>\n",
        "      <td> 0.390735</td>\n",
        "      <td> 0.068309</td>\n",
        "      <td> 0.755857</td>\n",
        "      <td> 0.400108</td>\n",
        "      <td> 0.162262</td>\n",
        "    </tr>\n",
        "    <tr>\n",
        "      <th>requester_number_of_comments_in_raop_at_request</th>\n",
        "      <td> 0.054243</td>\n",
        "      <td> 0.354446</td>\n",
        "      <td> 0.122674</td>\n",
        "      <td> 1.000000</td>\n",
        "      <td> 0.019334</td>\n",
        "      <td> 0.487150</td>\n",
        "      <td> 0.082610</td>\n",
        "      <td> 0.129595</td>\n",
        "      <td> 0.131645</td>\n",
        "    </tr>\n",
        "    <tr>\n",
        "      <th>requester_number_of_posts_at_request</th>\n",
        "      <td> 0.411907</td>\n",
        "      <td> 0.099312</td>\n",
        "      <td> 0.390735</td>\n",
        "      <td> 0.019334</td>\n",
        "      <td> 1.000000</td>\n",
        "      <td> 0.046357</td>\n",
        "      <td> 0.598358</td>\n",
        "      <td> 0.545885</td>\n",
        "      <td> 0.359416</td>\n",
        "    </tr>\n",
        "    <tr>\n",
        "      <th>requester_number_of_posts_on_raop_at_request</th>\n",
        "      <td> 0.033078</td>\n",
        "      <td> 0.292962</td>\n",
        "      <td> 0.068309</td>\n",
        "      <td> 0.487150</td>\n",
        "      <td> 0.046357</td>\n",
        "      <td> 1.000000</td>\n",
        "      <td> 0.053959</td>\n",
        "      <td> 0.122886</td>\n",
        "      <td> 0.130172</td>\n",
        "    </tr>\n",
        "    <tr>\n",
        "      <th>requester_number_of_subreddits_at_request</th>\n",
        "      <td> 0.588118</td>\n",
        "      <td> 0.193807</td>\n",
        "      <td> 0.755857</td>\n",
        "      <td> 0.082610</td>\n",
        "      <td> 0.598358</td>\n",
        "      <td> 0.053959</td>\n",
        "      <td> 1.000000</td>\n",
        "      <td> 0.411542</td>\n",
        "      <td> 0.184077</td>\n",
        "    </tr>\n",
        "    <tr>\n",
        "      <th>requester_upvotes_minus_downvotes_at_request</th>\n",
        "      <td> 0.271963</td>\n",
        "      <td> 0.112943</td>\n",
        "      <td> 0.400108</td>\n",
        "      <td> 0.129595</td>\n",
        "      <td> 0.545885</td>\n",
        "      <td> 0.122886</td>\n",
        "      <td> 0.411542</td>\n",
        "      <td> 1.000000</td>\n",
        "      <td> 0.916014</td>\n",
        "    </tr>\n",
        "    <tr>\n",
        "      <th>requester_upvotes_plus_downvotes_at_request</th>\n",
        "      <td> 0.115681</td>\n",
        "      <td> 0.078312</td>\n",
        "      <td> 0.162262</td>\n",
        "      <td> 0.131645</td>\n",
        "      <td> 0.359416</td>\n",
        "      <td> 0.130172</td>\n",
        "      <td> 0.184077</td>\n",
        "      <td> 0.916014</td>\n",
        "      <td> 1.000000</td>\n",
        "    </tr>\n",
        "  </tbody>\n",
        "</table>\n",
        "</div>"
       ],
       "metadata": {},
       "output_type": "pyout",
       "prompt_number": 6,
       "text": [
        "                                                    requester_account_age_in_days_at_request  \\\n",
        "requester_account_age_in_days_at_request                                            1.000000   \n",
        "requester_days_since_first_post_on_raop_at_request                                  0.231437   \n",
        "requester_number_of_comments_at_request                                             0.488341   \n",
        "requester_number_of_comments_in_raop_at_request                                     0.054243   \n",
        "requester_number_of_posts_at_request                                                0.411907   \n",
        "requester_number_of_posts_on_raop_at_request                                        0.033078   \n",
        "requester_number_of_subreddits_at_request                                           0.588118   \n",
        "requester_upvotes_minus_downvotes_at_request                                        0.271963   \n",
        "requester_upvotes_plus_downvotes_at_request                                         0.115681   \n",
        "\n",
        "                                                    requester_days_since_first_post_on_raop_at_request  \\\n",
        "requester_account_age_in_days_at_request                                                     0.231437    \n",
        "requester_days_since_first_post_on_raop_at_request                                           1.000000    \n",
        "requester_number_of_comments_at_request                                                      0.204728    \n",
        "requester_number_of_comments_in_raop_at_request                                              0.354446    \n",
        "requester_number_of_posts_at_request                                                         0.099312    \n",
        "requester_number_of_posts_on_raop_at_request                                                 0.292962    \n",
        "requester_number_of_subreddits_at_request                                                    0.193807    \n",
        "requester_upvotes_minus_downvotes_at_request                                                 0.112943    \n",
        "requester_upvotes_plus_downvotes_at_request                                                  0.078312    \n",
        "\n",
        "                                                    requester_number_of_comments_at_request  \\\n",
        "requester_account_age_in_days_at_request                                           0.488341   \n",
        "requester_days_since_first_post_on_raop_at_request                                 0.204728   \n",
        "requester_number_of_comments_at_request                                            1.000000   \n",
        "requester_number_of_comments_in_raop_at_request                                    0.122674   \n",
        "requester_number_of_posts_at_request                                               0.390735   \n",
        "requester_number_of_posts_on_raop_at_request                                       0.068309   \n",
        "requester_number_of_subreddits_at_request                                          0.755857   \n",
        "requester_upvotes_minus_downvotes_at_request                                       0.400108   \n",
        "requester_upvotes_plus_downvotes_at_request                                        0.162262   \n",
        "\n",
        "                                                    requester_number_of_comments_in_raop_at_request  \\\n",
        "requester_account_age_in_days_at_request                                                   0.054243   \n",
        "requester_days_since_first_post_on_raop_at_request                                         0.354446   \n",
        "requester_number_of_comments_at_request                                                    0.122674   \n",
        "requester_number_of_comments_in_raop_at_request                                            1.000000   \n",
        "requester_number_of_posts_at_request                                                       0.019334   \n",
        "requester_number_of_posts_on_raop_at_request                                               0.487150   \n",
        "requester_number_of_subreddits_at_request                                                  0.082610   \n",
        "requester_upvotes_minus_downvotes_at_request                                               0.129595   \n",
        "requester_upvotes_plus_downvotes_at_request                                                0.131645   \n",
        "\n",
        "                                                    requester_number_of_posts_at_request  \\\n",
        "requester_account_age_in_days_at_request                                        0.411907   \n",
        "requester_days_since_first_post_on_raop_at_request                              0.099312   \n",
        "requester_number_of_comments_at_request                                         0.390735   \n",
        "requester_number_of_comments_in_raop_at_request                                 0.019334   \n",
        "requester_number_of_posts_at_request                                            1.000000   \n",
        "requester_number_of_posts_on_raop_at_request                                    0.046357   \n",
        "requester_number_of_subreddits_at_request                                       0.598358   \n",
        "requester_upvotes_minus_downvotes_at_request                                    0.545885   \n",
        "requester_upvotes_plus_downvotes_at_request                                     0.359416   \n",
        "\n",
        "                                                    requester_number_of_posts_on_raop_at_request  \\\n",
        "requester_account_age_in_days_at_request                                                0.033078   \n",
        "requester_days_since_first_post_on_raop_at_request                                      0.292962   \n",
        "requester_number_of_comments_at_request                                                 0.068309   \n",
        "requester_number_of_comments_in_raop_at_request                                         0.487150   \n",
        "requester_number_of_posts_at_request                                                    0.046357   \n",
        "requester_number_of_posts_on_raop_at_request                                            1.000000   \n",
        "requester_number_of_subreddits_at_request                                               0.053959   \n",
        "requester_upvotes_minus_downvotes_at_request                                            0.122886   \n",
        "requester_upvotes_plus_downvotes_at_request                                             0.130172   \n",
        "\n",
        "                                                    requester_number_of_subreddits_at_request  \\\n",
        "requester_account_age_in_days_at_request                                             0.588118   \n",
        "requester_days_since_first_post_on_raop_at_request                                   0.193807   \n",
        "requester_number_of_comments_at_request                                              0.755857   \n",
        "requester_number_of_comments_in_raop_at_request                                      0.082610   \n",
        "requester_number_of_posts_at_request                                                 0.598358   \n",
        "requester_number_of_posts_on_raop_at_request                                         0.053959   \n",
        "requester_number_of_subreddits_at_request                                            1.000000   \n",
        "requester_upvotes_minus_downvotes_at_request                                         0.411542   \n",
        "requester_upvotes_plus_downvotes_at_request                                          0.184077   \n",
        "\n",
        "                                                    requester_upvotes_minus_downvotes_at_request  \\\n",
        "requester_account_age_in_days_at_request                                                0.271963   \n",
        "requester_days_since_first_post_on_raop_at_request                                      0.112943   \n",
        "requester_number_of_comments_at_request                                                 0.400108   \n",
        "requester_number_of_comments_in_raop_at_request                                         0.129595   \n",
        "requester_number_of_posts_at_request                                                    0.545885   \n",
        "requester_number_of_posts_on_raop_at_request                                            0.122886   \n",
        "requester_number_of_subreddits_at_request                                               0.411542   \n",
        "requester_upvotes_minus_downvotes_at_request                                            1.000000   \n",
        "requester_upvotes_plus_downvotes_at_request                                             0.916014   \n",
        "\n",
        "                                                    requester_upvotes_plus_downvotes_at_request  \n",
        "requester_account_age_in_days_at_request                                               0.115681  \n",
        "requester_days_since_first_post_on_raop_at_request                                     0.078312  \n",
        "requester_number_of_comments_at_request                                                0.162262  \n",
        "requester_number_of_comments_in_raop_at_request                                        0.131645  \n",
        "requester_number_of_posts_at_request                                                   0.359416  \n",
        "requester_number_of_posts_on_raop_at_request                                           0.130172  \n",
        "requester_number_of_subreddits_at_request                                              0.184077  \n",
        "requester_upvotes_minus_downvotes_at_request                                           0.916014  \n",
        "requester_upvotes_plus_downvotes_at_request                                            1.000000  "
       ]
      }
     ],
     "prompt_number": 6
    },
    {
     "cell_type": "code",
     "collapsed": false,
     "input": [
      "def test_kfolds(X, y, kf, model, verbose=True):\n",
      "    roc_auc_list = []\n",
      "    \n",
      "    for train_i, dev_i in kf:\n",
      "        X_train = X[train_i]\n",
      "        X_dev = X[dev_i]\n",
      "\n",
      "        model.fit(X_train, y[train_i])\n",
      "\n",
      "        dev_pred = model.predict(X_dev)\n",
      "        \n",
      "        roc_auc_i = roc_auc_score(y[dev_i], dev_pred)\n",
      "        roc_auc_list.append(roc_auc_i)\n",
      "        if verbose:\n",
      "            print('ROC AUC:',roc_auc_i)\n",
      "        \n",
      "    return roc_auc_list\n"
     ],
     "language": "python",
     "metadata": {},
     "outputs": [],
     "prompt_number": 7
    },
    {
     "cell_type": "code",
     "collapsed": false,
     "input": [
      "activity_all = all_train_df.loc[:,activity_var].values\n",
      "scaler = StandardScaler()\n",
      "X_all = scaler.fit_transform(activity_all)\n"
     ],
     "language": "python",
     "metadata": {},
     "outputs": [],
     "prompt_number": 8
    },
    {
     "cell_type": "code",
     "collapsed": false,
     "input": [
      "# NOTE class_weight = \"auto\" makes a huge difference!!\n",
      "svc = SVC(class_weight='auto')\n",
      "\n",
      "X_one = all_train_df['requester_number_of_comments_in_raop_at_request'].values > 0\n",
      "X_one = np.reshape(X_one, (X_one.shape[0],1))\n",
      "\n",
      "print 'class_weight = \"auto\"'\n",
      "test_kfolds(X_one, all_train_labels, kf, SVC(class_weight='auto'))\n",
      "print 'class_weight = None'\n",
      "test_kfolds(X_one, all_train_labels, kf, SVC(class_weight=None))"
     ],
     "language": "python",
     "metadata": {},
     "outputs": [
      {
       "output_type": "stream",
       "stream": "stdout",
       "text": [
        "class_weight = \"auto\"\n",
        "('ROC AUC:', 0.56390696827636422)"
       ]
      },
      {
       "output_type": "stream",
       "stream": "stdout",
       "text": [
        "\n",
        "('ROC AUC:', 0.54042904290429039)"
       ]
      },
      {
       "output_type": "stream",
       "stream": "stdout",
       "text": [
        "\n",
        "('ROC AUC:', 0.54985522057571123)"
       ]
      },
      {
       "output_type": "stream",
       "stream": "stdout",
       "text": [
        "\n",
        "('ROC AUC:', 0.56082236842105271)"
       ]
      },
      {
       "output_type": "stream",
       "stream": "stdout",
       "text": [
        "\n",
        "('ROC AUC:', 0.52683817151993728)"
       ]
      },
      {
       "output_type": "stream",
       "stream": "stdout",
       "text": [
        "\n",
        "class_weight = None\n",
        "('ROC AUC:', 0.5)"
       ]
      },
      {
       "output_type": "stream",
       "stream": "stdout",
       "text": [
        "\n",
        "('ROC AUC:', 0.5)"
       ]
      },
      {
       "output_type": "stream",
       "stream": "stdout",
       "text": [
        "\n",
        "('ROC AUC:', 0.5)"
       ]
      },
      {
       "output_type": "stream",
       "stream": "stdout",
       "text": [
        "\n",
        "('ROC AUC:', 0.5)"
       ]
      },
      {
       "output_type": "stream",
       "stream": "stdout",
       "text": [
        "\n",
        "('ROC AUC:', 0.5)"
       ]
      },
      {
       "output_type": "stream",
       "stream": "stdout",
       "text": [
        "\n"
       ]
      },
      {
       "metadata": {},
       "output_type": "pyout",
       "prompt_number": 9,
       "text": [
        "[0.5, 0.5, 0.5, 0.5, 0.5]"
       ]
      }
     ],
     "prompt_number": 9
    },
    {
     "cell_type": "code",
     "collapsed": false,
     "input": [
      "# Check which vars are bset on their own\n",
      "# And difference between logistic and SVC\n",
      "\n",
      "svc = SVC(class_weight='auto')\n",
      "lr = LogisticRegression(class_weight='auto')\n",
      "\n",
      "res = []\n",
      "\n",
      "for var in activity_var:\n",
      "    X_one = all_train_df[var].values\n",
      "    X_one = np.reshape(X_one, (X_one.shape[0],1))\n",
      "    print var\n",
      "    \n",
      "    svc_score = test_kfolds(X_one, all_train_labels, kf, svc, verbose=False)\n",
      "    lr_score = test_kfolds(X_one, all_train_labels, kf, lr, verbose=False)\n",
      "    \n",
      "    res.append({\n",
      "        'var':var,\n",
      "        'svc_mean_score':np.mean(svc_score),\n",
      "        'svc_median_score':np.median(svc_score),\n",
      "        'lr_mean_score':np.mean(lr_score),\n",
      "        'lr_median_score':np.median(lr_score),\n",
      "        })"
     ],
     "language": "python",
     "metadata": {},
     "outputs": [
      {
       "output_type": "stream",
       "stream": "stdout",
       "text": [
        "requester_account_age_in_days_at_request\n",
        "requester_days_since_first_post_on_raop_at_request"
       ]
      },
      {
       "output_type": "stream",
       "stream": "stdout",
       "text": [
        "\n",
        "requester_number_of_comments_at_request"
       ]
      },
      {
       "output_type": "stream",
       "stream": "stdout",
       "text": [
        "\n",
        "requester_number_of_comments_in_raop_at_request"
       ]
      },
      {
       "output_type": "stream",
       "stream": "stdout",
       "text": [
        "\n",
        "requester_number_of_posts_at_request"
       ]
      },
      {
       "output_type": "stream",
       "stream": "stdout",
       "text": [
        "\n",
        "requester_number_of_posts_on_raop_at_request"
       ]
      },
      {
       "output_type": "stream",
       "stream": "stdout",
       "text": [
        "\n",
        "requester_number_of_subreddits_at_request"
       ]
      },
      {
       "output_type": "stream",
       "stream": "stdout",
       "text": [
        "\n",
        "requester_upvotes_minus_downvotes_at_request"
       ]
      },
      {
       "output_type": "stream",
       "stream": "stdout",
       "text": [
        "\n",
        "requester_upvotes_plus_downvotes_at_request"
       ]
      },
      {
       "output_type": "stream",
       "stream": "stdout",
       "text": [
        "\n"
       ]
      }
     ],
     "prompt_number": 10
    },
    {
     "cell_type": "code",
     "collapsed": false,
     "input": [
      "pd.DataFrame(res)"
     ],
     "language": "python",
     "metadata": {},
     "outputs": [
      {
       "html": [
        "<div style=\"max-height:1000px;max-width:1500px;overflow:auto;\">\n",
        "<table border=\"1\" class=\"dataframe\">\n",
        "  <thead>\n",
        "    <tr style=\"text-align: right;\">\n",
        "      <th></th>\n",
        "      <th>lr_mean_score</th>\n",
        "      <th>lr_median_score</th>\n",
        "      <th>svc_mean_score</th>\n",
        "      <th>svc_median_score</th>\n",
        "      <th>var</th>\n",
        "    </tr>\n",
        "  </thead>\n",
        "  <tbody>\n",
        "    <tr>\n",
        "      <th>0</th>\n",
        "      <td> 0.515623</td>\n",
        "      <td> 0.514651</td>\n",
        "      <td> 0.513781</td>\n",
        "      <td> 0.511480</td>\n",
        "      <td>          requester_account_age_in_days_at_request</td>\n",
        "    </tr>\n",
        "    <tr>\n",
        "      <th>1</th>\n",
        "      <td> 0.539194</td>\n",
        "      <td> 0.534653</td>\n",
        "      <td> 0.541590</td>\n",
        "      <td> 0.539604</td>\n",
        "      <td> requester_days_since_first_post_on_raop_at_req...</td>\n",
        "    </tr>\n",
        "    <tr>\n",
        "      <th>2</th>\n",
        "      <td> 0.514677</td>\n",
        "      <td> 0.514851</td>\n",
        "      <td> 0.514217</td>\n",
        "      <td> 0.512204</td>\n",
        "      <td>           requester_number_of_comments_at_request</td>\n",
        "    </tr>\n",
        "    <tr>\n",
        "      <th>3</th>\n",
        "      <td> 0.548370</td>\n",
        "      <td> 0.549855</td>\n",
        "      <td> 0.540083</td>\n",
        "      <td> 0.538779</td>\n",
        "      <td>   requester_number_of_comments_in_raop_at_request</td>\n",
        "    </tr>\n",
        "    <tr>\n",
        "      <th>4</th>\n",
        "      <td> 0.510345</td>\n",
        "      <td> 0.510726</td>\n",
        "      <td> 0.532922</td>\n",
        "      <td> 0.527105</td>\n",
        "      <td>              requester_number_of_posts_at_request</td>\n",
        "    </tr>\n",
        "    <tr>\n",
        "      <th>5</th>\n",
        "      <td> 0.529841</td>\n",
        "      <td> 0.531627</td>\n",
        "      <td> 0.529841</td>\n",
        "      <td> 0.531627</td>\n",
        "      <td>      requester_number_of_posts_on_raop_at_request</td>\n",
        "    </tr>\n",
        "    <tr>\n",
        "      <th>6</th>\n",
        "      <td> 0.519021</td>\n",
        "      <td> 0.518579</td>\n",
        "      <td> 0.533976</td>\n",
        "      <td> 0.529338</td>\n",
        "      <td>         requester_number_of_subreddits_at_request</td>\n",
        "    </tr>\n",
        "    <tr>\n",
        "      <th>7</th>\n",
        "      <td> 0.523619</td>\n",
        "      <td> 0.520627</td>\n",
        "      <td> 0.520691</td>\n",
        "      <td> 0.528717</td>\n",
        "      <td>      requester_upvotes_minus_downvotes_at_request</td>\n",
        "    </tr>\n",
        "    <tr>\n",
        "      <th>8</th>\n",
        "      <td> 0.540925</td>\n",
        "      <td> 0.547796</td>\n",
        "      <td> 0.525214</td>\n",
        "      <td> 0.528648</td>\n",
        "      <td>       requester_upvotes_plus_downvotes_at_request</td>\n",
        "    </tr>\n",
        "  </tbody>\n",
        "</table>\n",
        "</div>"
       ],
       "metadata": {},
       "output_type": "pyout",
       "prompt_number": 11,
       "text": [
        "   lr_mean_score  lr_median_score  svc_mean_score  svc_median_score  \\\n",
        "0       0.515623         0.514651        0.513781          0.511480   \n",
        "1       0.539194         0.534653        0.541590          0.539604   \n",
        "2       0.514677         0.514851        0.514217          0.512204   \n",
        "3       0.548370         0.549855        0.540083          0.538779   \n",
        "4       0.510345         0.510726        0.532922          0.527105   \n",
        "5       0.529841         0.531627        0.529841          0.531627   \n",
        "6       0.519021         0.518579        0.533976          0.529338   \n",
        "7       0.523619         0.520627        0.520691          0.528717   \n",
        "8       0.540925         0.547796        0.525214          0.528648   \n",
        "\n",
        "                                                 var  \n",
        "0           requester_account_age_in_days_at_request  \n",
        "1  requester_days_since_first_post_on_raop_at_req...  \n",
        "2            requester_number_of_comments_at_request  \n",
        "3    requester_number_of_comments_in_raop_at_request  \n",
        "4               requester_number_of_posts_at_request  \n",
        "5       requester_number_of_posts_on_raop_at_request  \n",
        "6          requester_number_of_subreddits_at_request  \n",
        "7       requester_upvotes_minus_downvotes_at_request  \n",
        "8        requester_upvotes_plus_downvotes_at_request  "
       ]
      }
     ],
     "prompt_number": 11
    },
    {
     "cell_type": "code",
     "collapsed": false,
     "input": [
      "# subset of variables\n",
      "activity_var = ['requester_account_age_in_days_at_request',\n",
      "                'requester_days_since_first_post_on_raop_at_request',\n",
      "                'requester_number_of_comments_in_raop_at_request',\n",
      "                'requester_number_of_posts_at_request',\n",
      "                'requester_number_of_posts_on_raop_at_request',\n",
      "                'requester_number_of_subreddits_at_request',\n",
      "                'requester_upvotes_plus_downvotes_at_request'\n",
      "                ]\n",
      "\n",
      "\n",
      "activity_all = all_train_df.loc[:,activity_var].values\n",
      "scaler = StandardScaler()\n",
      "X_all = scaler.fit_transform(activity_all)\n",
      "\n"
     ],
     "language": "python",
     "metadata": {},
     "outputs": [],
     "prompt_number": 43
    },
    {
     "cell_type": "code",
     "collapsed": false,
     "input": [
      "# NOTE RAOP comments seem to get most of the value from activity vars?\n",
      "\n",
      "X_one = all_train_df['requester_number_of_comments_in_raop_at_request'].values\n",
      "X_one = np.reshape(X_one, (X_one.shape[0],1))\n",
      "\n",
      "svc = SVC(class_weight='auto')\n",
      "lr = LogisticRegression(class_weight='auto')\n",
      "\n",
      "print '\\nAll Activity'\n",
      "all_res = test_kfolds(X_all, all_train_labels, kf, svc)\n",
      "print 'Mean: %f, Median: %f' %(np.mean(all_res), np.median(all_res))\n",
      "\n",
      "print '\\nRAOP Comments Only'\n",
      "one_res = test_kfolds(X_one, all_train_labels, kf, svc)\n",
      "print 'Mean: %f, Median: %f' %(np.mean(one_res), np.median(one_res))"
     ],
     "language": "python",
     "metadata": {},
     "outputs": [
      {
       "output_type": "stream",
       "stream": "stdout",
       "text": [
        "\n",
        "All Activity\n",
        "('ROC AUC:', 0.54536889536206812)"
       ]
      },
      {
       "output_type": "stream",
       "stream": "stdout",
       "text": [
        "\n",
        "('ROC AUC:', 0.52392739273927391)"
       ]
      },
      {
       "output_type": "stream",
       "stream": "stdout",
       "text": [
        "\n",
        "('ROC AUC:', 0.54788792369272699)"
       ]
      },
      {
       "output_type": "stream",
       "stream": "stdout",
       "text": [
        "\n",
        "('ROC AUC:', 0.56019736842105272)"
       ]
      },
      {
       "output_type": "stream",
       "stream": "stdout",
       "text": [
        "\n",
        "('ROC AUC:', 0.54644357460159432)"
       ]
      },
      {
       "output_type": "stream",
       "stream": "stdout",
       "text": [
        "\n",
        "Mean: 0.544765, Median: 0.546444\n",
        "\n",
        "RAOP Comments Only\n",
        "('ROC AUC:', 0.52762277547676484)"
       ]
      },
      {
       "output_type": "stream",
       "stream": "stdout",
       "text": [
        "\n",
        "('ROC AUC:', 0.53877887788778878)"
       ]
      },
      {
       "output_type": "stream",
       "stream": "stdout",
       "text": [
        "\n",
        "('ROC AUC:', 0.54985522057571123)"
       ]
      },
      {
       "output_type": "stream",
       "stream": "stdout",
       "text": [
        "\n",
        "('ROC AUC:', 0.56082236842105271)"
       ]
      },
      {
       "output_type": "stream",
       "stream": "stdout",
       "text": [
        "\n",
        "('ROC AUC:', 0.52333491715123948)"
       ]
      },
      {
       "output_type": "stream",
       "stream": "stdout",
       "text": [
        "\n",
        "Mean: 0.540083, Median: 0.538779\n"
       ]
      }
     ],
     "prompt_number": 44
    },
    {
     "cell_type": "code",
     "collapsed": false,
     "input": [
      "X_submit = scaler.transform(submit_df.loc[:,activity_var].values)\n",
      "\n",
      "svc = SVC(class_weight='auto')\n",
      "svc.fit(X_all, all_train_labels)\n",
      "\n",
      "submit_pred = svc.predict(X_submit)\n",
      "submit_id = [x['request_id'] for x in submit_dict_list]\n",
      "make_submission_csv(submit_pred, submit_id, 'activity_svc')"
     ],
     "language": "python",
     "metadata": {},
     "outputs": [],
     "prompt_number": 47
    },
    {
     "cell_type": "code",
     "collapsed": false,
     "input": [],
     "language": "python",
     "metadata": {},
     "outputs": []
    }
   ],
   "metadata": {}
  }
 ]
}