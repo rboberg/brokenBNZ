{
 "metadata": {
  "name": "",
  "signature": "sha256:51a316e9edddc6bbd651bf2408ee3b16188c3712f7325ac9b1ad84fca04d8033"
 },
 "nbformat": 3,
 "nbformat_minor": 0,
 "worksheets": [
  {
   "cells": [
    {
     "cell_type": "code",
     "collapsed": false,
     "input": [
      "import json\n",
      "import csv\n",
      "import numpy as np\n",
      "import random as rand\n",
      "import pandas as pd\n",
      "from sklearn.linear_model import LogisticRegression\n",
      "from sklearn.svm import SVC\n",
      "from sklearn.svm import LinearSVC\n",
      "from sklearn.metrics import classification_report\n",
      "from sklearn.metrics import roc_auc_score\n",
      "from sklearn.cross_validation import KFold\n",
      "from sklearn.preprocessing import StandardScaler\n",
      "from sklearn.decomposition import PCA\n",
      "from sklearn.feature_extraction.text import CountVectorizer"
     ],
     "language": "python",
     "metadata": {},
     "outputs": [],
     "prompt_number": 42
    },
    {
     "cell_type": "code",
     "collapsed": false,
     "input": [
      "def load_json_file(path):\n",
      "    with open(path) as f:\n",
      "        data = json.load(f)\n",
      "    return data\n",
      "\n",
      "def make_submission_csv(predictions, ids, submission_name, path = '../../predictions'):\n",
      "    with open(path+'/'+submission_name+'.csv', 'w') as csvfile:\n",
      "        field_names = ['request_id', 'requester_received_pizza']\n",
      "        writer = csv.DictWriter(csvfile, fieldnames = field_names)\n",
      "        writer.writeheader()\n",
      "        csv_data = zip(ids, predictions)\n",
      "        for row in csv_data:\n",
      "            writer.writerow({field_names[0]:row[0], field_names[1]:int(row[1])})\n",
      "\n",
      "def test_kfolds(X, y, kf, model, verbose=True):\n",
      "    roc_auc_list = []\n",
      "    \n",
      "    for train_i, dev_i in kf:\n",
      "        X_train = X[train_i]\n",
      "        X_dev = X[dev_i]\n",
      "\n",
      "        model.fit(X_train, y[train_i])\n",
      "\n",
      "        dev_pred = model.predict(X_dev)\n",
      "        \n",
      "        roc_auc_i = roc_auc_score(y[dev_i], dev_pred)\n",
      "        roc_auc_list.append(roc_auc_i)\n",
      "        if verbose:\n",
      "            print('ROC AUC:',roc_auc_i)\n",
      "            \n",
      "    if verbose:\n",
      "        print 'Mean: %f, Median: %f' %(np.mean(roc_auc_list), np.median(roc_auc_list))\n",
      "        \n",
      "    return roc_auc_list\n"
     ],
     "language": "python",
     "metadata": {},
     "outputs": [],
     "prompt_number": 46
    },
    {
     "cell_type": "code",
     "collapsed": false,
     "input": [
      "# load data from JSON file as list of dicts\n",
      "all_train_dict_list = load_json_file('../../data/train.json')\n",
      "submit_dict_list =  load_json_file('../../data/test.json')\n",
      "\n",
      "n_all = len(all_train_dict_list)\n",
      "n_submit = len(submit_dict_list)\n",
      "\n",
      "# shuffle data to avoid biased split of train / dev data\n",
      "rand.shuffle(all_train_dict_list)\n",
      "\n",
      "# set up kFolds\n",
      "kf = KFold(n_all, n_folds = 5)\n",
      "\n",
      "# process labels\n",
      "all_train_labels = np.array([x['requester_received_pizza'] for x in all_train_dict_list])\n",
      "\n",
      "# pandas is useful for turning dicts in to matrix-like objects\n",
      "# where each column is an numpy array\n",
      "submit_df = pd.DataFrame(submit_dict_list)\n",
      "all_train_df = pd.DataFrame(all_train_dict_list)\n",
      "\n",
      "# limit train to columns available in submit_df\n",
      "submit_cols = submit_df.columns\n",
      "all_train_df = all_train_df[submit_cols]"
     ],
     "language": "python",
     "metadata": {},
     "outputs": [],
     "prompt_number": 25
    },
    {
     "cell_type": "code",
     "collapsed": false,
     "input": [
      "# which columns are numeric activity variables\n",
      "activity_var = ['requester_account_age_in_days_at_request',\n",
      "                'requester_days_since_first_post_on_raop_at_request',\n",
      "                'requester_number_of_comments_at_request',\n",
      "                'requester_number_of_comments_in_raop_at_request',\n",
      "                'requester_number_of_posts_at_request',\n",
      "                'requester_number_of_posts_on_raop_at_request',\n",
      "                'requester_number_of_subreddits_at_request',\n",
      "                'requester_upvotes_minus_downvotes_at_request',\n",
      "                'requester_upvotes_plus_downvotes_at_request'\n",
      "                ]\n",
      "# look at correlations of requester activity variables:\n",
      "activity_all = all_train_df.loc[:,activity_var]\n",
      "\n",
      "scaler = StandardScaler()\n",
      "X_act = scaler.fit_transform(activity_all)\n",
      "\n"
     ],
     "language": "python",
     "metadata": {},
     "outputs": [],
     "prompt_number": 26
    },
    {
     "cell_type": "code",
     "collapsed": false,
     "input": [
      "# Example classification\n",
      "svc = SVC(class_weight='auto')\n",
      "lr = LogisticRegression(class_weight='auto')\n",
      "\n",
      "all_res = test_kfolds(X_act, all_train_labels, kf, svc)\n",
      "\n",
      "all_res = test_kfolds(X_act, all_train_labels, kf, lr)\n"
     ],
     "language": "python",
     "metadata": {},
     "outputs": [
      {
       "output_type": "stream",
       "stream": "stdout",
       "text": [
        "('ROC AUC:', 0.54045190383177799)\n",
        "('ROC AUC:', 0.54138641043239533)"
       ]
      },
      {
       "output_type": "stream",
       "stream": "stdout",
       "text": [
        "\n",
        "('ROC AUC:', 0.55080365479525151)"
       ]
      },
      {
       "output_type": "stream",
       "stream": "stdout",
       "text": [
        "\n",
        "('ROC AUC:', 0.5775149615275007)"
       ]
      },
      {
       "output_type": "stream",
       "stream": "stdout",
       "text": [
        "\n",
        "('ROC AUC:', 0.56664473684210526)"
       ]
      },
      {
       "output_type": "stream",
       "stream": "stdout",
       "text": [
        "\n",
        "Mean: 0.555360, Median: 0.550804\n",
        "('ROC AUC:', 0.51009589492552665)\n",
        "('ROC AUC:', 0.55885380919698013)\n",
        "('ROC AUC:', 0.54718554088301985)\n",
        "('ROC AUC:', 0.55194805194805185)\n",
        "('ROC AUC:', 0.53819078947368415)\n",
        "Mean: 0.541255, Median: 0.547186\n",
        "Mean: 0.541255, Median: 0.547186\n"
       ]
      }
     ],
     "prompt_number": 47
    },
    {
     "cell_type": "code",
     "collapsed": false,
     "input": [
      "# Notes\n",
      "# results slightly better w/ lowercase = False (when unigrams only)\n",
      "# bigrams added no value on unigrams\n",
      "\n",
      "titles = all_train_df['request_title'].values\n",
      "cv = CountVectorizer(ngram_range=(1,1),lowercase=False)\n",
      "X_titles = cv.fit_transform(titles)\n",
      "\n",
      "lsvc = LinearSVC(class_weight='auto', C = 2)\n",
      "\n",
      "test_kfolds(X_titles, all_train_labels, kf, lsvc)"
     ],
     "language": "python",
     "metadata": {},
     "outputs": [
      {
       "output_type": "stream",
       "stream": "stdout",
       "text": [
        "('ROC AUC:', 0.51739853866743835)\n",
        "('ROC AUC:', 0.54198695950583387)"
       ]
      },
      {
       "output_type": "stream",
       "stream": "stdout",
       "text": [
        "\n",
        "('ROC AUC:', 0.47957516339869277)"
       ]
      },
      {
       "output_type": "stream",
       "stream": "stdout",
       "text": [
        "\n",
        "('ROC AUC:', 0.53848064161543785)"
       ]
      },
      {
       "output_type": "stream",
       "stream": "stdout",
       "text": [
        "\n",
        "('ROC AUC:', 0.54342105263157903)"
       ]
      },
      {
       "output_type": "stream",
       "stream": "stdout",
       "text": [
        "\n",
        "Mean: 0.524172, Median: 0.538481\n"
       ]
      },
      {
       "metadata": {},
       "output_type": "pyout",
       "prompt_number": 81,
       "text": [
        "[0.51739853866743835,\n",
        " 0.54198695950583387,\n",
        " 0.47957516339869277,\n",
        " 0.53848064161543785,\n",
        " 0.54342105263157903]"
       ]
      }
     ],
     "prompt_number": 81
    },
    {
     "cell_type": "code",
     "collapsed": false,
     "input": [
      "pd.Series(lsvc.fit(X_titles, all_train_labels).coef_[0]).describe()"
     ],
     "language": "python",
     "metadata": {},
     "outputs": [
      {
       "metadata": {},
       "output_type": "pyout",
       "prompt_number": 96,
       "text": [
        "count    5589.000000\n",
        "mean       -0.042593\n",
        "std         0.457709\n",
        "min        -1.982028\n",
        "25%        -0.301738\n",
        "50%        -0.037554\n",
        "75%         0.119501\n",
        "max         2.102888\n",
        "dtype: float64"
       ]
      }
     ],
     "prompt_number": 96
    },
    {
     "cell_type": "code",
     "collapsed": false,
     "input": [],
     "language": "python",
     "metadata": {},
     "outputs": []
    }
   ],
   "metadata": {}
  }
 ]
}