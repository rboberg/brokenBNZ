{
 "metadata": {
  "name": "",
  "signature": "sha256:c131b8822ffe4c13a657b70e35ad0e2070eb2b039fc51d75566b31f86af03fb9"
 },
 "nbformat": 3,
 "nbformat_minor": 0,
 "worksheets": [
  {
   "cells": [
    {
     "cell_type": "code",
     "collapsed": false,
     "input": [
      "%matplotlib inline\n",
      "import json\n",
      "import csv\n",
      "import numpy as np\n",
      "import random as rand\n",
      "import pandas as pd\n",
      "import scipy as scipy\n",
      "import datetime as dt\n",
      "import time\n",
      "import matplotlib.pyplot as plt\n",
      "from sklearn.linear_model import LogisticRegression\n",
      "from sklearn.svm import SVC\n",
      "from sklearn.svm import LinearSVC\n",
      "from sklearn.metrics import classification_report\n",
      "from sklearn.metrics import roc_auc_score\n",
      "from sklearn.cross_validation import KFold\n",
      "from sklearn.preprocessing import StandardScaler\n",
      "from sklearn.decomposition import PCA\n",
      "from sklearn.feature_extraction.text import CountVectorizer\n",
      "from sklearn.feature_extraction.text import TfidfVectorizer\n",
      "from sklearn.pipeline import Pipeline\n",
      "from sklearn.naive_bayes import GaussianNB\n",
      "from sklearn.naive_bayes import MultinomialNB\n",
      "from sklearn.tree import DecisionTreeClassifier\n",
      "from sklearn.ensemble import AdaBoostClassifier\n",
      "from sklearn.mixture import GMM\n",
      "from sklearn.ensemble import ExtraTreesClassifier\n",
      "from sklearn.cross_validation import cross_val_score\n",
      "from sklearn.metrics import make_scorer\n",
      "from sklearn.ensemble import GradientBoostingClassifier"
     ],
     "language": "python",
     "metadata": {},
     "outputs": [],
     "prompt_number": 2
    },
    {
     "cell_type": "code",
     "collapsed": false,
     "input": [
      "def load_json_file(path):\n",
      "    with open(path) as f:\n",
      "        data = json.load(f)\n",
      "    return data\n",
      "\n",
      "def make_submission_csv(predictions, ids, submission_name, path = '../../predictions'):\n",
      "    with open(path+'/'+submission_name+'.csv', 'w') as csvfile:\n",
      "        field_names = ['request_id', 'requester_received_pizza']\n",
      "        writer = csv.DictWriter(csvfile, fieldnames = field_names)\n",
      "        writer.writeheader()\n",
      "        csv_data = zip(ids, predictions)\n",
      "        for row in csv_data:\n",
      "            writer.writerow({field_names[0]:row[0], field_names[1]:int(row[1])})\n",
      "\n",
      "\n",
      "\n",
      "def balance_samples(y, method='oversample'):\n",
      "    class_counts = np.bincount(y)\n",
      "    \n",
      "    maxi = np.argmax(class_counts)\n",
      "    new_idx = np.argwhere(y==maxi)\n",
      "    \n",
      "    for i in range(len(class_counts)):\n",
      "        if i != maxi:\n",
      "            mult = class_counts[maxi]/class_counts[i]\n",
      "            rem = class_counts[maxi] - class_counts[i]*mult\n",
      "            idxi = np.argwhere(y==i)\n",
      "            np.random.shuffle(idxi)\n",
      "            for j in range(mult):\n",
      "                new_idx = np.vstack((new_idx,idxi))\n",
      "            new_idx = np.vstack((new_idx,idxi[:rem]))\n",
      "        \n",
      "    np.random.shuffle(new_idx)\n",
      "\n",
      "    return np.reshape(new_idx, (new_idx.shape[0],))\n",
      "\n",
      "            \n",
      "def test_kfolds(X, y, kf, model, verbose=True, balance=False):\n",
      "    roc_auc_list = []\n",
      "    \n",
      "    for train_i, dev_i in kf:\n",
      "        if balance:\n",
      "            train_i_orig = train_i\n",
      "            y_train = y[train_i_orig]\n",
      "            train_i = train_i_orig[balance_samples(y_train)]\n",
      "        \n",
      "        \n",
      "        X_train = X[train_i]\n",
      "        X_dev = X[dev_i]\n",
      "\n",
      "        model.fit(X_train, y[train_i])\n",
      "\n",
      "        dev_pred = model.predict(X_dev)\n",
      "        \n",
      "        roc_auc_i = roc_auc_score(y[dev_i], dev_pred)\n",
      "        roc_auc_list.append(roc_auc_i)\n",
      "        if verbose:\n",
      "            print('ROC AUC:',roc_auc_i)\n",
      "            \n",
      "    if verbose:\n",
      "        print 'Mean: %f, Median: %f' %(np.mean(roc_auc_list), np.median(roc_auc_list))\n",
      "        \n",
      "    return roc_auc_list\n"
     ],
     "language": "python",
     "metadata": {},
     "outputs": [],
     "prompt_number": 3
    },
    {
     "cell_type": "code",
     "collapsed": false,
     "input": [
      "# load data from JSON file as list of dicts\n",
      "all_train_dict_list = load_json_file('../../data/train.json')\n",
      "submit_dict_list =  load_json_file('../../data/test.json')\n",
      "\n",
      "n_all = len(all_train_dict_list)\n",
      "n_submit = len(submit_dict_list)\n",
      "\n",
      "# shuffle data to avoid biased split of train / dev data\n",
      "rand.shuffle(all_train_dict_list)\n",
      "\n",
      "# set up kFolds\n",
      "kf = KFold(n_all, n_folds = 5)\n",
      "\n",
      "# process labels\n",
      "all_train_labels = np.array([x['requester_received_pizza'] for x in all_train_dict_list])\n",
      "\n",
      "# pandas is useful for turning dicts in to matrix-like objects\n",
      "# where each column is an numpy array\n",
      "submit_df = pd.DataFrame(submit_dict_list)\n",
      "all_train_df = pd.DataFrame(all_train_dict_list)\n",
      "\n",
      "# limit train to columns available in submit_df\n",
      "submit_cols = submit_df.columns\n",
      "all_train_df = all_train_df[submit_cols]"
     ],
     "language": "python",
     "metadata": {},
     "outputs": [],
     "prompt_number": 4
    },
    {
     "cell_type": "code",
     "collapsed": false,
     "input": [
      "# which columns are numeric activity variables\n",
      "activity_var = ['requester_account_age_in_days_at_request',\n",
      "                'requester_days_since_first_post_on_raop_at_request',\n",
      "                'requester_number_of_comments_at_request',\n",
      "                'requester_number_of_comments_in_raop_at_request',\n",
      "                'requester_number_of_posts_at_request',\n",
      "                'requester_number_of_posts_on_raop_at_request',\n",
      "                'requester_number_of_subreddits_at_request',\n",
      "                'requester_upvotes_minus_downvotes_at_request',\n",
      "                'requester_upvotes_plus_downvotes_at_request'\n",
      "                ]\n",
      "# look at correlations of requester activity variables:\n",
      "activity_all = all_train_df.loc[:,activity_var]\n",
      "\n",
      "scaler = StandardScaler()\n",
      "X_act = scaler.fit_transform(activity_all)\n",
      "\n"
     ],
     "language": "python",
     "metadata": {},
     "outputs": [],
     "prompt_number": 5
    },
    {
     "cell_type": "code",
     "collapsed": false,
     "input": [
      "# Example classification\n",
      "svc = SVC(class_weight='auto')\n",
      "lr = LogisticRegression(class_weight='auto')\n",
      "\n",
      "all_res = test_kfolds(X_act, all_train_labels, kf, svc)\n",
      "\n",
      "all_res = test_kfolds(X_act, all_train_labels, kf, lr)\n"
     ],
     "language": "python",
     "metadata": {},
     "outputs": [
      {
       "output_type": "stream",
       "stream": "stdout",
       "text": [
        "('ROC AUC:', 0.53405315614617943)\n",
        "('ROC AUC:', 0.53744047472685996)"
       ]
      },
      {
       "output_type": "stream",
       "stream": "stdout",
       "text": [
        "\n",
        "('ROC AUC:', 0.53894038866622396)"
       ]
      },
      {
       "output_type": "stream",
       "stream": "stdout",
       "text": [
        "\n",
        "('ROC AUC:', 0.58045177221312383)"
       ]
      },
      {
       "output_type": "stream",
       "stream": "stdout",
       "text": [
        "\n",
        "('ROC AUC:', 0.54338896557493621)"
       ]
      },
      {
       "output_type": "stream",
       "stream": "stdout",
       "text": [
        "\n",
        "Mean: 0.546855, Median: 0.538940\n",
        "('ROC AUC:', 0.54762442344289253)\n",
        "('ROC AUC:', 0.54096896079733126)\n",
        "('ROC AUC:', 0.54614079520027548)\n",
        "('ROC AUC:', 0.54261881931657152)\n",
        "('ROC AUC:', 0.52205211862634382)\n",
        "Mean: 0.539881, Median: 0.542619\n"
       ]
      }
     ],
     "prompt_number": 6
    },
    {
     "cell_type": "code",
     "collapsed": false,
     "input": [
      "# Notes\n",
      "# results slightly better w/ lowercase = False (when unigrams only)\n",
      "# bigrams added no value on unigrams\n",
      "\n",
      "titles = all_train_df['request_title'].values\n",
      "bodies = all_train_df['request_text_edit_aware'].values\n",
      "\n",
      "cv = CountVectorizer(ngram_range=(1,1),lowercase=False)\n",
      "lsvc = LinearSVC(class_weight='auto', C = 2)\n",
      "lsvc_pipe = Pipeline([('cv',cv),('lsvc',lsvc)])\n",
      "\n",
      "test_kfolds(titles, all_train_labels, kf, lsvc_pipe)\n",
      "\n",
      "\n",
      "tv = TfidfVectorizer(ngram_range=(1,1),lowercase=False)\n",
      "lsvc = LinearSVC(class_weight='auto', C = 2)\n",
      "lsvc_pipe = Pipeline([('tv',tv),('lsvc',lsvc)])\n",
      "\n",
      "test_kfolds(titles, all_train_labels, kf, lsvc_pipe)"
     ],
     "language": "python",
     "metadata": {},
     "outputs": [
      {
       "output_type": "stream",
       "stream": "stdout",
       "text": [
        "('ROC AUC:', 0.51440183208076629)\n",
        "('ROC AUC:', 0.51164277459490026)"
       ]
      },
      {
       "output_type": "stream",
       "stream": "stdout",
       "text": [
        "\n",
        "('ROC AUC:', 0.51912185366413399)"
       ]
      },
      {
       "output_type": "stream",
       "stream": "stdout",
       "text": [
        "\n",
        "('ROC AUC:', 0.56461768224901776)"
       ]
      },
      {
       "output_type": "stream",
       "stream": "stdout",
       "text": [
        "\n",
        "('ROC AUC:', 0.53045133224578578)"
       ]
      },
      {
       "output_type": "stream",
       "stream": "stdout",
       "text": [
        "\n",
        "Mean: 0.528047, Median: 0.519122\n",
        "('ROC AUC:', 0.51567590233203242)"
       ]
      },
      {
       "output_type": "stream",
       "stream": "stdout",
       "text": [
        "\n",
        "('ROC AUC:', 0.50673322022506906)"
       ]
      },
      {
       "output_type": "stream",
       "stream": "stdout",
       "text": [
        "\n",
        "('ROC AUC:', 0.52414615554845223)"
       ]
      },
      {
       "output_type": "stream",
       "stream": "stdout",
       "text": [
        "\n",
        "('ROC AUC:', 0.54803686135412866)"
       ]
      },
      {
       "output_type": "stream",
       "stream": "stdout",
       "text": [
        "\n",
        "('ROC AUC:', 0.52742293052244116)"
       ]
      },
      {
       "output_type": "stream",
       "stream": "stdout",
       "text": [
        "\n",
        "Mean: 0.524403, Median: 0.524146\n"
       ]
      },
      {
       "metadata": {},
       "output_type": "pyout",
       "prompt_number": 7,
       "text": [
        "[0.51567590233203242,\n",
        " 0.50673322022506906,\n",
        " 0.52414615554845223,\n",
        " 0.54803686135412866,\n",
        " 0.52742293052244116]"
       ]
      }
     ],
     "prompt_number": 7
    },
    {
     "cell_type": "code",
     "collapsed": false,
     "input": [
      "# Try to mix text and numeric via output of text only model\n",
      "#NOTES\n",
      "# For text model that is input in to the final model, LinearSVC isn't great\n",
      "# because it only gives binary predictions \n",
      "\n",
      "X1 = all_train_df['request_title'].values\n",
      "X2 = all_train_df.loc[:,activity_var].values\n",
      "y = all_train_labels\n",
      "verbose = True\n",
      "\n",
      "cv = CountVectorizer(ngram_range=(1,1),lowercase=False)\n",
      "lsvc = LinearSVC(class_weight='auto', C = .1)\n",
      "mnb = MultinomialNB(alpha=50)\n",
      "model1 = Pipeline([('cv',cv),('lsvc',lsvc)])\n",
      "#model1 = Pipeline([('cv',cv),('mnb',mnb)])\n",
      "model2 = SVC(class_weight='auto', C=1)\n",
      "\n",
      "roc_auc_list = []\n",
      "    \n",
      "for train_i, dev_i in kf:\n",
      "    \n",
      "    # get initial training / dev data for text model\n",
      "    X_train1 = X1[train_i]\n",
      "    X_dev1 = X1[dev_i]\n",
      "    \n",
      "    # fit initial text model\n",
      "    model1.fit(X_train1, y[train_i])\n",
      "    \n",
      "    if False:\n",
      "        #if predict has proba\n",
      "        train_pred1 = model1.predict_log_proba(X_train1)[:,0].reshape((train_i.shape[0],1))\n",
      "        dev_pred1 = model1.predict_log_proba(X_dev1)[:,0].reshape((dev_i.shape[0],1))\n",
      "        #print train_pred1\n",
      "    else:\n",
      "        train_pred1 = model1.decision_function(X_train1).reshape((train_i.shape[0],1))\n",
      "        dev_pred1 = model1.decision_function(X_dev1).reshape((dev_i.shape[0],1))\n",
      "    \n",
      "    # add output of initial model in to second X matrix\n",
      "    X_train2 = np.hstack((X2[train_i], train_pred1))\n",
      "    X_dev2 = np.hstack((X2[dev_i], dev_pred1))\n",
      "    \n",
      "    #X_train2 = X2[train_i]\n",
      "    #X_dev2 = X2[dev_i]\n",
      "    \n",
      "    # scale the new X matrix\n",
      "    scaler = StandardScaler()\n",
      "    X_train2 = scaler.fit_transform(X_train2)\n",
      "    X_dev2 = scaler.transform(X_dev2)\n",
      "    \n",
      "    # train the second model\n",
      "    model2.fit(X_train2, y[train_i])\n",
      "    dev_pred2 = model2.predict(X_dev2)\n",
      "\n",
      "    roc_auc_i = roc_auc_score(y[dev_i], dev_pred2)\n",
      "    roc_auc_list.append(roc_auc_i)\n",
      "    if verbose:\n",
      "        print('ROC AUC:',roc_auc_i)\n",
      "        \n",
      "if verbose:\n",
      "     print 'Mean: %f, Median: %f' %(np.mean(roc_auc_list), np.median(roc_auc_list))\n"
     ],
     "language": "python",
     "metadata": {},
     "outputs": [
      {
       "output_type": "stream",
       "stream": "stdout",
       "text": [
        "('ROC AUC:', 0.51912718124052504)\n",
        "('ROC AUC:', 0.51661789897300969)"
       ]
      },
      {
       "output_type": "stream",
       "stream": "stdout",
       "text": [
        "\n",
        "('ROC AUC:', 0.56638553525617386)"
       ]
      },
      {
       "output_type": "stream",
       "stream": "stdout",
       "text": [
        "\n",
        "('ROC AUC:', 0.56174955662850989)"
       ]
      },
      {
       "output_type": "stream",
       "stream": "stdout",
       "text": [
        "\n",
        "('ROC AUC:', 0.52287614506211566)"
       ]
      },
      {
       "output_type": "stream",
       "stream": "stdout",
       "text": [
        "\n",
        "Mean: 0.537351, Median: 0.522876\n"
       ]
      }
     ],
     "prompt_number": 8
    },
    {
     "cell_type": "code",
     "collapsed": false,
     "input": [
      "len(kf)"
     ],
     "language": "python",
     "metadata": {},
     "outputs": [
      {
       "metadata": {},
       "output_type": "pyout",
       "prompt_number": 8,
       "text": [
        "5"
       ]
      }
     ],
     "prompt_number": 8
    },
    {
     "cell_type": "code",
     "collapsed": false,
     "input": [
      "# Combine title and text approaches\n",
      "\n",
      "titles = all_train_df['request_title'].values\n",
      "bodies = all_train_df['request_text_edit_aware'].values\n",
      "\n",
      "tv = TfidfVectorizer(ngram_range=(1,1),lowercase=False)\n",
      "lsvc = LinearSVC(class_weight='auto', C = 1)\n",
      "\n",
      "\n",
      "prune_features = True\n",
      "\n",
      "\n",
      "X1 = titles\n",
      "X2 = bodies\n",
      "y = all_train_labels\n",
      "verbose = True\n",
      "\n",
      "do_titles = False\n",
      "do_bodies = True\n",
      "\n",
      "model = lsvc\n",
      "\n",
      "roc_auc_list_titles = []\n",
      "roc_auc_list_bodies = []\n",
      "roc_auc_list_both = []\n",
      "    \n",
      "for train_i, dev_i in kf:\n",
      "    \n",
      "    # get initial training / dev data for text model\n",
      "    if do_titles:\n",
      "        X_train = tv.fit_transform(X1[train_i])\n",
      "        X_dev = tv.transform(X1[dev_i])\n",
      "        \n",
      "        if prune_features:\n",
      "            model.set_params(loss = 'hinge', C=.005)\n",
      "            model.fit(X_train, y[train_i])\n",
      "            coef = model.coef_\n",
      "            sig_coef = (np.abs(coef) > 0.01)[0]\n",
      "            print '%d/%d' % (np.sum(sig_coef), coef.shape[1])\n",
      "\n",
      "            X_train = X_train[:,sig_coef]\n",
      "            X_dev = X_dev[:,sig_coef]\n",
      "            model.set_params(loss = 'l2', C=5)\n",
      "        \n",
      "        \n",
      "        model.fit(X_train, y[train_i])\n",
      "        pred = model.predict(X_dev)\n",
      "\n",
      "        roc_auc_i = roc_auc_score(y[dev_i], pred)\n",
      "        roc_auc_list_titles.append(roc_auc_i)\n",
      "        \n",
      "        \n",
      "        X_train1 = X_train\n",
      "        X_dev1 = X_dev\n",
      "    \n",
      "    if do_bodies:\n",
      "        X_train = tv.fit_transform(X2[train_i])\n",
      "        X_dev = tv.transform(X2[dev_i])\n",
      "        \n",
      "        if prune_features:\n",
      "            model.set_params(loss = 'hinge', C=.0025)\n",
      "            model.fit(X_train, y[train_i])\n",
      "            coef = model.coef_\n",
      "            sig_coef = (np.abs(coef) > 0.01)[0]\n",
      "            print '%d/%d' % (np.sum(sig_coef), coef.shape[1])\n",
      "\n",
      "            X_train = X_train[:,sig_coef]\n",
      "            X_dev = X_dev[:,sig_coef]\n",
      "            model.set_params(loss = 'l2', C=1)\n",
      "        \n",
      "        \n",
      "        model.fit(X_train, y[train_i])\n",
      "        pred = model.predict(X_dev)\n",
      "\n",
      "        roc_auc_i = roc_auc_score(y[dev_i], pred)\n",
      "        roc_auc_list_bodies.append(roc_auc_i)\n",
      "        \n",
      "        X_train2 = X_train\n",
      "        X_dev2 = X_dev\n",
      "    \n",
      "    if do_bodies and do_titles:\n",
      "        X_train = scipy.sparse.hstack((X_train1,X_train2),'csr')\n",
      "        X_dev = scipy.sparse.hstack((X_dev1,X_dev2),'csr')\n",
      "        \n",
      "        if prune_features:\n",
      "            model.set_params(loss = 'hinge', C=1)\n",
      "            model.fit(X_train, y[train_i])\n",
      "            coef = model.coef_\n",
      "            sig_coef = (np.abs(coef) > 0.01)[0]\n",
      "            print '%d/%d' % (np.sum(sig_coef), coef.shape[1])\n",
      "            \n",
      "            X_train = X_train[:,sig_coef]\n",
      "            X_dev = X_dev[:,sig_coef]\n",
      "            model.set_params(loss = 'l2', C=1)\n",
      "        \n",
      "        model.fit(X_train, y[train_i])\n",
      "        pred = model.predict(X_dev)\n",
      "\n",
      "        roc_auc_i = roc_auc_score(y[dev_i], pred)\n",
      "        roc_auc_list_both.append(roc_auc_i)\n",
      "    \n",
      "    \n",
      "    if verbose:\n",
      "        print('ROC AUC:',roc_auc_i)\n",
      "        \n",
      "if verbose:\n",
      "    print 'Titles: Mean: %f, Median: %f' %(np.mean(roc_auc_list_titles), np.median(roc_auc_list_titles))\n",
      "    print 'Bodies: Mean: %f, Median: %f' %(np.mean(roc_auc_list_bodies), np.median(roc_auc_list_bodies))\n",
      "    print 'Both: Mean: %f, Median: %f' %(np.mean(roc_auc_list_both), np.median(roc_auc_list_both))\n",
      "\n"
     ],
     "language": "python",
     "metadata": {},
     "outputs": [
      {
       "output_type": "stream",
       "stream": "stdout",
       "text": [
        "40/12971\n",
        "('ROC AUC:', 0.60909206027605423)\n",
        "40/12896"
       ]
      },
      {
       "output_type": "stream",
       "stream": "stderr",
       "text": [
        "C:\\Users\\Ross\\Anaconda\\lib\\site-packages\\sklearn\\svm\\classes.py:192: DeprecationWarning: loss='l2' has been deprecated in favor of loss='squared_hinge' as of 0.16. Backward compatibility for the loss='l2' will be removed in 1.0\n",
        "  DeprecationWarning)\n",
        "C:\\Users\\Ross\\Anaconda\\lib\\site-packages\\sklearn\\svm\\classes.py:192: DeprecationWarning: loss='l2' has been deprecated in favor of loss='squared_hinge' as of 0.16. Backward compatibility for the loss='l2' will be removed in 1.0\n",
        "  DeprecationWarning)\n"
       ]
      },
      {
       "output_type": "stream",
       "stream": "stdout",
       "text": [
        "\n",
        "('ROC AUC:', 0.58001388226107331)\n",
        "42/12927"
       ]
      },
      {
       "output_type": "stream",
       "stream": "stdout",
       "text": [
        "\n",
        "('ROC AUC:', 0.57166746297181081)\n",
        "47/12873"
       ]
      },
      {
       "output_type": "stream",
       "stream": "stderr",
       "text": [
        "C:\\Users\\Ross\\Anaconda\\lib\\site-packages\\sklearn\\svm\\classes.py:192: DeprecationWarning: loss='l2' has been deprecated in favor of loss='squared_hinge' as of 0.16. Backward compatibility for the loss='l2' will be removed in 1.0\n",
        "  DeprecationWarning)\n",
        "C:\\Users\\Ross\\Anaconda\\lib\\site-packages\\sklearn\\svm\\classes.py:192: DeprecationWarning: loss='l2' has been deprecated in favor of loss='squared_hinge' as of 0.16. Backward compatibility for the loss='l2' will be removed in 1.0\n",
        "  DeprecationWarning)\n"
       ]
      },
      {
       "output_type": "stream",
       "stream": "stdout",
       "text": [
        "\n",
        "('ROC AUC:', 0.58841973066773023)\n",
        "51/12672"
       ]
      },
      {
       "output_type": "stream",
       "stream": "stdout",
       "text": [
        "\n",
        "('ROC AUC:', 0.5548219287715086)\n",
        "Titles: Mean: nan, Median: nan\n",
        "Bodies: Mean: 0.580803, Median: 0.580014\n",
        "Both: Mean: nan, Median: nan\n"
       ]
      },
      {
       "output_type": "stream",
       "stream": "stderr",
       "text": [
        "C:\\Users\\Ross\\Anaconda\\lib\\site-packages\\sklearn\\svm\\classes.py:192: DeprecationWarning: loss='l2' has been deprecated in favor of loss='squared_hinge' as of 0.16. Backward compatibility for the loss='l2' will be removed in 1.0\n",
        "  DeprecationWarning)\n",
        "C:\\Users\\Ross\\Anaconda\\lib\\site-packages\\numpy\\core\\_methods.py:59: RuntimeWarning: Mean of empty slice.\n",
        "  warnings.warn(\"Mean of empty slice.\", RuntimeWarning)\n"
       ]
      }
     ],
     "prompt_number": 9
    },
    {
     "cell_type": "code",
     "collapsed": false,
     "input": [],
     "language": "python",
     "metadata": {},
     "outputs": [],
     "prompt_number": 9
    },
    {
     "cell_type": "code",
     "collapsed": false,
     "input": [
      "def timify(feature_df):\n",
      "    req_dt = np.array([dt.datetime.fromtimestamp(timei) for timei in feature_df['unix_timestamp_of_request']])\n",
      "    hour = np.array([dti.hour for dti in req_dt])\n",
      "    dow = np.array([dti.weekday() for dti in req_dt])\n",
      "    month = np.array([dti.month for dti in req_dt])\n",
      "\n",
      "    req_dt_utc = np.array([dt.datetime.fromtimestamp(timei) for timei in feature_df['unix_timestamp_of_request_utc']])\n",
      "    hour_utc = np.array([dti.hour for dti in req_dt_utc])\n",
      "    dow_utc = np.array([dti.weekday() for dti in req_dt_utc])\n",
      "    #hour_utc = np.array([dt.datetime.fromtimestamp(timei).hour  for timei in all_train_df['unix_timestamp_of_request_utc']])\n",
      "    \n",
      "    time_df = pd.DataFrame({'request_datetime':req_dt,\n",
      "                            'request_hour':hour,\n",
      "                            'request_dow':dow,\n",
      "                            'request_month':month})\n",
      "\n",
      "    return time_df\n"
     ],
     "language": "python",
     "metadata": {},
     "outputs": [],
     "prompt_number": 9
    },
    {
     "cell_type": "code",
     "collapsed": false,
     "input": [
      "time_df = timify(all_train_df)\n",
      "X_time = time_df[['request_dow','request_hour']].values"
     ],
     "language": "python",
     "metadata": {},
     "outputs": [],
     "prompt_number": 10
    },
    {
     "cell_type": "code",
     "collapsed": false,
     "input": [
      "hour = time_df.request_hour\n",
      "hour_pos = hour[all_train_labels]\n",
      "hour_neg = hour[np.logical_not(all_train_labels)]\n",
      "pd.Series(hour_pos).hist(bins=24, alpha=0.2, normed=True)\n",
      "pd.Series(hour_neg).hist(bins=24, alpha=0.2, normed=True)"
     ],
     "language": "python",
     "metadata": {},
     "outputs": [
      {
       "metadata": {},
       "output_type": "pyout",
       "prompt_number": 11,
       "text": [
        "<matplotlib.axes._subplots.AxesSubplot at 0x1a6ec470>"
       ]
      },
      {
       "metadata": {},
       "output_type": "display_data",
       "png": "[encoded data removed]",
       "text": [
        "<matplotlib.figure.Figure at 0x3976d30>"
       ]
      }
     ],
     "prompt_number": 11
    },
    {
     "cell_type": "code",
     "collapsed": false,
     "input": [
      "dow = time_df.request_dow\n",
      "dow_pos = dow[all_train_labels]\n",
      "dow_neg = dow[np.logical_not(all_train_labels)]\n",
      "pd.Series(dow_pos).hist(bins=7, alpha=0.2, normed=True)\n",
      "pd.Series(dow_neg).hist(bins=7, alpha=0.2, normed=True)"
     ],
     "language": "python",
     "metadata": {},
     "outputs": [
      {
       "metadata": {},
       "output_type": "pyout",
       "prompt_number": 12,
       "text": [
        "<matplotlib.axes._subplots.AxesSubplot at 0x1c238748>"
       ]
      },
      {
       "metadata": {},
       "output_type": "display_data",
       "png": "[encoded data removed]",
       "text": [
        "<matplotlib.figure.Figure at 0x1a563a58>"
       ]
      }
     ],
     "prompt_number": 12
    },
    {
     "cell_type": "code",
     "collapsed": false,
     "input": [
      "etc = ExtraTreesClassifier(n_estimators=1000,\n",
      "                           max_depth = 5,\n",
      "                           min_samples_split=10,\n",
      "                           class_weight='auto')\n",
      "\n",
      "#X_time = np.array([hour,dow]).T\n",
      "\n",
      "scorer = make_scorer(roc_auc_score)\n",
      "scores = cross_val_score(etc, X_time, all_train_labels, cv=KFold(n_all, n_folds = 10), scoring=scorer)\n"
     ],
     "language": "python",
     "metadata": {},
     "outputs": [],
     "prompt_number": 96
    },
    {
     "cell_type": "code",
     "collapsed": false,
     "input": [
      "print np.median(scores)\n",
      "print np.mean(scores)"
     ],
     "language": "python",
     "metadata": {},
     "outputs": [
      {
       "output_type": "stream",
       "stream": "stdout",
       "text": [
        "0.524119492031\n",
        "0.51968111378\n"
       ]
      }
     ],
     "prompt_number": 97
    },
    {
     "cell_type": "code",
     "collapsed": false,
     "input": [],
     "language": "python",
     "metadata": {},
     "outputs": [],
     "prompt_number": 17
    },
    {
     "cell_type": "code",
     "collapsed": false,
     "input": [
      "# Combine title and text approaches\n",
      "\n",
      "acts = all_train_df[activity_var].values\n",
      "titles = all_train_df['request_title'].values\n",
      "bodies = all_train_df['request_text_edit_aware'].values\n",
      "time_df = timify(all_train_df)\n",
      "times = time_df[['request_dow','request_hour','request_month']].values\n",
      "\n",
      "tv = TfidfVectorizer(ngram_range=(1,1),lowercase=False)\n",
      "lsvc = LinearSVC(class_weight='auto', C = 1)\n",
      "svc = SVC(class_weight='auto')\n",
      "\n",
      "etc = ExtraTreesClassifier(n_estimators = 2000,\n",
      "                           max_depth = 5,\n",
      "                           min_samples_split=10,\n",
      "                           class_weight='auto')\n",
      "\n",
      "prune_features = True\n",
      "\n",
      "y = all_train_labels\n",
      "verbose = True\n",
      "\n",
      "do_titles = False\n",
      "do_bodies = True\n",
      "do_acts = True\n",
      "do_times = True\n",
      "\n",
      "model = lsvc\n",
      "scaler = StandardScaler()\n",
      "\n",
      "roc_auc_list_titles = []\n",
      "roc_auc_list_bodies = []\n",
      "roc_auc_list_acts = []\n",
      "roc_auc_list_times = []\n",
      "roc_auc_list_all = []\n",
      "    \n",
      "for train_i, dev_i in KFold(n_all, n_folds = 10):\n",
      "    X_dict = {}\n",
      "    #X_dict['titles'] = {'train' : titles[train_i], 'dev' : titles[dev_i], 'model' : lsvc}\n",
      "    #X_dict['bodies'] = {'train' : bodies[train_i], 'dev' : bodies[dev_i], 'model' : lsvc}\n",
      "    #X_dict['acts'] = {'train' : acts[train_i], 'dev' : acts[dev_i], 'model' : svc}\n",
      "    X_dict['titles'] = {'train' : titles[train_i], 'dev' : titles[dev_i], 'model' : lsvc}\n",
      "    X_dict['bodies'] = {'train' : bodies[train_i], 'dev' : bodies[dev_i], 'model' : lsvc}\n",
      "    X_dict['acts'] = {'train' : acts[train_i], 'dev' : acts[dev_i], 'model' : svc}\n",
      "    X_dict['times'] = {'train' : times[train_i], 'dev' : times[dev_i], 'model' : etc}\n",
      "\n",
      "    \n",
      "    X_all = {'train':(), 'dev':()}\n",
      "    \n",
      "    y_train = y[train_i]\n",
      "    y_dev = y[dev_i]\n",
      "    \n",
      "    # get initial training / dev data for text model\n",
      "    if do_titles:\n",
      "        X_train = tv.fit_transform(X_dict['titles']['train'])\n",
      "        X_dev = tv.transform(X_dict['titles']['dev'])\n",
      "        model = X_dict['titles']['model']\n",
      "        \n",
      "        if prune_features:\n",
      "            model.set_params(loss = 'hinge', C=.003)\n",
      "            model.fit(X_train, y_train)\n",
      "            coef = model.coef_\n",
      "            sig_coef = (np.abs(coef) > 0.01)[0]\n",
      "            print '%d/%d' % (np.sum(sig_coef), coef.shape[1])\n",
      "\n",
      "            X_train = X_train[:,sig_coef]\n",
      "            X_dev = X_dev[:,sig_coef]\n",
      "            model.set_params(loss = 'squared_hinge', C=5)\n",
      "        \n",
      "        \n",
      "        model.fit(X_train, y_train)\n",
      "        pred = model.predict(X_dev)\n",
      "\n",
      "        roc_auc_i = roc_auc_score(y_dev, pred)\n",
      "        roc_auc_list_titles.append(roc_auc_i)\n",
      "        \n",
      "        \n",
      "        X_all['train'] = X_all['train'] + (X_train,)\n",
      "        X_all['dev'] = X_all['dev'] + (X_dev,)\n",
      "    \n",
      "    if do_bodies:\n",
      "        X_train = tv.fit_transform(X_dict['bodies']['train'])\n",
      "        X_dev = tv.transform(X_dict['bodies']['dev'])\n",
      "        model = X_dict['bodies']['model']\n",
      "        \n",
      "        if prune_features:\n",
      "            model.set_params(loss = 'hinge', C=.0025)\n",
      "            model.fit(X_train, y_train)\n",
      "            coef = model.coef_\n",
      "            sig_coef = (np.abs(coef) > 0.01)[0]\n",
      "            print '%d/%d' % (np.sum(sig_coef), coef.shape[1])\n",
      "\n",
      "            X_train = X_train[:,sig_coef]\n",
      "            X_dev = X_dev[:,sig_coef]\n",
      "            model.set_params(loss = 'squared_hinge', C=1)\n",
      "        \n",
      "        \n",
      "        model.fit(X_train, y_train)\n",
      "        pred = model.predict(X_dev)\n",
      "\n",
      "        roc_auc_i = roc_auc_score(y_dev, pred)\n",
      "        roc_auc_list_bodies.append(roc_auc_i)\n",
      "        \n",
      "        X_all['train'] = X_all['train'] + (X_train,)\n",
      "        X_all['dev'] = X_all['dev'] + (X_dev,)\n",
      "        \n",
      "    if do_acts:\n",
      "        X_train = scaler.fit_transform(X_dict['acts']['train'])\n",
      "        X_dev = scaler.transform(X_dict['acts']['dev'])\n",
      "        model = X_dict['acts']['model']\n",
      "        \n",
      "        model.fit(X_train, y_train)\n",
      "        pred = model.predict(X_dev)\n",
      "\n",
      "        roc_auc_i = roc_auc_score(y_dev, pred)\n",
      "        roc_auc_list_acts.append(roc_auc_i)\n",
      "        \n",
      "        X_all['train'] = X_all['train'] + (X_train,)\n",
      "        X_all['dev'] = X_all['dev'] + (X_dev,)\n",
      "        \n",
      "    if do_times:\n",
      "        X_train = X_dict['times']['train']\n",
      "        X_dev = X_dict['times']['dev']\n",
      "        model = model = X_dict['times']['model']\n",
      "        \n",
      "        model.fit(X_train, y_train)\n",
      "        pred = model.predict(X_dev)\n",
      "\n",
      "        roc_auc_i = roc_auc_score(y_dev, pred)\n",
      "        roc_auc_list_times.append(roc_auc_i)\n",
      "        \n",
      "        X_all['train'] = X_all['train'] + (X_train,)\n",
      "        X_all['dev'] = X_all['dev'] + (X_dev,)\n",
      "    \n",
      "    if do_bodies + do_titles + do_acts > 1:\n",
      "        #X_train = scaler.fit_transform(scipy.sparse.hstack(X_all['train'],'csr').toarray())\n",
      "        X_train = scipy.sparse.hstack(X_all['train'],'csr').toarray()\n",
      "        #X_dev = scaler.transform(scipy.sparse.hstack( X_all['dev'],'csr').toarray())\n",
      "        X_dev = scipy.sparse.hstack( X_all['dev'],'csr').toarray()\n",
      "\n",
      "        \n",
      "        \n",
      "        if prune_features:\n",
      "            model = lsvc\n",
      "            model.set_params(loss = 'hinge', C=5)\n",
      "            model.fit(X_train, y_train)\n",
      "            coef = model.coef_\n",
      "            sig_coef = (np.abs(coef) > 0.01)[0]\n",
      "            print '%d/%d' % (np.sum(sig_coef), coef.shape[1])\n",
      "            \n",
      "            X_train = X_train[:,sig_coef]\n",
      "            X_dev = X_dev[:,sig_coef]\n",
      "          \n",
      "        model = svc\n",
      "        model.set_params(C=1)\n",
      "        \n",
      "        model = etc\n",
      "        \n",
      "        \n",
      "        model.fit(X_train,y_train)\n",
      "        pred = model.predict(X_dev)\n",
      "\n",
      "        roc_auc_i = roc_auc_score(y_dev, pred)\n",
      "        roc_auc_list_all.append(roc_auc_i)\n",
      "    \n",
      "    \n",
      "    if verbose:\n",
      "        print('ROC AUC:',roc_auc_i)\n",
      "        \n",
      "if verbose:\n",
      "    print 'Titles: Mean: %f, Median: %f' %(np.mean(roc_auc_list_titles), np.median(roc_auc_list_titles))\n",
      "    print 'Bodies: Mean: %f, Median: %f' %(np.mean(roc_auc_list_bodies), np.median(roc_auc_list_bodies))\n",
      "    print 'Activities: Mean: %f, Median: %f' %(np.mean(roc_auc_list_acts), np.median(roc_auc_list_acts))\n",
      "    print 'All: Mean: %f, Median: %f' %(np.mean(roc_auc_list_all), np.median(roc_auc_list_all))\n",
      "\n",
      "\n",
      "    "
     ],
     "language": "python",
     "metadata": {},
     "outputs": [
      {
       "output_type": "stream",
       "stream": "stdout",
       "text": [
        "51/13569\n",
        "60/63"
       ]
      },
      {
       "output_type": "stream",
       "stream": "stdout",
       "text": [
        "\n",
        "('ROC AUC:', 0.62309833024118744)"
       ]
      },
      {
       "output_type": "stream",
       "stream": "stdout",
       "text": [
        "\n",
        "52/13703"
       ]
      },
      {
       "output_type": "stream",
       "stream": "stdout",
       "text": [
        "\n",
        "62/64"
       ]
      },
      {
       "output_type": "stream",
       "stream": "stdout",
       "text": [
        "\n",
        "('ROC AUC:', 0.61241883116883111)"
       ]
      },
      {
       "output_type": "stream",
       "stream": "stdout",
       "text": [
        "\n",
        "51/13730"
       ]
      },
      {
       "output_type": "stream",
       "stream": "stdout",
       "text": [
        "\n",
        "61/63"
       ]
      },
      {
       "output_type": "stream",
       "stream": "stdout",
       "text": [
        "\n",
        "('ROC AUC:', 0.66736214605067057)"
       ]
      },
      {
       "output_type": "stream",
       "stream": "stdout",
       "text": [
        "\n",
        "50/13708"
       ]
      },
      {
       "output_type": "stream",
       "stream": "stdout",
       "text": [
        "\n",
        "58/62"
       ]
      },
      {
       "output_type": "stream",
       "stream": "stdout",
       "text": [
        "\n",
        "('ROC AUC:', 0.57145175951175164)"
       ]
      },
      {
       "output_type": "stream",
       "stream": "stdout",
       "text": [
        "\n",
        "53/13593"
       ]
      },
      {
       "output_type": "stream",
       "stream": "stdout",
       "text": [
        "\n",
        "62/65"
       ]
      },
      {
       "output_type": "stream",
       "stream": "stdout",
       "text": [
        "\n",
        "('ROC AUC:', 0.57417513822008204)"
       ]
      },
      {
       "output_type": "stream",
       "stream": "stdout",
       "text": [
        "\n",
        "58/13761"
       ]
      },
      {
       "output_type": "stream",
       "stream": "stdout",
       "text": [
        "\n",
        "69/70"
       ]
      },
      {
       "output_type": "stream",
       "stream": "stdout",
       "text": [
        "\n",
        "('ROC AUC:', 0.60561399217221135)"
       ]
      },
      {
       "output_type": "stream",
       "stream": "stdout",
       "text": [
        "\n",
        "51/13835"
       ]
      },
      {
       "output_type": "stream",
       "stream": "stdout",
       "text": [
        "\n",
        "60/63"
       ]
      },
      {
       "output_type": "stream",
       "stream": "stdout",
       "text": [
        "\n",
        "('ROC AUC:', 0.62541254125412538)"
       ]
      },
      {
       "output_type": "stream",
       "stream": "stdout",
       "text": [
        "\n",
        "54/13706"
       ]
      },
      {
       "output_type": "stream",
       "stream": "stdout",
       "text": [
        "\n",
        "66/66"
       ]
      },
      {
       "output_type": "stream",
       "stream": "stdout",
       "text": [
        "\n",
        "('ROC AUC:', 0.6423213021939137)"
       ]
      },
      {
       "output_type": "stream",
       "stream": "stdout",
       "text": [
        "\n",
        "53/13770"
       ]
      },
      {
       "output_type": "stream",
       "stream": "stdout",
       "text": [
        "\n",
        "64/65"
       ]
      },
      {
       "output_type": "stream",
       "stream": "stdout",
       "text": [
        "\n",
        "('ROC AUC:', 0.60883879954413067)"
       ]
      },
      {
       "output_type": "stream",
       "stream": "stdout",
       "text": [
        "\n",
        "55/13742"
       ]
      },
      {
       "output_type": "stream",
       "stream": "stdout",
       "text": [
        "\n",
        "64/67"
       ]
      },
      {
       "output_type": "stream",
       "stream": "stdout",
       "text": [
        "\n",
        "('ROC AUC:', 0.56586409844836805)"
       ]
      },
      {
       "output_type": "stream",
       "stream": "stdout",
       "text": [
        "\n",
        "Titles: Mean: nan, Median: nan\n",
        "Bodies: Mean: 0.575401, Median: 0.568078\n",
        "Activities: Mean: 0.549092, Median: 0.560776\n",
        "All: Mean: 0.609656, Median: 0.610629\n"
       ]
      },
      {
       "output_type": "stream",
       "stream": "stderr",
       "text": [
        "C:\\Users\\Ross\\Anaconda\\lib\\site-packages\\numpy\\core\\_methods.py:59: RuntimeWarning: Mean of empty slice.\n",
        "  warnings.warn(\"Mean of empty slice.\", RuntimeWarning)\n"
       ]
      }
     ],
     "prompt_number": 98
    },
    {
     "cell_type": "code",
     "collapsed": false,
     "input": [
      "# Combine numeric and text approaches\n",
      "\n",
      "acts = all_train_df[activity_var].values\n",
      "titles = all_train_df['request_title'].values\n",
      "bodies = all_train_df['request_text_edit_aware'].values\n",
      "time_df = timify(all_train_df)\n",
      "times = time_df[['request_dow','request_hour']].values\n",
      "time_df_submit = timify(submit_df)\n",
      "times_submit = time_df_submit[['request_dow','request_hour']].values\n",
      "\n",
      "tv = TfidfVectorizer(ngram_range=(1,1),lowercase=False)\n",
      "lsvc = LinearSVC(class_weight='auto', C = 1)\n",
      "svc = SVC(class_weight='auto')\n",
      "\n",
      "etc = ExtraTreesClassifier(n_estimators=1000,\n",
      "                           max_depth = 5,\n",
      "                           min_samples_split=10,\n",
      "                           class_weight='auto')\n",
      "\n",
      "prune_features = True\n",
      "\n",
      "y = all_train_labels\n",
      "verbose = True\n",
      "\n",
      "do_titles = False\n",
      "do_bodies = True\n",
      "do_acts = True\n",
      "\n",
      "model = lsvc\n",
      "scaler = StandardScaler()\n",
      "\n",
      "roc_auc_list_titles = []\n",
      "roc_auc_list_bodies = []\n",
      "roc_auc_list_acts = []\n",
      "roc_auc_list_times = []\n",
      "roc_auc_list_all = []\n",
      "    \n",
      "y_train = y\n",
      "    \n",
      "X_dict = {}\n",
      "X_dict['titles'] = {'train' : titles, 'dev' : submit_df['request_title'].values, 'model' : lsvc}\n",
      "X_dict['bodies'] = {'train' : bodies, 'dev' : submit_df['request_text_edit_aware'].values, 'model' : lsvc}\n",
      "X_dict['acts'] = {'train' : acts, 'dev' : submit_df[activity_var].values, 'model' : svc}\n",
      "X_dict['times'] = {'train' : times, 'dev' : times_submit, 'model' : etc}\n",
      "\n",
      "X_all = {'train':(), 'dev':()}\n",
      "\n",
      "# get initial training / dev data for text model\n",
      "if do_titles:\n",
      "    X_train = tv.fit_transform(X_dict['titles']['train'])\n",
      "    X_dev = tv.transform(X_dict['titles']['dev'])\n",
      "    model = X_dict['titles']['model']\n",
      "\n",
      "    if prune_features:\n",
      "        model.set_params(loss = 'hinge', C=.005)\n",
      "        model.fit(X_train, y_train)\n",
      "        coef = model.coef_\n",
      "        sig_coef = (np.abs(coef) > 0.01)[0]\n",
      "        print '%d/%d' % (np.sum(sig_coef), coef.shape[1])\n",
      "\n",
      "        X_train = X_train[:,sig_coef]\n",
      "        X_dev = X_dev[:,sig_coef]\n",
      "        model.set_params(loss = 'squared_hinge', C=5)\n",
      "\n",
      "\n",
      "    model.fit(X_train, y_train)\n",
      "    pred = model.predict(X_dev)\n",
      "\n",
      "    X_all['train'] = X_all['train'] + (X_train,)\n",
      "    X_all['dev'] = X_all['dev'] + (X_dev,)\n",
      "\n",
      "if do_bodies:\n",
      "    X_train = tv.fit_transform(X_dict['bodies']['train'])\n",
      "    X_dev = tv.transform(X_dict['bodies']['dev'])\n",
      "    model = X_dict['bodies']['model']\n",
      "\n",
      "    if prune_features:\n",
      "        model.set_params(loss = 'hinge', C=.0025)\n",
      "        model.fit(X_train, y_train)\n",
      "        coef = model.coef_\n",
      "        sig_coef = (np.abs(coef) > 0.01)[0]\n",
      "        print '%d/%d' % (np.sum(sig_coef), coef.shape[1])\n",
      "\n",
      "        X_train = X_train[:,sig_coef]\n",
      "        X_dev = X_dev[:,sig_coef]\n",
      "        model.set_params(loss = 'squared_hinge', C=1)\n",
      "\n",
      "\n",
      "    model.fit(X_train, y_train)\n",
      "    pred = model.predict(X_dev)\n",
      "\n",
      "    X_all['train'] = X_all['train'] + (X_train,)\n",
      "    X_all['dev'] = X_all['dev'] + (X_dev,)\n",
      "\n",
      "if do_acts:\n",
      "    X_train = scaler.fit_transform(X_dict['acts']['train'])\n",
      "    X_dev = scaler.transform(X_dict['acts']['dev'])\n",
      "    model = X_dict['acts']['model']\n",
      "\n",
      "    model.fit(X_train, y_train)\n",
      "    pred = model.predict(X_dev)\n",
      "\n",
      "    X_all['train'] = X_all['train'] + (X_train,)\n",
      "    X_all['dev'] = X_all['dev'] + (X_dev,)\n",
      "    \n",
      "    \n",
      "if do_times:\n",
      "    X_train = X_dict['times']['train']\n",
      "    X_dev = X_dict['times']['dev']\n",
      "    model = X_dict['times']['model']\n",
      "\n",
      "    model.fit(X_train, y_train)\n",
      "    pred = model.predict(X_dev)\n",
      "\n",
      "    #roc_auc_i = roc_auc_score(y_dev, pred)\n",
      "    #roc_auc_list_times.append(roc_auc_i)\n",
      "\n",
      "    X_all['train'] = X_all['train'] + (X_train,)\n",
      "    X_all['dev'] = X_all['dev'] + (X_dev,)\n",
      "\n",
      "\n",
      "if do_bodies + do_titles + do_acts > 1:\n",
      "    #X_train = scaler.fit_transform(scipy.sparse.hstack(X_all['train'],'csr').toarray())\n",
      "    X_train = scipy.sparse.hstack(X_all['train'],'csr').toarray()\n",
      "    #X_dev = scaler.transform(scipy.sparse.hstack( X_all['dev'],'csr').toarray())\n",
      "    X_dev = scipy.sparse.hstack( X_all['dev'],'csr').toarray()\n",
      "\n",
      "    #if prune_features:\n",
      "    if True:\n",
      "        model = lsvc\n",
      "        model.set_params(loss = 'hinge', C=5)\n",
      "        model.fit(X_train, y_train)\n",
      "        coef = model.coef_\n",
      "        sig_coef = (np.abs(coef) > 0.01)[0]\n",
      "        print '%d/%d' % (np.sum(sig_coef), coef.shape[1])\n",
      "\n",
      "        X_train = X_train[:,sig_coef]\n",
      "        X_dev = X_dev[:,sig_coef]\n",
      "\n",
      "    model = svc\n",
      "    model.set_params(C=1)\n",
      "\n",
      "    model = etc\n",
      "\n",
      "\n",
      "    model.fit(X_train,y_train)\n",
      "    pred = model.predict(X_dev)\n",
      "\n"
     ],
     "language": "python",
     "metadata": {},
     "outputs": [
      {
       "output_type": "stream",
       "stream": "stdout",
       "text": [
        "66/14509\n",
        "73/77"
       ]
      },
      {
       "output_type": "stream",
       "stream": "stdout",
       "text": [
        "\n"
       ]
      }
     ],
     "prompt_number": 19
    },
    {
     "cell_type": "code",
     "collapsed": false,
     "input": [
      "make_submission_csv(pred, submit_df['request_id'].values, 'request_text_and_activity_and_time_ETClassifier')"
     ],
     "language": "python",
     "metadata": {},
     "outputs": [],
     "prompt_number": 20
    },
    {
     "cell_type": "code",
     "collapsed": false,
     "input": [
      "from nltk import word_tokenize\n",
      "from nltk.stem import WordNetLemmatizer\n",
      "from nltk.stem.porter import PorterStemmer\n",
      "from nltk.stem.snowball import SnowballStemmer\n",
      "class LemmaTokenizer(object):\n",
      "    def __init__(self):\n",
      "        self.wnl = WordNetLemmatizer()\n",
      "    def __call__(self, doc):\n",
      "        return [self.wnl.lemmatize(t) for t in word_tokenize(doc)]\n",
      "\n",
      "class SnowballStemTokenizer(object):\n",
      "    def __init__(self):\n",
      "        self.stmr = SnowballStemmer('english')\n",
      "    def __call__(self, doc):\n",
      "        return [self.stmr.stem(t) for t in word_tokenize(doc)]\n",
      "    \n",
      "class PorterStemTokenizer(object):\n",
      "    def __init__(self):\n",
      "        self.stmr = PorterStemmer()\n",
      "    def __call__(self, doc):\n",
      "        return [self.stmr.stem(t) for t in word_tokenize(doc)]\n",
      "\n"
     ],
     "language": "python",
     "metadata": {},
     "outputs": [],
     "prompt_number": 15
    },
    {
     "cell_type": "code",
     "collapsed": false,
     "input": [
      "# Combine title, body, time, numeric\n",
      "# Add text lemmazation & stemming\n",
      "\n",
      "acts = all_train_df[activity_var].values\n",
      "titles = all_train_df['request_title'].values\n",
      "bodies = all_train_df['request_text_edit_aware'].values\n",
      "time_df = timify(all_train_df)\n",
      "times = time_df[['request_dow','request_hour','request_month']].values\n",
      "\n",
      "title_unicode = all_train_df.request_title.values\n",
      "title_len = np.array([[len(x.encode('utf-8')) for x in title_unicode]]).T\n",
      "body_unicode = all_train_df.request_text_edit_aware.values\n",
      "body_len = np.array([[len(x.encode('utf-8')) for x in body_unicode]]).T\n",
      "text_derivs = np.hstack((title_len, body_len))\n",
      "\n",
      "tv = TfidfVectorizer(ngram_range=(1,1),lowercase=False, tokenizer=SnowballStemTokenizer())\n",
      "lsvc = LinearSVC(class_weight='auto', C = 1)\n",
      "svc = SVC(class_weight='auto')\n",
      "\n",
      "etc = ExtraTreesClassifier(n_estimators = 2000,\n",
      "                           max_depth = 5,\n",
      "                           min_samples_split=10,\n",
      "                           class_weight='auto')\n",
      "\n",
      "gbc = GradientBoostingClassifier(n_estimators = 20,\n",
      "                           max_depth = 5,\n",
      "                           min_samples_split=10)\n",
      "\n",
      "\n",
      "prune_features = True\n",
      "\n",
      "y = all_train_labels\n",
      "verbose = True\n",
      "\n",
      "balance = True\n",
      "\n",
      "do_titles = False\n",
      "do_bodies = True\n",
      "do_acts = True\n",
      "do_times = True\n",
      "do_text_derivs = True\n",
      "\n",
      "model = lsvc\n",
      "scaler = StandardScaler()\n",
      "\n",
      "roc_auc_list_titles = []\n",
      "roc_auc_list_bodies = []\n",
      "roc_auc_list_acts = []\n",
      "roc_auc_list_times = []\n",
      "roc_auc_list_text_derivs = []\n",
      "roc_auc_list_all = []\n",
      "    \n",
      "for train_i, dev_i in KFold(n_all, n_folds = 10):\n",
      "    if balance:\n",
      "        train_i_orig = train_i\n",
      "        y_train = y[train_i_orig]\n",
      "        train_i = train_i_orig[balance_samples(y_train)]\n",
      "    \n",
      "    X_dict = {}\n",
      "    #X_dict['titles'] = {'train' : titles[train_i], 'dev' : titles[dev_i], 'model' : lsvc}\n",
      "    #X_dict['bodies'] = {'train' : bodies[train_i], 'dev' : bodies[dev_i], 'model' : lsvc}\n",
      "    #X_dict['acts'] = {'train' : acts[train_i], 'dev' : acts[dev_i], 'model' : svc}\n",
      "    X_dict['titles'] = {'train' : titles[train_i], 'dev' : titles[dev_i], 'model' : lsvc}\n",
      "    X_dict['bodies'] = {'train' : bodies[train_i], 'dev' : bodies[dev_i], 'model' : lsvc}\n",
      "    X_dict['acts'] = {'train' : acts[train_i], 'dev' : acts[dev_i], 'model' : svc}\n",
      "    X_dict['times'] = {'train' : times[train_i], 'dev' : times[dev_i], 'model' : etc}\n",
      "    X_dict['text_derivs'] = {'train' : text_derivs[train_i], 'dev' : text_derivs[dev_i], 'model' : etc}\n",
      "    \n",
      "    X_all = {'train':(), 'dev':()}\n",
      "    \n",
      "    y_train = y[train_i]\n",
      "    y_dev = y[dev_i]\n",
      "    \n",
      "    # get initial training / dev data for text model\n",
      "    if do_titles:\n",
      "        X_train = tv.fit_transform(X_dict['titles']['train'])\n",
      "        X_dev = tv.transform(X_dict['titles']['dev'])\n",
      "        model = X_dict['titles']['model']\n",
      "        \n",
      "        if prune_features:\n",
      "            model.set_params(loss = 'hinge', C=.003)\n",
      "            model.fit(X_train, y_train)\n",
      "            coef = model.coef_\n",
      "            sig_coef = (np.abs(coef) > 0.01)[0]\n",
      "            print '%d/%d' % (np.sum(sig_coef), coef.shape[1])\n",
      "\n",
      "            X_train = X_train[:,sig_coef]\n",
      "            X_dev = X_dev[:,sig_coef]\n",
      "            model.set_params(loss = 'squared_hinge', C=5)\n",
      "        \n",
      "        \n",
      "        model.fit(X_train, y_train)\n",
      "        pred = model.predict(X_dev)\n",
      "\n",
      "        roc_auc_i = roc_auc_score(y_dev, pred)\n",
      "        roc_auc_list_titles.append(roc_auc_i)\n",
      "        \n",
      "        \n",
      "        X_all['train'] = X_all['train'] + (X_train,)\n",
      "        X_all['dev'] = X_all['dev'] + (X_dev,)\n",
      "    \n",
      "    if do_bodies:\n",
      "        X_train = tv.fit_transform(X_dict['bodies']['train'])\n",
      "        X_dev = tv.transform(X_dict['bodies']['dev'])\n",
      "        model = X_dict['bodies']['model']\n",
      "        \n",
      "        if prune_features:\n",
      "            model.set_params(loss = 'hinge', C=.0025)\n",
      "            model.fit(X_train, y_train)\n",
      "            coef = model.coef_\n",
      "            sig_coef = (np.abs(coef) > 0.01)[0]\n",
      "            print '%d/%d' % (np.sum(sig_coef), coef.shape[1])\n",
      "\n",
      "            X_train = X_train[:,sig_coef]\n",
      "            X_dev = X_dev[:,sig_coef]\n",
      "            model.set_params(loss = 'squared_hinge', C=1)\n",
      "        \n",
      "        \n",
      "        model.fit(X_train, y_train)\n",
      "        pred = model.predict(X_dev)\n",
      "\n",
      "        roc_auc_i = roc_auc_score(y_dev, pred)\n",
      "        roc_auc_list_bodies.append(roc_auc_i)\n",
      "        \n",
      "        X_all['train'] = X_all['train'] + (X_train,)\n",
      "        X_all['dev'] = X_all['dev'] + (X_dev,)\n",
      "        \n",
      "    if do_acts:\n",
      "        X_train = scaler.fit_transform(X_dict['acts']['train'])\n",
      "        X_dev = scaler.transform(X_dict['acts']['dev'])\n",
      "        model = X_dict['acts']['model']\n",
      "        \n",
      "        model.fit(X_train, y_train)\n",
      "        pred = model.predict(X_dev)\n",
      "\n",
      "        roc_auc_i = roc_auc_score(y_dev, pred)\n",
      "        roc_auc_list_acts.append(roc_auc_i)\n",
      "        \n",
      "        X_all['train'] = X_all['train'] + (X_train,)\n",
      "        X_all['dev'] = X_all['dev'] + (X_dev,)\n",
      "        \n",
      "    if do_times:\n",
      "        X_train = X_dict['times']['train']\n",
      "        X_dev = X_dict['times']['dev']\n",
      "        model = model = X_dict['times']['model']\n",
      "        \n",
      "        model.fit(X_train, y_train)\n",
      "        pred = model.predict(X_dev)\n",
      "\n",
      "        roc_auc_i = roc_auc_score(y_dev, pred)\n",
      "        roc_auc_list_times.append(roc_auc_i)\n",
      "        \n",
      "        X_all['train'] = X_all['train'] + (X_train,)\n",
      "        X_all['dev'] = X_all['dev'] + (X_dev,)\n",
      "        \n",
      "    if do_text_derivs:\n",
      "        X_train = X_dict['text_derivs']['train']\n",
      "        X_dev = X_dict['text_derivs']['dev']\n",
      "        model = model = X_dict['text_derivs']['model']\n",
      "        \n",
      "        model.fit(X_train, y_train)\n",
      "        pred = model.predict(X_dev)\n",
      "\n",
      "        roc_auc_i = roc_auc_score(y_dev, pred)\n",
      "        roc_auc_list_text_derivs.append(roc_auc_i)\n",
      "        \n",
      "        X_all['train'] = X_all['train'] + (X_train,)\n",
      "        X_all['dev'] = X_all['dev'] + (X_dev,)\n",
      "        \n",
      "    \n",
      "    if do_bodies + do_titles + do_acts + do_times + do_text_derivs > 1:\n",
      "        #X_train = scaler.fit_transform(scipy.sparse.hstack(X_all['train'],'csr').toarray())\n",
      "        X_train = scipy.sparse.hstack(X_all['train'],'csr').toarray()\n",
      "        #X_train = np.hstack(X_all['train'])\n",
      "        #X_dev = scaler.transform(scipy.sparse.hstack( X_all['dev'],'csr').toarray())\n",
      "        X_dev = scipy.sparse.hstack( X_all['dev'],'csr').toarray()\n",
      "        #X_dev = np.hstack(X_all['dev'])\n",
      "\n",
      "        \n",
      "        \n",
      "        #if prune_features:\n",
      "        if False:\n",
      "            model = lsvc\n",
      "            model.set_params(loss = 'hinge', C=5)\n",
      "            model.fit(X_train, y_train)\n",
      "            coef = model.coef_\n",
      "            sig_coef = (np.abs(coef) > 0.01)[0]\n",
      "            print '%d/%d' % (np.sum(sig_coef), coef.shape[1])\n",
      "            \n",
      "            X_train = X_train[:,sig_coef]\n",
      "            X_dev = X_dev[:,sig_coef]\n",
      "          \n",
      "        model = svc\n",
      "        model.set_params(C=1)\n",
      "        \n",
      "        model = gbc\n",
      "        \n",
      "        \n",
      "        model.fit(X_train,y_train)\n",
      "        pred = model.predict(X_dev)\n",
      "\n",
      "        roc_auc_i = roc_auc_score(y_dev, pred)\n",
      "        roc_auc_list_all.append(roc_auc_i)\n",
      "    \n",
      "    \n",
      "    if verbose:\n",
      "        print('ROC AUC:',roc_auc_i)\n",
      "        \n",
      "if verbose:\n",
      "    print 'Titles: Mean: %f, Median: %f' %(np.mean(roc_auc_list_titles), np.median(roc_auc_list_titles))\n",
      "    print 'Bodies: Mean: %f, Median: %f' %(np.mean(roc_auc_list_bodies), np.median(roc_auc_list_bodies))\n",
      "    print 'Activities: Mean: %f, Median: %f' %(np.mean(roc_auc_list_acts), np.median(roc_auc_list_acts))\n",
      "    print 'Text Derivs: Mean: %f, Median: %f' %(np.mean(roc_auc_list_acts), np.median(roc_auc_list_text_derivs))\n",
      "    print 'All: Mean: %f, Median: %f' %(np.mean(roc_auc_list_all), np.median(roc_auc_list_all))\n",
      "\n",
      "\n",
      "    "
     ],
     "language": "python",
     "metadata": {},
     "outputs": [
      {
       "output_type": "stream",
       "stream": "stdout",
       "text": [
        "192/9965\n",
        "('ROC AUC:', 0.58622256849759768)"
       ]
      },
      {
       "output_type": "stream",
       "stream": "stdout",
       "text": [
        "\n",
        "201/9953"
       ]
      },
      {
       "output_type": "stream",
       "stream": "stdout",
       "text": [
        "\n",
        "('ROC AUC:', 0.62816944959802101)"
       ]
      },
      {
       "output_type": "stream",
       "stream": "stdout",
       "text": [
        "\n",
        "196/9878"
       ]
      },
      {
       "output_type": "stream",
       "stream": "stdout",
       "text": [
        "\n",
        "('ROC AUC:', 0.63203935659357269)"
       ]
      },
      {
       "output_type": "stream",
       "stream": "stdout",
       "text": [
        "\n",
        "205/9931"
       ]
      },
      {
       "output_type": "stream",
       "stream": "stdout",
       "text": [
        "\n",
        "('ROC AUC:', 0.64175776754890679)"
       ]
      },
      {
       "output_type": "stream",
       "stream": "stdout",
       "text": [
        "\n",
        "193/9900"
       ]
      },
      {
       "output_type": "stream",
       "stream": "stdout",
       "text": [
        "\n",
        "('ROC AUC:', 0.57243589743589751)"
       ]
      },
      {
       "output_type": "stream",
       "stream": "stdout",
       "text": [
        "\n",
        "193/9907"
       ]
      },
      {
       "output_type": "stream",
       "stream": "stdout",
       "text": [
        "\n",
        "('ROC AUC:', 0.58075851589211092)"
       ]
      },
      {
       "output_type": "stream",
       "stream": "stdout",
       "text": [
        "\n",
        "199/9911"
       ]
      },
      {
       "output_type": "stream",
       "stream": "stdout",
       "text": [
        "\n",
        "('ROC AUC:', 0.56728381124407312)"
       ]
      },
      {
       "output_type": "stream",
       "stream": "stdout",
       "text": [
        "\n",
        "199/9851"
       ]
      },
      {
       "output_type": "stream",
       "stream": "stdout",
       "text": [
        "\n",
        "('ROC AUC:', 0.59975546605293439)"
       ]
      },
      {
       "output_type": "stream",
       "stream": "stdout",
       "text": [
        "\n",
        "211/9832"
       ]
      },
      {
       "output_type": "stream",
       "stream": "stdout",
       "text": [
        "\n",
        "('ROC AUC:', 0.58622256849759768)"
       ]
      },
      {
       "output_type": "stream",
       "stream": "stdout",
       "text": [
        "\n",
        "202/9757"
       ]
      },
      {
       "output_type": "stream",
       "stream": "stdout",
       "text": [
        "\n",
        "('ROC AUC:', 0.54148936170212758)"
       ]
      },
      {
       "output_type": "stream",
       "stream": "stdout",
       "text": [
        "\n",
        "Titles: Mean: nan, Median: nan\n",
        "Bodies: Mean: 0.578508, Median: 0.581978\n",
        "Activities: Mean: 0.550280, Median: 0.546909\n",
        "Text Derivs: Mean: 0.550280, Median: 0.567664\n",
        "All: Mean: 0.593613, Median: 0.586223\n"
       ]
      }
     ],
     "prompt_number": 219
    },
    {
     "cell_type": "code",
     "collapsed": false,
     "input": [
      "np.random.choice(all_train_df.request_title.values,20)"
     ],
     "language": "python",
     "metadata": {},
     "outputs": [
      {
       "metadata": {},
       "output_type": "pyout",
       "prompt_number": 147,
       "text": [
        "array([u'[request] just a hungry guy',\n",
        "       u'[OFFER, REQUEST] Might be the wrong place...',\n",
        "       u'[Request] Looking to give my kids a hot meal.',\n",
        "       u'[Request] Newborn baby squalls and my roommate and I are tired. Please help?',\n",
        "       u'[Request] Medical bills and stress piling up, could use a nice pizza for my kids',\n",
        "       u'[Request] For my brother and I (south FL)',\n",
        "       u'Shana Tova [REQUEST] A pie for me and my nana? \\nImma 19 y.o. student. Does this work? Just started \\nschool and out of pocket money and rent . ne help? \\nHappy Jewish new Year',\n",
        "       u'[request] need some assistance',\n",
        "       u'[REQUEST] Sydney student going through rough patch.',\n",
        "       u'[request] broke and stressed would love a delicious pizza',\n",
        "       u'[REQUEST] PHX,AZ US Two starving awesome musicians looking to eat some food tonight!',\n",
        "       u\"[Request] Hays, KS: Do a bro a solid, it's rural out here\",\n",
        "       u\"[Request] Broke post-grad between paychecks, struggling to make ends meet. Can't really afford groceries this week, so I haven't been eating much. Would very much love a delicious pizza to brighten my day and fill my belly. (Cambridge, MA)\",\n",
        "       u'[Request] Cincinnati, OH need piksa plox',\n",
        "       u'[Request] Binge watching breaking bad in underwear, show is too good to leave couch, need pizza',\n",
        "       u'[REQUEST] My wife and I just moved to Austin, TX, and an unfortunate mistake have left us with nothing but Ramen until tomorrow afternoon. A pizza would be greatly appreciated!',\n",
        "       u'[Request] Edinburgh, Scotland. Will record song of your choice on acoustic guitar + vocals!',\n",
        "       u'[Request]  The University of Southern Indiana is on spring break, all restaurants on campus are closed. I spent last paycheck on final payment of tuition. Can you help a brother out?',\n",
        "       u'[Request] Dealing with a tough break-up',\n",
        "       u\"[request] california, getting ready for foster kids \\nand don't have time to get food and dont have to \\nextra money until next paycheck.\"], dtype=object)"
       ]
      }
     ],
     "prompt_number": 147
    },
    {
     "cell_type": "code",
     "collapsed": false,
     "input": [
      "\n",
      "title_unicode = all_train_df.request_title.values\n",
      "title_len = np.array([[len(x.encode('utf-8')) for x in title_unicode]]).T\n",
      "body_unicode = all_train_df.request_text_edit_aware.values\n",
      "body_len = np.array([[len(x.encode('utf-8')) for x in body_unicode]]).T\n",
      "X_text_deriv_train = np.hstack((title_len, body_len))\n",
      "\n",
      "\n",
      "etc = ExtraTreesClassifier(n_estimators = 1000,\n",
      "                           max_depth = 5,\n",
      "                           min_samples_split=10,\n",
      "                           class_weight='auto')\n",
      "\n",
      "gbc = GradientBoostingClassifier(n_estimators = 200,\n",
      "                           max_depth = 5,\n",
      "                           min_samples_split=10)\n",
      "\n",
      "svc = SVC()\n",
      "\n",
      "test_kfolds(X_text_deriv_train, all_train_labels, KFold(n_all, n_folds = 2), gbc, balance=True)"
     ],
     "language": "python",
     "metadata": {},
     "outputs": [
      {
       "output_type": "stream",
       "stream": "stdout",
       "text": [
        "('ROC AUC:', 0.53020489374312074)\n",
        "('ROC AUC:', 0.50816010428045955)"
       ]
      },
      {
       "output_type": "stream",
       "stream": "stdout",
       "text": [
        "\n",
        "Mean: 0.519182, Median: 0.519182\n"
       ]
      },
      {
       "metadata": {},
       "output_type": "pyout",
       "prompt_number": 16,
       "text": [
        "[0.53020489374312074, 0.50816010428045955]"
       ]
      }
     ],
     "prompt_number": 16
    },
    {
     "cell_type": "code",
     "collapsed": false,
     "input": [
      "\n",
      "keywords = {\n",
      "    'sad_food': ['hungry', 'starving', 'no food', 'grocer', 'eaten', 'hunger', 'ramen', 'empty', 'fridge', 'refrig'],\n",
      "    'money': ['broke', 'paid', 'money', 'unemployed', 'lost', 'job', 'bill', 'wage', 'work', 'payday', 'paycheck', 'funds', 'cash', 'bank', 'laid off', 'poor', 'payroll'],\n",
      "    'sad': ['worst', 'awful', 'sick', 'problem', 'catch a break', 'cheer', 'hospital', 'bad', 'shitty', 'stress', 'luck', ':(', 'rough', 'tough'],\n",
      "    'military': ['miliatary', 'veteran'],\n",
      "    'happy': ['celebrate', 'birthday', 'party', 'new year', 'bday', 'engage', 'annivers'],\n",
      "    'nice': ['please', 'help', 'thank you', ':)'],\n",
      "    'honest': ['sob story', 'honest', 'just want', 'just because'],\n",
      "    'parent': ['family', 'kids', 'parent', 'mom', 'mommy', 'mother', 'dad', 'father', 'baby', 'boy', 'girl'],\n",
      "    'relationship': ['husband', 'wife', 'girlfriend', 'boyfriend', 'fianc'],\n",
      "    'test': ['study', 'test', 'final', 'midterm']\n",
      "}"
     ],
     "language": "python",
     "metadata": {},
     "outputs": [],
     "prompt_number": 17
    },
    {
     "cell_type": "code",
     "collapsed": false,
     "input": [
      "def find_tag_words(keywords, text):\n",
      "    word_dict = {}\n",
      "    tag_dict = {}\n",
      "\n",
      "    for tag, words in keywords.iteritems():\n",
      "\n",
      "        tag_count = None\n",
      "\n",
      "        for word in words:\n",
      "            has_word = np.array([(1 if word in t else 0) for t in text])\n",
      "            word_dict[word] = has_word\n",
      "\n",
      "            if tag_count is None:\n",
      "                tag_count = has_word\n",
      "            else:\n",
      "                tag_count = tag_count +  has_word\n",
      "\n",
      "        tag_dict[tag] = tag_count\n",
      "\n",
      "    return (tag_dict, word_dict)"
     ],
     "language": "python",
     "metadata": {},
     "outputs": [],
     "prompt_number": 18
    },
    {
     "cell_type": "code",
     "collapsed": false,
     "input": [
      "title_unicode = np.array([x.lower() for x in all_train_df.request_title.values])\n",
      "body_unicode = np.array([x.lower() for x in all_train_df.request_text_edit_aware.values])\n",
      "\n",
      "title_tag_dict, title_word_dict = find_tag_words(keywords, title_unicode)\n",
      "body_tag_dict, body_word_dict = find_tag_words(keywords, body_unicode)\n",
      "\n"
     ],
     "language": "python",
     "metadata": {},
     "outputs": [],
     "prompt_number": 19
    },
    {
     "cell_type": "code",
     "collapsed": false,
     "input": [],
     "language": "python",
     "metadata": {},
     "outputs": [],
     "prompt_number": 202
    },
    {
     "cell_type": "code",
     "collapsed": false,
     "input": [
      "\n",
      "acts = all_train_df[activity_var].values\n",
      "times = time_df[['request_dow','request_hour','request_month']].values\n",
      "\n",
      "X_tag = np.hstack((pd.DataFrame(body_tag_dict).values, pd.DataFrame(title_tag_dict).values, pd.DataFrame(title_word_dict).values, X_text_deriv_train, times, acts))\n",
      "\n",
      "\n",
      "etc = ExtraTreesClassifier(n_estimators = 1000,\n",
      "                           max_depth = 2,\n",
      "                           min_samples_split=10,\n",
      "                           class_weight='auto')\n",
      "\n",
      "gbc = GradientBoostingClassifier(n_estimators = 20,\n",
      "                           max_depth = 4,\n",
      "                           min_samples_split=5)\n",
      "\n",
      "svc = SVC(class_weight='auto')\n",
      "\n",
      "test_kfolds(X_tag, all_train_labels, KFold(n_all, n_folds = 10), gbc, balance=True)"
     ],
     "language": "python",
     "metadata": {},
     "outputs": [
      {
       "output_type": "stream",
       "stream": "stdout",
       "text": [
        "('ROC AUC:', 0.57884972170686455)\n",
        "('ROC AUC:', 0.56662608225108235)"
       ]
      },
      {
       "output_type": "stream",
       "stream": "stdout",
       "text": [
        "\n",
        "('ROC AUC:', 0.61384335154826963)"
       ]
      },
      {
       "output_type": "stream",
       "stream": "stdout",
       "text": [
        "\n",
        "('ROC AUC:', 0.6007985975847292)"
       ]
      },
      {
       "output_type": "stream",
       "stream": "stdout",
       "text": [
        "\n",
        "('ROC AUC:', 0.5700196183342251)"
       ]
      },
      {
       "output_type": "stream",
       "stream": "stdout",
       "text": [
        "\n",
        "('ROC AUC:', 0.607937866927593)"
       ]
      },
      {
       "output_type": "stream",
       "stream": "stdout",
       "text": [
        "\n",
        "('ROC AUC:', 0.66996699669967008)"
       ]
      },
      {
       "output_type": "stream",
       "stream": "stdout",
       "text": [
        "\n",
        "('ROC AUC:', 0.61847133757961792)"
       ]
      },
      {
       "output_type": "stream",
       "stream": "stdout",
       "text": [
        "\n",
        "('ROC AUC:', 0.62675699632771942)"
       ]
      },
      {
       "output_type": "stream",
       "stream": "stdout",
       "text": [
        "\n",
        "('ROC AUC:', 0.56916354556803994)"
       ]
      },
      {
       "output_type": "stream",
       "stream": "stdout",
       "text": [
        "\n",
        "Mean: 0.602243, Median: 0.604368\n"
       ]
      },
      {
       "metadata": {},
       "output_type": "pyout",
       "prompt_number": 92,
       "text": [
        "[0.57884972170686455,\n",
        " 0.56662608225108235,\n",
        " 0.61384335154826963,\n",
        " 0.6007985975847292,\n",
        " 0.5700196183342251,\n",
        " 0.607937866927593,\n",
        " 0.66996699669967008,\n",
        " 0.61847133757961792,\n",
        " 0.62675699632771942,\n",
        " 0.56916354556803994]"
       ]
      }
     ],
     "prompt_number": 92
    },
    {
     "cell_type": "code",
     "collapsed": false,
     "input": [
      "#Body PCA\n",
      "from sklearn.decomposition import RandomizedPCA\n",
      "\n",
      "bodies = all_train_df['request_text_edit_aware'].values\n",
      "\n",
      "\n",
      "\n",
      "title_unicode = all_train_df.request_title.values\n",
      "title_len = np.array([[len(x.encode('utf-8')) for x in title_unicode]]).T\n",
      "body_unicode = all_train_df.request_text_edit_aware.values\n",
      "body_len = np.array([[len(x.encode('utf-8')) for x in body_unicode]]).T\n",
      "\n",
      "text_derivs = np.hstack((title_len, body_len))\n",
      "acts = all_train_df[activity_var].values\n",
      "times = time_df[['request_dow','request_hour','request_month']].values\n",
      "\n",
      "title_unicode = np.array([x.lower() for x in all_train_df.request_title.values])\n",
      "body_unicode = np.array([x.lower() for x in all_train_df.request_text_edit_aware.values])\n",
      "\n",
      "title_tag_dict, title_word_dict = find_tag_words(keywords, title_unicode)\n",
      "body_tag_dict, body_word_dict = find_tag_words(keywords, body_unicode)\n",
      "\n",
      "body_tags = pd.DataFrame(body_tag_dict).values\n",
      "title_tags = pd.DataFrame(title_tag_dict).values\n",
      "title_words = pd.DataFrame(title_word_dict).values\n",
      "\n",
      "X_other = np.hstack((text_derivs, acts, times, body_tags, title_tags, title_words))\n",
      "\n",
      "\n",
      "tv = TfidfVectorizer(ngram_range=(1,1), lowercase=True, tokenizer=SnowballStemTokenizer())\n",
      "\n",
      "gbc = GradientBoostingClassifier(n_estimators = 20,\n",
      "                           max_depth = 4,\n",
      "                           min_samples_split=10)\n",
      "\n",
      "etc = ExtraTreesClassifier(n_estimators = 2000,\n",
      "                           max_depth = 5,\n",
      "                           min_samples_split=10,\n",
      "                           class_weight='auto')\n",
      "balance = True\n",
      "\n",
      "roc_auc_list_bodies = []\n",
      "roc_auc_list_all = []\n",
      "\n",
      "model = gbc\n",
      "\n",
      "for train_i, dev_i in KFold(n_all, n_folds = 10):\n",
      "    \n",
      "    if balance:\n",
      "        train_i_orig = train_i\n",
      "        y_train = y[train_i_orig]\n",
      "        train_i = train_i_orig[balance_samples(y_train)]\n",
      "    \n",
      "    y_train = y[train_i]\n",
      "    y_dev = y[dev_i]\n",
      "    \n",
      "    X_train = tv.fit_transform(bodies[train_i]).toarray()\n",
      "    X_dev = tv.transform(bodies[dev_i]).toarray()\n",
      "\n",
      "    pca = RandomizedPCA(n_components=5)\n",
      "\n",
      "    X_train = pca.fit_transform(X_train)\n",
      "    \n",
      "    X_dev = pca.transform(X_dev)\n",
      "        \n",
      "\n",
      "    model.fit(X_train, y_train)\n",
      "    pred = model.predict(X_dev)\n",
      "\n",
      "    roc_auc_i = roc_auc_score(y_dev, pred)\n",
      "    roc_auc_list_bodies.append(roc_auc_i)\n",
      "    \n",
      "    print roc_auc_i\n",
      "    \n",
      "    X_train = np.hstack((X_train, X_other[train_i]))\n",
      "    X_dev = np.hstack((X_dev, X_other[dev_i]))\n",
      "    \n",
      "    model.fit(X_train, y_train)\n",
      "    pred = model.predict(X_dev)\n",
      "\n",
      "    roc_auc_i = roc_auc_score(y_dev, pred)\n",
      "    roc_auc_list_all.append(roc_auc_i)\n",
      "\n",
      "    print roc_auc_i\n",
      "\n",
      "    \n",
      "\n"
     ],
     "language": "python",
     "metadata": {},
     "outputs": [
      {
       "output_type": "stream",
       "stream": "stdout",
       "text": [
        "0.568058132344\n",
        "0.582220160792"
       ]
      },
      {
       "output_type": "stream",
       "stream": "stdout",
       "text": [
        "\n",
        "0.600852272727"
       ]
      },
      {
       "output_type": "stream",
       "stream": "stdout",
       "text": [
        "\n",
        "0.598214285714"
       ]
      },
      {
       "output_type": "stream",
       "stream": "stdout",
       "text": [
        "\n",
        "0.638118893857"
       ]
      },
      {
       "output_type": "stream",
       "stream": "stdout",
       "text": [
        "\n",
        "0.665722801788"
       ]
      },
      {
       "output_type": "stream",
       "stream": "stdout",
       "text": [
        "\n",
        "0.552915205817"
       ]
      },
      {
       "output_type": "stream",
       "stream": "stdout",
       "text": [
        "\n",
        "0.592585378522"
       ]
      },
      {
       "output_type": "stream",
       "stream": "stdout",
       "text": [
        "\n",
        "0.547922240057"
       ]
      },
      {
       "output_type": "stream",
       "stream": "stdout",
       "text": [
        "\n",
        "0.554877831282"
       ]
      },
      {
       "output_type": "stream",
       "stream": "stdout",
       "text": [
        "\n",
        "0.532901174168"
       ]
      },
      {
       "output_type": "stream",
       "stream": "stdout",
       "text": [
        "\n",
        "0.642000978474"
       ]
      },
      {
       "output_type": "stream",
       "stream": "stdout",
       "text": [
        "\n",
        "0.561056105611"
       ]
      },
      {
       "output_type": "stream",
       "stream": "stdout",
       "text": [
        "\n",
        "0.635313531353"
       ]
      },
      {
       "output_type": "stream",
       "stream": "stdout",
       "text": [
        "\n",
        "0.586730360934"
       ]
      },
      {
       "output_type": "stream",
       "stream": "stdout",
       "text": [
        "\n",
        "0.62169143666"
       ]
      },
      {
       "output_type": "stream",
       "stream": "stdout",
       "text": [
        "\n",
        "0.551475243763"
       ]
      },
      {
       "output_type": "stream",
       "stream": "stdout",
       "text": [
        "\n",
        "0.611244776497"
       ]
      },
      {
       "output_type": "stream",
       "stream": "stdout",
       "text": [
        "\n",
        "0.551221687177"
       ]
      },
      {
       "output_type": "stream",
       "stream": "stdout",
       "text": [
        "\n",
        "0.596522204387"
       ]
      },
      {
       "output_type": "stream",
       "stream": "stdout",
       "text": [
        "\n"
       ]
      }
     ],
     "prompt_number": 94
    },
    {
     "cell_type": "code",
     "collapsed": false,
     "input": [
      "print np.mean(roc_auc_list_bodies), np.median(roc_auc_list_bodies)\n",
      "print np.mean(roc_auc_list_all), np.median(roc_auc_list_all)"
     ],
     "language": "python",
     "metadata": {},
     "outputs": [
      {
       "output_type": "stream",
       "stream": "stdout",
       "text": [
        "0.569125131646 0.556985655714\n",
        "0.610039338547 0.604729531106\n"
       ]
      }
     ],
     "prompt_number": 95
    },
    {
     "cell_type": "code",
     "collapsed": false,
     "input": [
      "#Body PCA\n",
      "from sklearn.decomposition import RandomizedPCA\n",
      "\n",
      "tv = TfidfVectorizer(ngram_range=(1,1), lowercase=False, tokenizer=SnowballStemTokenizer())\n",
      "\n",
      "bodies = all_train_df['request_text_edit_aware'].values\n",
      "\n",
      "X_train = tv.fit_transform(bodies)\n",
      "#X_dev = tv.transform(X_dict['bodies']['dev'])\n",
      "#model = X_dict['bodies']['model']\n",
      "\n",
      "pca = RandomizedPCA(n_components=10)\n",
      "\n",
      "X_train = pca.fit_transform(X_train.toarray())\n",
      "print pca.explained_variance_ratio_\n",
      "\n"
     ],
     "language": "python",
     "metadata": {},
     "outputs": [
      {
       "output_type": "stream",
       "stream": "stdout",
       "text": [
        "[ 0.02139223  0.01124761  0.00751729  0.00688017  0.00603291  0.00543915\n",
        "  0.00535426  0.00501908  0.00458796  0.00455722]\n"
       ]
      }
     ],
     "prompt_number": 46
    },
    {
     "cell_type": "code",
     "collapsed": false,
     "input": [
      "\n",
      "bottom = np.argsort(pca.components_[0])[:20]\n",
      "top = np.argsort(pca.components_[0])[-20:]\n",
      "\n",
      "print np.array(tv.get_feature_names())[bottom]\n",
      "print np.array(tv.get_feature_names())[top]"
     ],
     "language": "python",
     "metadata": {},
     "outputs": [
      {
       "output_type": "stream",
       "stream": "stdout",
       "text": [
        "[u'!' u'*' u'http' u':' u'love' u'?' u'&' u';' u'titl' u'op' u'crave' u'['\n",
        " u']' u'lt' u'appreci' u'hungri' u'pie' u'yall' u'deliv' u'pizza']\n",
        "[u'do' u'get' u'in' u'this' u'that' u'but' u'of' u\"'m\" u'it' u'have' u\"n't\"\n",
        " u'for' u'the' u'a' u'and' u'my' u'to' u'.' u',' u'i']\n"
       ]
      }
     ],
     "prompt_number": 78
    },
    {
     "cell_type": "code",
     "collapsed": false,
     "input": [],
     "language": "python",
     "metadata": {},
     "outputs": []
    }
   ],
   "metadata": {}
  }
 ]
}