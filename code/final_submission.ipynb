{
 "metadata": {
  "name": "",
  "signature": "sha256:1bfe0bb81a22cc169d7aa73ef5d9b191c9068eb0cd6dc03191c8fb67b47b6f85"
 },
 "nbformat": 3,
 "nbformat_minor": 0,
 "worksheets": [
  {
   "cells": [
    {
     "cell_type": "markdown",
     "metadata": {},
     "source": [
      "# W207 Final Project Submission\n",
      "### Ross Boberg, Sarah Neff, Sam Zaiss\n",
      "\n",
      "This notebook documents our exploration for the <a href=\"http://www.kaggle.com/c/random-acts-of-pizza\">Random Acts of Pizza</a> kaggle competition as part of the W207 Machine Learning course for UC Berkeley's MIDS program. We document the individual areas of exploration that we completed for this project, followed by the larger model that pulled these explorations together.\n",
      "\n",
      "<a id=\"top\"></a>\n",
      "#### Table of Contents\n",
      "<ol>\n",
      "<li><a href=\"#part1\">Data Import and Base Methods</a></li>\n",
      "<li><a href=\"#part2\">Activity Features</a></li>\n",
      "<li><a href=\"#part3\">Text Bag of Words</a>\n",
      "<ul>\n",
      "<li>Simple</li>\n",
      "<li>L1 Feature Regularization</li>\n",
      "<li>Time</li><br/>\n",
      "</ul>\n",
      "</li>\n",
      "<li><a href=\"#part4\">Time Features</a></li>\n",
      "<li><a href=\"#part5\">Interesting Words &amp; Category Tags</a></li>\n",
      "<li><a href=\"#part6\">Spelling Mistakes</a></li>\n",
      "<li><a href=\"#part7\">Text Summary Features</a>\n",
      "<ul>\n",
      "<li>Text Length</li>\n",
      "<li>Word Case</li>\n",
      "<li>Paragraph Analysis</li><br/>\n",
      "</ul>\n",
      "</li>\n",
      "<li><a href=\"#part8\">Location Features</a></li>\n",
      "<li><a href=\"#part9\">Parts of Speech</a></li>\n",
      "<li><a href=\"#part10\">Final, Composite Model</a></li>\n",
      "<br/>\n",
      "<li><a href=\"#part11\">Appendix - additional goodness</a></li>\n",
      "</ol>"
     ]
    },
    {
     "cell_type": "markdown",
     "metadata": {},
     "source": [
      "<a id=\"part1\"></a>\n",
      "## 1. Data Import and Base Methods"
     ]
    },
    {
     "cell_type": "code",
     "collapsed": false,
     "input": [
      "import json\n",
      "import csv\n",
      "import numpy as np\n",
      "import random as rand\n",
      "import pandas as pd\n",
      "import scipy as scipy\n",
      "import datetime as dt\n",
      "import time\n",
      "import BeautifulSoup\n",
      "from urllib import urlopen\n",
      "import re\n",
      "\n",
      "%matplotlib inline\n",
      "import matplotlib.pyplot as plt\n",
      "\n",
      "import gensim\n",
      "\n",
      "from sklearn.linear_model import LogisticRegression\n",
      "from sklearn.svm import SVC\n",
      "from sklearn.svm import LinearSVC\n",
      "from sklearn.metrics import classification_report\n",
      "from sklearn.metrics import roc_auc_score\n",
      "from sklearn.cross_validation import KFold\n",
      "from sklearn.preprocessing import StandardScaler\n",
      "from sklearn.decomposition import PCA\n",
      "from sklearn.feature_extraction.text import CountVectorizer\n",
      "from sklearn.feature_extraction.text import TfidfVectorizer\n",
      "from sklearn.pipeline import Pipeline\n",
      "from sklearn.pipeline import FeatureUnion\n",
      "from sklearn.naive_bayes import GaussianNB\n",
      "from sklearn.naive_bayes import MultinomialNB\n",
      "from sklearn.tree import DecisionTreeClassifier\n",
      "from sklearn.ensemble import AdaBoostClassifier\n",
      "from sklearn.mixture import GMM\n",
      "from sklearn.ensemble import ExtraTreesClassifier\n",
      "from sklearn.cross_validation import cross_val_score\n",
      "from sklearn.metrics import make_scorer\n",
      "from sklearn.ensemble import GradientBoostingClassifier\n",
      "from sklearn.decomposition import RandomizedPCA\n",
      "from sklearn.base import TransformerMixin\n",
      "from sklearn.base import BaseEstimator\n",
      "from sklearn.grid_search import GridSearchCV\n",
      "\n",
      "#useful for text processing\n",
      "from nltk import word_tokenize\n",
      "from nltk.tokenize import WhitespaceTokenizer\n",
      "from nltk.stem import WordNetLemmatizer\n",
      "from nltk.stem.porter import PorterStemmer\n",
      "from nltk.stem.snowball import SnowballStemmer\n",
      "from nltk.tokenize import RegexpTokenizer"
     ],
     "language": "python",
     "metadata": {},
     "outputs": [],
     "prompt_number": 40
    },
    {
     "cell_type": "code",
     "collapsed": false,
     "input": [
      "### Helper methods that will be used often in this notebook\n",
      "\n",
      "# Helper methods to pull and submit data:\n",
      "def load_json_file(path):\n",
      "    with open(path) as f:\n",
      "        data = json.load(f)\n",
      "    return data\n",
      "\n",
      "def make_submission_csv(predictions, ids, submission_name, path = '../predictions'):\n",
      "    with open(path+'/'+submission_name+'.csv', 'w') as csvfile:\n",
      "        field_names = ['request_id', 'requester_received_pizza']\n",
      "        writer = csv.DictWriter(csvfile, fieldnames = field_names)\n",
      "        writer.writeheader()\n",
      "        csv_data = zip(ids, predictions)\n",
      "        for row in csv_data:\n",
      "            writer.writerow({field_names[0]:row[0], field_names[1]:int(row[1])})\n",
      "            \n",
      "            \n",
      "# Helper methods for pulling columns from the dataset:\n",
      "def name2index(df, names):\n",
      "    return_single = False\n",
      "    \n",
      "    if type(names) == type([]):\n",
      "       names = np.array(names)\n",
      "    elif type(names) != type(np.array([])):\n",
      "        names = np.array([names])\n",
      "        return_single = True \n",
      "    \n",
      "    inds = np.where(np.in1d(df.columns, np.array(names)))[0]\n",
      "    \n",
      "    return inds[0] if return_single else inds\n",
      "\n",
      "            \n",
      "# Helper methods that are focused on class rebalancing:\n",
      "def balance_samples(y, method='oversample'):\n",
      "    class_counts = np.bincount(y)\n",
      "    \n",
      "    maxi = np.argmax(class_counts)\n",
      "    new_idx = np.argwhere(y==maxi)\n",
      "    \n",
      "    for i in range(len(class_counts)):\n",
      "        if i != maxi:\n",
      "            mult = class_counts[maxi]/class_counts[i]\n",
      "            rem = class_counts[maxi] - class_counts[i]*mult\n",
      "            idxi = np.argwhere(y==i)\n",
      "            np.random.shuffle(idxi)\n",
      "            for j in range(mult):\n",
      "                new_idx = np.vstack((new_idx,idxi))\n",
      "            new_idx = np.vstack((new_idx,idxi[:rem]))\n",
      "        \n",
      "    np.random.shuffle(new_idx)\n",
      "\n",
      "    return np.reshape(new_idx, (new_idx.shape[0],))\n",
      "\n",
      "def oversample_kfold(kf, y):\n",
      "    kf_over = []\n",
      "    for ti, di in kf:\n",
      "        yt = y[ti]\n",
      "        ti_over = ti[balance_samples(yt)]\n",
      "        kf_over.append((ti_over, di))\n",
      "    return kf_over\n",
      "\n",
      "# Helper methods for printing and scoring:\n",
      "def test_kfolds(X, y, kf, model, verbose=1, balance=False):\n",
      "    roc_auc_list = []\n",
      "    \n",
      "    for train_i, dev_i in kf:\n",
      "        if balance:\n",
      "            train_i_orig = train_i\n",
      "            y_train = y[train_i_orig]\n",
      "            train_i = train_i_orig[balance_samples(y_train)]\n",
      "        \n",
      "        \n",
      "        X_train = X[train_i]\n",
      "        X_dev = X[dev_i]\n",
      "\n",
      "        model.fit(X_train, y[train_i])\n",
      "\n",
      "        dev_pred = model.predict(X_dev)\n",
      "        \n",
      "        roc_auc_i = roc_auc_score(y[dev_i], dev_pred)\n",
      "        roc_auc_list.append(roc_auc_i)\n",
      "        if verbose > 1:\n",
      "            print('ROC AUC:',roc_auc_i)\n",
      "            \n",
      "    if verbose > 0:\n",
      "        print 'N: %d, Mean: %f, Median: %f, SD: %f' %(len(kf), np.mean(roc_auc_list), np.median(roc_auc_list), np.std(roc_auc_list))\n",
      "        \n",
      "    return roc_auc_list\n",
      "\n",
      "def print_scores(scores):\n",
      "    print 'N: %d, Mean: %f, Median: %f, SD: %f' %(len(scores), np.mean(scores), np.median(scores), np.std(scores))\n",
      "\n",
      "\n",
      "# Lastly, some classes to handle string tokenizing that we will use in multiple sections:\n",
      "class LemmaTokenizer(object):\n",
      "    def __init__(self):\n",
      "        self.wnl = WordNetLemmatizer()\n",
      "    def __call__(self, doc):\n",
      "        return [self.wnl.lemmatize(t) for t in word_tokenize(doc)]\n",
      "\n",
      "class SnowballStemTokenizer(object):\n",
      "    def __init__(self):\n",
      "        self.stmr = SnowballStemmer('english')\n",
      "    def __call__(self, doc):\n",
      "        return [self.stmr.stem(t) for t in word_tokenize(doc)]\n",
      "    \n",
      "class PorterStemTokenizer(object):\n",
      "    def __init__(self):\n",
      "        self.stmr = PorterStemmer()\n",
      "    def __call__(self, doc):\n",
      "        return [self.stmr.stem(t) for t in word_tokenize(doc)]\n",
      "\n",
      "class PuncTokenizer(object):\n",
      "    def __init__(self):\n",
      "        self.reg = RegexpTokenizer(r'[\\s\\.\\,\\:\\-\\;\\(\\)\\[\\]\\{\\}\\!\\?]+',gaps=True)\n",
      "    def __call__(self, doc):\n",
      "        return self.reg.tokenize(doc)\n",
      "    \n",
      "class SpaceTokenizer(object):\n",
      "    def __init__(self):\n",
      "        self.tknzr = WhitespaceTokenizer()\n",
      "    def __call__(self, doc):\n",
      "        return [t for t in self.tknzr.tokenize(doc)]\n"
     ],
     "language": "python",
     "metadata": {},
     "outputs": [],
     "prompt_number": 6
    },
    {
     "cell_type": "code",
     "collapsed": false,
     "input": [
      "### Set up the training and test data to work with throughout the notebook:\n",
      "\n",
      "# load data from JSON file as list of dicts\n",
      "all_train_dict_list = load_json_file('../data/train.json')\n",
      "submit_dict_list =  load_json_file('../data/test.json')\n",
      "\n",
      "n_all = len(all_train_dict_list)\n",
      "n_submit = len(submit_dict_list)\n",
      "\n",
      "# shuffle data to avoid biased split of train / dev data\n",
      "rand.shuffle(all_train_dict_list)\n",
      "\n",
      "# process labels\n",
      "all_train_labels = np.array([x['requester_received_pizza'] for x in all_train_dict_list])\n",
      "\n",
      "# pandas is useful for turning dicts in to matrix-like objects\n",
      "# where each column is an numpy array\n",
      "submit_df = pd.DataFrame(submit_dict_list)\n",
      "all_train_df = pd.DataFrame(all_train_dict_list)\n",
      "\n",
      "# limit train to columns available in submit_df\n",
      "submit_cols = submit_df.columns\n",
      "all_train_df = all_train_df[submit_cols]\n",
      "\n",
      "# useful for sklearn scoring\n",
      "roc_scorer = make_scorer(roc_auc_score)\n",
      "\n",
      "# set up kFolds\n",
      "kf = KFold(n_all, n_folds = 10)\n",
      "\n",
      "y = all_train_labels\n",
      "kf_over = []\n",
      "for ti, di in kf:\n",
      "    yt = y[ti]\n",
      "    ti_over = ti[balance_samples(yt)]\n",
      "    kf_over.append((ti_over, di))"
     ],
     "language": "python",
     "metadata": {},
     "outputs": [],
     "prompt_number": 17
    },
    {
     "cell_type": "markdown",
     "metadata": {},
     "source": [
      "<a id=\"part2\"></a>\n",
      "## 2. Activity Features"
     ]
    },
    {
     "cell_type": "code",
     "collapsed": false,
     "input": [
      "### Set up Numeric Activity Variables, including processor class for all activity feature analysis.\n",
      "\n",
      "ACTIVITY_VARS = ['requester_account_age_in_days_at_request',\n",
      "                'requester_days_since_first_post_on_raop_at_request',\n",
      "                'requester_number_of_comments_at_request',\n",
      "                'requester_number_of_comments_in_raop_at_request',\n",
      "                'requester_number_of_posts_at_request',\n",
      "                'requester_number_of_posts_on_raop_at_request',\n",
      "                'requester_number_of_subreddits_at_request',\n",
      "                'requester_upvotes_minus_downvotes_at_request',\n",
      "                'requester_upvotes_plus_downvotes_at_request'\n",
      "                ]\n",
      "ACTIVITY_COLUMNS = name2index(all_train_df, ACTIVITY_VARS)\n",
      "\n",
      "class ExtractColumnsTransformer(TransformerMixin):\n",
      "    \n",
      "    def __init__(self, cols=[0]):\n",
      "        self.cols = cols\n",
      "        \n",
      "    def fit(self, *args, **kwargs):\n",
      "        return self\n",
      "        \n",
      "    def transform(self, X):\n",
      "        cols = self.cols\n",
      "        return X[:,cols]\n",
      "    \n",
      "    def get_params(self, deep=True):\n",
      "        # suppose this estimator has parameters \"alpha\" and \"recursive\"\n",
      "        return {}\n",
      "\n",
      "    def set_params(self, **parameters):\n",
      "        for parameter, value in parameters.items():\n",
      "            self.setattr(parameter, value)\n",
      "        return self\n",
      "\n",
      "class ExtractActivities(ExtractColumnsTransformer):\n",
      "    def __init__(self):\n",
      "        ExtractColumnsTransformer.__init__(self, ACTIVITY_COLUMNS)"
     ],
     "language": "python",
     "metadata": {},
     "outputs": [],
     "prompt_number": 8
    },
    {
     "cell_type": "code",
     "collapsed": false,
     "input": [
      "### Explore models using the activity features only.\n",
      "\n",
      "# The main concern here is weighting classes appropriately, so we do an investigation of different\n",
      "# approaches and see how well the resulting model performs on 5 k-folds of the training data.\n",
      "svc = SVC(class_weight='auto')\n",
      "\n",
      "print 'Equal Class Weights'\n",
      "pipe = Pipeline([('activity',ExtractActivities()), ('scale', StandardScaler()),('svc', SVC())])\n",
      "print_scores(cross_val_score(pipe, all_train_df.values, all_train_labels, cv=kf, scoring=roc_scorer))\n",
      "\n",
      "print '\\nReweighted Classes'\n",
      "wt_pipe = Pipeline([('activity',ExtractActivities()), ('scale', StandardScaler()),('svc', SVC(class_weight='auto'))])\n",
      "print_scores(cross_val_score(wt_pipe, all_train_df.values, all_train_labels, cv=kf, scoring=roc_scorer))\n",
      "\n",
      "print '\\nRebalanced Sample'\n",
      "rebal_pipe = Pipeline([('activity',ExtractActivities()), ('scale', StandardScaler()),('svc',SVC())])\n",
      "kf_over = oversample_kfold(kf, all_train_labels)\n",
      "print_scores(cross_val_score(rebal_pipe, all_train_df.values, all_train_labels, cv=kf_over, scoring=roc_scorer))\n"
     ],
     "language": "python",
     "metadata": {},
     "outputs": [
      {
       "output_type": "stream",
       "stream": "stdout",
       "text": [
        "Equal Class Weights\n",
        "N: 10, Mean: 0.509546, Median: 0.507994, SD: 0.008061"
       ]
      },
      {
       "output_type": "stream",
       "stream": "stdout",
       "text": [
        "\n",
        "\n",
        "Reweighted Classes\n",
        "N: 10, Mean: 0.555346, Median: 0.553994, SD: 0.025812"
       ]
      },
      {
       "output_type": "stream",
       "stream": "stdout",
       "text": [
        "\n",
        "\n",
        "Rebalanced Sample\n",
        "N: 10, Mean: 0.551692, Median: 0.552735, SD: 0.032479"
       ]
      },
      {
       "output_type": "stream",
       "stream": "stdout",
       "text": [
        "\n"
       ]
      }
     ],
     "prompt_number": 18
    },
    {
     "cell_type": "markdown",
     "metadata": {},
     "source": [
      "### Results Table += Activity Features\n",
      "\n",
      "The following table documents our results so far. The mean and median scores come from taking the averge of the ROC-AUC scores from 10 k-folds in the specified model.\n",
      "\n",
      "<table>\n",
      "<tr>\n",
      "<th>Method</th>\n",
      "<th>Mean ROC-AUC</th>\n",
      "<th>Median ROC-AUC</th>\n",
      "<th>Standard Deviation</th>\n",
      "</tr>\n",
      "<tr>\n",
      "<td>Activity Features with Reweighted Classes</td>\n",
      "<td>0.5553</td>\n",
      "<td>0.5540</td>\n",
      "<td>0.0258</td>\n",
      "</tr>\n",
      "</table>\n",
      "\n",
      "<a href=\"#top\">Return to Table of Contents</a>"
     ]
    },
    {
     "cell_type": "markdown",
     "metadata": {},
     "source": [
      "<a id=\"part3\"></a>\n",
      "## 3. Bag of Words"
     ]
    },
    {
     "cell_type": "markdown",
     "metadata": {},
     "source": [
      "###3a. Simple"
     ]
    },
    {
     "cell_type": "code",
     "collapsed": false,
     "input": [
      "### Define quick classes that we can use to isolate the title and body columns in our data.\n",
      "TITLE_COLUMN = name2index(all_train_df, 'request_title')\n",
      "BODY_COLUMN = name2index(all_train_df, 'request_text_edit_aware')\n",
      "\n",
      "class ExtractBody(ExtractColumnsTransformer):\n",
      "    def __init__(self):\n",
      "        ExtractColumnsTransformer.__init__(self, BODY_COLUMN)\n",
      "        \n",
      "class ExtractTitle(ExtractColumnsTransformer):\n",
      "    def __init__(self):\n",
      "        ExtractColumnsTransformer.__init__(self, TITLE_COLUMN)\n",
      "        \n",
      "class ExtractAllText(ExtractColumnsTransformer):\n",
      "    def __init__(self):\n",
      "        ExtractColumnsTransformer.__init__(self, np.array([TITLE_COLUMN, BODY_COLUMN]))\n",
      "\n",
      "\n",
      "class ConcatStringTransformer(TransformerMixin):\n",
      "    def __init__(self):\n",
      "        return None\n",
      "        \n",
      "    def fit(self, *args, **kwargs):\n",
      "        return self\n",
      "        \n",
      "    def transform(self, X):\n",
      "        \n",
      "        if len(X.shape) == 1:\n",
      "            return X\n",
      "        else:\n",
      "            n_feat = X.shape[1]\n",
      "            new_list = []\n",
      "            for i in range(X.shape[0]):\n",
      "                new_list.append('.'.join(X[i,:]))\n",
      "            \n",
      "            return np.array(new_list)\n",
      "\n",
      "    def get_params(self, deep=True):\n",
      "        return {}\n",
      "\n",
      "    def set_params(self, **parameters):\n",
      "        for parameter, value in parameters.items():\n",
      "            self.setattr(parameter, value)\n",
      "        return self\n",
      "\n",
      "# A simple text processing pipeline that we will use in the composite model:\n",
      "text_pipe = Pipeline([('union', ExtractAllText()), ('concat',ConcatStringTransformer())])"
     ],
     "language": "python",
     "metadata": {},
     "outputs": [],
     "prompt_number": 11
    },
    {
     "cell_type": "code",
     "collapsed": false,
     "input": [
      "### Reusable method for quick BOW investigations:\n",
      "def simple_text(do_all=True, do_count=False,do_tfidf=False, do_titles=False, do_bodies=False, do_both=False, lowercase=False, tokenizer=None, stop_words=None):\n",
      "\n",
      "    # Notes\n",
      "    # results slightly better w/ lowercase = False (when unigrams only)\n",
      "    # bigrams added no value on unigrams\n",
      "\n",
      "    tv = TfidfVectorizer(ngram_range=(1,1),lowercase=lowercase, tokenizer=tokenizer, stop_words=stop_words)\n",
      "    cv = CountVectorizer(ngram_range=(1,1),lowercase=lowercase, tokenizer=tokenizer, stop_words=stop_words)\n",
      "    lsvc = LinearSVC(class_weight='auto', C = 2)\n",
      "    \n",
      "    body_cv = Pipeline([('body',ExtractBody()),('cv', cv)])\n",
      "    body_tv = Pipeline([('body',ExtractBody()),('tv', tv)])\n",
      "    \n",
      "    title_cv = Pipeline([('title',ExtractTitle()),('cv', cv)])\n",
      "    title_tv = Pipeline([('title',ExtractTitle()),('tv', tv)])\n",
      "\n",
      "    if do_titles or do_all:\n",
      "        if do_count or do_all:\n",
      "            # Count Vectorizer Titles\n",
      "            print '\\nCount Vectorizer on Titles'\n",
      "            \n",
      "            pipe = Pipeline([('tranform',title_cv),('model',lsvc)])\n",
      "            print_scores(cross_val_score(pipe, all_train_df.values, all_train_labels, cv=kf, scoring=roc_scorer))\n",
      "\n",
      "        if do_tfidf or do_all:\n",
      "            # TFIDF Vectorizer TItles\n",
      "            print '\\nTFIDF Vectorizer on Titles'\n",
      "            \n",
      "            pipe = Pipeline([('tranform',title_tv),('model',lsvc)])\n",
      "            print_scores(cross_val_score(pipe, all_train_df.values, all_train_labels, cv=kf, scoring=roc_scorer))\n",
      "\n",
      "\n",
      "    if do_bodies or do_all:\n",
      "        if do_count or do_all:\n",
      "            # Count Vectorizer Bodies\n",
      "            print '\\nCount Vectorizer on Bodies'\n",
      "            \n",
      "            pipe = Pipeline([('tranform',body_cv),('model',lsvc)])\n",
      "            print_scores(cross_val_score(pipe, all_train_df.values, all_train_labels, cv=kf, scoring=roc_scorer))\n",
      "\n",
      "\n",
      "        if do_tfidf or do_all:\n",
      "            # TFIDF Vectorizer Bodies\n",
      "            print '\\nTFIDF Vectorizer on Bodies'\n",
      "            \n",
      "            pipe = Pipeline([('tranform',body_tv),('model',lsvc)])\n",
      "            print_scores(cross_val_score(pipe, all_train_df.values, all_train_labels, cv=kf, scoring=roc_scorer))\n",
      "\n",
      "        \n",
      "    if do_both or do_all:\n",
      "        if do_count or do_all:\n",
      "\n",
      "            # Count Vectorizer Titles and Bodies\n",
      "            print '\\nCount Vectorizer on Titles and Bodies'\n",
      "            \n",
      "            pipe = Pipeline([\n",
      "                ('features',FeatureUnion([\n",
      "                    ('tranform_title',title_cv),\n",
      "                    ('tranform_body',body_cv)\n",
      "                ])),\n",
      "                ('model',lsvc)])\n",
      "            print_scores(cross_val_score(pipe, all_train_df.values, all_train_labels, cv=kf, scoring=roc_scorer))\n",
      "\n",
      "            \n",
      "        if do_tfidf or do_all:\n",
      "            # TFIDF Vectorizer Titles and Bodies\n",
      "            print '\\nTFIDF Vectorizer on Titles and Bodies'\n",
      "            \n",
      "            pipe = Pipeline([\n",
      "                ('features',FeatureUnion([\n",
      "                    ('tranform_title',title_tv),\n",
      "                    ('tranform_body',body_tv)\n",
      "                ])),\n",
      "                ('model',lsvc)])\n",
      "            print_scores(cross_val_score(pipe, all_train_df.values, all_train_labels, cv=kf, scoring=roc_scorer))\n",
      "            \n",
      "            "
     ],
     "language": "python",
     "metadata": {},
     "outputs": [],
     "prompt_number": 19
    },
    {
     "cell_type": "code",
     "collapsed": false,
     "input": [
      "### Experimentation with different vectorizers and tokenizers\n",
      "\n",
      "print \"Examination of best vectorizer across titles, bodies, or titles + bodies:\"\n",
      "simple_text(do_all = True)\n",
      "\n",
      "print \"==========\"\n",
      "print \"Examination of tfidf vectorizer on titles + bodies with Snowball Stem Tokenizer:\"\n",
      "simple_text(do_all=False, do_both=True, do_tfidf=True, tokenizer=SnowballStemTokenizer())\n",
      "print \"\\nExamination of tfidf vectorizer on titles + bodies with Lemma Tokenizer:\"\n",
      "simple_text(do_all=False, do_both=True, do_tfidf=True, tokenizer=LemmaTokenizer())"
     ],
     "language": "python",
     "metadata": {},
     "outputs": [
      {
       "output_type": "stream",
       "stream": "stdout",
       "text": [
        "Examination of best vectorizer across titles, bodies, or titles + bodies:\n",
        "\n",
        "Count Vectorizer on Titles\n",
        "N: 10, Mean: 0.519474, Median: 0.520740, SD: 0.024555"
       ]
      },
      {
       "output_type": "stream",
       "stream": "stdout",
       "text": [
        "\n",
        "\n",
        "TFIDF Vectorizer on Titles\n",
        "N: 10, Mean: 0.518167, Median: 0.521154, SD: 0.026890"
       ]
      },
      {
       "output_type": "stream",
       "stream": "stdout",
       "text": [
        "\n",
        "\n",
        "Count Vectorizer on Bodies\n",
        "N: 10, Mean: 0.538654, Median: 0.529119, SD: 0.021140"
       ]
      },
      {
       "output_type": "stream",
       "stream": "stdout",
       "text": [
        "\n",
        "\n",
        "TFIDF Vectorizer on Bodies\n",
        "N: 10, Mean: 0.546304, Median: 0.540143, SD: 0.019159"
       ]
      },
      {
       "output_type": "stream",
       "stream": "stdout",
       "text": [
        "\n",
        "\n",
        "Count Vectorizer on Titles and Bodies\n",
        "N: 10, Mean: 0.542050, Median: 0.546315, SD: 0.016378"
       ]
      },
      {
       "output_type": "stream",
       "stream": "stdout",
       "text": [
        "\n",
        "\n",
        "TFIDF Vectorizer on Titles and Bodies\n",
        "N: 10, Mean: 0.534769, Median: 0.534403, SD: 0.028518"
       ]
      },
      {
       "output_type": "stream",
       "stream": "stdout",
       "text": [
        "\n",
        "==========\n",
        "Examination of tfidf vectorizer on titles + bodies with Snowball Stem Tokenizer:\n",
        "\n",
        "TFIDF Vectorizer on Titles and Bodies\n",
        "N: 10, Mean: 0.554693, Median: 0.543610, SD: 0.028433"
       ]
      },
      {
       "output_type": "stream",
       "stream": "stdout",
       "text": [
        "\n",
        "\n",
        "Examination of tfidf vectorizer on titles + bodies with Lemma Tokenizer:\n",
        "\n",
        "TFIDF Vectorizer on Titles and Bodies\n",
        "N: 10, Mean: 0.548386, Median: 0.546751, SD: 0.030142"
       ]
      },
      {
       "output_type": "stream",
       "stream": "stdout",
       "text": [
        "\n"
       ]
      }
     ],
     "prompt_number": 22
    },
    {
     "cell_type": "markdown",
     "metadata": {},
     "source": [
      "### Results Table += Simple Bag of Words\n",
      "\n",
      "The following table documents our results so far. The mean and median scores come from taking the averge of the ROC-AUC scores from 10 k-folds in the specified model.\n",
      "\n",
      "<table>\n",
      "<tr>\n",
      "<th>Method</th>\n",
      "<th>Mean ROC-AUC</th>\n",
      "<th>Median ROC-AUC</th>\n",
      "<th>Standard Deviation</th>\n",
      "</tr>\n",
      "<tr>\n",
      "<td>Activity Features with Reweighted Classes</td>\n",
      "<td>0.5553</td>\n",
      "<td>0.5540</td>\n",
      "<td>0.0258</td>\n",
      "</tr>\n",
      "<tr>\n",
      "<td>Simple BOW, Titles + Bodies, Snowball Stem Tokenizer</td>\n",
      "<td>0.5547</td>\n",
      "<td>0.5436</td>\n",
      "<td>0.0284</td>\n",
      "</tr>\n",
      "</table>\n",
      "\n",
      "<a href=\"#top\">Return to Table of Contents</a>"
     ]
    },
    {
     "cell_type": "markdown",
     "metadata": {},
     "source": [
      "### 3b. L1 Feature Regularization"
     ]
    },
    {
     "cell_type": "code",
     "collapsed": false,
     "input": [
      "### Reusable class to process important terms in BOW\n",
      "class LinearWeightFeatureThreshold(TransformerMixin):\n",
      "    def __init__(\n",
      "        self,\n",
      "        model = LinearSVC(class_weight='auto', loss='squared_hinge', penalty='l1', dual=False),\n",
      "        return_dense = True,\n",
      "        C = 1,\n",
      "        threshold = 0.01,\n",
      "        verbose = 1\n",
      "        ):\n",
      "        self.model = model\n",
      "        self.return_dense = return_dense\n",
      "        self.C = C\n",
      "        self.threshold = threshold\n",
      "        self.verbose = verbose\n",
      "    \n",
      "    def fit(self, X, y):\n",
      "        model = self.model\n",
      "        threshold = self.threshold\n",
      "        verbose = self.verbose\n",
      "        C = self.C\n",
      "        \n",
      "        model.set_params(C=C)\n",
      "        \n",
      "        model.fit(X, y)\n",
      "        coef = model.coef_\n",
      "        sig_coef = (np.abs(coef) > threshold)[0]\n",
      "        n_coef = np.sum(sig_coef)\n",
      "        if verbose > 0:\n",
      "            print 'kept %d/%d features' % (n_coef, coef.shape[1])\n",
      "        \n",
      "        if n_coef == 0:\n",
      "            sig_coef[0] = 1\n",
      "        \n",
      "        self.sig_coef_  = sig_coef\n",
      "        return self\n",
      "    \n",
      "    def transform(self, X, **transform_params):\n",
      "        sig_coef = self.sig_coef_\n",
      "        return_dense = self.return_dense\n",
      "        \n",
      "        X_new = X[:,sig_coef]\n",
      "        \n",
      "        if return_dense and (type(X_new) != type(np.array(1))):\n",
      "            X_new = X_new.toarray()\n",
      "            \n",
      "        return X_new\n",
      "    \n",
      "    def get_params(self, deep=True):\n",
      "        # suppose this estimator has parameters \"alpha\" and \"recursive\"\n",
      "        return {'C':self.C, 'threshold':self.threshold}\n",
      "    \n",
      "    def set_params(self, **parameters):\n",
      "        for parameter, value in parameters.items():\n",
      "            setattr(self, parameter, value)\n",
      "        return self"
     ],
     "language": "python",
     "metadata": {},
     "outputs": [],
     "prompt_number": 21
    },
    {
     "cell_type": "code",
     "collapsed": false,
     "input": [
      "### APPENDIX? - the whole section\n",
      "\n",
      "### Examination of different title + body combination with feature reduction:\n",
      "\n",
      "# Grid search on C put optimal value between 0.1 and 0.3.\n",
      "tv = TfidfVectorizer(ngram_range=(1,1), lowercase=False, tokenizer=SnowballStemTokenizer())\n",
      "l1 = LinearWeightFeatureThreshold(C=0.3)\n",
      "lsvc = LinearSVC(class_weight='auto')\n",
      "\n",
      "pipe_lsvc = Pipeline([('tv',tv), ('features',l1), ('lsvc',lsvc)])\n",
      "\n",
      "title_pipe = Pipeline([('extract', ExtractTitle()),('tv',tv), ('features',l1)])\n",
      "body_pipe = Pipeline([('extract', ExtractBody()),('tv',tv), ('features',l1)])\n",
      "\n",
      "print '\\nL1 Feature Reduction on Titles w/ LinearSVC'\n",
      "\n",
      "pipe = Pipeline([('title', title_pipe), ('lsvc', lsvc)])\n",
      "print_scores(cross_val_score(pipe, all_train_df.values, all_train_labels, cv=kf, scoring=roc_scorer))\n",
      "\n",
      "print '\\nL1 Feature Reduction on Bodies w/ LinearSVC'\n",
      "\n",
      "pipe = Pipeline([('body', body_pipe), ('lsvc', lsvc)])\n",
      "print_scores(cross_val_score(pipe, all_train_df.values, all_train_labels, cv=kf, scoring=roc_scorer))\n",
      "\n",
      "\n",
      "print '\\nL1 Feature Reduction on Both w/ LinearSVC'\n",
      "\n",
      "pipe = Pipeline([\n",
      "    ('features',FeatureUnion([\n",
      "        ('title', title_pipe),\n",
      "        ('body', body_pipe)\n",
      "    ])),\n",
      "    ('model',lsvc)\n",
      "])\n",
      "print_scores(cross_val_score(pipe, all_train_df.values, all_train_labels, cv=kf, scoring=roc_scorer))\n",
      "\n",
      "print '\\nL1 Feature Reduction on Union w/ LinearSVC'\n",
      "\n",
      "title_pipe = Pipeline([('extract', ExtractTitle()),('tv',tv)])\n",
      "body_pipe = Pipeline([('extract', ExtractBody()),('tv',tv)])\n",
      "\n",
      "pipe = Pipeline([\n",
      "    ('features',FeatureUnion([\n",
      "        ('title', title_pipe),\n",
      "        ('body', body_pipe)\n",
      "    ])),\n",
      "    ('l1', l1),\n",
      "    ('model',lsvc)\n",
      "])\n",
      "print_scores(cross_val_score(pipe, all_train_df.values, all_train_labels, cv=kf, scoring=roc_scorer))\n",
      "\n",
      "print '\\nL1 Feature Reduction on Both Individually and on Union w/ LinearSVC'\n",
      "\n",
      "title_pipe = Pipeline([('extract', ExtractTitle()),('tv',tv), ('l1',l1)])\n",
      "body_pipe = Pipeline([('extract', ExtractBody()),('tv',tv), ('l1',l1)])\n",
      "\n",
      "pipe = Pipeline([\n",
      "    ('features',FeatureUnion([\n",
      "        ('title', title_pipe),\n",
      "        ('body', body_pipe)\n",
      "    ])),\n",
      "    ('l1', l1),\n",
      "    ('model',lsvc)\n",
      "])\n",
      "print_scores(cross_val_score(pipe, all_train_df.values, all_train_labels, cv=kf, scoring=roc_scorer))"
     ],
     "language": "python",
     "metadata": {},
     "outputs": [
      {
       "output_type": "stream",
       "stream": "stdout",
       "text": [
        "\n",
        "L1 Feature Reduction on Titles w/ LinearSVC\n",
        "kept 169/3881 features"
       ]
      },
      {
       "output_type": "stream",
       "stream": "stdout",
       "text": [
        "\n",
        "kept 174/3914 features"
       ]
      },
      {
       "output_type": "stream",
       "stream": "stdout",
       "text": [
        "\n",
        "kept 169/3885 features"
       ]
      },
      {
       "output_type": "stream",
       "stream": "stdout",
       "text": [
        "\n",
        "kept 179/3892 features"
       ]
      },
      {
       "output_type": "stream",
       "stream": "stdout",
       "text": [
        "\n",
        "kept 187/3867 features"
       ]
      },
      {
       "output_type": "stream",
       "stream": "stdout",
       "text": [
        "\n",
        "kept 175/3858 features"
       ]
      },
      {
       "output_type": "stream",
       "stream": "stdout",
       "text": [
        "\n",
        "kept 174/3913 features"
       ]
      },
      {
       "output_type": "stream",
       "stream": "stdout",
       "text": [
        "\n",
        "kept 176/3921 features"
       ]
      },
      {
       "output_type": "stream",
       "stream": "stdout",
       "text": [
        "\n",
        "kept 177/3892 features"
       ]
      },
      {
       "output_type": "stream",
       "stream": "stdout",
       "text": [
        "\n",
        "kept 182/3902 features"
       ]
      },
      {
       "output_type": "stream",
       "stream": "stdout",
       "text": [
        "\n",
        "N: 10, Mean: 0.526429, Median: 0.527779, SD: 0.022890"
       ]
      },
      {
       "output_type": "stream",
       "stream": "stdout",
       "text": [
        "\n",
        "\n",
        "L1 Feature Reduction on Bodies w/ LinearSVC\n",
        "kept 148/9938 features"
       ]
      },
      {
       "output_type": "stream",
       "stream": "stdout",
       "text": [
        "\n",
        "kept 164/9873 features"
       ]
      },
      {
       "output_type": "stream",
       "stream": "stdout",
       "text": [
        "\n",
        "kept 150/9853 features"
       ]
      },
      {
       "output_type": "stream",
       "stream": "stdout",
       "text": [
        "\n",
        "kept 153/9866 features"
       ]
      },
      {
       "output_type": "stream",
       "stream": "stdout",
       "text": [
        "\n",
        "kept 149/9900 features"
       ]
      },
      {
       "output_type": "stream",
       "stream": "stdout",
       "text": [
        "\n",
        "kept 139/9894 features"
       ]
      },
      {
       "output_type": "stream",
       "stream": "stdout",
       "text": [
        "\n",
        "kept 156/9918 features"
       ]
      },
      {
       "output_type": "stream",
       "stream": "stdout",
       "text": [
        "\n",
        "kept 152/9913 features"
       ]
      },
      {
       "output_type": "stream",
       "stream": "stdout",
       "text": [
        "\n",
        "kept 147/9946 features"
       ]
      },
      {
       "output_type": "stream",
       "stream": "stdout",
       "text": [
        "\n",
        "kept 154/9813 features"
       ]
      },
      {
       "output_type": "stream",
       "stream": "stdout",
       "text": [
        "\n",
        "N: 10, Mean: 0.573187, Median: 0.575517, SD: 0.024980"
       ]
      },
      {
       "output_type": "stream",
       "stream": "stdout",
       "text": [
        "\n",
        "\n",
        "L1 Feature Reduction on Both w/ LinearSVC\n",
        "kept 169/3881 features"
       ]
      },
      {
       "output_type": "stream",
       "stream": "stdout",
       "text": [
        "\n",
        "kept 148/9938 features"
       ]
      },
      {
       "output_type": "stream",
       "stream": "stdout",
       "text": [
        "\n",
        "kept 174/3914 features"
       ]
      },
      {
       "output_type": "stream",
       "stream": "stdout",
       "text": [
        "\n",
        "kept 164/9873 features"
       ]
      },
      {
       "output_type": "stream",
       "stream": "stdout",
       "text": [
        "\n",
        "kept 169/3885 features"
       ]
      },
      {
       "output_type": "stream",
       "stream": "stdout",
       "text": [
        "\n",
        "kept 150/9853 features"
       ]
      },
      {
       "output_type": "stream",
       "stream": "stdout",
       "text": [
        "\n",
        "kept 179/3892 features"
       ]
      },
      {
       "output_type": "stream",
       "stream": "stdout",
       "text": [
        "\n",
        "kept 153/9866 features"
       ]
      },
      {
       "output_type": "stream",
       "stream": "stdout",
       "text": [
        "\n",
        "kept 187/3867 features"
       ]
      },
      {
       "output_type": "stream",
       "stream": "stdout",
       "text": [
        "\n",
        "kept 149/9900 features"
       ]
      },
      {
       "output_type": "stream",
       "stream": "stdout",
       "text": [
        "\n",
        "kept 175/3858 features"
       ]
      },
      {
       "output_type": "stream",
       "stream": "stdout",
       "text": [
        "\n",
        "kept 139/9894 features"
       ]
      },
      {
       "output_type": "stream",
       "stream": "stdout",
       "text": [
        "\n",
        "kept 174/3913 features"
       ]
      },
      {
       "output_type": "stream",
       "stream": "stdout",
       "text": [
        "\n",
        "kept 156/9918 features"
       ]
      },
      {
       "output_type": "stream",
       "stream": "stdout",
       "text": [
        "\n",
        "kept 176/3921 features"
       ]
      },
      {
       "output_type": "stream",
       "stream": "stdout",
       "text": [
        "\n",
        "kept 152/9913 features"
       ]
      },
      {
       "output_type": "stream",
       "stream": "stdout",
       "text": [
        "\n",
        "kept 177/3892 features"
       ]
      },
      {
       "output_type": "stream",
       "stream": "stdout",
       "text": [
        "\n",
        "kept 147/9946 features"
       ]
      },
      {
       "output_type": "stream",
       "stream": "stdout",
       "text": [
        "\n",
        "kept 182/3902 features"
       ]
      },
      {
       "output_type": "stream",
       "stream": "stdout",
       "text": [
        "\n",
        "kept 154/9813 features"
       ]
      },
      {
       "output_type": "stream",
       "stream": "stdout",
       "text": [
        "\n",
        "N: 10, Mean: 0.581588, Median: 0.585658, SD: 0.031463"
       ]
      },
      {
       "output_type": "stream",
       "stream": "stdout",
       "text": [
        "\n",
        "\n",
        "L1 Feature Reduction on Union w/ LinearSVC\n",
        "kept 267/13819 features"
       ]
      },
      {
       "output_type": "stream",
       "stream": "stdout",
       "text": [
        "\n",
        "kept 289/13787 features"
       ]
      },
      {
       "output_type": "stream",
       "stream": "stdout",
       "text": [
        "\n",
        "kept 275/13738 features"
       ]
      },
      {
       "output_type": "stream",
       "stream": "stdout",
       "text": [
        "\n",
        "kept 288/13758 features"
       ]
      },
      {
       "output_type": "stream",
       "stream": "stdout",
       "text": [
        "\n",
        "kept 278/13767 features"
       ]
      },
      {
       "output_type": "stream",
       "stream": "stdout",
       "text": [
        "\n",
        "kept 263/13752 features"
       ]
      },
      {
       "output_type": "stream",
       "stream": "stdout",
       "text": [
        "\n",
        "kept 279/13831 features"
       ]
      },
      {
       "output_type": "stream",
       "stream": "stdout",
       "text": [
        "\n",
        "kept 296/13834 features"
       ]
      },
      {
       "output_type": "stream",
       "stream": "stdout",
       "text": [
        "\n",
        "kept 278/13838 features"
       ]
      },
      {
       "output_type": "stream",
       "stream": "stdout",
       "text": [
        "\n",
        "kept 289/13715 features"
       ]
      },
      {
       "output_type": "stream",
       "stream": "stdout",
       "text": [
        "\n",
        "N: 10, Mean: 0.573828, Median: 0.574240, SD: 0.025762"
       ]
      },
      {
       "output_type": "stream",
       "stream": "stdout",
       "text": [
        "\n",
        "\n",
        "L1 Feature Reduction on Both Individually and on Union w/ LinearSVC\n",
        "kept 169/3881 features"
       ]
      },
      {
       "output_type": "stream",
       "stream": "stdout",
       "text": [
        "\n",
        "kept 148/9938 features"
       ]
      },
      {
       "output_type": "stream",
       "stream": "stdout",
       "text": [
        "\n",
        "kept 243/317 features"
       ]
      },
      {
       "output_type": "stream",
       "stream": "stdout",
       "text": [
        "\n",
        "kept 174/3914 features"
       ]
      },
      {
       "output_type": "stream",
       "stream": "stdout",
       "text": [
        "\n",
        "kept 164/9873 features"
       ]
      },
      {
       "output_type": "stream",
       "stream": "stdout",
       "text": [
        "\n",
        "kept 264/338 features"
       ]
      },
      {
       "output_type": "stream",
       "stream": "stdout",
       "text": [
        "\n",
        "kept 169/3885 features"
       ]
      },
      {
       "output_type": "stream",
       "stream": "stdout",
       "text": [
        "\n",
        "kept 150/9853 features"
       ]
      },
      {
       "output_type": "stream",
       "stream": "stdout",
       "text": [
        "\n",
        "kept 254/319 features"
       ]
      },
      {
       "output_type": "stream",
       "stream": "stdout",
       "text": [
        "\n",
        "kept 179/3892 features"
       ]
      },
      {
       "output_type": "stream",
       "stream": "stdout",
       "text": [
        "\n",
        "kept 153/9866 features"
       ]
      },
      {
       "output_type": "stream",
       "stream": "stdout",
       "text": [
        "\n",
        "kept 260/332 features"
       ]
      },
      {
       "output_type": "stream",
       "stream": "stdout",
       "text": [
        "\n",
        "kept 187/3867 features"
       ]
      },
      {
       "output_type": "stream",
       "stream": "stdout",
       "text": [
        "\n",
        "kept 149/9900 features"
       ]
      },
      {
       "output_type": "stream",
       "stream": "stdout",
       "text": [
        "\n",
        "kept 255/336 features"
       ]
      },
      {
       "output_type": "stream",
       "stream": "stdout",
       "text": [
        "\n",
        "kept 175/3858 features"
       ]
      },
      {
       "output_type": "stream",
       "stream": "stdout",
       "text": [
        "\n",
        "kept 139/9894 features"
       ]
      },
      {
       "output_type": "stream",
       "stream": "stdout",
       "text": [
        "\n",
        "kept 241/314 features"
       ]
      },
      {
       "output_type": "stream",
       "stream": "stdout",
       "text": [
        "\n",
        "kept 174/3913 features"
       ]
      },
      {
       "output_type": "stream",
       "stream": "stdout",
       "text": [
        "\n",
        "kept 156/9918 features"
       ]
      },
      {
       "output_type": "stream",
       "stream": "stdout",
       "text": [
        "\n",
        "kept 261/330 features"
       ]
      },
      {
       "output_type": "stream",
       "stream": "stdout",
       "text": [
        "\n",
        "kept 176/3921 features"
       ]
      },
      {
       "output_type": "stream",
       "stream": "stdout",
       "text": [
        "\n",
        "kept 152/9913 features"
       ]
      },
      {
       "output_type": "stream",
       "stream": "stdout",
       "text": [
        "\n",
        "kept 260/328 features"
       ]
      },
      {
       "output_type": "stream",
       "stream": "stdout",
       "text": [
        "\n",
        "kept 177/3892 features"
       ]
      },
      {
       "output_type": "stream",
       "stream": "stdout",
       "text": [
        "\n",
        "kept 147/9946 features"
       ]
      },
      {
       "output_type": "stream",
       "stream": "stdout",
       "text": [
        "\n",
        "kept 254/324 features"
       ]
      },
      {
       "output_type": "stream",
       "stream": "stdout",
       "text": [
        "\n",
        "kept 182/3902 features"
       ]
      },
      {
       "output_type": "stream",
       "stream": "stdout",
       "text": [
        "\n",
        "kept 154/9813 features"
       ]
      },
      {
       "output_type": "stream",
       "stream": "stdout",
       "text": [
        "\n",
        "kept 264/336 features"
       ]
      },
      {
       "output_type": "stream",
       "stream": "stdout",
       "text": [
        "\n",
        "N: 10, Mean: 0.575145, Median: 0.578758, SD: 0.031717"
       ]
      },
      {
       "output_type": "stream",
       "stream": "stdout",
       "text": [
        "\n"
       ]
      }
     ],
     "prompt_number": 23
    },
    {
     "cell_type": "code",
     "collapsed": false,
     "input": [
      "### Try GradientBoostingClassifier and ExtraTreesClassifier for the BOW models:\n",
      "\n",
      "l1 = LinearWeightFeatureThreshold()\n",
      "\n",
      "gbc = GradientBoostingClassifier(n_estimators = 20,\n",
      "                           max_depth = 4,\n",
      "                           min_samples_split=10)\n",
      "\n",
      "etc = ExtraTreesClassifier(n_estimators = 1000,\n",
      "                           max_depth = 4,\n",
      "                           min_samples_split=10,\n",
      "                           class_weight='auto')\n",
      "\n",
      "pipe_etc = Pipeline([('extract', ExtractBody()), ('tv',tv), ('features',l1), ('clf',etc)])\n",
      "pipe_gbc = Pipeline([('extract', ExtractBody()), ('tv',tv), ('features',l1), ('clf',gbc)])\n",
      "\n",
      "print '\\nL1 Feature Reduction on Bodies w/ ETC'\n",
      "print_scores(cross_val_score(pipe_etc, all_train_df.values, all_train_labels, cv=kf, scoring=roc_scorer))\n",
      "\n",
      "\n",
      "### APPENDIX? - GBC portion, focus on ETC\n",
      "print '\\nL1 Feature Reduction on Bodies w/ GBC'\n",
      "#need to oversample GBC b/c no class_weight\n",
      "kf_over = oversample_kfold(kf, all_train_labels)\n",
      "\n",
      "print_scores(cross_val_score(pipe_gbc, all_train_df.values, all_train_labels, cv=kf_over, scoring=roc_scorer))"
     ],
     "language": "python",
     "metadata": {},
     "outputs": [
      {
       "output_type": "stream",
       "stream": "stdout",
       "text": [
        "\n",
        "L1 Feature Reduction on Bodies w/ ETC\n",
        "kept 775/9938 features"
       ]
      },
      {
       "output_type": "stream",
       "stream": "stdout",
       "text": [
        "\n",
        "kept 782/9873 features"
       ]
      },
      {
       "output_type": "stream",
       "stream": "stdout",
       "text": [
        "\n",
        "kept 772/9853 features"
       ]
      },
      {
       "output_type": "stream",
       "stream": "stdout",
       "text": [
        "\n",
        "kept 797/9866 features"
       ]
      },
      {
       "output_type": "stream",
       "stream": "stdout",
       "text": [
        "\n",
        "kept 789/9900 features"
       ]
      },
      {
       "output_type": "stream",
       "stream": "stdout",
       "text": [
        "\n",
        "kept 798/9894 features"
       ]
      },
      {
       "output_type": "stream",
       "stream": "stdout",
       "text": [
        "\n",
        "kept 775/9918 features"
       ]
      },
      {
       "output_type": "stream",
       "stream": "stdout",
       "text": [
        "\n",
        "kept 769/9913 features"
       ]
      },
      {
       "output_type": "stream",
       "stream": "stdout",
       "text": [
        "\n",
        "kept 813/9946 features"
       ]
      },
      {
       "output_type": "stream",
       "stream": "stdout",
       "text": [
        "\n",
        "kept 788/9813 features"
       ]
      },
      {
       "output_type": "stream",
       "stream": "stdout",
       "text": [
        "\n",
        "N: 10, Mean: 0.595034, Median: 0.598702, SD: 0.020847"
       ]
      },
      {
       "output_type": "stream",
       "stream": "stdout",
       "text": [
        "\n",
        "\n",
        "L1 Feature Reduction on Bodies w/ GBC\n",
        "kept 1395/9938 features"
       ]
      },
      {
       "output_type": "stream",
       "stream": "stdout",
       "text": [
        "\n",
        "kept 1365/9873 features"
       ]
      },
      {
       "output_type": "stream",
       "stream": "stdout",
       "text": [
        "\n",
        "kept 1358/9853 features"
       ]
      },
      {
       "output_type": "stream",
       "stream": "stdout",
       "text": [
        "\n",
        "kept 1387/9866 features"
       ]
      },
      {
       "output_type": "stream",
       "stream": "stdout",
       "text": [
        "\n",
        "kept 1386/9900 features"
       ]
      },
      {
       "output_type": "stream",
       "stream": "stdout",
       "text": [
        "\n",
        "kept 1405/9894 features"
       ]
      },
      {
       "output_type": "stream",
       "stream": "stdout",
       "text": [
        "\n",
        "kept 1360/9918 features"
       ]
      },
      {
       "output_type": "stream",
       "stream": "stdout",
       "text": [
        "\n",
        "kept 1378/9913 features"
       ]
      },
      {
       "output_type": "stream",
       "stream": "stdout",
       "text": [
        "\n",
        "kept 1385/9946 features"
       ]
      },
      {
       "output_type": "stream",
       "stream": "stdout",
       "text": [
        "\n",
        "kept 1377/9813 features"
       ]
      },
      {
       "output_type": "stream",
       "stream": "stdout",
       "text": [
        "\n",
        "N: 10, Mean: 0.565562, Median: 0.561362, SD: 0.022070"
       ]
      },
      {
       "output_type": "stream",
       "stream": "stdout",
       "text": [
        "\n"
       ]
      }
     ],
     "prompt_number": 24
    },
    {
     "cell_type": "markdown",
     "metadata": {},
     "source": [
      "### Results Table += Bag of Words w/ Feature Reduction\n",
      "\n",
      "The following table documents our results so far. The mean and median scores come from taking the averge of the ROC-AUC scores from 10 k-folds in the specified model.\n",
      "\n",
      "<table>\n",
      "<tr>\n",
      "<th>Method</th>\n",
      "<th>Mean ROC-AUC</th>\n",
      "<th>Median ROC-AUC</th>\n",
      "<th>Standard Deviation</th>\n",
      "</tr>\n",
      "<tr>\n",
      "<td>Activity Features with Reweighted Classes</td>\n",
      "<td>0.5553</td>\n",
      "<td>0.5540</td>\n",
      "<td>0.0258</td>\n",
      "</tr>\n",
      "<tr>\n",
      "<td>Simple BOW, Titles + Bodies, Snowball Stem Tokenizer</td>\n",
      "<td>0.5547</td>\n",
      "<td>0.5436</td>\n",
      "<td>0.0284</td>\n",
      "</tr>\n",
      "<tr>\n",
      "<td>Extra Trees BOW w/ L1 Feature Reduction Bodies</td>\n",
      "<td>0.5950</td>\n",
      "<td>0.5987</td>\n",
      "<td>0.0208</td>\n",
      "</tr>\n",
      "</table>\n",
      "\n",
      "<a href=\"#top\">Return to Table of Contents</a>"
     ]
    },
    {
     "cell_type": "markdown",
     "metadata": {},
     "source": [
      "<a id=\"part4\"></a>\n",
      "## 4. Time Features"
     ]
    },
    {
     "cell_type": "code",
     "collapsed": false,
     "input": [
      "### Reusable class for time features\n",
      "DATE_TIME_COLUMN_DEFAULT = np.where(all_train_df.columns == 'unix_timestamp_of_request')[0][0]\n",
      "\n",
      "class TimeTransformer(TransformerMixin):\n",
      "    \n",
      "    def __init__(self, date_time_column=DATE_TIME_COLUMN_DEFAULT, do_hour=True, do_dow=True, do_month=True):\n",
      "        self.date_time_column = date_time_column\n",
      "        self.do_hour = do_hour\n",
      "        self.do_dow = do_dow\n",
      "        self.do_month = do_month\n",
      "        \n",
      "    def fit(self, X, y, **fit_params):\n",
      "        return self\n",
      "    \n",
      "    def extract_from_date_time_(self, dt, do_hour, do_dow, do_month):\n",
      "        extract = []\n",
      "        if do_hour:\n",
      "            extract.append(dt.hour)\n",
      "            \n",
      "        if do_dow:\n",
      "            extract.append(dt.weekday())\n",
      "            \n",
      "        if do_month:\n",
      "            extract.append(dt.month)\n",
      "            \n",
      "        return extract\n",
      "    \n",
      "    def transform(self, X, **transform_params):\n",
      "        date_time_column = self.date_time_column\n",
      "        do_hour = self.do_hour\n",
      "        do_dow = self.do_dow\n",
      "        do_month = self.do_month\n",
      "        extract_from_date_time = self.extract_from_date_time_\n",
      "        \n",
      "        features = np.array([\n",
      "            extract_from_date_time(dt.datetime.fromtimestamp(timei),\n",
      "                                   do_hour=do_hour,\n",
      "                                   do_dow=do_dow,\n",
      "                                   do_month=do_month) for timei in X[:,date_time_column]\n",
      "        ])\n",
      "        \n",
      "        return features\n",
      "    \n",
      "    def get_params(self, deep=True):\n",
      "        return {}\n",
      "\n",
      "    def set_params(self, **parameters):\n",
      "        for parameter, value in parameters.items():\n",
      "            self.setattr(parameter, value)\n",
      "        return self"
     ],
     "language": "python",
     "metadata": {},
     "outputs": [],
     "prompt_number": 26
    },
    {
     "cell_type": "code",
     "collapsed": false,
     "input": [
      "### Visualizations to inspect time variables\n",
      "# Exploring time features, it looks like requests are not as succesful at late nights /\n",
      "# early mornings or on Mondays / Fridays...\n",
      "# Though that could be because there's more requests on those days.\n",
      "\n",
      "# look at hourly success\n",
      "hour = TimeTransformer(do_dow=False, do_month=False).transform(all_train_df.values).flatten()\n",
      "hour_pos = hour[all_train_labels]\n",
      "hour_neg = hour[np.logical_not(all_train_labels)]\n",
      "pd.Series(hour_pos).hist(bins=24, alpha=0.2, normed=True)\n",
      "pd.Series(hour_neg).hist(bins=24, alpha=0.2, normed=True)"
     ],
     "language": "python",
     "metadata": {},
     "outputs": [
      {
       "metadata": {},
       "output_type": "pyout",
       "prompt_number": 27,
       "text": [
        "<matplotlib.axes.AxesSubplot at 0x11387b210>"
       ]
      },
      {
       "metadata": {},
       "output_type": "display_data",
       "png": "[encoded data removed]",
       "text": [
        "<matplotlib.figure.Figure at 0x11387b9d0>"
       ]
      }
     ],
     "prompt_number": 27
    },
    {
     "cell_type": "code",
     "collapsed": false,
     "input": [
      "# look at day of week success\n",
      "dow = TimeTransformer(do_hour=False, do_month=False).transform(all_train_df.values).flatten()\n",
      "dow_pos = dow[all_train_labels]\n",
      "dow_neg = dow[np.logical_not(all_train_labels)]\n",
      "pd.Series(dow_pos).hist(bins=7, alpha=0.2, normed=True)\n",
      "pd.Series(dow_neg).hist(bins=7, alpha=0.2, normed=True)"
     ],
     "language": "python",
     "metadata": {},
     "outputs": [
      {
       "metadata": {},
       "output_type": "pyout",
       "prompt_number": 28,
       "text": [
        "<matplotlib.axes.AxesSubplot at 0x112397750>"
       ]
      },
      {
       "metadata": {},
       "output_type": "display_data",
       "png": "[encoded data removed]",
       "text": [
        "<matplotlib.figure.Figure at 0x11387be90>"
       ]
      }
     ],
     "prompt_number": 28
    },
    {
     "cell_type": "code",
     "collapsed": false,
     "input": [
      "# look at month success\n",
      "month = TimeTransformer(do_hour=False, do_dow=False).transform(all_train_df.values).flatten()\n",
      "month_pos = month[all_train_labels]\n",
      "month_neg = month[np.logical_not(all_train_labels)]\n",
      "pd.Series(month_pos).hist(bins=12, alpha=0.2, normed=True)\n",
      "pd.Series(month_neg).hist(bins=12, alpha=0.2, normed=True)"
     ],
     "language": "python",
     "metadata": {},
     "outputs": [
      {
       "metadata": {},
       "output_type": "pyout",
       "prompt_number": 29,
       "text": [
        "<matplotlib.axes.AxesSubplot at 0x111d75b10>"
       ]
      },
      {
       "metadata": {},
       "output_type": "display_data",
       "png": "[encoded data removed]",
       "text": [
        "<matplotlib.figure.Figure at 0x111d85690>"
       ]
      }
     ],
     "prompt_number": 29
    },
    {
     "cell_type": "code",
     "collapsed": false,
     "input": [
      "### Try a couple classifiers for time features to find a good choice.\n",
      "# Turns out time features don't perform well by themselves.\n",
      "\n",
      "svc = Pipeline([('scaler',StandardScaler()), ('svc',SVC(class_weight='auto'))])\n",
      "\n",
      "print '\\nSVC'\n",
      "svc_pipe = Pipeline([\n",
      "    ('time',TimeTransformer()),\n",
      "    ('model',svc)\n",
      "    ])\n",
      "print_scores(cross_val_score(svc_pipe, all_train_df.values, all_train_labels, cv=kf, scoring=roc_scorer))\n",
      "\n",
      "\n",
      "print '\\nExtra Tree Ensemble'\n",
      "etc = ExtraTreesClassifier(n_estimators=1000,\n",
      "                           max_depth = 5,\n",
      "                           min_samples_split=10,\n",
      "                           class_weight='auto')\n",
      "\n",
      "etc_pipe = Pipeline([\n",
      "    ('time',TimeTransformer()),\n",
      "    ('model',etc)\n",
      "    ])\n",
      "\n",
      "print_scores(cross_val_score(etc_pipe, all_train_df.values, all_train_labels, cv=kf, scoring=roc_scorer))"
     ],
     "language": "python",
     "metadata": {},
     "outputs": [
      {
       "output_type": "stream",
       "stream": "stdout",
       "text": [
        "\n",
        "SVC\n",
        "N: 10, Mean: 0.519620, Median: 0.515254, SD: 0.015947"
       ]
      },
      {
       "output_type": "stream",
       "stream": "stdout",
       "text": [
        "\n",
        "\n",
        "Extra Tree Ensemble\n",
        "N: 10, Mean: 0.525189, Median: 0.522283, SD: 0.022853"
       ]
      },
      {
       "output_type": "stream",
       "stream": "stdout",
       "text": [
        "\n"
       ]
      }
     ],
     "prompt_number": 31
    },
    {
     "cell_type": "markdown",
     "metadata": {},
     "source": [
      "### Results Table += Time Features\n",
      "\n",
      "The following table documents our results so far. The mean and median scores come from taking the averge of the ROC-AUC scores from 5 k-folds in the specified model.\n",
      "\n",
      "<table>\n",
      "<tr>\n",
      "<th>Method</th>\n",
      "<th>Mean ROC-AUC</th>\n",
      "<th>Median ROC-AUC</th>\n",
      "<th>Standard Deviation</th>\n",
      "</tr>\n",
      "<tr>\n",
      "<td>Activity Features with Reweighted Classes</td>\n",
      "<td>0.5553</td>\n",
      "<td>0.5540</td>\n",
      "<td>0.0258</td>\n",
      "</tr>\n",
      "<tr>\n",
      "<td>Simple BOW, Titles + Bodies, Snowball Stem Tokenizer</td>\n",
      "<td>0.5547</td>\n",
      "<td>0.5436</td>\n",
      "<td>0.0284</td>\n",
      "</tr>\n",
      "<tr>\n",
      "<td>Extra Trees BOW w/ L1 Feature Reduction Bodies</td>\n",
      "<td>0.5950</td>\n",
      "<td>0.5987</td>\n",
      "<td>0.0208</td>\n",
      "</tr>\n",
      "<tr>\n",
      "<td>Extra Trees on Time Features</td>\n",
      "<td>0.5252</td>\n",
      "<td>0.5223</td>\n",
      "<td>0.0229</td>\n",
      "</tr>\n",
      "</table>\n",
      "\n",
      "<a href=\"#top\">Return to Table of Contents</a>"
     ]
    },
    {
     "cell_type": "markdown",
     "metadata": {},
     "source": [
      "<a id=\"part5\"></a>\n",
      "## 5. Interesting Words & Category Tags"
     ]
    },
    {
     "cell_type": "code",
     "collapsed": false,
     "input": [
      "### Reusable class for interesting words\n",
      "TITLE_COLUMN = np.where(all_train_df.columns == 'request_title')[0][0]\n",
      "BODY_COLUMN = np.where(all_train_df.columns == 'request_text_edit_aware')[0][0]\n",
      "\n",
      "# Useful method for parsing individual words:\n",
      "def lenArray(text, no_zero = True):\n",
      "    lens = np.array([[float(len(x.encode('utf-8'))) for x in text]]).T\n",
      "    lens[lens==0]=1\n",
      "    return lens\n",
      "\n",
      "class InterestingWordsTransformer(TransformerMixin):\n",
      "    def __init__(self, title_col = TITLE_COLUMN, body_col=BODY_COLUMN, do_title=True, do_body=True, do_tags=True, do_words=True):\n",
      "        self.do_title = do_title\n",
      "        self.do_body = do_body\n",
      "        self.do_tags = do_tags\n",
      "        self.do_words = do_words\n",
      "        self.title_col = title_col\n",
      "        self.body_col = body_col\n",
      "        \n",
      "        self.keywords = {\n",
      "            'sad_food': ['hungry', 'starving', 'no food', 'grocer', 'eaten', 'hunger', 'ramen', 'empty', 'fridge', 'refrig'],\n",
      "            'money': ['broke', 'paid', 'money', 'unemployed', 'lost', 'job', 'bill', 'wage', 'work', 'payday', 'paycheck', 'funds', 'cash', 'bank', 'laid off', 'poor', 'payroll'],\n",
      "            'sad': ['worst', 'awful', 'sick', 'problem', 'catch a break', 'cheer', 'hospital', 'bad', 'shitty', 'stress', 'luck', ':(', 'rough', 'tough'],\n",
      "            'military': ['military', 'veteran', 'soldier', 'army', 'navy', 'marine', 'air force', 'iraq', 'afghanis'],\n",
      "            'happy': ['celebrate', 'birthday', 'party', 'new year', 'bday', 'engage', 'annivers'],\n",
      "            'nice': ['please', 'help', 'thank you', ':)', ':D', ':-)', ';)', 'thank', 'apprec'],\n",
      "            'honest': ['sob story', 'honest', 'just want', 'just because'],\n",
      "            'parent': ['family', 'kid', 'parent', 'mom', 'mother', 'dad', 'father', 'baby', 'boy', 'girl'],\n",
      "            'relationship': ['husband', 'wife', 'girlfriend', 'boyfriend', 'fianc'],\n",
      "            'student': ['study', 'test', 'final', 'midterm', 'student'],\n",
      "            'payback': ['pay it forward', 'pay the pizza back', 'pay it back/forward', 'pay it back', 'pay back']\n",
      "        }\n",
      "    \n",
      "    def find_tag_words(self, keywords, text):\n",
      "        word_dict = {}\n",
      "        tag_dict = {}\n",
      "\n",
      "        for tag, words in keywords.iteritems():\n",
      "\n",
      "            tag_count = None\n",
      "\n",
      "            for word in words:\n",
      "                has_word = np.array([(1 if word in t else 0) for t in text])\n",
      "                word_dict[word] = has_word\n",
      "\n",
      "                if tag_count is None:\n",
      "                    tag_count = has_word\n",
      "                else:\n",
      "                    tag_count = tag_count +  has_word\n",
      "\n",
      "            tag_dict[tag] = tag_count\n",
      "\n",
      "        return (tag_dict, word_dict)\n",
      "    \n",
      "    # manually create keywords with categories\n",
      "    \n",
      "    def transform(self, X, **transform_params):\n",
      "        do_title = self.do_title\n",
      "        do_tags = self.do_tags\n",
      "        do_words = self.do_words\n",
      "        do_body = self.do_body\n",
      "        keywords = self.keywords\n",
      "        find_tag_words = self.find_tag_words\n",
      "        body_col = self.body_col\n",
      "        title_col = self.title_col\n",
      "        \n",
      "        features = []\n",
      "        feature_names = []\n",
      "\n",
      "        # find keywords and tags\n",
      "        if do_title:\n",
      "            title_unicode = np.array([x.lower() for x in X[:,title_col]])\n",
      "            title_tag_dict, title_word_dict = find_tag_words(keywords, title_unicode)\n",
      "            \n",
      "            lens = lenArray(X[:,body_col])\n",
      "            \n",
      "            if do_tags:\n",
      "                features.append(pd.DataFrame(title_tag_dict).values/lens)\n",
      "                feature_names.append('title_tags')\n",
      "            if do_words:\n",
      "                features.append(pd.DataFrame(title_word_dict).values/lens)\n",
      "                feature_names.append('title_words')\n",
      "\n",
      "        if do_body:\n",
      "            body_unicode = np.array([x.lower() for x in X[:,body_col]])\n",
      "            body_tag_dict, body_word_dict = find_tag_words(keywords, body_unicode)\n",
      "\n",
      "            lens = lenArray(X[:,body_col])\n",
      "            #print body_len\n",
      "            \n",
      "            if do_tags:\n",
      "                features.append(pd.DataFrame(body_tag_dict).values/lens)\n",
      "                feature_names.append('body_tags')\n",
      "\n",
      "            if do_words:\n",
      "                features.append(pd.DataFrame(body_word_dict).values/lens)\n",
      "                feature_names.append('body_words')\n",
      "\n",
      "        return np.hstack(tuple(features))\n",
      "    \n",
      "    def fit(self, X, y, **fit_params):\n",
      "        #do nothing\n",
      "        return self\n",
      "    \n",
      "    def get_params(self, deep=True):\n",
      "        return {'do_words': self.do_words, 'do_tags':self.do_tags, 'do_body':self.do_body, 'do_title':self.do_title}\n",
      "\n",
      "    def set_params(self, **parameters):\n",
      "        for parameter, value in parameters.items():\n",
      "            self.setattr(parameter, value)\n",
      "        return self"
     ],
     "language": "python",
     "metadata": {},
     "outputs": [],
     "prompt_number": 34
    },
    {
     "cell_type": "code",
     "collapsed": false,
     "input": [
      "### Explore different models focusing on interesting words in tags and text:\n",
      "\n",
      "etc = ExtraTreesClassifier(n_estimators = 1000,\n",
      "                           max_depth = 4,\n",
      "                           min_samples_split=10,\n",
      "                           class_weight='auto')\n",
      "\n",
      "etc_oob = ExtraTreesClassifier(n_estimators = 1000,\n",
      "                           max_depth = 4,\n",
      "                           min_samples_split=10,\n",
      "                           oob_score = True,\n",
      "                           bootstrap=True,\n",
      "                           class_weight='auto')\n",
      "\n",
      "gbc = GradientBoostingClassifier(n_estimators = 20,\n",
      "                           max_depth = 4,\n",
      "                           min_samples_split=10)\n",
      "\n",
      "\n",
      "lsvc = Pipeline([('scale', StandardScaler()), ('clf', LinearSVC(class_weight='auto'))])\n",
      "\n",
      "lsvc_pca = Pipeline([('scale', StandardScaler()),('pca', RandomizedPCA(n_components=3)), ('clf', LinearSVC(class_weight='auto'))])\n",
      "\n",
      "lsvc_l1 = Pipeline([('scale', StandardScaler()),('l1', LinearWeightFeatureThreshold(C=0.05)), ('clf', LinearSVC(class_weight='auto'))])\n",
      "\n",
      "### APPENDIX?? - remove Linear SVC, both with and w/o PCA, since perf is bad.\n",
      "\n",
      "models = {'Extra Trees':etc, 'Gradient Boosting':gbc, 'Linear SVC':lsvc, 'Linear SVC PCA 3':lsvc_pca}\n",
      "kf_over = oversample_kfold(kf, all_train_labels)\n",
      "\n",
      "print '\\n##############'\n",
      "print 'Body & Title Tags'\n",
      "trans = InterestingWordsTransformer(do_words=False)\n",
      "X_tag = trans.transform(all_train_df.values)\n",
      "\n",
      "for name, model in models.iteritems():\n",
      "    print '\\n%s' % name\n",
      "    kfi = kf_over if (name=='Gradient Boosting') else kf\n",
      "    pipe = Pipeline([('trans',trans),('model',model)])\n",
      "    print_scores(cross_val_score(pipe, all_train_df.values, all_train_labels, cv=kfi, scoring=roc_scorer))\n",
      "    \n",
      "    test_kfolds(X_tag, all_train_labels, kf, model, balance = (name=='Gradient Boosting'))\n",
      "\n",
      "\n",
      "print '\\n##############'\n",
      "print 'Body & Title Words'\n",
      "trans = InterestingWordsTransformer(do_tags=False)\n",
      "X_tag = trans.transform(all_train_df.values)\n",
      "\n",
      "for name, model in models.iteritems():\n",
      "    print '\\n%s' % name\n",
      "    kfi = kf_over if (name=='Gradient Boosting') else kf\n",
      "    pipe = Pipeline([('trans',trans),('model',model)])\n",
      "    print_scores(cross_val_score(pipe, all_train_df.values, all_train_labels, cv=kfi, scoring=roc_scorer))\n",
      "\n",
      "    test_kfolds(X_tag, all_train_labels, kf, model, balance = (name=='Gradient Boosting'))\n",
      "\n",
      "\n",
      "print '\\n##############'\n",
      "print 'Body & Title Words & Tags'\n",
      "trans = InterestingWordsTransformer()\n",
      "X_tag = trans.transform(all_train_df.values)\n",
      "\n",
      "for name, model in models.iteritems():\n",
      "    print '\\n%s' % name\n",
      "    kfi = kf_over if (name=='Gradient Boosting') else kf\n",
      "    pipe = Pipeline([('trans',trans),('model',model)])\n",
      "    print_scores(cross_val_score(pipe, all_train_df.values, all_train_labels, cv=kfi, scoring=roc_scorer))\n",
      "\n",
      "    test_kfolds(X_tag, all_train_labels, kf, model, balance = (name=='Gradient Boosting'))"
     ],
     "language": "python",
     "metadata": {},
     "outputs": [
      {
       "output_type": "stream",
       "stream": "stdout",
       "text": [
        "\n",
        "##############\n",
        "Body & Title Tags\n",
        "\n",
        "Linear SVC PCA 3"
       ]
      },
      {
       "output_type": "stream",
       "stream": "stdout",
       "text": [
        "\n",
        "N: 10, Mean: 0.520237, Median: 0.521332, SD: 0.029144"
       ]
      },
      {
       "output_type": "stream",
       "stream": "stdout",
       "text": [
        "\n",
        "N: 10, Mean: 0.512548, Median: 0.519883, SD: 0.026329"
       ]
      },
      {
       "output_type": "stream",
       "stream": "stdout",
       "text": [
        "\n",
        "\n",
        "Linear SVC\n",
        "N: 10, Mean: 0.496333, Median: 0.497730, SD: 0.027104"
       ]
      },
      {
       "output_type": "stream",
       "stream": "stdout",
       "text": [
        "\n",
        "N: 10, Mean: 0.498539, Median: 0.496973, SD: 0.028433"
       ]
      },
      {
       "output_type": "stream",
       "stream": "stdout",
       "text": [
        "\n",
        "\n",
        "Gradient Boosting\n",
        "N: 10, Mean: 0.559693, Median: 0.571710, SD: 0.026278"
       ]
      },
      {
       "output_type": "stream",
       "stream": "stdout",
       "text": [
        "\n",
        "N: 10, Mean: 0.560550, Median: 0.563709, SD: 0.018093"
       ]
      },
      {
       "output_type": "stream",
       "stream": "stdout",
       "text": [
        "\n",
        "\n",
        "Extra Trees\n",
        "N: 10, Mean: 0.551301, Median: 0.556353, SD: 0.021962"
       ]
      },
      {
       "output_type": "stream",
       "stream": "stdout",
       "text": [
        "\n",
        "N: 10, Mean: 0.554511, Median: 0.560185, SD: 0.023092"
       ]
      },
      {
       "output_type": "stream",
       "stream": "stdout",
       "text": [
        "\n",
        "\n",
        "##############\n",
        "Body & Title Words\n",
        "\n",
        "Linear SVC PCA 3"
       ]
      },
      {
       "output_type": "stream",
       "stream": "stdout",
       "text": [
        "\n",
        "N: 10, Mean: 0.489260, Median: 0.496667, SD: 0.029718"
       ]
      },
      {
       "output_type": "stream",
       "stream": "stdout",
       "text": [
        "\n",
        "N: 10, Mean: 0.515717, Median: 0.508281, SD: 0.021669"
       ]
      },
      {
       "output_type": "stream",
       "stream": "stdout",
       "text": [
        "\n",
        "\n",
        "Linear SVC\n",
        "N: 10, Mean: 0.509117, Median: 0.500618, SD: 0.028559"
       ]
      },
      {
       "output_type": "stream",
       "stream": "stdout",
       "text": [
        "\n",
        "N: 10, Mean: 0.510415, Median: 0.507585, SD: 0.027677"
       ]
      },
      {
       "output_type": "stream",
       "stream": "stdout",
       "text": [
        "\n",
        "\n",
        "Gradient Boosting\n",
        "N: 10, Mean: 0.547426, Median: 0.541228, SD: 0.020665"
       ]
      },
      {
       "output_type": "stream",
       "stream": "stdout",
       "text": [
        "\n",
        "N: 10, Mean: 0.548792, Median: 0.547379, SD: 0.025514"
       ]
      },
      {
       "output_type": "stream",
       "stream": "stdout",
       "text": [
        "\n",
        "\n",
        "Extra Trees\n",
        "N: 10, Mean: 0.563883, Median: 0.568168, SD: 0.022157"
       ]
      },
      {
       "output_type": "stream",
       "stream": "stdout",
       "text": [
        "\n",
        "N: 10, Mean: 0.559496, Median: 0.560109, SD: 0.022653"
       ]
      },
      {
       "output_type": "stream",
       "stream": "stdout",
       "text": [
        "\n",
        "\n",
        "##############\n",
        "Body & Title Words & Tags\n",
        "\n",
        "Linear SVC PCA 3"
       ]
      },
      {
       "output_type": "stream",
       "stream": "stdout",
       "text": [
        "\n",
        "N: 10, Mean: 0.475488, Median: 0.476664, SD: 0.030382"
       ]
      },
      {
       "output_type": "stream",
       "stream": "stdout",
       "text": [
        "\n",
        "N: 10, Mean: 0.497049, Median: 0.500655, SD: 0.031975"
       ]
      },
      {
       "output_type": "stream",
       "stream": "stdout",
       "text": [
        "\n",
        "\n",
        "Linear SVC\n",
        "N: 10, Mean: 0.511267, Median: 0.503705, SD: 0.031924"
       ]
      },
      {
       "output_type": "stream",
       "stream": "stdout",
       "text": [
        "\n",
        "N: 10, Mean: 0.509466, Median: 0.498373, SD: 0.031066"
       ]
      },
      {
       "output_type": "stream",
       "stream": "stdout",
       "text": [
        "\n",
        "\n",
        "Gradient Boosting\n",
        "N: 10, Mean: 0.551670, Median: 0.557716, SD: 0.030437"
       ]
      },
      {
       "output_type": "stream",
       "stream": "stdout",
       "text": [
        "\n",
        "N: 10, Mean: 0.557066, Median: 0.561948, SD: 0.022624"
       ]
      },
      {
       "output_type": "stream",
       "stream": "stdout",
       "text": [
        "\n",
        "\n",
        "Extra Trees\n",
        "N: 10, Mean: 0.560490, Median: 0.569074, SD: 0.020859"
       ]
      },
      {
       "output_type": "stream",
       "stream": "stdout",
       "text": [
        "\n",
        "N: 10, Mean: 0.561783, Median: 0.566197, SD: 0.022942"
       ]
      },
      {
       "output_type": "stream",
       "stream": "stdout",
       "text": [
        "\n"
       ]
      }
     ],
     "prompt_number": 35
    },
    {
     "cell_type": "markdown",
     "metadata": {},
     "source": [
      "### Results Table += Interesting Words\n",
      "\n",
      "The following table documents our results so far. The mean and median scores come from taking the averge of the ROC-AUC scores from 5 k-folds in the specified model.\n",
      "\n",
      "<table>\n",
      "<tr>\n",
      "<th>Method</th>\n",
      "<th>Mean ROC-AUC</th>\n",
      "<th>Median ROC-AUC</th>\n",
      "<th>Standard Deviation</th>\n",
      "</tr>\n",
      "<tr>\n",
      "<td>Activity Features with Reweighted Classes</td>\n",
      "<td>0.5553</td>\n",
      "<td>0.5540</td>\n",
      "<td>0.0258</td>\n",
      "</tr>\n",
      "<tr>\n",
      "<td>Simple BOW, Titles + Bodies, Snowball Stem Tokenizer</td>\n",
      "<td>0.5547</td>\n",
      "<td>0.5436</td>\n",
      "<td>0.0284</td>\n",
      "</tr>\n",
      "<tr>\n",
      "<td>Extra Trees BOW w/ L1 Feature Reduction Bodies</td>\n",
      "<td>0.5950</td>\n",
      "<td>0.5987</td>\n",
      "<td>0.0208</td>\n",
      "</tr>\n",
      "<tr>\n",
      "<td>Extra Trees on Time Features</td>\n",
      "<td>0.5252</td>\n",
      "<td>0.5223</td>\n",
      "<td>0.0229</td>\n",
      "</tr>\n",
      "<tr>\n",
      "<td>Extra Trees on Interesting Words in Body</td>\n",
      "<td>0.5639</td>\n",
      "<td>0.5682</td>\n",
      "<td>0.0222</td>\n",
      "</tr>\n",
      "</table>\n",
      "\n",
      "<a href=\"#top\">Return to Table of Contents</a>"
     ]
    },
    {
     "cell_type": "markdown",
     "metadata": {},
     "source": [
      "<a id=\"part6\"></a>\n",
      "## 6. Spelling Mistakes"
     ]
    },
    {
     "cell_type": "code",
     "collapsed": false,
     "input": [
      "### NOT SURE WHERE THIS IS IN OUR PRIOR WORK"
     ],
     "language": "python",
     "metadata": {},
     "outputs": []
    },
    {
     "cell_type": "markdown",
     "metadata": {},
     "source": [
      "### Results Table += Spelling Mistakes\n",
      "\n",
      "The following table documents our results so far. The mean and median scores come from taking the averge of the ROC-AUC scores from 5 k-folds in the specified model.\n",
      "\n",
      "<table>\n",
      "<tr>\n",
      "<th>Method</th>\n",
      "<th>Mean ROC-AUC</th>\n",
      "<th>Median ROC-AUC</th>\n",
      "<th>Standard Deviation</th>\n",
      "</tr>\n",
      "<tr>\n",
      "<td>Activity Features with Reweighted Classes</td>\n",
      "<td>0.5553</td>\n",
      "<td>0.5540</td>\n",
      "<td>0.0258</td>\n",
      "</tr>\n",
      "<tr>\n",
      "<td>Simple BOW, Titles + Bodies, Snowball Stem Tokenizer</td>\n",
      "<td>0.5547</td>\n",
      "<td>0.5436</td>\n",
      "<td>0.0284</td>\n",
      "</tr>\n",
      "<tr>\n",
      "<td>Extra Trees BOW w/ L1 Feature Reduction Bodies</td>\n",
      "<td>0.5950</td>\n",
      "<td>0.5987</td>\n",
      "<td>0.0208</td>\n",
      "</tr>\n",
      "<tr>\n",
      "<td>Extra Trees on Time Features</td>\n",
      "<td>0.5252</td>\n",
      "<td>0.5223</td>\n",
      "<td>0.0229</td>\n",
      "</tr>\n",
      "<tr>\n",
      "<td>Extra Trees on Interesting Words in Body</td>\n",
      "<td>0.5639</td>\n",
      "<td>0.5682</td>\n",
      "<td>0.0222</td>\n",
      "</tr>\n",
      "<tr>\n",
      "<td>[Spelling Analysis here]</td>\n",
      "<td>1</td>\n",
      "<td>1</td>\n",
      "<td>1</td>\n",
      "</tr>\n",
      "</table>\n",
      "\n",
      "<a href=\"#top\">Return to Table of Contents</a>"
     ]
    },
    {
     "cell_type": "markdown",
     "metadata": {},
     "source": [
      "<a id=\"part7\"></a>\n",
      "## 7. Text Summary Features: Text Length"
     ]
    },
    {
     "cell_type": "code",
     "collapsed": false,
     "input": [
      "### Reusable class for text length:\n",
      "\n",
      "TITLE_COLUMN = np.where(all_train_df.columns == 'request_title')[0][0]\n",
      "BODY_COLUMN = np.where(all_train_df.columns == 'request_text_edit_aware')[0][0]\n",
      "\n",
      "class TextSummaryTransformer(TransformerMixin):\n",
      "    def __init__(self, title_col=TITLE_COLUMN, body_col=BODY_COLUMN, do_title=True, do_body=True):\n",
      "        self.do_title = do_title\n",
      "        self.do_body = do_body\n",
      "        self.title_col = title_col\n",
      "        self.body_col = body_col\n",
      "\n",
      "    def transform(self, X, **transform_params):\n",
      "        do_title = self.do_title\n",
      "        do_body = self.do_body\n",
      "        title_col = self.title_col\n",
      "        body_col = self.body_col\n",
      "        \n",
      "        features = []\n",
      "        \n",
      "        if do_title:\n",
      "            title_unicode = X[:, title_col]\n",
      "            title_len = np.array([[len(x.encode('utf-8')) for x in title_unicode]]).T\n",
      "            features.append(title_len)\n",
      "            \n",
      "        if do_body:\n",
      "            body_unicode = X[:, body_col]\n",
      "            body_len = np.array([[len(x.encode('utf-8')) for x in body_unicode]]).T\n",
      "            features.append(body_len)\n",
      "        \n",
      "        return np.hstack(tuple(features))\n",
      "        \n",
      "    def fit(self, X, y, **fit_params):\n",
      "        #do nothing\n",
      "        return self \n",
      "    \n",
      "    def get_params(self, deep=True):\n",
      "        # suppose this estimator has parameters \"alpha\" and \"recursive\"\n",
      "        return {}\n",
      "\n",
      "    def set_params(self, **parameters):\n",
      "        for parameter, value in parameters.items():\n",
      "            self.setattr(parameter, value)\n",
      "        return self\n",
      "    "
     ],
     "language": "python",
     "metadata": {},
     "outputs": [],
     "prompt_number": 36
    },
    {
     "cell_type": "code",
     "collapsed": false,
     "input": [
      "etc = ExtraTreesClassifier(n_estimators = 1000,\n",
      "                           max_depth = 5,\n",
      "                           min_samples_split=10,\n",
      "                           class_weight='auto')\n",
      "\n",
      "gbc = GradientBoostingClassifier(n_estimators = 20,\n",
      "                           max_depth = 5,\n",
      "                           min_samples_split=10)\n",
      "\n",
      "svc = SVC(class_weight='auto')\n",
      "\n",
      "### APPENDIX? - SVC again has a low score, could cut it.\n",
      "print '\\nSVC on title and body length'\n",
      "pipe = Pipeline([('text_summary', TextSummaryTransformer()), ('svc', svc)])\n",
      "print_scores(cross_val_score(pipe, all_train_df.values, all_train_labels, cv=kf, scoring=roc_scorer))\n",
      "\n",
      "print '\\nExtra Trees Classifier on title and body length'\n",
      "pipe = Pipeline([('text_summary', TextSummaryTransformer()), ('etc', etc)])\n",
      "print_scores(cross_val_score(pipe, all_train_df.values, all_train_labels, cv=kf, scoring=roc_scorer))\n",
      "\n",
      "print '\\nGradient Boosting on title and body length'\n",
      "pipe = Pipeline([('text_summary', TextSummaryTransformer()), ('gbc', gbc)])\n",
      "kf_over = oversample_kfold(kf, all_train_labels)\n",
      "print_scores(cross_val_score(pipe, all_train_df.values, all_train_labels, cv=kf_over, scoring=roc_scorer))"
     ],
     "language": "python",
     "metadata": {},
     "outputs": [
      {
       "output_type": "stream",
       "stream": "stdout",
       "text": [
        "\n",
        "SVC on title and body length\n",
        "N: 10, Mean: 0.487884, Median: 0.484572, SD: 0.013913"
       ]
      },
      {
       "output_type": "stream",
       "stream": "stdout",
       "text": [
        "\n",
        "\n",
        "Extra Trees Classifier on title and body length\n",
        "N: 10, Mean: 0.571502, Median: 0.572088, SD: 0.026467"
       ]
      },
      {
       "output_type": "stream",
       "stream": "stdout",
       "text": [
        "\n",
        "\n",
        "Gradient Boosting on title and body length\n",
        "N: 10, Mean: 0.568278, Median: 0.565342, SD: 0.019419"
       ]
      },
      {
       "output_type": "stream",
       "stream": "stdout",
       "text": [
        "\n"
       ]
      }
     ],
     "prompt_number": 37
    },
    {
     "cell_type": "markdown",
     "metadata": {},
     "source": [
      "### Results Table += Text Summary Features\n",
      "\n",
      "The following table documents our results so far. The mean and median scores come from taking the averge of the ROC-AUC scores from 5 k-folds in the specified model.\n",
      "\n",
      "<table>\n",
      "<tr>\n",
      "<th>Method</th>\n",
      "<th>Mean ROC-AUC</th>\n",
      "<th>Median ROC-AUC</th>\n",
      "<th>Standard Deviation</th>\n",
      "</tr>\n",
      "<tr>\n",
      "<td>Activity Features with Reweighted Classes</td>\n",
      "<td>0.5553</td>\n",
      "<td>0.5540</td>\n",
      "<td>0.0258</td>\n",
      "</tr>\n",
      "<tr>\n",
      "<td>Simple BOW, Titles + Bodies, Snowball Stem Tokenizer</td>\n",
      "<td>0.5547</td>\n",
      "<td>0.5436</td>\n",
      "<td>0.0284</td>\n",
      "</tr>\n",
      "<tr>\n",
      "<td>Extra Trees BOW w/ L1 Feature Reduction Bodies</td>\n",
      "<td>0.5950</td>\n",
      "<td>0.5987</td>\n",
      "<td>0.0208</td>\n",
      "</tr>\n",
      "<tr>\n",
      "<td>Extra Trees on Time Features</td>\n",
      "<td>0.5252</td>\n",
      "<td>0.5223</td>\n",
      "<td>0.0229</td>\n",
      "</tr>\n",
      "<tr>\n",
      "<td>Extra Trees on Interesting Words in Body</td>\n",
      "<td>0.5639</td>\n",
      "<td>0.5682</td>\n",
      "<td>0.0222</td>\n",
      "</tr>\n",
      "<tr>\n",
      "<td>[Spelling Analysis here]</td>\n",
      "<td>1</td>\n",
      "<td>1</td>\n",
      "<td>1</td>\n",
      "</tr>\n",
      "<tr>\n",
      "<td>Extra Trees on Title and Body Length</td>\n",
      "<td>0.5715</td>\n",
      "<td>0.5721</td>\n",
      "<td>0.0265</td>\n",
      "</tr>\n",
      "</table>\n",
      "\n",
      "<a href=\"#top\">Return to Table of Contents</a>"
     ]
    },
    {
     "cell_type": "markdown",
     "metadata": {},
     "source": [
      "<a id=\"part8\"></a>\n",
      "## 8. Location Features"
     ]
    },
    {
     "cell_type": "code",
     "collapsed": false,
     "input": [
      "### Method for pulling out geographies from RAOP entries\n",
      "\n",
      "MANUAL_GEOS = [\n",
      "{'loc':'nyc', 'g1':'ny', 'g2':'us'},\n",
      "{'loc':'sf', 'g1':'ca', 'g2':'us'},\n",
      "{'loc':'uk', 'g1':'uk', 'g2':'non_us'},\n",
      "{'loc':'australia', 'g1':'aus', 'g2':'non_us'},\n",
      "{'loc':'canada', 'g1':'can', 'g2':'non_us'},\n",
      "{'loc':'ottawa', 'g1':'can', 'g2':'non_us'},\n",
      "{'loc':'toronto', 'g1':'can', 'g2':'non_us'},\n",
      "{'loc':'vancouver', 'g1':'can', 'g2':'non_us'},\n",
      "{'loc':'montreal', 'g1':'can', 'g2':'non_us'}\n",
      "]\n",
      "\n",
      "\n",
      "\n",
      "def make_geo(other_geos=MANUAL_GEOS, filter_loc=[]):\n",
      "\n",
      "    from bs4 import BeautifulSoup\n",
      "    from urllib import urlopen\n",
      "    import re\n",
      "    \n",
      "    ######################\n",
      "    # Scrape wikipedia list of us cities\n",
      "    \n",
      "    # TODO save local\n",
      "    webpage = urlopen('http://en.wikipedia.org/wiki/List_of_United_States_cities_by_population')\n",
      "    soup=BeautifulSoup(webpage, \"html.parser\")\n",
      "    table = soup.find('table', {'class' : 'wikitable sortable'})\n",
      "    \n",
      "    us_cities = []\n",
      "\n",
      "    rows = table.findAll('tr')\n",
      "    for row in rows[1:200]:\n",
      "        cells = row.findAll('td')\n",
      "\n",
      "        output = []\n",
      "\n",
      "        for i, cell in enumerate(cells):\n",
      "            if i < 4:\n",
      "                text = cell.text.strip().lower()\n",
      "                if i == 0:\n",
      "                    text = int(text)\n",
      "                if i == 1 or i == 2:\n",
      "                    text = re.sub(r\"\\[.*\\]|'\",'',text)\n",
      "                if i == 3:\n",
      "                    text = int(re.sub(r',','',text))\n",
      "                output.append(text)\n",
      "        us_cities.append(output)\n",
      "\n",
      "    us_cities = pd.DataFrame(np.array(us_cities),columns=['rank','city','state','pop'])\n",
      "    \n",
      "    ###########################\n",
      "    # tuple list of state abbreviations\n",
      "    \n",
      "    state_abr_raw = [(\"Alabama\",\"AL\"),(\"Alaska\",\"AK\"),(\"Arizona\",\"AZ\"),\n",
      "                     (\"Arkansas\",\"AR\"),(\"California\",\"CA\"),(\"Colorado\",\"CO\"),\n",
      "                     (\"Connecticut\",\"CT\"),(\"Delaware\",\"DE\"),(\"District of Columbia\",\"DC\"),\n",
      "                     (\"Florida\",\"FL\"),(\"Georgia\",\"GA\"),(\"Hawaii\",\"HI\"),\n",
      "                     (\"Idaho\",\"ID\"),(\"Illinois\",\"IL\"),(\"Indiana\",\"IN\"),\n",
      "                     (\"Iowa\",\"IA\"),(\"Kansas\",\"KS\"),(\"Kentucky\",\"KY\"),\n",
      "                     (\"Louisiana\",\"LA\"),(\"Maine\",\"ME\"),(\"Montana\",\"MT\"),\n",
      "                     (\"Nebraska\",\"NE\"),(\"Nevada\",\"NV\"),(\"New Hampshire\",\"NH\"),\n",
      "                     (\"New Jersey\",\"NJ\"),(\"New Mexico\",\"NM\"),(\"New York\",\"NY\"),\n",
      "                     (\"North Carolina\",\"NC\"),(\"North Dakota\",\"ND\"),(\"Ohio\",\"OH\"),\n",
      "                     (\"Oklahoma\",\"OK\"),(\"Oregon\",\"OR\"),(\"Maryland\",\"MD\"),\n",
      "                     (\"Massachusetts\",\"MA\"),(\"Michigan\",\"MI\"),(\"Minnesota\",\"MN\"),\n",
      "                     (\"Mississippi\",\"MS\"),(\"Missouri\",\"MO\"),(\"Pennsylvania\",\"PA\"),\n",
      "                     (\"Rhode Island\",\"RI\"),(\"South Carolina\",\"SC\"),(\"South Dakota\",\"SD\"),\n",
      "                     (\"Tennessee\",\"TN\"),(\"Texas\",\"TX\"),(\"Utah\",\"UT\"),\n",
      "                     (\"Vermont\",\"VT\"),(\"Virginia\",\"VA\"),(\"Washington\",\"WA\"),\n",
      "                     (\"West Virginia\",\"WV\"),(\"Wisconsin\",\"WI\"),(\"Wyoming\",\"WY\")]\n",
      "    \n",
      "    ############################\n",
      "    # manupulate state abreviations\n",
      "    state_abr = []\n",
      "    for st, abr in state_abr_raw:\n",
      "        state_abr.append([st.lower(), abr.lower()])\n",
      "    state_abr = pd.DataFrame(np.array(state_abr), columns = ['state','abr'])\n",
      "    \n",
      "    #############################\n",
      "    # make US Geos\n",
      "    us_city_state = pd.merge(us_cities,state_abr)\n",
      "    \n",
      "    # US geos\n",
      "    usgeo = us_city_state.loc[:,['city','abr']]\n",
      "    usgeo.columns = ['loc','g1']\n",
      "    usgeo = pd.concat([usgeo,pd.DataFrame({'loc':state_abr.abr,'g1':state_abr.abr})])\n",
      "    usgeo = pd.concat([usgeo,pd.DataFrame({'loc':state_abr.state,'g1':state_abr.abr})])\n",
      "    usgeo['g2'] = 'us'\n",
      "    \n",
      "    \n",
      "    geo = pd.concat([usgeo, pd.DataFrame(other_geos)])\n",
      "    \n",
      "    # get rid of auto generated locations with confusiong names\n",
      "    #geo = geo[[not x in filter_loc for x in geo['loc']]]\n",
      "    \n",
      "    return geo\n",
      "\n",
      "\n",
      "\n",
      "geo = make_geo()"
     ],
     "language": "python",
     "metadata": {},
     "outputs": [
      {
       "ename": "TypeError",
       "evalue": "'module' object is not callable",
       "output_type": "pyerr",
       "traceback": [
        "\u001b[0;31m---------------------------------------------------------------------------\u001b[0m\n\u001b[0;31mTypeError\u001b[0m                                 Traceback (most recent call last)",
        "\u001b[0;32m<ipython-input-41-27ddae0f4767>\u001b[0m in \u001b[0;36m<module>\u001b[0;34m()\u001b[0m\n\u001b[1;32m     96\u001b[0m \u001b[0;34m\u001b[0m\u001b[0m\n\u001b[1;32m     97\u001b[0m \u001b[0;34m\u001b[0m\u001b[0m\n\u001b[0;32m---> 98\u001b[0;31m \u001b[0mgeo\u001b[0m \u001b[0;34m=\u001b[0m \u001b[0mmake_geo\u001b[0m\u001b[0;34m(\u001b[0m\u001b[0;34m)\u001b[0m\u001b[0;34m\u001b[0m\u001b[0m\n\u001b[0m",
        "\u001b[0;32m<ipython-input-41-27ddae0f4767>\u001b[0m in \u001b[0;36mmake_geo\u001b[0;34m(other_geos, filter_loc)\u001b[0m\n\u001b[1;32m     22\u001b[0m     \u001b[0;31m# TODO save local\u001b[0m\u001b[0;34m\u001b[0m\u001b[0;34m\u001b[0m\u001b[0m\n\u001b[1;32m     23\u001b[0m     \u001b[0mwebpage\u001b[0m \u001b[0;34m=\u001b[0m \u001b[0murlopen\u001b[0m\u001b[0;34m(\u001b[0m\u001b[0;34m'http://en.wikipedia.org/wiki/List_of_United_States_cities_by_population'\u001b[0m\u001b[0;34m)\u001b[0m\u001b[0;34m\u001b[0m\u001b[0m\n\u001b[0;32m---> 24\u001b[0;31m     \u001b[0msoup\u001b[0m\u001b[0;34m=\u001b[0m\u001b[0mBeautifulSoup\u001b[0m\u001b[0;34m(\u001b[0m\u001b[0mwebpage\u001b[0m\u001b[0;34m,\u001b[0m \u001b[0;34m\"html.parser\"\u001b[0m\u001b[0;34m)\u001b[0m\u001b[0;34m\u001b[0m\u001b[0m\n\u001b[0m\u001b[1;32m     25\u001b[0m     \u001b[0mtable\u001b[0m \u001b[0;34m=\u001b[0m \u001b[0msoup\u001b[0m\u001b[0;34m.\u001b[0m\u001b[0mfind\u001b[0m\u001b[0;34m(\u001b[0m\u001b[0;34m'table'\u001b[0m\u001b[0;34m,\u001b[0m \u001b[0;34m{\u001b[0m\u001b[0;34m'class'\u001b[0m \u001b[0;34m:\u001b[0m \u001b[0;34m'wikitable sortable'\u001b[0m\u001b[0;34m}\u001b[0m\u001b[0;34m)\u001b[0m\u001b[0;34m\u001b[0m\u001b[0m\n\u001b[1;32m     26\u001b[0m \u001b[0;34m\u001b[0m\u001b[0m\n",
        "\u001b[0;31mTypeError\u001b[0m: 'module' object is not callable"
       ]
      }
     ],
     "prompt_number": 41
    },
    {
     "cell_type": "markdown",
     "metadata": {},
     "source": [
      "### Results Table += Activity Features\n",
      "\n",
      "The following table documents our results so far. The mean and median scores come from taking the averge of the ROC-AUC scores from 5 k-folds in the specified model.\n",
      "\n",
      "<table>\n",
      "<tr>\n",
      "<th>Method</th>\n",
      "<th>Mean ROC-AUC</th>\n",
      "<th>Median ROC-AUC</th>\n",
      "<th>Standard Deviation</th>\n",
      "</tr>\n",
      "<tr>\n",
      "<td>Activity Features with Reweighted Classes</td>\n",
      "<td>0.5456</td>\n",
      "<td>0.5465</td>\n",
      "<td>0.0164</td>\n",
      "</tr>\n",
      "</table>\n",
      "\n",
      "<a href=\"#top\">Return to Table of Contents</a>"
     ]
    },
    {
     "cell_type": "markdown",
     "metadata": {},
     "source": [
      "<a id=\"part9\"></a>\n",
      "## 9. Parts of Speech"
     ]
    },
    {
     "cell_type": "code",
     "collapsed": false,
     "input": [],
     "language": "python",
     "metadata": {},
     "outputs": []
    },
    {
     "cell_type": "markdown",
     "metadata": {},
     "source": [
      "### Results Table += Activity Features\n",
      "\n",
      "The following table documents our results so far. The mean and median scores come from taking the averge of the ROC-AUC scores from 5 k-folds in the specified model.\n",
      "\n",
      "<table>\n",
      "<tr>\n",
      "<th>Method</th>\n",
      "<th>Mean ROC-AUC</th>\n",
      "<th>Median ROC-AUC</th>\n",
      "<th>Standard Deviation</th>\n",
      "</tr>\n",
      "<tr>\n",
      "<td>Activity Features with Reweighted Classes</td>\n",
      "<td>0.5456</td>\n",
      "<td>0.5465</td>\n",
      "<td>0.0164</td>\n",
      "</tr>\n",
      "</table>\n",
      "\n",
      "<a href=\"#top\">Return to Table of Contents</a>"
     ]
    },
    {
     "cell_type": "markdown",
     "metadata": {},
     "source": [
      "<a id=\"part10\"></a>\n",
      "## 10. Final, Composite Model"
     ]
    },
    {
     "cell_type": "code",
     "collapsed": false,
     "input": [],
     "language": "python",
     "metadata": {},
     "outputs": []
    },
    {
     "cell_type": "markdown",
     "metadata": {},
     "source": [
      "### Results Table += Activity Features\n",
      "\n",
      "The following table documents our results so far. The mean and median scores come from taking the averge of the ROC-AUC scores from 5 k-folds in the specified model.\n",
      "\n",
      "<table>\n",
      "<tr>\n",
      "<th>Method</th>\n",
      "<th>Mean ROC-AUC</th>\n",
      "<th>Median ROC-AUC</th>\n",
      "<th>Standard Deviation</th>\n",
      "</tr>\n",
      "<tr>\n",
      "<td>Activity Features with Reweighted Classes</td>\n",
      "<td>0.5456</td>\n",
      "<td>0.5465</td>\n",
      "<td>0.0164</td>\n",
      "</tr>\n",
      "</table>\n",
      "\n",
      "<a href=\"#top\">Return to Table of Contents</a>"
     ]
    },
    {
     "cell_type": "markdown",
     "metadata": {},
     "source": [
      "<a id=\"part11\"></a>\n",
      "## 11. Appendix"
     ]
    },
    {
     "cell_type": "code",
     "collapsed": false,
     "input": [],
     "language": "python",
     "metadata": {},
     "outputs": []
    }
   ],
   "metadata": {}
  }
 ]
}