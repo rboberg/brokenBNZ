{
 "metadata": {
  "name": "",
  "signature": "sha256:d165dc163ccb408713fb05b1208338b352ded86204a20e48259602763c7a4cf5"
 },
 "nbformat": 3,
 "nbformat_minor": 0,
 "worksheets": [
  {
   "cells": [
    {
     "cell_type": "code",
     "collapsed": false,
     "input": [
      "import json\n",
      "import csv\n",
      "import numpy as np\n",
      "import random as rand\n",
      "import pandas as pd\n",
      "import scipy as scipy\n",
      "from sklearn.linear_model import LogisticRegression\n",
      "from sklearn.svm import SVC\n",
      "from sklearn.svm import LinearSVC\n",
      "from sklearn.metrics import classification_report\n",
      "from sklearn.metrics import roc_auc_score\n",
      "from sklearn.cross_validation import KFold\n",
      "from sklearn.preprocessing import StandardScaler\n",
      "from sklearn.decomposition import PCA\n",
      "from sklearn.feature_extraction.text import CountVectorizer\n",
      "from sklearn.feature_extraction.text import TfidfVectorizer\n",
      "from sklearn.pipeline import Pipeline\n",
      "from sklearn.naive_bayes import GaussianNB\n",
      "from sklearn.naive_bayes import MultinomialNB\n",
      "from sklearn.tree import DecisionTreeClassifier\n",
      "from sklearn.ensemble import AdaBoostClassifier"
     ],
     "language": "python",
     "metadata": {},
     "outputs": [],
     "prompt_number": 39
    },
    {
     "cell_type": "code",
     "collapsed": false,
     "input": [
      "def load_json_file(path):\n",
      "    with open(path) as f:\n",
      "        data = json.load(f)\n",
      "    return data\n",
      "\n",
      "def make_submission_csv(predictions, ids, submission_name, path = '../../predictions'):\n",
      "    with open(path+'/'+submission_name+'.csv', 'w') as csvfile:\n",
      "        field_names = ['request_id', 'requester_received_pizza']\n",
      "        writer = csv.DictWriter(csvfile, fieldnames = field_names)\n",
      "        writer.writeheader()\n",
      "        csv_data = zip(ids, predictions)\n",
      "        for row in csv_data:\n",
      "            writer.writerow({field_names[0]:row[0], field_names[1]:int(row[1])})\n",
      "\n",
      "def test_kfolds(X, y, kf, model, verbose=True):\n",
      "    roc_auc_list = []\n",
      "    \n",
      "    for train_i, dev_i in kf:\n",
      "        X_train = X[train_i]\n",
      "        X_dev = X[dev_i]\n",
      "\n",
      "        model.fit(X_train, y[train_i])\n",
      "\n",
      "        dev_pred = model.predict(X_dev)\n",
      "        \n",
      "        roc_auc_i = roc_auc_score(y[dev_i], dev_pred)\n",
      "        roc_auc_list.append(roc_auc_i)\n",
      "        if verbose:\n",
      "            print('ROC AUC:',roc_auc_i)\n",
      "            \n",
      "    if verbose:\n",
      "        print 'Mean: %f, Median: %f' %(np.mean(roc_auc_list), np.median(roc_auc_list))\n",
      "        \n",
      "    return roc_auc_list\n"
     ],
     "language": "python",
     "metadata": {},
     "outputs": [],
     "prompt_number": 2
    },
    {
     "cell_type": "code",
     "collapsed": false,
     "input": [
      "# load data from JSON file as list of dicts\n",
      "all_train_dict_list = load_json_file('../../data/train.json')\n",
      "submit_dict_list =  load_json_file('../../data/test.json')\n",
      "\n",
      "n_all = len(all_train_dict_list)\n",
      "n_submit = len(submit_dict_list)\n",
      "\n",
      "# shuffle data to avoid biased split of train / dev data\n",
      "rand.shuffle(all_train_dict_list)\n",
      "\n",
      "# set up kFolds\n",
      "kf = KFold(n_all, n_folds = 5)\n",
      "\n",
      "# process labels\n",
      "all_train_labels = np.array([x['requester_received_pizza'] for x in all_train_dict_list])\n",
      "\n",
      "# pandas is useful for turning dicts in to matrix-like objects\n",
      "# where each column is an numpy array\n",
      "submit_df = pd.DataFrame(submit_dict_list)\n",
      "all_train_df = pd.DataFrame(all_train_dict_list)\n",
      "\n",
      "# limit train to columns available in submit_df\n",
      "submit_cols = submit_df.columns\n",
      "all_train_df = all_train_df[submit_cols]"
     ],
     "language": "python",
     "metadata": {},
     "outputs": [],
     "prompt_number": 3
    },
    {
     "cell_type": "code",
     "collapsed": false,
     "input": [
      "# which columns are numeric activity variables\n",
      "activity_var = ['requester_account_age_in_days_at_request',\n",
      "                'requester_days_since_first_post_on_raop_at_request',\n",
      "                'requester_number_of_comments_at_request',\n",
      "                'requester_number_of_comments_in_raop_at_request',\n",
      "                'requester_number_of_posts_at_request',\n",
      "                'requester_number_of_posts_on_raop_at_request',\n",
      "                'requester_number_of_subreddits_at_request',\n",
      "                'requester_upvotes_minus_downvotes_at_request',\n",
      "                'requester_upvotes_plus_downvotes_at_request'\n",
      "                ]\n",
      "# look at correlations of requester activity variables:\n",
      "activity_all = all_train_df.loc[:,activity_var]\n",
      "\n",
      "scaler = StandardScaler()\n",
      "X_act = scaler.fit_transform(activity_all)\n",
      "\n"
     ],
     "language": "python",
     "metadata": {},
     "outputs": [],
     "prompt_number": 4
    },
    {
     "cell_type": "code",
     "collapsed": false,
     "input": [
      "# Example classification\n",
      "svc = SVC(class_weight='auto')\n",
      "lr = LogisticRegression(class_weight='auto')\n",
      "\n",
      "all_res = test_kfolds(X_act, all_train_labels, kf, svc)\n",
      "\n",
      "all_res = test_kfolds(X_act, all_train_labels, kf, lr)\n"
     ],
     "language": "python",
     "metadata": {},
     "outputs": [
      {
       "output_type": "stream",
       "stream": "stdout",
       "text": [
        "('ROC AUC:', 0.54230263157894731)\n",
        "('ROC AUC:', 0.54286338797814204)"
       ]
      },
      {
       "output_type": "stream",
       "stream": "stdout",
       "text": [
        "\n",
        "('ROC AUC:', 0.55446993297460578)"
       ]
      },
      {
       "output_type": "stream",
       "stream": "stdout",
       "text": [
        "\n",
        "('ROC AUC:', 0.58721530519283338)"
       ]
      },
      {
       "output_type": "stream",
       "stream": "stdout",
       "text": [
        "\n",
        "('ROC AUC:', 0.57588324680258318)"
       ]
      },
      {
       "output_type": "stream",
       "stream": "stdout",
       "text": [
        "\n",
        "Mean: 0.560547, Median: 0.554470\n",
        "('ROC AUC:', 0.52884868421052633)\n",
        "('ROC AUC:', 0.52827978142076504)\n",
        "('ROC AUC:', 0.53852386796312035)"
       ]
      },
      {
       "output_type": "stream",
       "stream": "stdout",
       "text": [
        "\n",
        "('ROC AUC:', 0.56860439894147752)\n",
        "('ROC AUC:', 0.5599278206914019)\n",
        "Mean: 0.544837, Median: 0.538524\n"
       ]
      }
     ],
     "prompt_number": 5
    },
    {
     "cell_type": "code",
     "collapsed": false,
     "input": [
      "# Notes\n",
      "# results slightly better w/ lowercase = False (when unigrams only)\n",
      "# bigrams added no value on unigrams\n",
      "\n",
      "titles = all_train_df['request_title'].values\n",
      "bodies = all_train_df['request_text_edit_aware'].values\n",
      "\n",
      "cv = CountVectorizer(ngram_range=(1,1),lowercase=False)\n",
      "lsvc = LinearSVC(class_weight='auto', C = 2)\n",
      "lsvc_pipe = Pipeline([('cv',cv),('lsvc',lsvc)])\n",
      "\n",
      "test_kfolds(titles, all_train_labels, kf, lsvc_pipe)\n",
      "\n",
      "\n",
      "tv = TfidfVectorizer(ngram_range=(1,1),lowercase=False)\n",
      "lsvc = LinearSVC(class_weight='auto', C = 2)\n",
      "lsvc_pipe = Pipeline([('tv',tv),('lsvc',lsvc)])\n",
      "\n",
      "test_kfolds(titles, all_train_labels, kf, lsvc_pipe)"
     ],
     "language": "python",
     "metadata": {},
     "outputs": [
      {
       "output_type": "stream",
       "stream": "stdout",
       "text": [
        "('ROC AUC:', 0.54861842105263159)\n",
        "('ROC AUC:', 0.54626010928961743)"
       ]
      },
      {
       "output_type": "stream",
       "stream": "stdout",
       "text": [
        "\n",
        "('ROC AUC:', 0.51129676830611404)"
       ]
      },
      {
       "output_type": "stream",
       "stream": "stdout",
       "text": [
        "\n",
        "('ROC AUC:', 0.51542232441108848)"
       ]
      },
      {
       "output_type": "stream",
       "stream": "stdout",
       "text": [
        "\n",
        "('ROC AUC:', 0.51100101304292778)"
       ]
      },
      {
       "output_type": "stream",
       "stream": "stdout",
       "text": [
        "\n",
        "Mean: 0.526520, Median: 0.515422\n",
        "('ROC AUC:', 0.53381578947368424)"
       ]
      },
      {
       "output_type": "stream",
       "stream": "stdout",
       "text": [
        "\n",
        "('ROC AUC:', 0.53826010928961743)"
       ]
      },
      {
       "output_type": "stream",
       "stream": "stdout",
       "text": [
        "\n",
        "('ROC AUC:', 0.50858271185373982)"
       ]
      },
      {
       "output_type": "stream",
       "stream": "stdout",
       "text": [
        "\n",
        "('ROC AUC:', 0.52711812936532043)"
       ]
      },
      {
       "output_type": "stream",
       "stream": "stdout",
       "text": [
        "\n",
        "('ROC AUC:', 0.52923578574142072)"
       ]
      },
      {
       "output_type": "stream",
       "stream": "stdout",
       "text": [
        "\n",
        "Mean: 0.527403, Median: 0.529236\n"
       ]
      },
      {
       "metadata": {},
       "output_type": "pyout",
       "prompt_number": 6,
       "text": [
        "[0.53381578947368424,\n",
        " 0.53826010928961743,\n",
        " 0.50858271185373982,\n",
        " 0.52711812936532043,\n",
        " 0.52923578574142072]"
       ]
      }
     ],
     "prompt_number": 6
    },
    {
     "cell_type": "code",
     "collapsed": false,
     "input": [
      "# Try to mix text and numeric via output of text only model\n",
      "#NOTES\n",
      "# For text model that is input in to the final model, LinearSVC isn't great\n",
      "# because it only gives binary predictions \n",
      "\n",
      "X1 = all_train_df['request_title'].values\n",
      "X2 = all_train_df.loc[:,activity_var].values\n",
      "y = all_train_labels\n",
      "verbose = True\n",
      "\n",
      "cv = CountVectorizer(ngram_range=(1,1),lowercase=False)\n",
      "lsvc = LinearSVC(class_weight='auto', C = .1)\n",
      "mnb = MultinomialNB(alpha=50)\n",
      "model1 = Pipeline([('cv',cv),('lsvc',lsvc)])\n",
      "#model1 = Pipeline([('cv',cv),('mnb',mnb)])\n",
      "model2 = SVC(class_weight='auto', C=1)\n",
      "\n",
      "roc_auc_list = []\n",
      "    \n",
      "for train_i, dev_i in kf:\n",
      "    \n",
      "    # get initial training / dev data for text model\n",
      "    X_train1 = X1[train_i]\n",
      "    X_dev1 = X1[dev_i]\n",
      "    \n",
      "    # fit initial text model\n",
      "    model1.fit(X_train1, y[train_i])\n",
      "    \n",
      "    if False:\n",
      "        #if predict has proba\n",
      "        train_pred1 = model1.predict_log_proba(X_train1)[:,0].reshape((train_i.shape[0],1))\n",
      "        dev_pred1 = model1.predict_log_proba(X_dev1)[:,0].reshape((dev_i.shape[0],1))\n",
      "        #print train_pred1\n",
      "    else:\n",
      "        train_pred1 = model1.decision_function(X_train1).reshape((train_i.shape[0],1))\n",
      "        dev_pred1 = model1.decision_function(X_dev1).reshape((dev_i.shape[0],1))\n",
      "    \n",
      "    # add output of initial model in to second X matrix\n",
      "    X_train2 = np.hstack((X2[train_i], train_pred1))\n",
      "    X_dev2 = np.hstack((X2[dev_i], dev_pred1))\n",
      "    \n",
      "    #X_train2 = X2[train_i]\n",
      "    #X_dev2 = X2[dev_i]\n",
      "    \n",
      "    # scale the new X matrix\n",
      "    scaler = StandardScaler()\n",
      "    X_train2 = scaler.fit_transform(X_train2)\n",
      "    X_dev2 = scaler.transform(X_dev2)\n",
      "    \n",
      "    # train the second model\n",
      "    model2.fit(X_train2, y[train_i])\n",
      "    dev_pred2 = model2.predict(X_dev2)\n",
      "\n",
      "    roc_auc_i = roc_auc_score(y[dev_i], dev_pred2)\n",
      "    roc_auc_list.append(roc_auc_i)\n",
      "    if verbose:\n",
      "        print('ROC AUC:',roc_auc_i)\n",
      "        \n",
      "if verbose:\n",
      "     print 'Mean: %f, Median: %f' %(np.mean(roc_auc_list), np.median(roc_auc_list))\n"
     ],
     "language": "python",
     "metadata": {},
     "outputs": [
      {
       "output_type": "stream",
       "stream": "stdout",
       "text": [
        "('ROC AUC:', 0.55213815789473686)\n",
        "('ROC AUC:', 0.55379234972677593)"
       ]
      },
      {
       "output_type": "stream",
       "stream": "stdout",
       "text": [
        "\n",
        "('ROC AUC:', 0.5309323767267693)"
       ]
      },
      {
       "output_type": "stream",
       "stream": "stdout",
       "text": [
        "\n",
        "('ROC AUC:', 0.55004988937573207)"
       ]
      },
      {
       "output_type": "stream",
       "stream": "stdout",
       "text": [
        "\n",
        "('ROC AUC:', 0.55649297201468917)"
       ]
      },
      {
       "output_type": "stream",
       "stream": "stdout",
       "text": [
        "\n",
        "Mean: 0.548681, Median: 0.552138\n"
       ]
      }
     ],
     "prompt_number": 7
    },
    {
     "cell_type": "code",
     "collapsed": false,
     "input": [
      "len(kf)"
     ],
     "language": "python",
     "metadata": {},
     "outputs": [
      {
       "metadata": {},
       "output_type": "pyout",
       "prompt_number": 8,
       "text": [
        "5"
       ]
      }
     ],
     "prompt_number": 8
    },
    {
     "cell_type": "code",
     "collapsed": false,
     "input": [
      "# Combine title and text approaches\n",
      "\n",
      "titles = all_train_df['request_title'].values\n",
      "bodies = all_train_df['request_text_edit_aware'].values\n",
      "\n",
      "tv = TfidfVectorizer(ngram_range=(1,1),lowercase=False)\n",
      "lsvc = LinearSVC(class_weight='auto', C = 1)\n",
      "\n",
      "\n",
      "prune_features = True\n",
      "\n",
      "\n",
      "X1 = titles\n",
      "X2 = bodies\n",
      "y = all_train_labels\n",
      "verbose = True\n",
      "\n",
      "do_titles = False\n",
      "do_bodies = True\n",
      "\n",
      "model = lsvc\n",
      "\n",
      "roc_auc_list_titles = []\n",
      "roc_auc_list_bodies = []\n",
      "roc_auc_list_both = []\n",
      "    \n",
      "for train_i, dev_i in kf:\n",
      "    \n",
      "    # get initial training / dev data for text model\n",
      "    if do_titles:\n",
      "        X_train = tv.fit_transform(X1[train_i])\n",
      "        X_dev = tv.transform(X1[dev_i])\n",
      "        \n",
      "        if prune_features:\n",
      "            model.set_params(loss = 'l1', C=.005)\n",
      "            #model.set_params(loss = 'l1', C=1)\n",
      "            model.fit(X_train, y[train_i])\n",
      "            coef = model.coef_\n",
      "            sig_coef = (np.abs(coef) > 0.01)[0]\n",
      "            print '%d/%d' % (np.sum(sig_coef), coef.shape[1])\n",
      "\n",
      "            X_train = X_train[:,sig_coef]\n",
      "            X_dev = X_dev[:,sig_coef]\n",
      "            model.set_params(loss = 'l2', C=5)\n",
      "        \n",
      "        \n",
      "        model.fit(X_train, y[train_i])\n",
      "        pred = model.predict(X_dev)\n",
      "\n",
      "        roc_auc_i = roc_auc_score(y[dev_i], pred)\n",
      "        roc_auc_list_titles.append(roc_auc_i)\n",
      "        \n",
      "        \n",
      "        X_train1 = X_train\n",
      "        X_dev1 = X_dev\n",
      "    \n",
      "    if do_bodies:\n",
      "        X_train = tv.fit_transform(X2[train_i])\n",
      "        X_dev = tv.transform(X2[dev_i])\n",
      "        \n",
      "        if prune_features:\n",
      "            model.set_params(loss = 'l1', C=.0025)\n",
      "            #model.set_params(loss = 'l1', C=1)\n",
      "            model.fit(X_train, y[train_i])\n",
      "            coef = model.coef_\n",
      "            sig_coef = (np.abs(coef) > 0.01)[0]\n",
      "            print '%d/%d' % (np.sum(sig_coef), coef.shape[1])\n",
      "\n",
      "            X_train = X_train[:,sig_coef]\n",
      "            X_dev = X_dev[:,sig_coef]\n",
      "            model.set_params(loss = 'l2', C=1)\n",
      "        \n",
      "        \n",
      "        model.fit(X_train, y[train_i])\n",
      "        pred = model.predict(X_dev)\n",
      "\n",
      "        roc_auc_i = roc_auc_score(y[dev_i], pred)\n",
      "        roc_auc_list_bodies.append(roc_auc_i)\n",
      "        \n",
      "        X_train2 = X_train\n",
      "        X_dev2 = X_dev\n",
      "    \n",
      "    if do_bodies and do_titles:\n",
      "        X_train = scipy.sparse.hstack((X_train1,X_train2),'csr')\n",
      "        X_dev = scipy.sparse.hstack((X_dev1,X_dev2),'csr')\n",
      "        \n",
      "        if prune_features:\n",
      "            model.set_params(loss = 'l1', C=1)\n",
      "            model.fit(X_train, y[train_i])\n",
      "            coef = model.coef_\n",
      "            sig_coef = (np.abs(coef) > 0.01)[0]\n",
      "            print '%d/%d' % (np.sum(sig_coef), coef.shape[1])\n",
      "            \n",
      "            X_train = X_train[:,sig_coef]\n",
      "            X_dev = X_dev[:,sig_coef]\n",
      "            model.set_params(loss = 'l2', C=1)\n",
      "        \n",
      "        model.fit(X_train, y[train_i])\n",
      "        pred = model.predict(X_dev)\n",
      "\n",
      "        roc_auc_i = roc_auc_score(y[dev_i], pred)\n",
      "        roc_auc_list_both.append(roc_auc_i)\n",
      "    \n",
      "    \n",
      "    if verbose:\n",
      "        print('ROC AUC:',roc_auc_i)\n",
      "        \n",
      "if verbose:\n",
      "    print 'Titles: Mean: %f, Median: %f' %(np.mean(roc_auc_list_titles), np.median(roc_auc_list_titles))\n",
      "    print 'Bodies: Mean: %f, Median: %f' %(np.mean(roc_auc_list_bodies), np.median(roc_auc_list_bodies))\n",
      "    print 'Both: Mean: %f, Median: %f' %(np.mean(roc_auc_list_both), np.median(roc_auc_list_both))\n",
      "\n"
     ],
     "language": "python",
     "metadata": {},
     "outputs": [
      {
       "output_type": "stream",
       "stream": "stdout",
       "text": [
        "41/12868\n",
        "('ROC AUC:', 0.59848684210526315)\n",
        "45/12884"
       ]
      },
      {
       "output_type": "stream",
       "stream": "stdout",
       "text": [
        "\n",
        "('ROC AUC:', 0.58368524590163928)\n",
        "38/12876"
       ]
      },
      {
       "output_type": "stream",
       "stream": "stdout",
       "text": [
        "\n",
        "('ROC AUC:', 0.56395733031247042)\n",
        "46/12845"
       ]
      },
      {
       "output_type": "stream",
       "stream": "stdout",
       "text": [
        "\n",
        "('ROC AUC:', 0.5512992928723266)\n",
        "46/12838"
       ]
      },
      {
       "output_type": "stream",
       "stream": "stdout",
       "text": [
        "\n",
        "('ROC AUC:', 0.56170064581486645)\n",
        "Titles: Mean: nan, Median: nan\n",
        "Bodies: Mean: 0.571826, Median: 0.563957\n",
        "Both: Mean: nan, Median: nan\n"
       ]
      },
      {
       "output_type": "stream",
       "stream": "stderr",
       "text": [
        "C:\\Users\\Ross\\Anaconda\\lib\\site-packages\\numpy\\core\\_methods.py:59: RuntimeWarning: Mean of empty slice.\n",
        "  warnings.warn(\"Mean of empty slice.\", RuntimeWarning)\n"
       ]
      }
     ],
     "prompt_number": 9
    },
    {
     "cell_type": "code",
     "collapsed": false,
     "input": [],
     "language": "python",
     "metadata": {},
     "outputs": [],
     "prompt_number": 9
    },
    {
     "cell_type": "code",
     "collapsed": false,
     "input": [
      "# Combine title and text approaches\n",
      "\n",
      "acts = all_train_df[activity_var].values\n",
      "titles = all_train_df['request_title'].values\n",
      "bodies = all_train_df['request_text_edit_aware'].values\n",
      "\n",
      "tv = TfidfVectorizer(ngram_range=(1,1),lowercase=False)\n",
      "lsvc = LinearSVC(class_weight='auto', C = 1)\n",
      "svc = SVC(class_weight='auto')\n",
      "\n",
      "adaboost = AdaBoostClassifier(DecisionTreeClassifier(max_depth=20),\n",
      "                          n_estimators=50, random_state=np.random.RandomState(1))\n",
      "\n",
      "\n",
      "prune_features = True\n",
      "\n",
      "y = all_train_labels\n",
      "verbose = True\n",
      "\n",
      "do_titles = False\n",
      "do_bodies = True\n",
      "do_acts = True\n",
      "\n",
      "model = lsvc\n",
      "scaler = StandardScaler()\n",
      "\n",
      "roc_auc_list_titles = []\n",
      "roc_auc_list_bodies = []\n",
      "roc_auc_list_acts = []\n",
      "roc_auc_list_all = []\n",
      "    \n",
      "for train_i, dev_i in KFold(n_all, n_folds = 10):\n",
      "    X_dict = {}\n",
      "    X_dict['titles'] = {'train' : titles[train_i], 'dev' : titles[dev_i], 'model' : lsvc}\n",
      "    X_dict['bodies'] = {'train' : bodies[train_i], 'dev' : bodies[dev_i], 'model' : lsvc}\n",
      "    X_dict['acts'] = {'train' : acts[train_i], 'dev' : acts[dev_i], 'model' : svc}\n",
      "    \n",
      "    X_all = {'train':(), 'dev':()}\n",
      "    \n",
      "    y_train = y[train_i]\n",
      "    y_dev = y[dev_i]\n",
      "    \n",
      "    # get initial training / dev data for text model\n",
      "    if do_titles:\n",
      "        X_train = tv.fit_transform(X_dict['titles']['train'])\n",
      "        X_dev = tv.transform(X_dict['titles']['dev'])\n",
      "        model = X_dict['titles']['model']\n",
      "        \n",
      "        if prune_features:\n",
      "            model.set_params(loss = 'l1', C=.005)\n",
      "            #model.set_params(loss = 'l1', C=1)\n",
      "            model.fit(X_train, y_train)\n",
      "            coef = model.coef_\n",
      "            sig_coef = (np.abs(coef) > 0.01)[0]\n",
      "            print '%d/%d' % (np.sum(sig_coef), coef.shape[1])\n",
      "\n",
      "            X_train = X_train[:,sig_coef]\n",
      "            X_dev = X_dev[:,sig_coef]\n",
      "            model.set_params(loss = 'l2', C=5)\n",
      "        \n",
      "        \n",
      "        model.fit(X_train, y_train)\n",
      "        pred = model.predict(X_dev)\n",
      "\n",
      "        roc_auc_i = roc_auc_score(y_dev, pred)\n",
      "        roc_auc_list_titles.append(roc_auc_i)\n",
      "        \n",
      "        \n",
      "        X_all['train'] = X_all['train'] + (X_train,)\n",
      "        X_all['dev'] = X_all['dev'] + (X_dev,)\n",
      "    \n",
      "    if do_bodies:\n",
      "        X_train = tv.fit_transform(X_dict['bodies']['train'])\n",
      "        X_dev = tv.transform(X_dict['bodies']['dev'])\n",
      "        model = X_dict['bodies']['model']\n",
      "        \n",
      "        if prune_features:\n",
      "            model.set_params(loss = 'l1', C=.0025)\n",
      "            #model.set_params(loss = 'l1', C=1)\n",
      "            model.fit(X_train, y_train)\n",
      "            coef = model.coef_\n",
      "            sig_coef = (np.abs(coef) > 0.01)[0]\n",
      "            print '%d/%d' % (np.sum(sig_coef), coef.shape[1])\n",
      "\n",
      "            X_train = X_train[:,sig_coef]\n",
      "            X_dev = X_dev[:,sig_coef]\n",
      "            model.set_params(loss = 'l2', C=1)\n",
      "        \n",
      "        \n",
      "        model.fit(X_train, y_train)\n",
      "        pred = model.predict(X_dev)\n",
      "\n",
      "        roc_auc_i = roc_auc_score(y_dev, pred)\n",
      "        roc_auc_list_bodies.append(roc_auc_i)\n",
      "        \n",
      "        X_all['train'] = X_all['train'] + (X_train,)\n",
      "        X_all['dev'] = X_all['dev'] + (X_dev,)\n",
      "        \n",
      "    if do_acts:\n",
      "        X_train = scaler.fit_transform(X_dict['acts']['train'])\n",
      "        X_dev = scaler.transform(X_dict['acts']['dev'])\n",
      "        model = X_dict['acts']['model']\n",
      "        \n",
      "        model.fit(X_train, y_train)\n",
      "        pred = model.predict(X_dev)\n",
      "\n",
      "        roc_auc_i = roc_auc_score(y_dev, pred)\n",
      "        roc_auc_list_acts.append(roc_auc_i)\n",
      "        \n",
      "        X_all['train'] = X_all['train'] + (X_train,)\n",
      "        X_all['dev'] = X_all['dev'] + (X_dev,)\n",
      "    \n",
      "    if do_bodies + do_titles + do_acts > 1:\n",
      "        X_train = scaler.fit_transform(scipy.sparse.hstack(X_all['train'],'csr').toarray())\n",
      "        X_dev = scaler.transform(scipy.sparse.hstack( X_all['dev'],'csr').toarray())\n",
      "        \n",
      "        \n",
      "        \n",
      "        #if prune_features:\n",
      "        if True:\n",
      "            model = lsvc\n",
      "            model.set_params(loss = 'l1', C=5)\n",
      "            model.fit(X_train, y_train)\n",
      "            coef = model.coef_\n",
      "            sig_coef = (np.abs(coef) > 0.01)[0]\n",
      "            print '%d/%d' % (np.sum(sig_coef), coef.shape[1])\n",
      "            \n",
      "            X_train = X_train[:,sig_coef]\n",
      "            X_dev = X_dev[:,sig_coef]\n",
      "          \n",
      "        model = svc\n",
      "        model.set_params(C=1)\n",
      "        \n",
      "        #model = adaboost\n",
      "        \n",
      "        \n",
      "        model.fit(X_train,y_train)\n",
      "        pred = model.predict(X_dev)\n",
      "\n",
      "        roc_auc_i = roc_auc_score(y_dev, pred)\n",
      "        roc_auc_list_all.append(roc_auc_i)\n",
      "    \n",
      "    \n",
      "    if verbose:\n",
      "        print('ROC AUC:',roc_auc_i)\n",
      "        \n",
      "if verbose:\n",
      "    print 'Titles: Mean: %f, Median: %f' %(np.mean(roc_auc_list_titles), np.median(roc_auc_list_titles))\n",
      "    print 'Bodies: Mean: %f, Median: %f' %(np.mean(roc_auc_list_bodies), np.median(roc_auc_list_bodies))\n",
      "    print 'Activities: Mean: %f, Median: %f' %(np.mean(roc_auc_list_acts), np.median(roc_auc_list_acts))\n",
      "    print 'All: Mean: %f, Median: %f' %(np.mean(roc_auc_list_all), np.median(roc_auc_list_all))\n",
      "\n",
      "\n",
      "    "
     ],
     "language": "python",
     "metadata": {},
     "outputs": [
      {
       "output_type": "stream",
       "stream": "stdout",
       "text": [
        "51/13694\n",
        "54/60"
       ]
      },
      {
       "output_type": "stream",
       "stream": "stdout",
       "text": [
        "\n",
        "('ROC AUC:', 0.62826923076923069)"
       ]
      },
      {
       "output_type": "stream",
       "stream": "stdout",
       "text": [
        "\n",
        "55/13732"
       ]
      },
      {
       "output_type": "stream",
       "stream": "stdout",
       "text": [
        "\n",
        "58/64"
       ]
      },
      {
       "output_type": "stream",
       "stream": "stdout",
       "text": [
        "\n",
        "('ROC AUC:', 0.58827110389610393)"
       ]
      },
      {
       "output_type": "stream",
       "stream": "stdout",
       "text": [
        "\n",
        "52/13690"
       ]
      },
      {
       "output_type": "stream",
       "stream": "stdout",
       "text": [
        "\n",
        "56/61"
       ]
      },
      {
       "output_type": "stream",
       "stream": "stdout",
       "text": [
        "\n",
        "('ROC AUC:', 0.5373871572134219)"
       ]
      },
      {
       "output_type": "stream",
       "stream": "stdout",
       "text": [
        "\n",
        "53/13753"
       ]
      },
      {
       "output_type": "stream",
       "stream": "stdout",
       "text": [
        "\n",
        "58/62"
       ]
      },
      {
       "output_type": "stream",
       "stream": "stdout",
       "text": [
        "\n",
        "('ROC AUC:', 0.60313578826237046)"
       ]
      },
      {
       "output_type": "stream",
       "stream": "stdout",
       "text": [
        "\n",
        "51/13692"
       ]
      },
      {
       "output_type": "stream",
       "stream": "stdout",
       "text": [
        "\n",
        "49/60"
       ]
      },
      {
       "output_type": "stream",
       "stream": "stdout",
       "text": [
        "\n",
        "('ROC AUC:', 0.59991618773946354)"
       ]
      },
      {
       "output_type": "stream",
       "stream": "stdout",
       "text": [
        "\n",
        "52/13739"
       ]
      },
      {
       "output_type": "stream",
       "stream": "stdout",
       "text": [
        "\n",
        "57/61"
       ]
      },
      {
       "output_type": "stream",
       "stream": "stdout",
       "text": [
        "\n",
        "('ROC AUC:', 0.53841536614645857)"
       ]
      },
      {
       "output_type": "stream",
       "stream": "stdout",
       "text": [
        "\n",
        "53/13672"
       ]
      },
      {
       "output_type": "stream",
       "stream": "stdout",
       "text": [
        "\n",
        "55/62"
       ]
      },
      {
       "output_type": "stream",
       "stream": "stdout",
       "text": [
        "\n",
        "('ROC AUC:', 0.57697368421052631)"
       ]
      },
      {
       "output_type": "stream",
       "stream": "stdout",
       "text": [
        "\n",
        "52/13726"
       ]
      },
      {
       "output_type": "stream",
       "stream": "stdout",
       "text": [
        "\n",
        "57/61"
       ]
      },
      {
       "output_type": "stream",
       "stream": "stdout",
       "text": [
        "\n",
        "('ROC AUC:', 0.59345380785543056)"
       ]
      },
      {
       "output_type": "stream",
       "stream": "stdout",
       "text": [
        "\n",
        "57/13754"
       ]
      },
      {
       "output_type": "stream",
       "stream": "stdout",
       "text": [
        "\n",
        "64/66"
       ]
      },
      {
       "output_type": "stream",
       "stream": "stdout",
       "text": [
        "\n",
        "('ROC AUC:', 0.60113537399606487)"
       ]
      },
      {
       "output_type": "stream",
       "stream": "stdout",
       "text": [
        "\n",
        "53/13650"
       ]
      },
      {
       "output_type": "stream",
       "stream": "stdout",
       "text": [
        "\n",
        "56/62"
       ]
      },
      {
       "output_type": "stream",
       "stream": "stdout",
       "text": [
        "\n",
        "('ROC AUC:', 0.5890841237754626)"
       ]
      },
      {
       "output_type": "stream",
       "stream": "stdout",
       "text": [
        "\n",
        "Titles: Mean: nan, Median: nan\n",
        "Bodies: Mean: 0.594259, Median: 0.595688\n",
        "Activities: Mean: 0.551512, Median: 0.546158\n",
        "All: Mean: 0.585604, Median: 0.591269\n"
       ]
      }
     ],
     "prompt_number": 50
    },
    {
     "cell_type": "code",
     "collapsed": false,
     "input": [
      "# Combine title and text approaches\n",
      "\n",
      "acts = all_train_df[activity_var].values\n",
      "titles = all_train_df['request_title'].values\n",
      "bodies = all_train_df['request_text_edit_aware'].values\n",
      "\n",
      "tv = TfidfVectorizer(ngram_range=(1,1),lowercase=False)\n",
      "lsvc = LinearSVC(class_weight='auto', C = 1)\n",
      "svc = SVC(class_weight='auto')\n",
      "\n",
      "adaboost = AdaBoostClassifier(DecisionTreeClassifier(max_depth=20),\n",
      "                          n_estimators=50, random_state=np.random.RandomState(1))\n",
      "\n",
      "\n",
      "prune_features = True\n",
      "\n",
      "y = all_train_labels\n",
      "verbose = True\n",
      "\n",
      "do_titles = False\n",
      "do_bodies = True\n",
      "do_acts = True\n",
      "\n",
      "model = lsvc\n",
      "scaler = StandardScaler()\n",
      "\n",
      "roc_auc_list_titles = []\n",
      "roc_auc_list_bodies = []\n",
      "roc_auc_list_acts = []\n",
      "roc_auc_list_all = []\n",
      "    \n",
      "y_train = y\n",
      "    \n",
      "X_dict = {}\n",
      "X_dict['titles'] = {'train' : titles, 'dev' : submit_df['request_title'].values, 'model' : lsvc}\n",
      "X_dict['bodies'] = {'train' : bodies, 'dev' : submit_df['request_text_edit_aware'].values, 'model' : lsvc}\n",
      "X_dict['acts'] = {'train' : acts, 'dev' : submit_df[activity_var].values, 'model' : svc}\n",
      "\n",
      "X_all = {'train':(), 'dev':()}\n",
      "\n",
      "# get initial training / dev data for text model\n",
      "if do_titles:\n",
      "    X_train = tv.fit_transform(X_dict['titles']['train'])\n",
      "    X_dev = tv.transform(X_dict['titles']['dev'])\n",
      "    model = X_dict['titles']['model']\n",
      "\n",
      "    if prune_features:\n",
      "        model.set_params(loss = 'l1', C=.005)\n",
      "        #model.set_params(loss = 'l1', C=1)\n",
      "        model.fit(X_train, y_train)\n",
      "        coef = model.coef_\n",
      "        sig_coef = (np.abs(coef) > 0.01)[0]\n",
      "        print '%d/%d' % (np.sum(sig_coef), coef.shape[1])\n",
      "\n",
      "        X_train = X_train[:,sig_coef]\n",
      "        X_dev = X_dev[:,sig_coef]\n",
      "        model.set_params(loss = 'l2', C=5)\n",
      "\n",
      "\n",
      "    model.fit(X_train, y_train)\n",
      "    pred = model.predict(X_dev)\n",
      "\n",
      "    X_all['train'] = X_all['train'] + (X_train,)\n",
      "    X_all['dev'] = X_all['dev'] + (X_dev,)\n",
      "\n",
      "if do_bodies:\n",
      "    X_train = tv.fit_transform(X_dict['bodies']['train'])\n",
      "    X_dev = tv.transform(X_dict['bodies']['dev'])\n",
      "    model = X_dict['bodies']['model']\n",
      "\n",
      "    if prune_features:\n",
      "        model.set_params(loss = 'l1', C=.0025)\n",
      "        #model.set_params(loss = 'l1', C=1)\n",
      "        model.fit(X_train, y_train)\n",
      "        coef = model.coef_\n",
      "        sig_coef = (np.abs(coef) > 0.01)[0]\n",
      "        print '%d/%d' % (np.sum(sig_coef), coef.shape[1])\n",
      "\n",
      "        X_train = X_train[:,sig_coef]\n",
      "        X_dev = X_dev[:,sig_coef]\n",
      "        model.set_params(loss = 'l2', C=1)\n",
      "\n",
      "\n",
      "    model.fit(X_train, y_train)\n",
      "    pred = model.predict(X_dev)\n",
      "\n",
      "    X_all['train'] = X_all['train'] + (X_train,)\n",
      "    X_all['dev'] = X_all['dev'] + (X_dev,)\n",
      "\n",
      "if do_acts:\n",
      "    X_train = scaler.fit_transform(X_dict['acts']['train'])\n",
      "    X_dev = scaler.transform(X_dict['acts']['dev'])\n",
      "    model = X_dict['acts']['model']\n",
      "\n",
      "    model.fit(X_train, y_train)\n",
      "    pred = model.predict(X_dev)\n",
      "\n",
      "    X_all['train'] = X_all['train'] + (X_train,)\n",
      "    X_all['dev'] = X_all['dev'] + (X_dev,)\n",
      "\n",
      "if do_bodies + do_titles + do_acts > 1:\n",
      "    X_train = scaler.fit_transform(scipy.sparse.hstack(X_all['train'],'csr').toarray())\n",
      "    X_dev = scaler.transform(scipy.sparse.hstack( X_all['dev'],'csr').toarray())\n",
      "\n",
      "\n",
      "\n",
      "    #if prune_features:\n",
      "    if True:\n",
      "        model = lsvc\n",
      "        model.set_params(loss = 'l1', C=5)\n",
      "        model.fit(X_train, y_train)\n",
      "        coef = model.coef_\n",
      "        sig_coef = (np.abs(coef) > 0.01)[0]\n",
      "        print '%d/%d' % (np.sum(sig_coef), coef.shape[1])\n",
      "\n",
      "        X_train = X_train[:,sig_coef]\n",
      "        X_dev = X_dev[:,sig_coef]\n",
      "\n",
      "    model = svc\n",
      "    model.set_params(C=1)\n",
      "\n",
      "    #model = adaboost\n",
      "\n",
      "\n",
      "    model.fit(X_train,y_train)\n",
      "    pred = model.predict(X_dev)\n",
      "\n"
     ],
     "language": "python",
     "metadata": {},
     "outputs": [
      {
       "output_type": "stream",
       "stream": "stdout",
       "text": [
        "66/14509\n",
        "71/75"
       ]
      },
      {
       "output_type": "stream",
       "stream": "stdout",
       "text": [
        "\n"
       ]
      }
     ],
     "prompt_number": 51
    },
    {
     "cell_type": "code",
     "collapsed": false,
     "input": [
      "make_submission_csv(pred, submit_df['request_id'].values, 'request_text_and_activity')"
     ],
     "language": "python",
     "metadata": {},
     "outputs": [],
     "prompt_number": 52
    }
   ],
   "metadata": {}
  }
 ]
}