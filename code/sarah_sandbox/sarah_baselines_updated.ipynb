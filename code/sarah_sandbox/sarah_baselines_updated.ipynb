{
 "metadata": {
  "name": "",
  "signature": "sha256:b7387f503bcf781ee7f39a9f4ab34f3bfe3f7b89831418b0e64ce41b058553de"
 },
 "nbformat": 3,
 "nbformat_minor": 0,
 "worksheets": [
  {
   "cells": [
    {
     "cell_type": "code",
     "collapsed": false,
     "input": [
      "# Standard libaries.\n",
      "import sys\n",
      "import json\n",
      "import csv\n",
      "import numpy as np\n",
      "import random as rand\n",
      "from sklearn.linear_model import LogisticRegression\n",
      "\n",
      "\n",
      "# SK-learn libraries for learning.\n",
      "from sklearn.pipeline import Pipeline\n",
      "from sklearn.neighbors import KNeighborsClassifier\n",
      "from sklearn.linear_model import LogisticRegression\n",
      "from sklearn.naive_bayes import BernoulliNB\n",
      "from sklearn.naive_bayes import MultinomialNB\n",
      "from sklearn.grid_search import GridSearchCV\n",
      "\n",
      "# SK-learn libraries for evaluation.\n",
      "from sklearn.metrics import confusion_matrix\n",
      "from sklearn import metrics\n",
      "from sklearn.metrics import classification_report"
     ],
     "language": "python",
     "metadata": {},
     "outputs": [],
     "prompt_number": 20
    },
    {
     "cell_type": "code",
     "collapsed": false,
     "input": [
      "# Ross' code for loading the json file and nice code to create the csv. \n",
      "\n",
      "def load_json_file(path):\n",
      "    with open(path) as f:\n",
      "        data = json.load(f)\n",
      "    return data\n",
      "\n",
      "def make_submission_csv(predictions, ids, submission_name, path = 'C:/Users/Sarah/Documents/GitHub/brokenBNZ/predictions'):\n",
      "    with open(path+'/'+submission_name+'.csv', 'w') as csvfile:\n",
      "        field_names = ['request_id', 'requester_received_pizza'] # Alter\n",
      "        writer = csv.DictWriter(csvfile, fieldnames = field_names)\n",
      "        writer.writeheader()\n",
      "        csv_data = zip(ids, predictions)\n",
      "        for row in csv_data:\n",
      "            writer.writerow({field_names[0]:row[0], field_names[1]:int(row[1])})\n",
      "    "
     ],
     "language": "python",
     "metadata": {},
     "outputs": [],
     "prompt_number": 21
    },
    {
     "cell_type": "code",
     "collapsed": false,
     "input": [
      "# Bringing in the json datasets which Ross uploaded.\n",
      "all_train_data = load_json_file('train.json')\n",
      "test_data =  load_json_file('test.json')"
     ],
     "language": "python",
     "metadata": {},
     "outputs": [],
     "prompt_number": 22
    },
    {
     "cell_type": "code",
     "collapsed": false,
     "input": [
      "\n",
      "# Size of train and test data\n",
      "num_train = len(all_train_data)\n",
      "num_test = len(test_data)\n",
      "print \"num_train\", num_train\n",
      "print \"num_test\", num_test\n",
      "\n",
      "\n",
      "# Ross'\n",
      "# set size of dev set (We can easily change the size of the dev data if we need to)\n",
      "pct_dev = 0.25\n",
      "n_dev = int(num_train * pct_dev)\n",
      "\n",
      "# process labels\n",
      "all_train_labels = np.array([x['requester_received_pizza'] for x in all_train_data])\n",
      "\n",
      "# shuffle array to avoid biased split of train / dev data\n",
      "rand.shuffle(all_train_labels)\n",
      "\n",
      "dev_labels = all_train_labels[:n_dev]\n",
      "train_labels = all_train_labels[n_dev:]\n"
     ],
     "language": "python",
     "metadata": {},
     "outputs": [
      {
       "output_type": "stream",
       "stream": "stdout",
       "text": [
        "num_train 4040\n",
        "num_test 1631\n"
       ]
      }
     ],
     "prompt_number": 23
    },
    {
     "cell_type": "code",
     "collapsed": false,
     "input": [
      "# My attempt for the Baseline Model\n",
      "# Confirming the different sizes of each dataset.\n",
      "print \"all train data \", len(all_train_data)\n",
      "print \"all train labels \", len(all_train_labels)\n",
      "print \"test data \", len(test_data)\n",
      "print \"dev_labels \", len(dev_labels)\n",
      "print \"train labels \", len(train_labels)\n",
      "\n",
      "\n",
      "# My attempt for the Baseline Model - K Nearest Neighbors\n",
      "\n",
      "X_train_base = np.array([[1]]*len(all_train_data))\n",
      "X_test_base = np.array([[1]]*len(test_data))\n",
      "\n",
      "# K Nearest Neighbors baseline model\n",
      "k_values = [1, 3, 5, 7, 9]\n",
      "\n",
      "# Reporting F1 Score for k Nearest Neighbors Classifier:\n",
      "for k in k_values:\n",
      "    KNN_class = KNeighborsClassifier(n_neighbors = k) \n",
      "    KNN_class.fit(X_train_base, all_train_labels)\n",
      "    pred = KNN_class.predict_proba(X_test_base)\n",
      "    print \"\\n The predicted probability for our k Nearest Neighbors with k = %d is: \" % k\n",
      "    print pred[1]\n",
      "    \n",
      "    \n",
      "# My attempt for the Baseline Model - Naive Bayes\n",
      "\n",
      "alphas = [0.001, 0.01, 0.1, 0.5, 1.0, 2.0, 5.0, 10.0]\n",
      "   \n",
      "# Reporting F1 Score for Multinomial Naive Bayes Classifier:\n",
      "for a in alphas:\n",
      "    MNB_class = MultinomialNB(alpha = a)\n",
      "    MNB_class.fit(X_train_base, all_train_labels)\n",
      "    pred = MNB_class.predict_proba(X_test_base)\n",
      "    print \"\\n The predicted value for our Multinomial Naive Bayes Classifier with alpha = %.3f is: \" % a\n",
      "    print pred\n",
      "\n",
      "#return \"done\""
     ],
     "language": "python",
     "metadata": {},
     "outputs": [
      {
       "output_type": "stream",
       "stream": "stdout",
       "text": [
        "all train data  4040\n",
        "all train labels  4040\n",
        "test data  1631\n",
        "dev_labels  1010\n",
        "train labels  3030\n",
        "\n",
        " The predicted probability for our k Nearest Neighbors with k = 1 is: "
       ]
      },
      {
       "output_type": "stream",
       "stream": "stdout",
       "text": [
        "\n",
        "[ 1.  0.]\n",
        "\n",
        " The predicted probability for our k Nearest Neighbors with k = 3 is: "
       ]
      },
      {
       "output_type": "stream",
       "stream": "stdout",
       "text": [
        "\n",
        "[ 1.  0.]\n",
        "\n",
        " The predicted probability for our k Nearest Neighbors with k = 5 is: "
       ]
      },
      {
       "output_type": "stream",
       "stream": "stdout",
       "text": [
        "\n",
        "[ 0.8  0.2]\n",
        "\n",
        " The predicted probability for our k Nearest Neighbors with k = 7 is: "
       ]
      },
      {
       "output_type": "stream",
       "stream": "stdout",
       "text": [
        "\n",
        "[ 0.85714286  0.14285714]\n",
        "\n",
        " The predicted probability for our k Nearest Neighbors with k = 9 is: "
       ]
      },
      {
       "output_type": "stream",
       "stream": "stdout",
       "text": [
        "\n",
        "[ 0.88888889  0.11111111]\n",
        "\n",
        " The predicted value for our Multinomial Naive Bayes Classifier with alpha = 0.001 is: "
       ]
      },
      {
       "output_type": "stream",
       "stream": "stdout",
       "text": [
        "\n",
        "[[ 0.7539604  0.2460396]\n",
        " [ 0.7539604  0.2460396]\n",
        " [ 0.7539604  0.2460396]\n",
        " ..., \n",
        " [ 0.7539604  0.2460396]\n",
        " [ 0.7539604  0.2460396]\n",
        " [ 0.7539604  0.2460396]]\n",
        "\n",
        " The predicted value for our Multinomial Naive Bayes Classifier with alpha = 0.010 is: \n",
        "[[ 0.7539604  0.2460396]\n",
        " [ 0.7539604  0.2460396]\n",
        " [ 0.7539604  0.2460396]\n",
        " ..., \n",
        " [ 0.7539604  0.2460396]\n",
        " [ 0.7539604  0.2460396]\n",
        " [ 0.7539604  0.2460396]]\n",
        "\n",
        " The predicted value for our Multinomial Naive Bayes Classifier with alpha = 0.100 is: \n",
        "[[ 0.7539604  0.2460396]\n",
        " [ 0.7539604  0.2460396]\n",
        " [ 0.7539604  0.2460396]\n",
        " ..., \n",
        " [ 0.7539604  0.2460396]\n",
        " [ 0.7539604  0.2460396]\n",
        " [ 0.7539604  0.2460396]]\n",
        "\n",
        " The predicted value for our Multinomial Naive Bayes Classifier with alpha = 0.500 is: \n",
        "[[ 0.7539604  0.2460396]\n",
        " [ 0.7539604  0.2460396]\n",
        " [ 0.7539604  0.2460396]\n",
        " ..., \n",
        " [ 0.7539604  0.2460396]\n",
        " [ 0.7539604  0.2460396]\n",
        " [ 0.7539604  0.2460396]]\n",
        "\n",
        " The predicted value for our Multinomial Naive Bayes Classifier with alpha = 1.000 is: \n",
        "[[ 0.7539604  0.2460396]\n",
        " [ 0.7539604  0.2460396]\n",
        " [ 0.7539604  0.2460396]\n",
        " ..., \n",
        " [ 0.7539604  0.2460396]\n",
        " [ 0.7539604  0.2460396]\n",
        " [ 0.7539604  0.2460396]]\n",
        "\n",
        " The predicted value for our Multinomial Naive Bayes Classifier with alpha = 2.000 is: \n",
        "[[ 0.7539604  0.2460396]\n",
        " [ 0.7539604  0.2460396]\n",
        " [ 0.7539604  0.2460396]\n",
        " ..., \n",
        " [ 0.7539604  0.2460396]\n",
        " [ 0.7539604  0.2460396]\n",
        " [ 0.7539604  0.2460396]]\n",
        "\n",
        " The predicted value for our Multinomial Naive Bayes Classifier with alpha = 5.000 is: \n",
        "[[ 0.7539604  0.2460396]\n",
        " [ 0.7539604  0.2460396]\n",
        " [ 0.7539604  0.2460396]\n",
        " ..., \n",
        " [ 0.7539604  0.2460396]\n",
        " [ 0.7539604  0.2460396]\n",
        " [ 0.7539604  0.2460396]]\n",
        "\n",
        " The predicted value for our Multinomial Naive Bayes Classifier with alpha = 10.000 is: \n",
        "[[ 0.7539604  0.2460396]\n",
        " [ 0.7539604  0.2460396]\n",
        " [ 0.7539604  0.2460396]\n",
        " ..., \n",
        " [ 0.7539604  0.2460396]\n",
        " [ 0.7539604  0.2460396]\n",
        " [ 0.7539604  0.2460396]]\n"
       ]
      }
     ],
     "prompt_number": 37
    },
    {
     "cell_type": "code",
     "collapsed": false,
     "input": [],
     "language": "python",
     "metadata": {},
     "outputs": []
    }
   ],
   "metadata": {}
  }
 ]
}