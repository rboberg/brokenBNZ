{
 "metadata": {
  "name": "",
  "signature": "sha256:a128dcf338a8cd519c68e52b542cf74b1a813b444d41713226fb2b245075cecd"
 },
 "nbformat": 3,
 "nbformat_minor": 0,
 "worksheets": [
  {
   "cells": [
    {
     "cell_type": "code",
     "collapsed": false,
     "input": [
      "%matplotlib inline\n",
      "import json\n",
      "import csv\n",
      "import numpy as np\n",
      "import random as rand\n",
      "import pandas as pd\n",
      "import scipy as scipy\n",
      "import datetime as dt\n",
      "import time\n",
      "import matplotlib.pyplot as plt\n",
      "from sklearn.linear_model import LogisticRegression\n",
      "from sklearn.svm import SVC\n",
      "from sklearn.svm import LinearSVC\n",
      "from sklearn.metrics import classification_report\n",
      "from sklearn.metrics import roc_auc_score\n",
      "from sklearn.cross_validation import KFold\n",
      "from sklearn.preprocessing import StandardScaler\n",
      "from sklearn.decomposition import PCA\n",
      "from sklearn.feature_extraction.text import CountVectorizer\n",
      "from sklearn.feature_extraction.text import TfidfVectorizer\n",
      "from sklearn.pipeline import Pipeline\n",
      "from sklearn.naive_bayes import GaussianNB\n",
      "from sklearn.naive_bayes import MultinomialNB\n",
      "from sklearn.tree import DecisionTreeClassifier\n",
      "from sklearn.ensemble import AdaBoostClassifier\n",
      "from sklearn.mixture import GMM\n",
      "from sklearn.ensemble import ExtraTreesClassifier\n",
      "from sklearn.cross_validation import cross_val_score\n",
      "from sklearn.metrics import make_scorer"
     ],
     "language": "python",
     "metadata": {},
     "outputs": [],
     "prompt_number": 63
    },
    {
     "cell_type": "code",
     "collapsed": false,
     "input": [
      "def load_json_file(path):\n",
      "    with open(path) as f:\n",
      "        data = json.load(f)\n",
      "    return data\n",
      "\n",
      "def make_submission_csv(predictions, ids, submission_name, path = '../../predictions'):\n",
      "    with open(path+'/'+submission_name+'.csv', 'w') as csvfile:\n",
      "        field_names = ['request_id', 'requester_received_pizza']\n",
      "        writer = csv.DictWriter(csvfile, fieldnames = field_names)\n",
      "        writer.writeheader()\n",
      "        csv_data = zip(ids, predictions)\n",
      "        for row in csv_data:\n",
      "            writer.writerow({field_names[0]:row[0], field_names[1]:int(row[1])})\n",
      "\n",
      "def test_kfolds(X, y, kf, model, verbose=True):\n",
      "    roc_auc_list = []\n",
      "    \n",
      "    for train_i, dev_i in kf:\n",
      "        X_train = X[train_i]\n",
      "        X_dev = X[dev_i]\n",
      "\n",
      "        model.fit(X_train, y[train_i])\n",
      "\n",
      "        dev_pred = model.predict(X_dev)\n",
      "        \n",
      "        roc_auc_i = roc_auc_score(y[dev_i], dev_pred)\n",
      "        roc_auc_list.append(roc_auc_i)\n",
      "        if verbose:\n",
      "            print('ROC AUC:',roc_auc_i)\n",
      "            \n",
      "    if verbose:\n",
      "        print 'Mean: %f, Median: %f' %(np.mean(roc_auc_list), np.median(roc_auc_list))\n",
      "        \n",
      "    return roc_auc_list\n"
     ],
     "language": "python",
     "metadata": {},
     "outputs": [],
     "prompt_number": 3
    },
    {
     "cell_type": "code",
     "collapsed": false,
     "input": [
      "# load data from JSON file as list of dicts\n",
      "all_train_dict_list = load_json_file('../../data/train.json')\n",
      "submit_dict_list =  load_json_file('../../data/test.json')\n",
      "\n",
      "n_all = len(all_train_dict_list)\n",
      "n_submit = len(submit_dict_list)\n",
      "\n",
      "# shuffle data to avoid biased split of train / dev data\n",
      "rand.shuffle(all_train_dict_list)\n",
      "\n",
      "# set up kFolds\n",
      "kf = KFold(n_all, n_folds = 5)\n",
      "\n",
      "# process labels\n",
      "all_train_labels = np.array([x['requester_received_pizza'] for x in all_train_dict_list])\n",
      "\n",
      "# pandas is useful for turning dicts in to matrix-like objects\n",
      "# where each column is an numpy array\n",
      "submit_df = pd.DataFrame(submit_dict_list)\n",
      "all_train_df = pd.DataFrame(all_train_dict_list)\n",
      "\n",
      "# limit train to columns available in submit_df\n",
      "submit_cols = submit_df.columns\n",
      "all_train_df = all_train_df[submit_cols]"
     ],
     "language": "python",
     "metadata": {},
     "outputs": [],
     "prompt_number": 4
    },
    {
     "cell_type": "code",
     "collapsed": false,
     "input": [
      "# which columns are numeric activity variables\n",
      "activity_var = ['requester_account_age_in_days_at_request',\n",
      "                'requester_days_since_first_post_on_raop_at_request',\n",
      "                'requester_number_of_comments_at_request',\n",
      "                'requester_number_of_comments_in_raop_at_request',\n",
      "                'requester_number_of_posts_at_request',\n",
      "                'requester_number_of_posts_on_raop_at_request',\n",
      "                'requester_number_of_subreddits_at_request',\n",
      "                'requester_upvotes_minus_downvotes_at_request',\n",
      "                'requester_upvotes_plus_downvotes_at_request'\n",
      "                ]\n",
      "# look at correlations of requester activity variables:\n",
      "activity_all = all_train_df.loc[:,activity_var]\n",
      "\n",
      "scaler = StandardScaler()\n",
      "X_act = scaler.fit_transform(activity_all)\n",
      "\n"
     ],
     "language": "python",
     "metadata": {},
     "outputs": [],
     "prompt_number": 5
    },
    {
     "cell_type": "code",
     "collapsed": false,
     "input": [
      "# Example classification\n",
      "svc = SVC(class_weight='auto')\n",
      "lr = LogisticRegression(class_weight='auto')\n",
      "\n",
      "all_res = test_kfolds(X_act, all_train_labels, kf, svc)\n",
      "\n",
      "all_res = test_kfolds(X_act, all_train_labels, kf, lr)\n"
     ],
     "language": "python",
     "metadata": {},
     "outputs": [
      {
       "output_type": "stream",
       "stream": "stdout",
       "text": [
        "('ROC AUC:', 0.57437094155844148)\n",
        "('ROC AUC:', 0.53687660302080364)"
       ]
      },
      {
       "output_type": "stream",
       "stream": "stdout",
       "text": [
        "\n",
        "('ROC AUC:', 0.54735793847893977)"
       ]
      },
      {
       "output_type": "stream",
       "stream": "stdout",
       "text": [
        "\n",
        "('ROC AUC:', 0.54659786329218962)"
       ]
      },
      {
       "output_type": "stream",
       "stream": "stdout",
       "text": [
        "\n",
        "('ROC AUC:', 0.5470115233633025)"
       ]
      },
      {
       "output_type": "stream",
       "stream": "stdout",
       "text": [
        "\n",
        "Mean: 0.550443, Median: 0.547012\n",
        "('ROC AUC:', 0.55117018398268403)\n",
        "('ROC AUC:', 0.53486951919553805)"
       ]
      },
      {
       "output_type": "stream",
       "stream": "stdout",
       "text": [
        "\n",
        "('ROC AUC:', 0.5197160818641553)\n",
        "('ROC AUC:', 0.55191370189814326)\n",
        "('ROC AUC:', 0.54918006838039768)\n",
        "Mean: 0.541370, Median: 0.549180\n"
       ]
      }
     ],
     "prompt_number": 6
    },
    {
     "cell_type": "code",
     "collapsed": false,
     "input": [
      "# Notes\n",
      "# results slightly better w/ lowercase = False (when unigrams only)\n",
      "# bigrams added no value on unigrams\n",
      "\n",
      "titles = all_train_df['request_title'].values\n",
      "bodies = all_train_df['request_text_edit_aware'].values\n",
      "\n",
      "cv = CountVectorizer(ngram_range=(1,1),lowercase=False)\n",
      "lsvc = LinearSVC(class_weight='auto', C = 2)\n",
      "lsvc_pipe = Pipeline([('cv',cv),('lsvc',lsvc)])\n",
      "\n",
      "test_kfolds(titles, all_train_labels, kf, lsvc_pipe)\n",
      "\n",
      "\n",
      "tv = TfidfVectorizer(ngram_range=(1,1),lowercase=False)\n",
      "lsvc = LinearSVC(class_weight='auto', C = 2)\n",
      "lsvc_pipe = Pipeline([('tv',tv),('lsvc',lsvc)])\n",
      "\n",
      "test_kfolds(titles, all_train_labels, kf, lsvc_pipe)"
     ],
     "language": "python",
     "metadata": {},
     "outputs": [
      {
       "output_type": "stream",
       "stream": "stdout",
       "text": [
        "('ROC AUC:', 0.54528544372294374)\n",
        "('ROC AUC:', 0.55413426698693169)"
       ]
      },
      {
       "output_type": "stream",
       "stream": "stdout",
       "text": [
        "\n",
        "('ROC AUC:', 0.52409697804224353)"
       ]
      },
      {
       "output_type": "stream",
       "stream": "stdout",
       "text": [
        "\n",
        "('ROC AUC:', 0.48031843169795663)"
       ]
      },
      {
       "output_type": "stream",
       "stream": "stdout",
       "text": [
        "\n",
        "('ROC AUC:', 0.52787450930733182)"
       ]
      },
      {
       "output_type": "stream",
       "stream": "stdout",
       "text": [
        "\n",
        "Mean: 0.526342, Median: 0.527875\n",
        "('ROC AUC:', 0.53439529220779225)"
       ]
      },
      {
       "output_type": "stream",
       "stream": "stdout",
       "text": [
        "\n",
        "('ROC AUC:', 0.54996946627040666)"
       ]
      },
      {
       "output_type": "stream",
       "stream": "stdout",
       "text": [
        "\n",
        "('ROC AUC:', 0.51923660117862092)"
       ]
      },
      {
       "output_type": "stream",
       "stream": "stdout",
       "text": [
        "\n",
        "('ROC AUC:', 0.4792379766967465)"
       ]
      },
      {
       "output_type": "stream",
       "stream": "stdout",
       "text": [
        "\n",
        "('ROC AUC:', 0.50554007851082694)"
       ]
      },
      {
       "output_type": "stream",
       "stream": "stdout",
       "text": [
        "\n",
        "Mean: 0.517676, Median: 0.519237\n"
       ]
      },
      {
       "metadata": {},
       "output_type": "pyout",
       "prompt_number": 7,
       "text": [
        "[0.53439529220779225,\n",
        " 0.54996946627040666,\n",
        " 0.51923660117862092,\n",
        " 0.4792379766967465,\n",
        " 0.50554007851082694]"
       ]
      }
     ],
     "prompt_number": 7
    },
    {
     "cell_type": "code",
     "collapsed": false,
     "input": [
      "# Try to mix text and numeric via output of text only model\n",
      "#NOTES\n",
      "# For text model that is input in to the final model, LinearSVC isn't great\n",
      "# because it only gives binary predictions \n",
      "\n",
      "X1 = all_train_df['request_title'].values\n",
      "X2 = all_train_df.loc[:,activity_var].values\n",
      "y = all_train_labels\n",
      "verbose = True\n",
      "\n",
      "cv = CountVectorizer(ngram_range=(1,1),lowercase=False)\n",
      "lsvc = LinearSVC(class_weight='auto', C = .1)\n",
      "mnb = MultinomialNB(alpha=50)\n",
      "model1 = Pipeline([('cv',cv),('lsvc',lsvc)])\n",
      "#model1 = Pipeline([('cv',cv),('mnb',mnb)])\n",
      "model2 = SVC(class_weight='auto', C=1)\n",
      "\n",
      "roc_auc_list = []\n",
      "    \n",
      "for train_i, dev_i in kf:\n",
      "    \n",
      "    # get initial training / dev data for text model\n",
      "    X_train1 = X1[train_i]\n",
      "    X_dev1 = X1[dev_i]\n",
      "    \n",
      "    # fit initial text model\n",
      "    model1.fit(X_train1, y[train_i])\n",
      "    \n",
      "    if False:\n",
      "        #if predict has proba\n",
      "        train_pred1 = model1.predict_log_proba(X_train1)[:,0].reshape((train_i.shape[0],1))\n",
      "        dev_pred1 = model1.predict_log_proba(X_dev1)[:,0].reshape((dev_i.shape[0],1))\n",
      "        #print train_pred1\n",
      "    else:\n",
      "        train_pred1 = model1.decision_function(X_train1).reshape((train_i.shape[0],1))\n",
      "        dev_pred1 = model1.decision_function(X_dev1).reshape((dev_i.shape[0],1))\n",
      "    \n",
      "    # add output of initial model in to second X matrix\n",
      "    X_train2 = np.hstack((X2[train_i], train_pred1))\n",
      "    X_dev2 = np.hstack((X2[dev_i], dev_pred1))\n",
      "    \n",
      "    #X_train2 = X2[train_i]\n",
      "    #X_dev2 = X2[dev_i]\n",
      "    \n",
      "    # scale the new X matrix\n",
      "    scaler = StandardScaler()\n",
      "    X_train2 = scaler.fit_transform(X_train2)\n",
      "    X_dev2 = scaler.transform(X_dev2)\n",
      "    \n",
      "    # train the second model\n",
      "    model2.fit(X_train2, y[train_i])\n",
      "    dev_pred2 = model2.predict(X_dev2)\n",
      "\n",
      "    roc_auc_i = roc_auc_score(y[dev_i], dev_pred2)\n",
      "    roc_auc_list.append(roc_auc_i)\n",
      "    if verbose:\n",
      "        print('ROC AUC:',roc_auc_i)\n",
      "        \n",
      "if verbose:\n",
      "     print 'Mean: %f, Median: %f' %(np.mean(roc_auc_list), np.median(roc_auc_list))\n"
     ],
     "language": "python",
     "metadata": {},
     "outputs": [
      {
       "output_type": "stream",
       "stream": "stdout",
       "text": [
        "('ROC AUC:', 0.55421401515151525)\n",
        "('ROC AUC:', 0.54917558930098109)"
       ]
      },
      {
       "output_type": "stream",
       "stream": "stdout",
       "text": [
        "\n",
        "('ROC AUC:', 0.55557877826682067)"
       ]
      },
      {
       "output_type": "stream",
       "stream": "stdout",
       "text": [
        "\n",
        "('ROC AUC:', 0.51121944473256575)"
       ]
      },
      {
       "output_type": "stream",
       "stream": "stdout",
       "text": [
        "\n",
        "('ROC AUC:', 0.55014562492085606)"
       ]
      },
      {
       "output_type": "stream",
       "stream": "stdout",
       "text": [
        "\n",
        "Mean: 0.544067, Median: 0.550146\n"
       ]
      }
     ],
     "prompt_number": 8
    },
    {
     "cell_type": "code",
     "collapsed": false,
     "input": [
      "len(kf)"
     ],
     "language": "python",
     "metadata": {},
     "outputs": [
      {
       "metadata": {},
       "output_type": "pyout",
       "prompt_number": 9,
       "text": [
        "5"
       ]
      }
     ],
     "prompt_number": 9
    },
    {
     "cell_type": "code",
     "collapsed": false,
     "input": [
      "# Combine title and text approaches\n",
      "\n",
      "titles = all_train_df['request_title'].values\n",
      "bodies = all_train_df['request_text_edit_aware'].values\n",
      "\n",
      "tv = TfidfVectorizer(ngram_range=(1,1),lowercase=False)\n",
      "lsvc = LinearSVC(class_weight='auto', C = 1)\n",
      "\n",
      "\n",
      "prune_features = True\n",
      "\n",
      "\n",
      "X1 = titles\n",
      "X2 = bodies\n",
      "y = all_train_labels\n",
      "verbose = True\n",
      "\n",
      "do_titles = False\n",
      "do_bodies = True\n",
      "\n",
      "model = lsvc\n",
      "\n",
      "roc_auc_list_titles = []\n",
      "roc_auc_list_bodies = []\n",
      "roc_auc_list_both = []\n",
      "    \n",
      "for train_i, dev_i in kf:\n",
      "    \n",
      "    # get initial training / dev data for text model\n",
      "    if do_titles:\n",
      "        X_train = tv.fit_transform(X1[train_i])\n",
      "        X_dev = tv.transform(X1[dev_i])\n",
      "        \n",
      "        if prune_features:\n",
      "            model.set_params(loss = 'hinge', C=.005)\n",
      "            model.fit(X_train, y[train_i])\n",
      "            coef = model.coef_\n",
      "            sig_coef = (np.abs(coef) > 0.01)[0]\n",
      "            print '%d/%d' % (np.sum(sig_coef), coef.shape[1])\n",
      "\n",
      "            X_train = X_train[:,sig_coef]\n",
      "            X_dev = X_dev[:,sig_coef]\n",
      "            model.set_params(loss = 'l2', C=5)\n",
      "        \n",
      "        \n",
      "        model.fit(X_train, y[train_i])\n",
      "        pred = model.predict(X_dev)\n",
      "\n",
      "        roc_auc_i = roc_auc_score(y[dev_i], pred)\n",
      "        roc_auc_list_titles.append(roc_auc_i)\n",
      "        \n",
      "        \n",
      "        X_train1 = X_train\n",
      "        X_dev1 = X_dev\n",
      "    \n",
      "    if do_bodies:\n",
      "        X_train = tv.fit_transform(X2[train_i])\n",
      "        X_dev = tv.transform(X2[dev_i])\n",
      "        \n",
      "        if prune_features:\n",
      "            model.set_params(loss = 'hinge', C=.0025)\n",
      "            model.fit(X_train, y[train_i])\n",
      "            coef = model.coef_\n",
      "            sig_coef = (np.abs(coef) > 0.01)[0]\n",
      "            print '%d/%d' % (np.sum(sig_coef), coef.shape[1])\n",
      "\n",
      "            X_train = X_train[:,sig_coef]\n",
      "            X_dev = X_dev[:,sig_coef]\n",
      "            model.set_params(loss = 'l2', C=1)\n",
      "        \n",
      "        \n",
      "        model.fit(X_train, y[train_i])\n",
      "        pred = model.predict(X_dev)\n",
      "\n",
      "        roc_auc_i = roc_auc_score(y[dev_i], pred)\n",
      "        roc_auc_list_bodies.append(roc_auc_i)\n",
      "        \n",
      "        X_train2 = X_train\n",
      "        X_dev2 = X_dev\n",
      "    \n",
      "    if do_bodies and do_titles:\n",
      "        X_train = scipy.sparse.hstack((X_train1,X_train2),'csr')\n",
      "        X_dev = scipy.sparse.hstack((X_dev1,X_dev2),'csr')\n",
      "        \n",
      "        if prune_features:\n",
      "            model.set_params(loss = 'hinge', C=1)\n",
      "            model.fit(X_train, y[train_i])\n",
      "            coef = model.coef_\n",
      "            sig_coef = (np.abs(coef) > 0.01)[0]\n",
      "            print '%d/%d' % (np.sum(sig_coef), coef.shape[1])\n",
      "            \n",
      "            X_train = X_train[:,sig_coef]\n",
      "            X_dev = X_dev[:,sig_coef]\n",
      "            model.set_params(loss = 'l2', C=1)\n",
      "        \n",
      "        model.fit(X_train, y[train_i])\n",
      "        pred = model.predict(X_dev)\n",
      "\n",
      "        roc_auc_i = roc_auc_score(y[dev_i], pred)\n",
      "        roc_auc_list_both.append(roc_auc_i)\n",
      "    \n",
      "    \n",
      "    if verbose:\n",
      "        print('ROC AUC:',roc_auc_i)\n",
      "        \n",
      "if verbose:\n",
      "    print 'Titles: Mean: %f, Median: %f' %(np.mean(roc_auc_list_titles), np.median(roc_auc_list_titles))\n",
      "    print 'Bodies: Mean: %f, Median: %f' %(np.mean(roc_auc_list_bodies), np.median(roc_auc_list_bodies))\n",
      "    print 'Both: Mean: %f, Median: %f' %(np.mean(roc_auc_list_both), np.median(roc_auc_list_both))\n",
      "\n"
     ],
     "language": "python",
     "metadata": {},
     "outputs": [
      {
       "output_type": "stream",
       "stream": "stderr",
       "text": [
        "C:\\Users\\Ross\\Anaconda\\lib\\site-packages\\sklearn\\svm\\classes.py:192: DeprecationWarning: loss='l1' has been deprecated in favor of loss='hinge' as of 0.16. Backward compatibility for the loss='l1' will be removed in 1.0\n",
        "  DeprecationWarning)\n",
        "C:\\Users\\Ross\\Anaconda\\lib\\site-packages\\sklearn\\svm\\classes.py:192: DeprecationWarning: loss='l2' has been deprecated in favor of loss='squared_hinge' as of 0.16. Backward compatibility for the loss='l2' will be removed in 1.0\n",
        "  DeprecationWarning)\n",
        "C:\\Users\\Ross\\Anaconda\\lib\\site-packages\\sklearn\\svm\\classes.py:192: DeprecationWarning: loss='l1' has been deprecated in favor of loss='hinge' as of 0.16. Backward compatibility for the loss='l1' will be removed in 1.0\n",
        "  DeprecationWarning)\n"
       ]
      },
      {
       "output_type": "stream",
       "stream": "stdout",
       "text": [
        "44/12836\n",
        "('ROC AUC:', 0.58174377705627711)\n",
        "44/12891"
       ]
      },
      {
       "output_type": "stream",
       "stream": "stderr",
       "text": [
        "C:\\Users\\Ross\\Anaconda\\lib\\site-packages\\sklearn\\svm\\classes.py:192: DeprecationWarning: loss='l2' has been deprecated in favor of loss='squared_hinge' as of 0.16. Backward compatibility for the loss='l2' will be removed in 1.0\n",
        "  DeprecationWarning)\n",
        "C:\\Users\\Ross\\Anaconda\\lib\\site-packages\\sklearn\\svm\\classes.py:192: DeprecationWarning: loss='l1' has been deprecated in favor of loss='hinge' as of 0.16. Backward compatibility for the loss='l1' will be removed in 1.0\n",
        "  DeprecationWarning)\n"
       ]
      },
      {
       "output_type": "stream",
       "stream": "stdout",
       "text": [
        "\n",
        "('ROC AUC:', 0.58159833896511015)\n",
        "41/12952"
       ]
      },
      {
       "output_type": "stream",
       "stream": "stderr",
       "text": [
        "C:\\Users\\Ross\\Anaconda\\lib\\site-packages\\sklearn\\svm\\classes.py:192: DeprecationWarning: loss='l2' has been deprecated in favor of loss='squared_hinge' as of 0.16. Backward compatibility for the loss='l2' will be removed in 1.0\n",
        "  DeprecationWarning)\n",
        "C:\\Users\\Ross\\Anaconda\\lib\\site-packages\\sklearn\\svm\\classes.py:192: DeprecationWarning: loss='l1' has been deprecated in favor of loss='hinge' as of 0.16. Backward compatibility for the loss='l1' will be removed in 1.0\n",
        "  DeprecationWarning)\n"
       ]
      },
      {
       "output_type": "stream",
       "stream": "stdout",
       "text": [
        "\n",
        "('ROC AUC:', 0.5618694009360119)\n",
        "43/13021"
       ]
      },
      {
       "output_type": "stream",
       "stream": "stderr",
       "text": [
        "C:\\Users\\Ross\\Anaconda\\lib\\site-packages\\sklearn\\svm\\classes.py:192: DeprecationWarning: loss='l2' has been deprecated in favor of loss='squared_hinge' as of 0.16. Backward compatibility for the loss='l2' will be removed in 1.0\n",
        "  DeprecationWarning)\n",
        "C:\\Users\\Ross\\Anaconda\\lib\\site-packages\\sklearn\\svm\\classes.py:192: DeprecationWarning: loss='l1' has been deprecated in favor of loss='hinge' as of 0.16. Backward compatibility for the loss='l1' will be removed in 1.0\n",
        "  DeprecationWarning)\n"
       ]
      },
      {
       "output_type": "stream",
       "stream": "stdout",
       "text": [
        "\n",
        "('ROC AUC:', 0.57347958372229713)\n",
        "40/12625"
       ]
      },
      {
       "output_type": "stream",
       "stream": "stdout",
       "text": [
        "\n",
        "('ROC AUC:', 0.6007502849183235)\n",
        "Titles: Mean: nan, Median: nan\n",
        "Bodies: Mean: 0.579888, Median: 0.581598\n",
        "Both: Mean: nan, Median: nan\n"
       ]
      },
      {
       "output_type": "stream",
       "stream": "stderr",
       "text": [
        "C:\\Users\\Ross\\Anaconda\\lib\\site-packages\\sklearn\\svm\\classes.py:192: DeprecationWarning: loss='l2' has been deprecated in favor of loss='squared_hinge' as of 0.16. Backward compatibility for the loss='l2' will be removed in 1.0\n",
        "  DeprecationWarning)\n",
        "C:\\Users\\Ross\\Anaconda\\lib\\site-packages\\numpy\\core\\_methods.py:59: RuntimeWarning: Mean of empty slice.\n",
        "  warnings.warn(\"Mean of empty slice.\", RuntimeWarning)\n"
       ]
      }
     ],
     "prompt_number": 10
    },
    {
     "cell_type": "code",
     "collapsed": false,
     "input": [],
     "language": "python",
     "metadata": {},
     "outputs": [],
     "prompt_number": 10
    },
    {
     "cell_type": "code",
     "collapsed": false,
     "input": [
      "def timify(feature_df):\n",
      "    req_dt = np.array([dt.datetime.fromtimestamp(timei) for timei in feature_df['unix_timestamp_of_request']])\n",
      "    hour = np.array([dti.hour for dti in req_dt])\n",
      "    dow = np.array([dti.weekday() for dti in req_dt])\n",
      "    month = np.array([dti.month for dti in req_dt])\n",
      "\n",
      "    req_dt_utc = np.array([dt.datetime.fromtimestamp(timei) for timei in feature_df['unix_timestamp_of_request_utc']])\n",
      "    hour_utc = np.array([dti.hour for dti in req_dt_utc])\n",
      "    dow_utc = np.array([dti.weekday() for dti in req_dt_utc])\n",
      "    #hour_utc = np.array([dt.datetime.fromtimestamp(timei).hour  for timei in all_train_df['unix_timestamp_of_request_utc']])\n",
      "    \n",
      "    time_df = pd.DataFrame({'request_datetime':req_dt,\n",
      "                            'request_hour':hour,\n",
      "                            'request_dow':dow,\n",
      "                            'request_month':month})\n",
      "\n",
      "    return time_df\n"
     ],
     "language": "python",
     "metadata": {},
     "outputs": [],
     "prompt_number": 99
    },
    {
     "cell_type": "code",
     "collapsed": false,
     "input": [
      "time_df = timify(all_train_df)\n",
      "X_time = time_df[['request_dow','request_hour']].values"
     ],
     "language": "python",
     "metadata": {},
     "outputs": [],
     "prompt_number": 80
    },
    {
     "cell_type": "code",
     "collapsed": false,
     "input": [
      "hour_pos = hour[all_train_labels]\n",
      "hour_neg = hour[np.logical_not(all_train_labels)]\n",
      "pd.Series(hour_pos).hist(bins=24, alpha=0.2, normed=True)\n",
      "pd.Series(hour_neg).hist(bins=24, alpha=0.2, normed=True)"
     ],
     "language": "python",
     "metadata": {},
     "outputs": [
      {
       "metadata": {},
       "output_type": "pyout",
       "prompt_number": 81,
       "text": [
        "<matplotlib.axes._subplots.AxesSubplot at 0x42cbe710>"
       ]
      },
      {
       "metadata": {},
       "output_type": "display_data",
       "png": "[encoded data removed]",
       "text": [
        "<matplotlib.figure.Figure at 0x42cbe0f0>"
       ]
      }
     ],
     "prompt_number": 81
    },
    {
     "cell_type": "code",
     "collapsed": false,
     "input": [
      "dow_pos = dow[all_train_labels]\n",
      "dow_neg = dow[np.logical_not(all_train_labels)]\n",
      "pd.Series(dow_pos).hist(bins=7, alpha=0.2, normed=True)\n",
      "pd.Series(dow_neg).hist(bins=7, alpha=0.2, normed=True)"
     ],
     "language": "python",
     "metadata": {},
     "outputs": [
      {
       "metadata": {},
       "output_type": "pyout",
       "prompt_number": 82,
       "text": [
        "<matplotlib.axes._subplots.AxesSubplot at 0x35ecc898>"
       ]
      },
      {
       "metadata": {},
       "output_type": "display_data",
       "png": "[encoded data removed]",
       "text": [
        "<matplotlib.figure.Figure at 0x49b120b8>"
       ]
      }
     ],
     "prompt_number": 82
    },
    {
     "cell_type": "code",
     "collapsed": false,
     "input": [
      "etc = ExtraTreesClassifier(n_estimators=1000,\n",
      "                           max_depth = 5,\n",
      "                           min_samples_split=10,\n",
      "                           class_weight='auto')\n",
      "\n",
      "#X_time = np.array([hour,dow]).T\n",
      "\n",
      "scorer = make_scorer(roc_auc_score)\n",
      "scores = cross_val_score(etc, X_time, all_train_labels, cv=KFold(n_all, n_folds = 10), scoring=scorer)\n"
     ],
     "language": "python",
     "metadata": {},
     "outputs": [],
     "prompt_number": 83
    },
    {
     "cell_type": "code",
     "collapsed": false,
     "input": [
      "print np.median(scores)\n",
      "print np.mean(scores)"
     ],
     "language": "python",
     "metadata": {},
     "outputs": [
      {
       "output_type": "stream",
       "stream": "stdout",
       "text": [
        "0.517785576162\n",
        "0.521479486514\n"
       ]
      }
     ],
     "prompt_number": 84
    },
    {
     "cell_type": "code",
     "collapsed": false,
     "input": [],
     "language": "python",
     "metadata": {},
     "outputs": []
    },
    {
     "cell_type": "code",
     "collapsed": false,
     "input": [
      "# Combine title and text approaches\n",
      "\n",
      "acts = all_train_df[activity_var].values\n",
      "titles = all_train_df['request_title'].values\n",
      "bodies = all_train_df['request_text_edit_aware'].values\n",
      "time_df = timify(all_train_df)\n",
      "times = time_df[['request_dow','request_hour','request_month']].values\n",
      "\n",
      "tv = TfidfVectorizer(ngram_range=(1,1),lowercase=False)\n",
      "lsvc = LinearSVC(class_weight='auto', C = 1)\n",
      "svc = SVC(class_weight='auto')\n",
      "\n",
      "etc = ExtraTreesClassifier(n_estimators = 2000,\n",
      "                           max_depth = 5,\n",
      "                           min_samples_split=10,\n",
      "                           class_weight='auto')\n",
      "\n",
      "prune_features = True\n",
      "\n",
      "y = all_train_labels\n",
      "verbose = True\n",
      "\n",
      "do_titles = False\n",
      "do_bodies = True\n",
      "do_acts = True\n",
      "do_times = True\n",
      "\n",
      "model = lsvc\n",
      "scaler = StandardScaler()\n",
      "\n",
      "roc_auc_list_titles = []\n",
      "roc_auc_list_bodies = []\n",
      "roc_auc_list_acts = []\n",
      "roc_auc_list_times = []\n",
      "roc_auc_list_all = []\n",
      "    \n",
      "for train_i, dev_i in KFold(n_all, n_folds = 10):\n",
      "    X_dict = {}\n",
      "    #X_dict['titles'] = {'train' : titles[train_i], 'dev' : titles[dev_i], 'model' : lsvc}\n",
      "    #X_dict['bodies'] = {'train' : bodies[train_i], 'dev' : bodies[dev_i], 'model' : lsvc}\n",
      "    #X_dict['acts'] = {'train' : acts[train_i], 'dev' : acts[dev_i], 'model' : svc}\n",
      "    X_dict['titles'] = {'train' : titles[train_i], 'dev' : titles[dev_i], 'model' : lsvc}\n",
      "    X_dict['bodies'] = {'train' : bodies[train_i], 'dev' : bodies[dev_i], 'model' : lsvc}\n",
      "    X_dict['acts'] = {'train' : acts[train_i], 'dev' : acts[dev_i], 'model' : svc}\n",
      "    X_dict['times'] = {'train' : times[train_i], 'dev' : times[dev_i], 'model' : etc}\n",
      "\n",
      "    \n",
      "    X_all = {'train':(), 'dev':()}\n",
      "    \n",
      "    y_train = y[train_i]\n",
      "    y_dev = y[dev_i]\n",
      "    \n",
      "    # get initial training / dev data for text model\n",
      "    if do_titles:\n",
      "        X_train = tv.fit_transform(X_dict['titles']['train'])\n",
      "        X_dev = tv.transform(X_dict['titles']['dev'])\n",
      "        model = X_dict['titles']['model']\n",
      "        \n",
      "        if prune_features:\n",
      "            model.set_params(loss = 'hinge', C=.003)\n",
      "            model.fit(X_train, y_train)\n",
      "            coef = model.coef_\n",
      "            sig_coef = (np.abs(coef) > 0.01)[0]\n",
      "            print '%d/%d' % (np.sum(sig_coef), coef.shape[1])\n",
      "\n",
      "            X_train = X_train[:,sig_coef]\n",
      "            X_dev = X_dev[:,sig_coef]\n",
      "            model.set_params(loss = 'squared_hinge', C=5)\n",
      "        \n",
      "        \n",
      "        model.fit(X_train, y_train)\n",
      "        pred = model.predict(X_dev)\n",
      "\n",
      "        roc_auc_i = roc_auc_score(y_dev, pred)\n",
      "        roc_auc_list_titles.append(roc_auc_i)\n",
      "        \n",
      "        \n",
      "        X_all['train'] = X_all['train'] + (X_train,)\n",
      "        X_all['dev'] = X_all['dev'] + (X_dev,)\n",
      "    \n",
      "    if do_bodies:\n",
      "        X_train = tv.fit_transform(X_dict['bodies']['train'])\n",
      "        X_dev = tv.transform(X_dict['bodies']['dev'])\n",
      "        model = X_dict['bodies']['model']\n",
      "        \n",
      "        if prune_features:\n",
      "            model.set_params(loss = 'hinge', C=.0025)\n",
      "            model.fit(X_train, y_train)\n",
      "            coef = model.coef_\n",
      "            sig_coef = (np.abs(coef) > 0.01)[0]\n",
      "            print '%d/%d' % (np.sum(sig_coef), coef.shape[1])\n",
      "\n",
      "            X_train = X_train[:,sig_coef]\n",
      "            X_dev = X_dev[:,sig_coef]\n",
      "            model.set_params(loss = 'squared_hinge', C=1)\n",
      "        \n",
      "        \n",
      "        model.fit(X_train, y_train)\n",
      "        pred = model.predict(X_dev)\n",
      "\n",
      "        roc_auc_i = roc_auc_score(y_dev, pred)\n",
      "        roc_auc_list_bodies.append(roc_auc_i)\n",
      "        \n",
      "        X_all['train'] = X_all['train'] + (X_train,)\n",
      "        X_all['dev'] = X_all['dev'] + (X_dev,)\n",
      "        \n",
      "    if do_acts:\n",
      "        X_train = scaler.fit_transform(X_dict['acts']['train'])\n",
      "        X_dev = scaler.transform(X_dict['acts']['dev'])\n",
      "        model = X_dict['acts']['model']\n",
      "        \n",
      "        model.fit(X_train, y_train)\n",
      "        pred = model.predict(X_dev)\n",
      "\n",
      "        roc_auc_i = roc_auc_score(y_dev, pred)\n",
      "        roc_auc_list_acts.append(roc_auc_i)\n",
      "        \n",
      "        X_all['train'] = X_all['train'] + (X_train,)\n",
      "        X_all['dev'] = X_all['dev'] + (X_dev,)\n",
      "        \n",
      "    if do_times:\n",
      "        X_train = X_dict['times']['train']\n",
      "        X_dev = X_dict['times']['dev']\n",
      "        model = model = X_dict['times']['model']\n",
      "        \n",
      "        model.fit(X_train, y_train)\n",
      "        pred = model.predict(X_dev)\n",
      "\n",
      "        roc_auc_i = roc_auc_score(y_dev, pred)\n",
      "        roc_auc_list_times.append(roc_auc_i)\n",
      "        \n",
      "        X_all['train'] = X_all['train'] + (X_train,)\n",
      "        X_all['dev'] = X_all['dev'] + (X_dev,)\n",
      "    \n",
      "    if do_bodies + do_titles + do_acts > 1:\n",
      "        #X_train = scaler.fit_transform(scipy.sparse.hstack(X_all['train'],'csr').toarray())\n",
      "        X_train = scipy.sparse.hstack(X_all['train'],'csr').toarray()\n",
      "        #X_dev = scaler.transform(scipy.sparse.hstack( X_all['dev'],'csr').toarray())\n",
      "        X_dev = scipy.sparse.hstack( X_all['dev'],'csr').toarray()\n",
      "\n",
      "        \n",
      "        \n",
      "        if prune_features:\n",
      "            model = lsvc\n",
      "            model.set_params(loss = 'hinge', C=5)\n",
      "            model.fit(X_train, y_train)\n",
      "            coef = model.coef_\n",
      "            sig_coef = (np.abs(coef) > 0.01)[0]\n",
      "            print '%d/%d' % (np.sum(sig_coef), coef.shape[1])\n",
      "            \n",
      "            X_train = X_train[:,sig_coef]\n",
      "            X_dev = X_dev[:,sig_coef]\n",
      "          \n",
      "        model = svc\n",
      "        model.set_params(C=1)\n",
      "        \n",
      "        model = etc\n",
      "        \n",
      "        \n",
      "        model.fit(X_train,y_train)\n",
      "        pred = model.predict(X_dev)\n",
      "\n",
      "        roc_auc_i = roc_auc_score(y_dev, pred)\n",
      "        roc_auc_list_all.append(roc_auc_i)\n",
      "    \n",
      "    \n",
      "    if verbose:\n",
      "        print('ROC AUC:',roc_auc_i)\n",
      "        \n",
      "if verbose:\n",
      "    print 'Titles: Mean: %f, Median: %f' %(np.mean(roc_auc_list_titles), np.median(roc_auc_list_titles))\n",
      "    print 'Bodies: Mean: %f, Median: %f' %(np.mean(roc_auc_list_bodies), np.median(roc_auc_list_bodies))\n",
      "    print 'Activities: Mean: %f, Median: %f' %(np.mean(roc_auc_list_acts), np.median(roc_auc_list_acts))\n",
      "    print 'All: Mean: %f, Median: %f' %(np.mean(roc_auc_list_all), np.median(roc_auc_list_all))\n",
      "\n",
      "\n",
      "    "
     ],
     "language": "python",
     "metadata": {},
     "outputs": [
      {
       "output_type": "stream",
       "stream": "stdout",
       "text": [
        "56/13657\n",
        "67/68"
       ]
      },
      {
       "output_type": "stream",
       "stream": "stdout",
       "text": [
        "\n",
        "('ROC AUC:', 0.61507479861910241)"
       ]
      },
      {
       "output_type": "stream",
       "stream": "stdout",
       "text": [
        "\n",
        "49/13731"
       ]
      },
      {
       "output_type": "stream",
       "stream": "stdout",
       "text": [
        "\n",
        "56/61"
       ]
      },
      {
       "output_type": "stream",
       "stream": "stdout",
       "text": [
        "\n",
        "('ROC AUC:', 0.61089743589743595)"
       ]
      },
      {
       "output_type": "stream",
       "stream": "stdout",
       "text": [
        "\n",
        "56/13764"
       ]
      },
      {
       "output_type": "stream",
       "stream": "stdout",
       "text": [
        "\n",
        "67/68"
       ]
      },
      {
       "output_type": "stream",
       "stream": "stdout",
       "text": [
        "\n",
        "('ROC AUC:', 0.61386138613861385)"
       ]
      },
      {
       "output_type": "stream",
       "stream": "stdout",
       "text": [
        "\n",
        "49/13677"
       ]
      },
      {
       "output_type": "stream",
       "stream": "stdout",
       "text": [
        "\n",
        "59/61"
       ]
      },
      {
       "output_type": "stream",
       "stream": "stdout",
       "text": [
        "\n",
        "('ROC AUC:', 0.5613232047786002)"
       ]
      },
      {
       "output_type": "stream",
       "stream": "stdout",
       "text": [
        "\n",
        "50/13774"
       ]
      },
      {
       "output_type": "stream",
       "stream": "stdout",
       "text": [
        "\n",
        "61/62"
       ]
      },
      {
       "output_type": "stream",
       "stream": "stdout",
       "text": [
        "\n",
        "('ROC AUC:', 0.58516436722875143)"
       ]
      },
      {
       "output_type": "stream",
       "stream": "stdout",
       "text": [
        "\n",
        "47/13726"
       ]
      },
      {
       "output_type": "stream",
       "stream": "stdout",
       "text": [
        "\n",
        "57/59"
       ]
      },
      {
       "output_type": "stream",
       "stream": "stdout",
       "text": [
        "\n",
        "('ROC AUC:', 0.62216664556160561)"
       ]
      },
      {
       "output_type": "stream",
       "stream": "stdout",
       "text": [
        "\n",
        "54/13780"
       ]
      },
      {
       "output_type": "stream",
       "stream": "stdout",
       "text": [
        "\n",
        "64/66"
       ]
      },
      {
       "output_type": "stream",
       "stream": "stdout",
       "text": [
        "\n",
        "('ROC AUC:', 0.57561796109404706)"
       ]
      },
      {
       "output_type": "stream",
       "stream": "stdout",
       "text": [
        "\n",
        "49/13787"
       ]
      },
      {
       "output_type": "stream",
       "stream": "stdout",
       "text": [
        "\n",
        "59/61"
       ]
      },
      {
       "output_type": "stream",
       "stream": "stdout",
       "text": [
        "\n",
        "('ROC AUC:', 0.6021052631578947)"
       ]
      },
      {
       "output_type": "stream",
       "stream": "stdout",
       "text": [
        "\n",
        "51/13556"
       ]
      },
      {
       "output_type": "stream",
       "stream": "stdout",
       "text": [
        "\n",
        "60/63"
       ]
      },
      {
       "output_type": "stream",
       "stream": "stdout",
       "text": [
        "\n",
        "('ROC AUC:', 0.66743970315398893)"
       ]
      },
      {
       "output_type": "stream",
       "stream": "stdout",
       "text": [
        "\n",
        "50/13640"
       ]
      },
      {
       "output_type": "stream",
       "stream": "stdout",
       "text": [
        "\n",
        "61/62"
       ]
      },
      {
       "output_type": "stream",
       "stream": "stdout",
       "text": [
        "\n",
        "('ROC AUC:', 0.64975327879496181)"
       ]
      },
      {
       "output_type": "stream",
       "stream": "stdout",
       "text": [
        "\n",
        "Titles: Mean: nan, Median: nan\n",
        "Bodies: Mean: 0.583764, Median: 0.584844\n",
        "Activities: Mean: 0.552614, Median: 0.552422\n",
        "All: Mean: 0.610340, Median: 0.612379\n"
       ]
      }
     ],
     "prompt_number": 101
    },
    {
     "cell_type": "code",
     "collapsed": false,
     "input": [
      "# Combine numeric and text approaches\n",
      "\n",
      "acts = all_train_df[activity_var].values\n",
      "titles = all_train_df['request_title'].values\n",
      "bodies = all_train_df['request_text_edit_aware'].values\n",
      "time_df = timify(all_train_df)\n",
      "times = time_df[['request_dow','request_hour']].values\n",
      "time_df_submit = timify(submit_df)\n",
      "times_submit = time_df_submit[['request_dow','request_hour']].values\n",
      "\n",
      "tv = TfidfVectorizer(ngram_range=(1,1),lowercase=False)\n",
      "lsvc = LinearSVC(class_weight='auto', C = 1)\n",
      "svc = SVC(class_weight='auto')\n",
      "\n",
      "etc = ExtraTreesClassifier(n_estimators=1000,\n",
      "                           max_depth = 5,\n",
      "                           min_samples_split=10,\n",
      "                           class_weight='auto')\n",
      "\n",
      "prune_features = True\n",
      "\n",
      "y = all_train_labels\n",
      "verbose = True\n",
      "\n",
      "do_titles = False\n",
      "do_bodies = True\n",
      "do_acts = True\n",
      "\n",
      "model = lsvc\n",
      "scaler = StandardScaler()\n",
      "\n",
      "roc_auc_list_titles = []\n",
      "roc_auc_list_bodies = []\n",
      "roc_auc_list_acts = []\n",
      "roc_auc_list_times = []\n",
      "roc_auc_list_all = []\n",
      "    \n",
      "y_train = y\n",
      "    \n",
      "X_dict = {}\n",
      "X_dict['titles'] = {'train' : titles, 'dev' : submit_df['request_title'].values, 'model' : lsvc}\n",
      "X_dict['bodies'] = {'train' : bodies, 'dev' : submit_df['request_text_edit_aware'].values, 'model' : lsvc}\n",
      "X_dict['acts'] = {'train' : acts, 'dev' : submit_df[activity_var].values, 'model' : svc}\n",
      "X_dict['times'] = {'train' : times, 'dev' : times_submit, 'model' : etc}\n",
      "\n",
      "X_all = {'train':(), 'dev':()}\n",
      "\n",
      "# get initial training / dev data for text model\n",
      "if do_titles:\n",
      "    X_train = tv.fit_transform(X_dict['titles']['train'])\n",
      "    X_dev = tv.transform(X_dict['titles']['dev'])\n",
      "    model = X_dict['titles']['model']\n",
      "\n",
      "    if prune_features:\n",
      "        model.set_params(loss = 'hinge', C=.005)\n",
      "        model.fit(X_train, y_train)\n",
      "        coef = model.coef_\n",
      "        sig_coef = (np.abs(coef) > 0.01)[0]\n",
      "        print '%d/%d' % (np.sum(sig_coef), coef.shape[1])\n",
      "\n",
      "        X_train = X_train[:,sig_coef]\n",
      "        X_dev = X_dev[:,sig_coef]\n",
      "        model.set_params(loss = 'squared_hinge', C=5)\n",
      "\n",
      "\n",
      "    model.fit(X_train, y_train)\n",
      "    pred = model.predict(X_dev)\n",
      "\n",
      "    X_all['train'] = X_all['train'] + (X_train,)\n",
      "    X_all['dev'] = X_all['dev'] + (X_dev,)\n",
      "\n",
      "if do_bodies:\n",
      "    X_train = tv.fit_transform(X_dict['bodies']['train'])\n",
      "    X_dev = tv.transform(X_dict['bodies']['dev'])\n",
      "    model = X_dict['bodies']['model']\n",
      "\n",
      "    if prune_features:\n",
      "        model.set_params(loss = 'hinge', C=.0025)\n",
      "        model.fit(X_train, y_train)\n",
      "        coef = model.coef_\n",
      "        sig_coef = (np.abs(coef) > 0.01)[0]\n",
      "        print '%d/%d' % (np.sum(sig_coef), coef.shape[1])\n",
      "\n",
      "        X_train = X_train[:,sig_coef]\n",
      "        X_dev = X_dev[:,sig_coef]\n",
      "        model.set_params(loss = 'squared_hinge', C=1)\n",
      "\n",
      "\n",
      "    model.fit(X_train, y_train)\n",
      "    pred = model.predict(X_dev)\n",
      "\n",
      "    X_all['train'] = X_all['train'] + (X_train,)\n",
      "    X_all['dev'] = X_all['dev'] + (X_dev,)\n",
      "\n",
      "if do_acts:\n",
      "    X_train = scaler.fit_transform(X_dict['acts']['train'])\n",
      "    X_dev = scaler.transform(X_dict['acts']['dev'])\n",
      "    model = X_dict['acts']['model']\n",
      "\n",
      "    model.fit(X_train, y_train)\n",
      "    pred = model.predict(X_dev)\n",
      "\n",
      "    X_all['train'] = X_all['train'] + (X_train,)\n",
      "    X_all['dev'] = X_all['dev'] + (X_dev,)\n",
      "    \n",
      "    \n",
      "if do_times:\n",
      "    X_train = X_dict['times']['train']\n",
      "    X_dev = X_dict['times']['dev']\n",
      "    model = X_dict['times']['model']\n",
      "\n",
      "    model.fit(X_train, y_train)\n",
      "    pred = model.predict(X_dev)\n",
      "\n",
      "    #roc_auc_i = roc_auc_score(y_dev, pred)\n",
      "    #roc_auc_list_times.append(roc_auc_i)\n",
      "\n",
      "    X_all['train'] = X_all['train'] + (X_train,)\n",
      "    X_all['dev'] = X_all['dev'] + (X_dev,)\n",
      "\n",
      "\n",
      "if do_bodies + do_titles + do_acts > 1:\n",
      "    #X_train = scaler.fit_transform(scipy.sparse.hstack(X_all['train'],'csr').toarray())\n",
      "    X_train = scipy.sparse.hstack(X_all['train'],'csr').toarray()\n",
      "    #X_dev = scaler.transform(scipy.sparse.hstack( X_all['dev'],'csr').toarray())\n",
      "    X_dev = scipy.sparse.hstack( X_all['dev'],'csr').toarray()\n",
      "\n",
      "    #if prune_features:\n",
      "    if True:\n",
      "        model = lsvc\n",
      "        model.set_params(loss = 'hinge', C=5)\n",
      "        model.fit(X_train, y_train)\n",
      "        coef = model.coef_\n",
      "        sig_coef = (np.abs(coef) > 0.01)[0]\n",
      "        print '%d/%d' % (np.sum(sig_coef), coef.shape[1])\n",
      "\n",
      "        X_train = X_train[:,sig_coef]\n",
      "        X_dev = X_dev[:,sig_coef]\n",
      "\n",
      "    model = svc\n",
      "    model.set_params(C=1)\n",
      "\n",
      "    model = etc\n",
      "\n",
      "\n",
      "    model.fit(X_train,y_train)\n",
      "    pred = model.predict(X_dev)\n",
      "\n"
     ],
     "language": "python",
     "metadata": {},
     "outputs": [
      {
       "output_type": "stream",
       "stream": "stdout",
       "text": [
        "66/14509\n",
        "75/77"
       ]
      },
      {
       "output_type": "stream",
       "stream": "stdout",
       "text": [
        "\n"
       ]
      }
     ],
     "prompt_number": 95
    },
    {
     "cell_type": "code",
     "collapsed": false,
     "input": [
      "make_submission_csv(pred, submit_df['request_id'].values, 'request_text_and_activity_and_time_ETClassifier')"
     ],
     "language": "python",
     "metadata": {},
     "outputs": [],
     "prompt_number": 97
    },
    {
     "cell_type": "code",
     "collapsed": false,
     "input": [
      "from nltk import word_tokenize\n",
      "from nltk.stem import WordNetLemmatizer\n",
      "from nltk.stem.porter import PorterStemmer\n",
      "from nltk.stem.snowball import SnowballStemmer\n",
      "class LemmaTokenizer(object):\n",
      "    def __init__(self):\n",
      "        self.wnl = WordNetLemmatizer()\n",
      "    def __call__(self, doc):\n",
      "        return [self.wnl.lemmatize(t) for t in word_tokenize(doc)]\n",
      "\n",
      "class SnowballStemTokenizer(object):\n",
      "    def __init__(self):\n",
      "        self.stmr = SnowballStemmer('english')\n",
      "    def __call__(self, doc):\n",
      "        return [self.stmr.stem(t) for t in word_tokenize(doc)]\n",
      "    \n",
      "class PorterStemTokenizer(object):\n",
      "    def __init__(self):\n",
      "        self.stmr = PorterStemmer()\n",
      "    def __call__(self, doc):\n",
      "        return [self.stmr.stem(t) for t in word_tokenize(doc)]\n",
      "\n"
     ],
     "language": "python",
     "metadata": {},
     "outputs": [],
     "prompt_number": 115
    },
    {
     "cell_type": "code",
     "collapsed": false,
     "input": [
      "# Combine title, body, time, numeric\n",
      "# Add text lemmazation & stemming\n",
      "\n",
      "acts = all_train_df[activity_var].values\n",
      "titles = all_train_df['request_title'].values\n",
      "bodies = all_train_df['request_text_edit_aware'].values\n",
      "time_df = timify(all_train_df)\n",
      "times = time_df[['request_dow','request_hour','request_month']].values\n",
      "\n",
      "title_unicode = all_train_df.request_title.values\n",
      "title_len = np.array([[len(x.encode('utf-8')) for x in title_unicode]]).T\n",
      "body_unicode = all_train_df.request_text_edit_aware.values\n",
      "body_len = np.array([[len(x.encode('utf-8')) for x in body_unicode]]).T\n",
      "text_derivs = np.hstack((title_len, body_len))\n",
      "\n",
      "tv = TfidfVectorizer(ngram_range=(1,1),lowercase=False, tokenizer=StemTokenizer())\n",
      "lsvc = LinearSVC(class_weight='auto', C = 1)\n",
      "svc = SVC(class_weight='auto')\n",
      "\n",
      "etc = ExtraTreesClassifier(n_estimators = 1000,\n",
      "                           max_depth = 5,\n",
      "                           min_samples_split=10,\n",
      "                           class_weight='auto')\n",
      "\n",
      "prune_features = True\n",
      "\n",
      "y = all_train_labels\n",
      "verbose = True\n",
      "\n",
      "do_titles = False\n",
      "do_bodies = True\n",
      "do_acts = True\n",
      "do_times = True\n",
      "do_text_deriv = True\n",
      "\n",
      "model = lsvc\n",
      "scaler = StandardScaler()\n",
      "\n",
      "roc_auc_list_titles = []\n",
      "roc_auc_list_bodies = []\n",
      "roc_auc_list_acts = []\n",
      "roc_auc_list_times = []\n",
      "roc_auc_list_text_derivs = []\n",
      "roc_auc_list_all = []\n",
      "    \n",
      "for train_i, dev_i in KFold(n_all, n_folds = 10):\n",
      "    X_dict = {}\n",
      "    #X_dict['titles'] = {'train' : titles[train_i], 'dev' : titles[dev_i], 'model' : lsvc}\n",
      "    #X_dict['bodies'] = {'train' : bodies[train_i], 'dev' : bodies[dev_i], 'model' : lsvc}\n",
      "    #X_dict['acts'] = {'train' : acts[train_i], 'dev' : acts[dev_i], 'model' : svc}\n",
      "    X_dict['titles'] = {'train' : titles[train_i], 'dev' : titles[dev_i], 'model' : lsvc}\n",
      "    X_dict['bodies'] = {'train' : bodies[train_i], 'dev' : bodies[dev_i], 'model' : lsvc}\n",
      "    X_dict['acts'] = {'train' : acts[train_i], 'dev' : acts[dev_i], 'model' : svc}\n",
      "    X_dict['times'] = {'train' : times[train_i], 'dev' : times[dev_i], 'model' : etc}\n",
      "    X_dict['text_derivs'] = {'train' : text_derivs[train_i], 'dev' : text_derivs[dev_i], 'model' : etc}\n",
      "\n",
      "    \n",
      "    X_all = {'train':(), 'dev':()}\n",
      "    \n",
      "    y_train = y[train_i]\n",
      "    y_dev = y[dev_i]\n",
      "    \n",
      "    # get initial training / dev data for text model\n",
      "    if do_titles:\n",
      "        X_train = tv.fit_transform(X_dict['titles']['train'])\n",
      "        X_dev = tv.transform(X_dict['titles']['dev'])\n",
      "        model = X_dict['titles']['model']\n",
      "        \n",
      "        if prune_features:\n",
      "            model.set_params(loss = 'hinge', C=.003)\n",
      "            model.fit(X_train, y_train)\n",
      "            coef = model.coef_\n",
      "            sig_coef = (np.abs(coef) > 0.01)[0]\n",
      "            print '%d/%d' % (np.sum(sig_coef), coef.shape[1])\n",
      "\n",
      "            X_train = X_train[:,sig_coef]\n",
      "            X_dev = X_dev[:,sig_coef]\n",
      "            model.set_params(loss = 'squared_hinge', C=5)\n",
      "        \n",
      "        \n",
      "        model.fit(X_train, y_train)\n",
      "        pred = model.predict(X_dev)\n",
      "\n",
      "        roc_auc_i = roc_auc_score(y_dev, pred)\n",
      "        roc_auc_list_titles.append(roc_auc_i)\n",
      "        \n",
      "        \n",
      "        X_all['train'] = X_all['train'] + (X_train,)\n",
      "        X_all['dev'] = X_all['dev'] + (X_dev,)\n",
      "    \n",
      "    if do_bodies:\n",
      "        X_train = tv.fit_transform(X_dict['bodies']['train'])\n",
      "        X_dev = tv.transform(X_dict['bodies']['dev'])\n",
      "        model = X_dict['bodies']['model']\n",
      "        \n",
      "        if prune_features:\n",
      "            model.set_params(loss = 'hinge', C=.0025)\n",
      "            model.fit(X_train, y_train)\n",
      "            coef = model.coef_\n",
      "            sig_coef = (np.abs(coef) > 0.01)[0]\n",
      "            print '%d/%d' % (np.sum(sig_coef), coef.shape[1])\n",
      "\n",
      "            X_train = X_train[:,sig_coef]\n",
      "            X_dev = X_dev[:,sig_coef]\n",
      "            model.set_params(loss = 'squared_hinge', C=1)\n",
      "        \n",
      "        \n",
      "        model.fit(X_train, y_train)\n",
      "        pred = model.predict(X_dev)\n",
      "\n",
      "        roc_auc_i = roc_auc_score(y_dev, pred)\n",
      "        roc_auc_list_bodies.append(roc_auc_i)\n",
      "        \n",
      "        X_all['train'] = X_all['train'] + (X_train,)\n",
      "        X_all['dev'] = X_all['dev'] + (X_dev,)\n",
      "        \n",
      "    if do_acts:\n",
      "        X_train = scaler.fit_transform(X_dict['acts']['train'])\n",
      "        X_dev = scaler.transform(X_dict['acts']['dev'])\n",
      "        model = X_dict['acts']['model']\n",
      "        \n",
      "        model.fit(X_train, y_train)\n",
      "        pred = model.predict(X_dev)\n",
      "\n",
      "        roc_auc_i = roc_auc_score(y_dev, pred)\n",
      "        roc_auc_list_acts.append(roc_auc_i)\n",
      "        \n",
      "        X_all['train'] = X_all['train'] + (X_train,)\n",
      "        X_all['dev'] = X_all['dev'] + (X_dev,)\n",
      "        \n",
      "    if do_times:\n",
      "        X_train = X_dict['times']['train']\n",
      "        X_dev = X_dict['times']['dev']\n",
      "        model = model = X_dict['times']['model']\n",
      "        \n",
      "        model.fit(X_train, y_train)\n",
      "        pred = model.predict(X_dev)\n",
      "\n",
      "        roc_auc_i = roc_auc_score(y_dev, pred)\n",
      "        roc_auc_list_times.append(roc_auc_i)\n",
      "        \n",
      "        X_all['train'] = X_all['train'] + (X_train,)\n",
      "        X_all['dev'] = X_all['dev'] + (X_dev,)\n",
      "        \n",
      "    if do_text_deriv:\n",
      "        X_train = X_dict['text_derivs']['train']\n",
      "        X_dev = X_dict['text_derivs']['dev']\n",
      "        model = model = X_dict['text_derivs']['model']\n",
      "        \n",
      "        model.fit(X_train, y_train)\n",
      "        pred = model.predict(X_dev)\n",
      "\n",
      "        roc_auc_i = roc_auc_score(y_dev, pred)\n",
      "        roc_auc_list_text_derivs.append(roc_auc_i)\n",
      "        \n",
      "        X_all['train'] = X_all['train'] + (X_train,)\n",
      "        X_all['dev'] = X_all['dev'] + (X_dev,)\n",
      "        \n",
      "    \n",
      "    if do_bodies + do_titles + do_acts > 1:\n",
      "        #X_train = scaler.fit_transform(scipy.sparse.hstack(X_all['train'],'csr').toarray())\n",
      "        X_train = scipy.sparse.hstack(X_all['train'],'csr').toarray()\n",
      "        #X_dev = scaler.transform(scipy.sparse.hstack( X_all['dev'],'csr').toarray())\n",
      "        X_dev = scipy.sparse.hstack( X_all['dev'],'csr').toarray()\n",
      "\n",
      "        \n",
      "        \n",
      "        if prune_features:\n",
      "            model = lsvc\n",
      "            model.set_params(loss = 'hinge', C=5)\n",
      "            model.fit(X_train, y_train)\n",
      "            coef = model.coef_\n",
      "            sig_coef = (np.abs(coef) > 0.01)[0]\n",
      "            print '%d/%d' % (np.sum(sig_coef), coef.shape[1])\n",
      "            \n",
      "            X_train = X_train[:,sig_coef]\n",
      "            X_dev = X_dev[:,sig_coef]\n",
      "          \n",
      "        model = svc\n",
      "        model.set_params(C=1)\n",
      "        \n",
      "        model = etc\n",
      "        \n",
      "        \n",
      "        model.fit(X_train,y_train)\n",
      "        pred = model.predict(X_dev)\n",
      "\n",
      "        roc_auc_i = roc_auc_score(y_dev, pred)\n",
      "        roc_auc_list_all.append(roc_auc_i)\n",
      "    \n",
      "    \n",
      "    if verbose:\n",
      "        print('ROC AUC:',roc_auc_i)\n",
      "        \n",
      "if verbose:\n",
      "    print 'Titles: Mean: %f, Median: %f' %(np.mean(roc_auc_list_titles), np.median(roc_auc_list_titles))\n",
      "    print 'Bodies: Mean: %f, Median: %f' %(np.mean(roc_auc_list_bodies), np.median(roc_auc_list_bodies))\n",
      "    print 'Activities: Mean: %f, Median: %f' %(np.mean(roc_auc_list_acts), np.median(roc_auc_list_acts))\n",
      "    print 'Text Derivs: Mean: %f, Median: %f' %(np.mean(roc_auc_list_acts), np.median(roc_auc_list_text_derivs))\n",
      "    print 'All: Mean: %f, Median: %f' %(np.mean(roc_auc_list_all), np.median(roc_auc_list_all))\n",
      "\n",
      "\n",
      "    "
     ],
     "language": "python",
     "metadata": {},
     "outputs": [
      {
       "output_type": "stream",
       "stream": "stdout",
       "text": [
        "50/3919\n",
        "69/9872"
       ]
      },
      {
       "output_type": "stream",
       "stream": "stdout",
       "text": [
        "\n",
        "115/133"
       ]
      },
      {
       "output_type": "stream",
       "stream": "stdout",
       "text": [
        "\n",
        "('ROC AUC:', 0.65607019562715774)"
       ]
      },
      {
       "output_type": "stream",
       "stream": "stdout",
       "text": [
        "\n",
        "48/3886"
       ]
      },
      {
       "output_type": "stream",
       "stream": "stdout",
       "text": [
        "\n",
        "65/9890"
       ]
      },
      {
       "output_type": "stream",
       "stream": "stdout",
       "text": [
        "\n",
        "108/127"
       ]
      },
      {
       "output_type": "stream",
       "stream": "stdout",
       "text": [
        "\n",
        "('ROC AUC:', 0.59166666666666656)"
       ]
      },
      {
       "output_type": "stream",
       "stream": "stdout",
       "text": [
        "\n",
        "42/3928"
       ]
      },
      {
       "output_type": "stream",
       "stream": "stdout",
       "text": [
        "\n",
        "76/9936"
       ]
      },
      {
       "output_type": "stream",
       "stream": "stdout",
       "text": [
        "\n",
        "111/132"
       ]
      },
      {
       "output_type": "stream",
       "stream": "stdout",
       "text": [
        "\n",
        "('ROC AUC:', 0.57095709570957087)"
       ]
      },
      {
       "output_type": "stream",
       "stream": "stdout",
       "text": [
        "\n",
        "42/3848"
       ]
      },
      {
       "output_type": "stream",
       "stream": "stdout",
       "text": [
        "\n",
        "67/9858"
       ]
      }
     ]
    },
    {
     "cell_type": "code",
     "collapsed": false,
     "input": [
      "all_train_df.request_title.values[:20]"
     ],
     "language": "python",
     "metadata": {},
     "outputs": [
      {
       "metadata": {},
       "output_type": "pyout",
       "prompt_number": 121,
       "text": [
        "array([u'[Request] Fitchburg MA, new mom to overwhelmed to keep up with meals',\n",
        "       u'[Request] Bozeman, Montana graduate student will pay it forward next week.',\n",
        "       u'[REQUEST] Baton Rouge, LA. Single dad with 2 jobs and no money till Friday!',\n",
        "       u'[REQUEST] Lansing, MI. Would love a pizza for dinner!',\n",
        "       u\"[request] worked all day, working all day tommorw and I'm broke until friday. I don't want to go to bed hungry!\",\n",
        "       u'[Request] Columbus, GA Very prego Momma craving a pizza :)',\n",
        "       u'[REQUEST] Three year redditor needs food, badly',\n",
        "       u'[REQUEST] Planning a surprise party for a friend, forgot to budget for myself to eat for a couple of days. Oakland, CA',\n",
        "       u'[Request] A Table Top RPG Group in Chicago',\n",
        "       u'Request: New York, USA. Would really appreciate some pizza (both gluten free and regular)',\n",
        "       u\"[REQUEST]Just moved in and debit card isn't here yet,  not starving but broke\",\n",
        "       u'[REQUEST] Unemployed w/sick dog &amp; huge vet bills - Phoenix, AZ area',\n",
        "       u'[REQUEST] Ohio - My Wings just lost, a pizza would really help ease the pain.',\n",
        "       u\"[Request] Paid back debt to a friend now I'm too broke for pizza\",\n",
        "       u'(request) Been up all night crying, screaming, and now starving. Jacksonville FL.',\n",
        "       u'[Request]Texas, drinking by myself tonight and would love a pizza',\n",
        "       u\"[REQUEST] I'm hungry and only have frozen foods. I've been eating them everyday and I don't think it's healthy to continue to do so, so can I please have a fresh pizza? I live in Toronto, Canada\",\n",
        "       u'[Request]! Would like to surprise my roommate! She helped me pass my finals!!',\n",
        "       u\"[REQUEST] Pizza for broke me and a friend, tried to buy it with bitcoins and barely didn't have enough\",\n",
        "       u'[Request] Help me give back to my roomies on Friday'], dtype=object)"
       ]
      }
     ],
     "prompt_number": 121
    },
    {
     "cell_type": "code",
     "collapsed": false,
     "input": [
      "\n",
      "\n",
      "title_unicode = all_train_df.request_title.values\n",
      "title_len = np.array([[len(x.encode('utf-8')) for x in title_unicode]]).T\n",
      "body_unicode = all_train_df.request_text_edit_aware.values\n",
      "body_len = np.array([[len(x.encode('utf-8')) for x in body_unicode]]).T\n",
      "#title_len = [len(str(x)) for x in all_train_df.request_title.values]"
     ],
     "language": "python",
     "metadata": {},
     "outputs": [],
     "prompt_number": 152
    },
    {
     "cell_type": "code",
     "collapsed": false,
     "input": [
      "etc = ExtraTreesClassifier(n_estimators = 1000,\n",
      "                           max_depth = 5,\n",
      "                           min_samples_split=10,\n",
      "                           class_weight='auto')\n",
      "\n",
      "test_kfolds(np.hstack((title_len, body_len)), all_train_labels, kf, etc)"
     ],
     "language": "python",
     "metadata": {},
     "outputs": [
      {
       "output_type": "stream",
       "stream": "stdout",
       "text": [
        "('ROC AUC:', 0.58292748917748916)\n",
        "('ROC AUC:', 0.56032243618450517)"
       ]
      },
      {
       "output_type": "stream",
       "stream": "stdout",
       "text": [
        "\n",
        "('ROC AUC:', 0.57580712582064963)"
       ]
      },
      {
       "output_type": "stream",
       "stream": "stdout",
       "text": [
        "\n",
        "('ROC AUC:', 0.5562441655429935)"
       ]
      },
      {
       "output_type": "stream",
       "stream": "stdout",
       "text": [
        "\n",
        "('ROC AUC:', 0.58838799544130671)"
       ]
      },
      {
       "output_type": "stream",
       "stream": "stdout",
       "text": [
        "\n",
        "Mean: 0.572738, Median: 0.575807\n"
       ]
      },
      {
       "metadata": {},
       "output_type": "pyout",
       "prompt_number": 154,
       "text": [
        "[0.58292748917748916,\n",
        " 0.56032243618450517,\n",
        " 0.57580712582064963,\n",
        " 0.5562441655429935,\n",
        " 0.58838799544130671]"
       ]
      }
     ],
     "prompt_number": 154
    },
    {
     "cell_type": "code",
     "collapsed": false,
     "input": [],
     "language": "python",
     "metadata": {},
     "outputs": []
    }
   ],
   "metadata": {}
  }
 ]
}