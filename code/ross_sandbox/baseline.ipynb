{
 "metadata": {
  "name": "",
  "signature": "sha256:b046f8634da24a4ad529e784e938a04c177253d13e07b2225f18cb3b7d99813f"
 },
 "nbformat": 3,
 "nbformat_minor": 0,
 "worksheets": [
  {
   "cells": [
    {
     "cell_type": "code",
     "collapsed": false,
     "input": [
      "import json\n",
      "import csv\n",
      "import numpy as np\n",
      "import random as rand\n",
      "from sklearn.linear_model import LogisticRegression"
     ],
     "language": "python",
     "metadata": {},
     "outputs": [],
     "prompt_number": 40
    },
    {
     "cell_type": "code",
     "collapsed": false,
     "input": [
      "def load_json_file(path):\n",
      "    with open(path) as f:\n",
      "        data = json.load(f)\n",
      "    return data\n",
      "\n",
      "def make_submission_csv(predictions, ids, submission_name, path = '../../predictions'):\n",
      "    with open(path+'/'+submission_name+'.csv', 'w') as csvfile:\n",
      "        field_names = ['request_id', 'requester_received_pizza']\n",
      "        writer = csv.DictWriter(csvfile, fieldnames = field_names)\n",
      "        writer.writeheader()\n",
      "        csv_data = zip(ids, predictions)\n",
      "        for row in csv_data:\n",
      "            writer.writerow({field_names[0]:row[0], field_names[1]:int(row[1])})\n",
      "    "
     ],
     "language": "python",
     "metadata": {},
     "outputs": [],
     "prompt_number": 41
    },
    {
     "cell_type": "code",
     "collapsed": false,
     "input": [
      "# load data from JSON file as list of dicts\n",
      "all_train_dict_list = load_json_file('../../data/train.json')\n",
      "submit_dict_list =  load_json_file('../../data/test.json')\n",
      "\n",
      "n_all = len(all_train_dict_list)\n",
      "n_submit = len(submit_dict_list)\n",
      "\n",
      "# set size of dev set\n",
      "pct_dev = 0.25\n",
      "n_dev = int(n_all * pct_dev)\n"
     ],
     "language": "python",
     "metadata": {},
     "outputs": [],
     "prompt_number": 46
    },
    {
     "cell_type": "code",
     "collapsed": false,
     "input": [
      "# process labels\n",
      "all_train_labels = np.array([x['requester_received_pizza'] for x in all_train_dict_list])\n",
      "\n",
      "# shuffle array to avoid biased split of train / dev data\n",
      "rand.shuffle(all_train_labels)\n",
      "\n",
      "dev_labels = all_train_labels[:n_dev]\n",
      "train_labels = all_train_labels[n_dev:]"
     ],
     "language": "python",
     "metadata": {},
     "outputs": [],
     "prompt_number": 33
    },
    {
     "cell_type": "code",
     "collapsed": false,
     "input": [
      "# Baseline Model\n",
      "X_base = np.array([[1]]*n_all)\n",
      "\n",
      "lr_base = LogisticRegression()\n",
      "lr_base.fit(X_base, all_train_labels)\n",
      "\n",
      "# the prediction probabilities should roughly match the class prevalence\n",
      "print 'Probabilities:', lr_base.predict_proba(1)\n",
      "print 'Mean Value:', np.mean(all_train_labels)"
     ],
     "language": "python",
     "metadata": {},
     "outputs": [
      {
       "output_type": "stream",
       "stream": "stdout",
       "text": [
        "Probabilities: [[ 0.75382159  0.24617841]]\n",
        "Mean Valuye: 0.24603960396\n"
       ]
      }
     ],
     "prompt_number": 44
    },
    {
     "cell_type": "code",
     "collapsed": false,
     "input": [
      "# Make submission csv\n",
      "submit_id = [x['request_id'] for x in submit_dict_list]\n",
      "base_predict = lr_base.predict(np.array([[1]]*n_submit))\n",
      "make_submission_csv(base_predict, submit_id, 'baselin)"
     ],
     "language": "python",
     "metadata": {},
     "outputs": [],
     "prompt_number": 47
    }
   ],
   "metadata": {}
  }
 ]
}