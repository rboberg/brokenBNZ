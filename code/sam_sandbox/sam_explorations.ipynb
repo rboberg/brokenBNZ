{
 "metadata": {
  "name": "",
  "signature": "sha256:dd9feace25189ef7ceb072a6ad387861c3a79989604dd14e2b4a2b2666e04cce"
 },
 "nbformat": 3,
 "nbformat_minor": 0,
 "worksheets": [
  {
   "cells": [
    {
     "cell_type": "code",
     "collapsed": false,
     "input": [
      "# This tells matplotlib not to try opening a new window for each plot.\n",
      "%matplotlib inline\n",
      "\n",
      "# General libraries.\n",
      "import json\n",
      "import csv\n",
      "import re\n",
      "import numpy as np\n",
      "import random as rand\n",
      "import matplotlib.pyplot as plt\n",
      "\n",
      "# SK-learn libraries for learning.\n",
      "from sklearn.pipeline import Pipeline\n",
      "from sklearn.neighbors import KNeighborsClassifier\n",
      "from sklearn.linear_model import LogisticRegression\n",
      "from sklearn.naive_bayes import BernoulliNB\n",
      "from sklearn.naive_bayes import MultinomialNB\n",
      "from sklearn.grid_search import GridSearchCV\n",
      "\n",
      "# SK-learn libraries for evaluation.\n",
      "from sklearn.metrics import confusion_matrix\n",
      "from sklearn import metrics\n",
      "from sklearn.metrics import classification_report\n",
      "\n",
      "# SK-learn libraries for feature extraction from text.\n",
      "from sklearn.feature_extraction.text import *"
     ],
     "language": "python",
     "metadata": {},
     "outputs": [],
     "prompt_number": 2
    },
    {
     "cell_type": "code",
     "collapsed": false,
     "input": [
      "# Standard load and submission generation functions from @Ross\n",
      "def load_json_file(path):\n",
      "    with open(path) as f:\n",
      "        data = json.load(f)\n",
      "    return data\n",
      "\n",
      "def make_submission_csv(predictions, ids, submission_name, path = '../../predictions'):\n",
      "    with open(path+'/'+submission_name+'.csv', 'w') as csvfile:\n",
      "        field_names = ['request_id', 'requester_received_pizza']\n",
      "        writer = csv.DictWriter(csvfile, fieldnames = field_names)\n",
      "        writer.writeheader()\n",
      "        csv_data = zip(ids, predictions)\n",
      "        for row in csv_data:\n",
      "            writer.writerow({field_names[0]:row[0], field_names[1]:int(row[1])})\n",
      "    "
     ],
     "language": "python",
     "metadata": {},
     "outputs": [],
     "prompt_number": 4
    },
    {
     "cell_type": "code",
     "collapsed": false,
     "input": [
      "# === Pull out relevant features for model training ===\n",
      "\n",
      "# First, bring in the JSON data:\n",
      "train_all_json = load_json_file('../../data/train.json')\n",
      "test_json = load_json_file('../../data/test.json')\n",
      "\n",
      "n_train_all = len(train_all_json)\n",
      "n_test = len(test_json)\n",
      "\n",
      "# Feature #1: VotePopularity: Upvotes - Downvotes\n",
      "train_all_vote_pop = np.array([(x['number_of_upvotes_of_request_at_retrieval'] - x['number_of_downvotes_of_request_at_retrieval']) for x in train_all_json])\n",
      "print \"Range for VotePopularity is %d to %d; Mean is %.3f\" % (train_all_vote_pop.min(), train_all_vote_pop.max(), train_all_vote_pop.mean())\n",
      "\n",
      "# Feature #2: NumVotes: Upvotes + Downvotes\n",
      "train_all_num_votes = np.array([(x['number_of_upvotes_of_request_at_retrieval'] + x['number_of_downvotes_of_request_at_retrieval']) for x in train_all_json])\n",
      "print \"Range for NumVotes is %d to %d; Mean is %.3f\" % (train_all_num_votes.min(), train_all_num_votes.max(), train_all_num_votes.mean())\n",
      "\n",
      "\n",
      "# === Randomize training data and split into train and dev sets ===\n",
      "# set size of dev set\n",
      "pct_dev = 0.25\n",
      "n_dev = int(n_train_all * pct_dev)\n",
      "\n",
      "# process labels\n",
      "#all_train_labels = np.array([x['requester_received_pizza'] for x in all_train_dict_list])\n",
      "\n",
      "# shuffle array to avoid biased split of train / dev data\n",
      "#rand.shuffle(all_train_labels)\n",
      "\n",
      "#dev_labels = all_train_labels[:n_dev]\n",
      "#train_labels = all_train_labels[n_dev:]"
     ],
     "language": "python",
     "metadata": {},
     "outputs": [
      {
       "output_type": "stream",
       "stream": "stdout",
       "text": [
        "Range for VotePopularity is -7 to 314; Mean is 3.756\n",
        "Range for NumVotes is 0 to 376; Mean is 8.605\n"
       ]
      }
     ],
     "prompt_number": 13
    },
    {
     "cell_type": "code",
     "collapsed": false,
     "input": [
      "# Make submission csv\n",
      "#submit_id = [x['request_id'] for x in submit_dict_list]\n",
      "#base_predict = lr_base.predict(np.array([[1]]*n_submit))\n",
      "#make_submission_csv(base_predict, submit_id, 'baseline')"
     ],
     "language": "python",
     "metadata": {},
     "outputs": [],
     "prompt_number": 16
    }
   ],
   "metadata": {}
  }
 ]
}