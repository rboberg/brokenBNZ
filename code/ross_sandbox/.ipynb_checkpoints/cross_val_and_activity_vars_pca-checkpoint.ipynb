{
 "metadata": {
  "name": "",
  "signature": "sha256:521d1f2d2163defc23c9b4f12bc315ec33009b535dc422d33a35e623ff565405"
 },
 "nbformat": 3,
 "nbformat_minor": 0,
 "worksheets": [
  {
   "cells": [
    {
     "cell_type": "code",
     "collapsed": false,
     "input": [
      "import json\n",
      "import csv\n",
      "import numpy as np\n",
      "import random as rand\n",
      "import pandas as pd\n",
      "from sklearn.linear_model import LogisticRegression\n",
      "from sklearn.svm import SVC\n",
      "from sklearn.metrics import classification_report\n",
      "from sklearn.metrics import roc_auc_score\n",
      "from sklearn.cross_validation import KFold\n",
      "from sklearn.preprocessing import StandardScaler\n",
      "from sklearn.decomposition import PCA"
     ],
     "language": "python",
     "metadata": {},
     "outputs": [],
     "prompt_number": 66
    },
    {
     "cell_type": "code",
     "collapsed": false,
     "input": [
      "def load_json_file(path):\n",
      "    with open(path) as f:\n",
      "        data = json.load(f)\n",
      "    return data\n",
      "\n",
      "def make_submission_csv(predictions, ids, submission_name, path = '../../predictions'):\n",
      "    with open(path+'/'+submission_name+'.csv', 'w') as csvfile:\n",
      "        field_names = ['request_id', 'requester_received_pizza']\n",
      "        writer = csv.DictWriter(csvfile, fieldnames = field_names)\n",
      "        writer.writeheader()\n",
      "        csv_data = zip(ids, predictions)\n",
      "        for row in csv_data:\n",
      "            writer.writerow({field_names[0]:row[0], field_names[1]:int(row[1])})\n",
      "\n",
      "def test_kfolds(X, y, kf, model, verbose=True):\n",
      "    roc_auc_list = []\n",
      "    \n",
      "    for train_i, dev_i in kf:\n",
      "        X_train = X[train_i]\n",
      "        X_dev = X[dev_i]\n",
      "\n",
      "        model.fit(X_train, y[train_i])\n",
      "\n",
      "        dev_pred = model.predict(X_dev)\n",
      "        \n",
      "        roc_auc_i = roc_auc_score(y[dev_i], dev_pred)\n",
      "        roc_auc_list.append(roc_auc_i)\n",
      "        if verbose:\n",
      "            print('ROC AUC:',roc_auc_i)\n",
      "        \n",
      "    return roc_auc_list\n"
     ],
     "language": "python",
     "metadata": {},
     "outputs": [],
     "prompt_number": 67
    },
    {
     "cell_type": "code",
     "collapsed": false,
     "input": [
      "# load data from JSON file as list of dicts\n",
      "all_train_dict_list = load_json_file('../../data/train.json')\n",
      "submit_dict_list =  load_json_file('../../data/test.json')\n",
      "\n",
      "n_all = len(all_train_dict_list)\n",
      "n_submit = len(submit_dict_list)\n",
      "\n",
      "# shuffle data to avoid biased split of train / dev data\n",
      "rand.shuffle(all_train_dict_list)\n",
      "\n",
      "# set up kFolds\n",
      "kf = KFold(n_all, n_folds = 5)"
     ],
     "language": "python",
     "metadata": {},
     "outputs": [],
     "prompt_number": 68
    },
    {
     "cell_type": "code",
     "collapsed": false,
     "input": [
      "# process labels\n",
      "all_train_labels = np.array([x['requester_received_pizza'] for x in all_train_dict_list])\n",
      "\n",
      "# pandas is useful for turning dicts in to matrix-like objects\n",
      "# where each column is an numpy array\n",
      "submit_df = pd.DataFrame(submit_dict_list)\n",
      "all_train_df = pd.DataFrame(all_train_dict_list)\n",
      "\n",
      "# limit train to columns available in submit_df\n",
      "submit_cols = submit_df.columns\n",
      "all_train_df = all_train_df[submit_cols]"
     ],
     "language": "python",
     "metadata": {},
     "outputs": [],
     "prompt_number": 69
    },
    {
     "cell_type": "code",
     "collapsed": false,
     "input": [
      "all_train_df.columns.values"
     ],
     "language": "python",
     "metadata": {},
     "outputs": [
      {
       "metadata": {},
       "output_type": "pyout",
       "prompt_number": 70,
       "text": [
        "array([u'giver_username_if_known', u'request_id',\n",
        "       u'request_text_edit_aware', u'request_title',\n",
        "       u'requester_account_age_in_days_at_request',\n",
        "       u'requester_days_since_first_post_on_raop_at_request',\n",
        "       u'requester_number_of_comments_at_request',\n",
        "       u'requester_number_of_comments_in_raop_at_request',\n",
        "       u'requester_number_of_posts_at_request',\n",
        "       u'requester_number_of_posts_on_raop_at_request',\n",
        "       u'requester_number_of_subreddits_at_request',\n",
        "       u'requester_subreddits_at_request',\n",
        "       u'requester_upvotes_minus_downvotes_at_request',\n",
        "       u'requester_upvotes_plus_downvotes_at_request',\n",
        "       u'requester_username', u'unix_timestamp_of_request',\n",
        "       u'unix_timestamp_of_request_utc'], dtype=object)"
       ]
      }
     ],
     "prompt_number": 70
    },
    {
     "cell_type": "code",
     "collapsed": false,
     "input": [
      "# which columns are numeric activity variables\n",
      "activity_var = ['requester_account_age_in_days_at_request',\n",
      "                'requester_days_since_first_post_on_raop_at_request',\n",
      "                'requester_number_of_comments_at_request',\n",
      "                'requester_number_of_comments_in_raop_at_request',\n",
      "                'requester_number_of_posts_at_request',\n",
      "                'requester_number_of_posts_on_raop_at_request',\n",
      "                'requester_number_of_subreddits_at_request',\n",
      "                'requester_upvotes_minus_downvotes_at_request',\n",
      "                'requester_upvotes_plus_downvotes_at_request'\n",
      "                ]\n",
      "# look at correlations of requester activity variables:\n",
      "activity_all = all_train_df.loc[:,activity_var]\n",
      "activity_all.corr()\n",
      "\n",
      "scaler = StandardScaler()\n",
      "X_all = scaler.fit_transform(activity_all)\n",
      "\n",
      "# probably only need to include upvotes_minus_downvotes\n",
      "# OR upvotes_plus_downvotes? they are 90% correlated\n",
      "\n",
      "# number of comments is also highly correlated with number of subreddits"
     ],
     "language": "python",
     "metadata": {},
     "outputs": [],
     "prompt_number": 71
    },
    {
     "cell_type": "code",
     "collapsed": false,
     "input": [],
     "language": "python",
     "metadata": {},
     "outputs": [],
     "prompt_number": 71
    },
    {
     "cell_type": "code",
     "collapsed": false,
     "input": [
      "activity_all = all_train_df.loc[:,activity_var].values\n",
      "scaler = StandardScaler()\n",
      "X_all = scaler.fit_transform(activity_all)\n"
     ],
     "language": "python",
     "metadata": {},
     "outputs": [],
     "prompt_number": 72
    },
    {
     "cell_type": "code",
     "collapsed": false,
     "input": [
      "# NOTE class_weight = \"auto\" makes a huge difference!!\n",
      "svc = SVC(class_weight='auto')\n",
      "\n",
      "X_one = all_train_df['requester_number_of_comments_in_raop_at_request'].values > 0\n",
      "X_one = np.reshape(X_one, (X_one.shape[0],1))\n",
      "\n",
      "print 'class_weight = \"auto\"'\n",
      "test_kfolds(X_one, all_train_labels, kf, SVC(class_weight='auto'))\n",
      "print 'class_weight = None'\n",
      "test_kfolds(X_one, all_train_labels, kf, SVC(class_weight=None))"
     ],
     "language": "python",
     "metadata": {},
     "outputs": [
      {
       "output_type": "stream",
       "stream": "stdout",
       "text": [
        "class_weight = \"auto\"\n",
        "('ROC AUC:', 0.57425858535157059)"
       ]
      },
      {
       "output_type": "stream",
       "stream": "stdout",
       "text": [
        "\n",
        "('ROC AUC:', 0.57057019838974732)"
       ]
      },
      {
       "output_type": "stream",
       "stream": "stdout",
       "text": [
        "\n",
        "('ROC AUC:', 0.53819369285314422)"
       ]
      },
      {
       "output_type": "stream",
       "stream": "stdout",
       "text": [
        "\n",
        "('ROC AUC:', 0.52207931763994753)"
       ]
      },
      {
       "output_type": "stream",
       "stream": "stdout",
       "text": [
        "\n",
        "('ROC AUC:', 0.53352266673223669)"
       ]
      },
      {
       "output_type": "stream",
       "stream": "stdout",
       "text": [
        "\n",
        "class_weight = None\n",
        "('ROC AUC:', 0.5)"
       ]
      },
      {
       "output_type": "stream",
       "stream": "stdout",
       "text": [
        "\n",
        "('ROC AUC:', 0.5)"
       ]
      },
      {
       "output_type": "stream",
       "stream": "stdout",
       "text": [
        "\n",
        "('ROC AUC:', 0.5)"
       ]
      },
      {
       "output_type": "stream",
       "stream": "stdout",
       "text": [
        "\n",
        "('ROC AUC:', 0.5)"
       ]
      },
      {
       "output_type": "stream",
       "stream": "stdout",
       "text": [
        "\n",
        "('ROC AUC:', 0.5)"
       ]
      },
      {
       "output_type": "stream",
       "stream": "stdout",
       "text": [
        "\n"
       ]
      },
      {
       "metadata": {},
       "output_type": "pyout",
       "prompt_number": 73,
       "text": [
        "[0.5, 0.5, 0.5, 0.5, 0.5]"
       ]
      }
     ],
     "prompt_number": 73
    },
    {
     "cell_type": "code",
     "collapsed": false,
     "input": [
      "# Check which vars are bset on their own\n",
      "# And difference between logistic and SVC\n",
      "\n",
      "svc = SVC(class_weight='auto')\n",
      "lr = LogisticRegression(class_weight='auto')\n",
      "\n",
      "res = []\n",
      "\n",
      "for var in activity_var:\n",
      "    X_one = all_train_df[var].values\n",
      "    X_one = np.reshape(X_one, (X_one.shape[0],1))\n",
      "    print var\n",
      "    \n",
      "    svc_score = test_kfolds(X_one, all_train_labels, kf, svc, verbose=False)\n",
      "    lr_score = test_kfolds(X_one, all_train_labels, kf, lr, verbose=False)\n",
      "    \n",
      "    res.append({\n",
      "        'var':var,\n",
      "        'svc_mean_score':np.mean(svc_score),\n",
      "        'svc_median_score':np.median(svc_score),\n",
      "        'lr_mean_score':np.mean(lr_score),\n",
      "        'lr_median_score':np.median(lr_score),\n",
      "        })"
     ],
     "language": "python",
     "metadata": {},
     "outputs": [
      {
       "output_type": "stream",
       "stream": "stdout",
       "text": [
        "requester_account_age_in_days_at_request\n",
        "requester_days_since_first_post_on_raop_at_request"
       ]
      },
      {
       "output_type": "stream",
       "stream": "stdout",
       "text": [
        "\n",
        "requester_number_of_comments_at_request"
       ]
      },
      {
       "output_type": "stream",
       "stream": "stdout",
       "text": [
        "\n",
        "requester_number_of_comments_in_raop_at_request"
       ]
      },
      {
       "output_type": "stream",
       "stream": "stdout",
       "text": [
        "\n",
        "requester_number_of_posts_at_request"
       ]
      },
      {
       "output_type": "stream",
       "stream": "stdout",
       "text": [
        "\n",
        "requester_number_of_posts_on_raop_at_request"
       ]
      },
      {
       "output_type": "stream",
       "stream": "stdout",
       "text": [
        "\n",
        "requester_number_of_subreddits_at_request"
       ]
      },
      {
       "output_type": "stream",
       "stream": "stdout",
       "text": [
        "\n",
        "requester_upvotes_minus_downvotes_at_request"
       ]
      },
      {
       "output_type": "stream",
       "stream": "stdout",
       "text": [
        "\n",
        "requester_upvotes_plus_downvotes_at_request"
       ]
      },
      {
       "output_type": "stream",
       "stream": "stdout",
       "text": [
        "\n"
       ]
      }
     ],
     "prompt_number": 74
    },
    {
     "cell_type": "code",
     "collapsed": false,
     "input": [
      "pd.DataFrame(res)"
     ],
     "language": "python",
     "metadata": {},
     "outputs": [
      {
       "html": [
        "<div style=\"max-height:1000px;max-width:1500px;overflow:auto;\">\n",
        "<table border=\"1\" class=\"dataframe\">\n",
        "  <thead>\n",
        "    <tr style=\"text-align: right;\">\n",
        "      <th></th>\n",
        "      <th>lr_mean_score</th>\n",
        "      <th>lr_median_score</th>\n",
        "      <th>svc_mean_score</th>\n",
        "      <th>svc_median_score</th>\n",
        "      <th>var</th>\n",
        "    </tr>\n",
        "  </thead>\n",
        "  <tbody>\n",
        "    <tr>\n",
        "      <th>0</th>\n",
        "      <td> 0.514935</td>\n",
        "      <td> 0.519846</td>\n",
        "      <td> 0.505452</td>\n",
        "      <td> 0.502102</td>\n",
        "      <td>          requester_account_age_in_days_at_request</td>\n",
        "    </tr>\n",
        "    <tr>\n",
        "      <th>1</th>\n",
        "      <td> 0.538179</td>\n",
        "      <td> 0.535055</td>\n",
        "      <td> 0.536270</td>\n",
        "      <td> 0.536027</td>\n",
        "      <td> requester_days_since_first_post_on_raop_at_req...</td>\n",
        "    </tr>\n",
        "    <tr>\n",
        "      <th>2</th>\n",
        "      <td> 0.513459</td>\n",
        "      <td> 0.516596</td>\n",
        "      <td> 0.527501</td>\n",
        "      <td> 0.528586</td>\n",
        "      <td>           requester_number_of_comments_at_request</td>\n",
        "    </tr>\n",
        "    <tr>\n",
        "      <th>3</th>\n",
        "      <td> 0.547725</td>\n",
        "      <td> 0.538194</td>\n",
        "      <td> 0.540529</td>\n",
        "      <td> 0.538194</td>\n",
        "      <td>   requester_number_of_comments_in_raop_at_request</td>\n",
        "    </tr>\n",
        "    <tr>\n",
        "      <th>4</th>\n",
        "      <td> 0.510031</td>\n",
        "      <td> 0.516622</td>\n",
        "      <td> 0.526374</td>\n",
        "      <td> 0.535313</td>\n",
        "      <td>              requester_number_of_posts_at_request</td>\n",
        "    </tr>\n",
        "    <tr>\n",
        "      <th>5</th>\n",
        "      <td> 0.529382</td>\n",
        "      <td> 0.530633</td>\n",
        "      <td> 0.529382</td>\n",
        "      <td> 0.530633</td>\n",
        "      <td>      requester_number_of_posts_on_raop_at_request</td>\n",
        "    </tr>\n",
        "    <tr>\n",
        "      <th>6</th>\n",
        "      <td> 0.518054</td>\n",
        "      <td> 0.527578</td>\n",
        "      <td> 0.538718</td>\n",
        "      <td> 0.542616</td>\n",
        "      <td>         requester_number_of_subreddits_at_request</td>\n",
        "    </tr>\n",
        "    <tr>\n",
        "      <th>7</th>\n",
        "      <td> 0.522027</td>\n",
        "      <td> 0.527027</td>\n",
        "      <td> 0.520599</td>\n",
        "      <td> 0.519246</td>\n",
        "      <td>      requester_upvotes_minus_downvotes_at_request</td>\n",
        "    </tr>\n",
        "    <tr>\n",
        "      <th>8</th>\n",
        "      <td> 0.540577</td>\n",
        "      <td> 0.537498</td>\n",
        "      <td> 0.525801</td>\n",
        "      <td> 0.522135</td>\n",
        "      <td>       requester_upvotes_plus_downvotes_at_request</td>\n",
        "    </tr>\n",
        "  </tbody>\n",
        "</table>\n",
        "</div>"
       ],
       "metadata": {},
       "output_type": "pyout",
       "prompt_number": 75,
       "text": [
        "   lr_mean_score  lr_median_score  svc_mean_score  svc_median_score  \\\n",
        "0       0.514935         0.519846        0.505452          0.502102   \n",
        "1       0.538179         0.535055        0.536270          0.536027   \n",
        "2       0.513459         0.516596        0.527501          0.528586   \n",
        "3       0.547725         0.538194        0.540529          0.538194   \n",
        "4       0.510031         0.516622        0.526374          0.535313   \n",
        "5       0.529382         0.530633        0.529382          0.530633   \n",
        "6       0.518054         0.527578        0.538718          0.542616   \n",
        "7       0.522027         0.527027        0.520599          0.519246   \n",
        "8       0.540577         0.537498        0.525801          0.522135   \n",
        "\n",
        "                                                 var  \n",
        "0           requester_account_age_in_days_at_request  \n",
        "1  requester_days_since_first_post_on_raop_at_req...  \n",
        "2            requester_number_of_comments_at_request  \n",
        "3    requester_number_of_comments_in_raop_at_request  \n",
        "4               requester_number_of_posts_at_request  \n",
        "5       requester_number_of_posts_on_raop_at_request  \n",
        "6          requester_number_of_subreddits_at_request  \n",
        "7       requester_upvotes_minus_downvotes_at_request  \n",
        "8        requester_upvotes_plus_downvotes_at_request  "
       ]
      }
     ],
     "prompt_number": 75
    },
    {
     "cell_type": "code",
     "collapsed": false,
     "input": [
      "# subset of variables\n",
      "activity_sub_var = ['requester_account_age_in_days_at_request',\n",
      "                'requester_days_since_first_post_on_raop_at_request',\n",
      "                'requester_number_of_comments_in_raop_at_request',\n",
      "                'requester_number_of_posts_at_request',\n",
      "                'requester_number_of_posts_on_raop_at_request',\n",
      "                'requester_number_of_subreddits_at_request',\n",
      "                'requester_upvotes_plus_downvotes_at_request'\n",
      "                ]\n",
      "\n",
      "\n",
      "activity_sub = all_train_df.loc[:,activity_sub_var].values\n",
      "scaler = StandardScaler()\n",
      "X_sub = scaler.fit_transform(activity_sub)\n",
      "\n"
     ],
     "language": "python",
     "metadata": {},
     "outputs": [],
     "prompt_number": 76
    },
    {
     "cell_type": "code",
     "collapsed": false,
     "input": [
      "# NOTE RAOP comments seem to get most of the value from activity vars?\n",
      "\n",
      "X_one = all_train_df['requester_number_of_comments_in_raop_at_request'].values\n",
      "X_one = np.reshape(X_one, (X_one.shape[0],1))\n",
      "\n",
      "svc = SVC(class_weight='auto')\n",
      "lr = LogisticRegression(class_weight='auto')\n",
      "\n",
      "print '\\nAll Activity'\n",
      "all_res = test_kfolds(X_sub, all_train_labels, kf, svc)\n",
      "print 'Mean: %f, Median: %f' %(np.mean(all_res), np.median(all_res))\n",
      "\n",
      "all_res = test_kfolds(X_sub, all_train_labels, kf, lr)\n",
      "print 'Mean: %f, Median: %f' %(np.mean(all_res), np.median(all_res))\n",
      "\n",
      "\n",
      "print '\\nRAOP Comments Only'\n",
      "one_res = test_kfolds(X_one, all_train_labels, kf, svc)\n",
      "print 'Mean: %f, Median: %f' %(np.mean(one_res), np.median(one_res))"
     ],
     "language": "python",
     "metadata": {},
     "outputs": [
      {
       "output_type": "stream",
       "stream": "stdout",
       "text": [
        "\n",
        "All Activity\n",
        "('ROC AUC:', 0.54607855439829334)"
       ]
      },
      {
       "output_type": "stream",
       "stream": "stdout",
       "text": [
        "\n",
        "('ROC AUC:', 0.57850211609610103)"
       ]
      },
      {
       "output_type": "stream",
       "stream": "stdout",
       "text": [
        "\n",
        "('ROC AUC:', 0.55742489270386264)"
       ]
      },
      {
       "output_type": "stream",
       "stream": "stdout",
       "text": [
        "\n",
        "('ROC AUC:', 0.53978474764095508)"
       ]
      },
      {
       "output_type": "stream",
       "stream": "stdout",
       "text": [
        "\n",
        "('ROC AUC:', 0.56903702246592414)"
       ]
      },
      {
       "output_type": "stream",
       "stream": "stdout",
       "text": [
        "\n",
        "Mean: 0.558165, Median: 0.557425\n",
        "('ROC AUC:', 0.53033002886183966)\n",
        "('ROC AUC:', 0.5618579415571896)\n",
        "('ROC AUC:', 0.54725508490389996)\n",
        "('ROC AUC:', 0.54011215957553982)\n",
        "('ROC AUC:', 0.54362044800708154)\n",
        "Mean: 0.544635, Median: 0.543620\n",
        "\n",
        "RAOP Comments Only\n",
        "('ROC AUC:', 0.53882126573806832)"
       ]
      },
      {
       "output_type": "stream",
       "stream": "stdout",
       "text": [
        "\n",
        "('ROC AUC:', 0.56921608049427597)"
       ]
      },
      {
       "output_type": "stream",
       "stream": "stdout",
       "text": [
        "\n",
        "('ROC AUC:', 0.53819369285314422)"
       ]
      },
      {
       "output_type": "stream",
       "stream": "stdout",
       "text": [
        "\n",
        "('ROC AUC:', 0.52289364988750453)"
       ]
      },
      {
       "output_type": "stream",
       "stream": "stdout",
       "text": [
        "\n",
        "('ROC AUC:', 0.53352266673223669)"
       ]
      },
      {
       "output_type": "stream",
       "stream": "stdout",
       "text": [
        "\n",
        "Mean: 0.540529, Median: 0.538194\n"
       ]
      }
     ],
     "prompt_number": 77
    },
    {
     "cell_type": "code",
     "collapsed": false,
     "input": [
      "X_submit = scaler.transform(submit_df.loc[:,activity_var].values)\n",
      "\n",
      "svc = SVC(class_weight='auto')\n",
      "svc.fit(X_all, all_train_labels)\n",
      "\n",
      "submit_pred = svc.predict(X_submit)\n",
      "submit_id = [x['request_id'] for x in submit_dict_list]\n",
      "#make_submission_csv(submit_pred, submit_id, 'activity_svc')"
     ],
     "language": "python",
     "metadata": {},
     "outputs": [
      {
       "ename": "ValueError",
       "evalue": "operands could not be broadcast together with shapes (1631,9) (7,) (1631,9) ",
       "output_type": "pyerr",
       "traceback": [
        "\u001b[1;31m---------------------------------------------------------------------------\u001b[0m\n\u001b[1;31mValueError\u001b[0m                                Traceback (most recent call last)",
        "\u001b[1;32m<ipython-input-78-6e54ee28776d>\u001b[0m in \u001b[0;36m<module>\u001b[1;34m()\u001b[0m\n\u001b[1;32m----> 1\u001b[1;33m \u001b[0mX_submit\u001b[0m \u001b[1;33m=\u001b[0m \u001b[0mscaler\u001b[0m\u001b[1;33m.\u001b[0m\u001b[0mtransform\u001b[0m\u001b[1;33m(\u001b[0m\u001b[0msubmit_df\u001b[0m\u001b[1;33m.\u001b[0m\u001b[0mloc\u001b[0m\u001b[1;33m[\u001b[0m\u001b[1;33m:\u001b[0m\u001b[1;33m,\u001b[0m\u001b[0mactivity_var\u001b[0m\u001b[1;33m]\u001b[0m\u001b[1;33m.\u001b[0m\u001b[0mvalues\u001b[0m\u001b[1;33m)\u001b[0m\u001b[1;33m\u001b[0m\u001b[0m\n\u001b[0m\u001b[0;32m      2\u001b[0m \u001b[1;33m\u001b[0m\u001b[0m\n\u001b[0;32m      3\u001b[0m \u001b[0msvc\u001b[0m \u001b[1;33m=\u001b[0m \u001b[0mSVC\u001b[0m\u001b[1;33m(\u001b[0m\u001b[0mclass_weight\u001b[0m\u001b[1;33m=\u001b[0m\u001b[1;34m'auto'\u001b[0m\u001b[1;33m)\u001b[0m\u001b[1;33m\u001b[0m\u001b[0m\n\u001b[0;32m      4\u001b[0m \u001b[0msvc\u001b[0m\u001b[1;33m.\u001b[0m\u001b[0mfit\u001b[0m\u001b[1;33m(\u001b[0m\u001b[0mX_all\u001b[0m\u001b[1;33m,\u001b[0m \u001b[0mall_train_labels\u001b[0m\u001b[1;33m)\u001b[0m\u001b[1;33m\u001b[0m\u001b[0m\n\u001b[0;32m      5\u001b[0m \u001b[1;33m\u001b[0m\u001b[0m\n",
        "\u001b[1;32mC:\\Users\\Ross\\Anaconda\\lib\\site-packages\\sklearn\\preprocessing\\data.pyc\u001b[0m in \u001b[0;36mtransform\u001b[1;34m(self, X, y, copy)\u001b[0m\n\u001b[0;32m    356\u001b[0m         \u001b[1;32melse\u001b[0m\u001b[1;33m:\u001b[0m\u001b[1;33m\u001b[0m\u001b[0m\n\u001b[0;32m    357\u001b[0m             \u001b[1;32mif\u001b[0m \u001b[0mself\u001b[0m\u001b[1;33m.\u001b[0m\u001b[0mwith_mean\u001b[0m\u001b[1;33m:\u001b[0m\u001b[1;33m\u001b[0m\u001b[0m\n\u001b[1;32m--> 358\u001b[1;33m                 \u001b[0mX\u001b[0m \u001b[1;33m-=\u001b[0m \u001b[0mself\u001b[0m\u001b[1;33m.\u001b[0m\u001b[0mmean_\u001b[0m\u001b[1;33m\u001b[0m\u001b[0m\n\u001b[0m\u001b[0;32m    359\u001b[0m             \u001b[1;32mif\u001b[0m \u001b[0mself\u001b[0m\u001b[1;33m.\u001b[0m\u001b[0mwith_std\u001b[0m\u001b[1;33m:\u001b[0m\u001b[1;33m\u001b[0m\u001b[0m\n\u001b[0;32m    360\u001b[0m                 \u001b[0mX\u001b[0m \u001b[1;33m/=\u001b[0m \u001b[0mself\u001b[0m\u001b[1;33m.\u001b[0m\u001b[0mstd_\u001b[0m\u001b[1;33m\u001b[0m\u001b[0m\n",
        "\u001b[1;31mValueError\u001b[0m: operands could not be broadcast together with shapes (1631,9) (7,) (1631,9) "
       ]
      }
     ],
     "prompt_number": 78
    },
    {
     "cell_type": "code",
     "collapsed": false,
     "input": [
      "######### Start PCA Work\n",
      "\n",
      "X_act = activity_all\n",
      "\n",
      "pca = PCA(n_components=X_act.shape[1])\n",
      "pca.fit(X_act)\n",
      "print pca.explained_variance_ratio_\n",
      "\n",
      "# only the first first pc seems to be valuable\n",
      "\n",
      "# get PC values over time\n",
      "\n",
      "weights = pca.components_\n",
      "\n",
      "scaler = StandardScaler()\n",
      "X_pca = scaler.fit_transform(np.dot(X_act, weights.transpose()))\n"
     ],
     "language": "python",
     "metadata": {},
     "outputs": [
      {
       "output_type": "stream",
       "stream": "stdout",
       "text": [
        "[  9.96593967e-01   3.25562815e-03   1.13355884e-04   2.79331882e-05\n",
        "   6.78194967e-06   2.12246717e-06   1.96870604e-07   1.46351937e-08\n",
        "   1.15167535e-10]\n"
       ]
      }
     ],
     "prompt_number": 83
    },
    {
     "cell_type": "code",
     "collapsed": false,
     "input": [
      "pd.DataFrame(X_pca).describe()"
     ],
     "language": "python",
     "metadata": {},
     "outputs": [
      {
       "html": [
        "<div style=\"max-height:1000px;max-width:1500px;overflow:auto;\">\n",
        "<table border=\"1\" class=\"dataframe\">\n",
        "  <thead>\n",
        "    <tr style=\"text-align: right;\">\n",
        "      <th></th>\n",
        "      <th>0</th>\n",
        "      <th>1</th>\n",
        "      <th>2</th>\n",
        "      <th>3</th>\n",
        "      <th>4</th>\n",
        "      <th>5</th>\n",
        "      <th>6</th>\n",
        "      <th>7</th>\n",
        "      <th>8</th>\n",
        "    </tr>\n",
        "  </thead>\n",
        "  <tbody>\n",
        "    <tr>\n",
        "      <th>count</th>\n",
        "      <td> 4.040000e+03</td>\n",
        "      <td> 4.040000e+03</td>\n",
        "      <td> 4.040000e+03</td>\n",
        "      <td> 4.040000e+03</td>\n",
        "      <td> 4040.000000</td>\n",
        "      <td> 4.040000e+03</td>\n",
        "      <td> 4.040000e+03</td>\n",
        "      <td> 4.040000e+03</td>\n",
        "      <td> 4.040000e+03</td>\n",
        "    </tr>\n",
        "    <tr>\n",
        "      <th>mean</th>\n",
        "      <td>-3.042671e-16</td>\n",
        "      <td>-3.517538e-18</td>\n",
        "      <td> 1.719197e-16</td>\n",
        "      <td> 2.655741e-16</td>\n",
        "      <td>    0.000000</td>\n",
        "      <td> 1.204757e-16</td>\n",
        "      <td> 5.487360e-16</td>\n",
        "      <td> 5.364246e-17</td>\n",
        "      <td> 1.103628e-16</td>\n",
        "    </tr>\n",
        "    <tr>\n",
        "      <th>std</th>\n",
        "      <td> 1.000124e+00</td>\n",
        "      <td> 1.000124e+00</td>\n",
        "      <td> 1.000124e+00</td>\n",
        "      <td> 1.000124e+00</td>\n",
        "      <td>    1.000124</td>\n",
        "      <td> 1.000124e+00</td>\n",
        "      <td> 1.000124e+00</td>\n",
        "      <td> 1.000124e+00</td>\n",
        "      <td> 1.000124e+00</td>\n",
        "    </tr>\n",
        "    <tr>\n",
        "      <th>min</th>\n",
        "      <td>-1.482596e-01</td>\n",
        "      <td>-1.142336e+01</td>\n",
        "      <td>-9.949207e+00</td>\n",
        "      <td>-5.267585e+00</td>\n",
        "      <td>   -2.587822</td>\n",
        "      <td>-1.886744e+01</td>\n",
        "      <td>-8.659860e+00</td>\n",
        "      <td>-2.522552e+01</td>\n",
        "      <td>-8.229362e+00</td>\n",
        "    </tr>\n",
        "    <tr>\n",
        "      <th>25%</th>\n",
        "      <td>-1.479122e-01</td>\n",
        "      <td>-4.587525e-01</td>\n",
        "      <td>-7.129474e-01</td>\n",
        "      <td>-6.634485e-02</td>\n",
        "      <td>   -0.301816</td>\n",
        "      <td>-2.514274e-02</td>\n",
        "      <td>-3.126622e-01</td>\n",
        "      <td> 6.209975e-02</td>\n",
        "      <td>-1.160819e-01</td>\n",
        "    </tr>\n",
        "    <tr>\n",
        "      <th>50%</th>\n",
        "      <td>-1.338279e-01</td>\n",
        "      <td>-3.694954e-01</td>\n",
        "      <td>-3.397371e-01</td>\n",
        "      <td> 9.850711e-02</td>\n",
        "      <td>   -0.083350</td>\n",
        "      <td> 5.147753e-02</td>\n",
        "      <td> 2.203753e-01</td>\n",
        "      <td> 1.200078e-01</td>\n",
        "      <td>-1.075434e-01</td>\n",
        "    </tr>\n",
        "    <tr>\n",
        "      <th>75%</th>\n",
        "      <td>-5.475979e-02</td>\n",
        "      <td> 6.503641e-02</td>\n",
        "      <td> 4.179718e-01</td>\n",
        "      <td> 3.057744e-01</td>\n",
        "      <td>   -0.002142</td>\n",
        "      <td> 2.291055e-01</td>\n",
        "      <td> 3.947049e-01</td>\n",
        "      <td> 1.227673e-01</td>\n",
        "      <td>-7.379424e-02</td>\n",
        "    </tr>\n",
        "    <tr>\n",
        "      <th>max</th>\n",
        "      <td> 4.958752e+01</td>\n",
        "      <td> 2.406387e+01</td>\n",
        "      <td> 9.053384e+00</td>\n",
        "      <td> 2.064090e+01</td>\n",
        "      <td>   10.563790</td>\n",
        "      <td> 1.082975e+01</td>\n",
        "      <td> 7.802733e+00</td>\n",
        "      <td> 4.055517e+00</td>\n",
        "      <td> 1.679041e+01</td>\n",
        "    </tr>\n",
        "  </tbody>\n",
        "</table>\n",
        "</div>"
       ],
       "metadata": {},
       "output_type": "pyout",
       "prompt_number": 84,
       "text": [
        "                  0             1             2             3            4  \\\n",
        "count  4.040000e+03  4.040000e+03  4.040000e+03  4.040000e+03  4040.000000   \n",
        "mean  -3.042671e-16 -3.517538e-18  1.719197e-16  2.655741e-16     0.000000   \n",
        "std    1.000124e+00  1.000124e+00  1.000124e+00  1.000124e+00     1.000124   \n",
        "min   -1.482596e-01 -1.142336e+01 -9.949207e+00 -5.267585e+00    -2.587822   \n",
        "25%   -1.479122e-01 -4.587525e-01 -7.129474e-01 -6.634485e-02    -0.301816   \n",
        "50%   -1.338279e-01 -3.694954e-01 -3.397371e-01  9.850711e-02    -0.083350   \n",
        "75%   -5.475979e-02  6.503641e-02  4.179718e-01  3.057744e-01    -0.002142   \n",
        "max    4.958752e+01  2.406387e+01  9.053384e+00  2.064090e+01    10.563790   \n",
        "\n",
        "                  5             6             7             8  \n",
        "count  4.040000e+03  4.040000e+03  4.040000e+03  4.040000e+03  \n",
        "mean   1.204757e-16  5.487360e-16  5.364246e-17  1.103628e-16  \n",
        "std    1.000124e+00  1.000124e+00  1.000124e+00  1.000124e+00  \n",
        "min   -1.886744e+01 -8.659860e+00 -2.522552e+01 -8.229362e+00  \n",
        "25%   -2.514274e-02 -3.126622e-01  6.209975e-02 -1.160819e-01  \n",
        "50%    5.147753e-02  2.203753e-01  1.200078e-01 -1.075434e-01  \n",
        "75%    2.291055e-01  3.947049e-01  1.227673e-01 -7.379424e-02  \n",
        "max    1.082975e+01  7.802733e+00  4.055517e+00  1.679041e+01  "
       ]
      }
     ],
     "prompt_number": 84
    },
    {
     "cell_type": "code",
     "collapsed": false,
     "input": [
      "# PCA does not seem to add much value beyond just using the underlying variables\n",
      "svc = SVC(class_weight='auto')\n",
      "lr = LogisticRegression(class_weight='auto')\n",
      "\n",
      "svc_res = []\n",
      "lr_res = []\n",
      "\n",
      "for n_pca in range(1,X_pca.shape[1]+1):\n",
      "\n",
      "    print 'SVC PCA %d component(s)' % n_pca\n",
      "    all_res = test_kfolds(X_pca[:,:n_pca], all_train_labels, kf, svc)\n",
      "    res_smry = {'mean':np.mean(all_res), 'median':np.median(all_res), 'pc_n':n_pca}\n",
      "    svc_res.append(res_smry)\n",
      "    print 'Mean: %f, Median: %f' % (res_smry['mean'], res_smry['median'])\n",
      "\n",
      "    print 'LR PCA %d component(s)' % n_pca\n",
      "    all_res = test_kfolds(X_pca[:,:n_pca], all_train_labels, kf, lr)\n",
      "    res_smry = {'mean':np.mean(all_res), 'median':np.median(all_res), 'pc_n':n_pca}\n",
      "    lr_res.append(res_smry)\n",
      "    print 'Mean: %f, Median: %f' % (res_smry['mean'], res_smry['median'])"
     ],
     "language": "python",
     "metadata": {},
     "outputs": [
      {
       "output_type": "stream",
       "stream": "stdout",
       "text": [
        "SVC PCA 1 component(s)\n",
        "('ROC AUC:', 0.49990379386790484)"
       ]
      },
      {
       "output_type": "stream",
       "stream": "stdout",
       "text": [
        "\n",
        "('ROC AUC:', 0.52570987909333777)"
       ]
      },
      {
       "output_type": "stream",
       "stream": "stdout",
       "text": [
        "\n",
        "('ROC AUC:', 0.52189587609628663)"
       ]
      },
      {
       "output_type": "stream",
       "stream": "stdout",
       "text": [
        "\n",
        "('ROC AUC:', 0.50999865677155043)"
       ]
      },
      {
       "output_type": "stream",
       "stream": "stdout",
       "text": [
        "\n",
        "('ROC AUC:', 0.52034309506831578)"
       ]
      },
      {
       "output_type": "stream",
       "stream": "stdout",
       "text": [
        "\n",
        "Mean: 0.515570, Median: 0.520343\n",
        "LR PCA 1 component(s)\n",
        "('ROC AUC:', 0.50655038273309083)\n",
        "('ROC AUC:', 0.51364216401810392)\n",
        "('ROC AUC:', 0.52167195372270947)\n",
        "('ROC AUC:', 0.51256758118136947)\n",
        "('ROC AUC:', 0.52208889653872326)\n",
        "Mean: 0.515304, Median: 0.513642\n",
        "SVC PCA 2 component(s)\n",
        "('ROC AUC:', 0.48932111933743261)"
       ]
      },
      {
       "output_type": "stream",
       "stream": "stdout",
       "text": [
        "\n",
        "('ROC AUC:', 0.5299328908351465)"
       ]
      },
      {
       "output_type": "stream",
       "stream": "stdout",
       "text": [
        "\n",
        "('ROC AUC:', 0.51045344280649374)"
       ]
      },
      {
       "output_type": "stream",
       "stream": "stdout",
       "text": [
        "\n",
        "('ROC AUC:', 0.53355552570603448)"
       ]
      },
      {
       "output_type": "stream",
       "stream": "stdout",
       "text": [
        "\n",
        "('ROC AUC:', 0.5143762243149983)"
       ]
      },
      {
       "output_type": "stream",
       "stream": "stdout",
       "text": [
        "\n",
        "Mean: 0.515528, Median: 0.514376\n",
        "LR PCA 2 component(s)\n",
        "('ROC AUC:', 0.50317898523445015)\n",
        "('ROC AUC:', 0.5265361205210829)\n",
        "('ROC AUC:', 0.52632953909311442)\n",
        "('ROC AUC:', 0.53303502468182273)\n",
        "('ROC AUC:', 0.50996254313277101)\n",
        "Mean: 0.519808, Median: 0.526330\n",
        "SVC PCA 3 component(s)\n",
        "('ROC AUC:', 0.51170786798845525)"
       ]
      },
      {
       "output_type": "stream",
       "stream": "stdout",
       "text": [
        "\n",
        "('ROC AUC:', 0.55252141342366901)"
       ]
      },
      {
       "output_type": "stream",
       "stream": "stdout",
       "text": [
        "\n",
        "('ROC AUC:', 0.53547676805374134)"
       ]
      },
      {
       "output_type": "stream",
       "stream": "stdout",
       "text": [
        "\n",
        "('ROC AUC:', 0.53949091641760971)"
       ]
      },
      {
       "output_type": "stream",
       "stream": "stdout",
       "text": [
        "\n",
        "('ROC AUC:', 0.55613612333718554)"
       ]
      },
      {
       "output_type": "stream",
       "stream": "stdout",
       "text": [
        "\n",
        "Mean: 0.539067, Median: 0.539491\n",
        "LR PCA 3 component(s)\n",
        "('ROC AUC:', 0.48885682017819054)\n",
        "('ROC AUC:', 0.54290488125074587)\n",
        "('ROC AUC:', 0.49237544317969772)\n",
        "('ROC AUC:', 0.5309698109405957)\n",
        "('ROC AUC:', 0.52683042776234146)\n",
        "Mean: 0.516387, Median: 0.526830\n",
        "SVC PCA 4 component(s)\n",
        "('ROC AUC:', 0.5016898816246288)"
       ]
      },
      {
       "output_type": "stream",
       "stream": "stdout",
       "text": [
        "\n",
        "('ROC AUC:', 0.54473179285209361)"
       ]
      },
      {
       "output_type": "stream",
       "stream": "stdout",
       "text": [
        "\n",
        "('ROC AUC:', 0.50700503825340548)"
       ]
      },
      {
       "output_type": "stream",
       "stream": "stdout",
       "text": [
        "\n",
        "('ROC AUC:', 0.535150609489909)"
       ]
      },
      {
       "output_type": "stream",
       "stream": "stdout",
       "text": [
        "\n",
        "('ROC AUC:', 0.54704238281410089)"
       ]
      },
      {
       "output_type": "stream",
       "stream": "stdout",
       "text": [
        "\n",
        "Mean: 0.527124, Median: 0.535151\n",
        "LR PCA 4 component(s)\n",
        "('ROC AUC:', 0.48477851675241562)\n",
        "('ROC AUC:', 0.54476851469332666)\n",
        "('ROC AUC:', 0.50403060272438882)\n",
        "('ROC AUC:', 0.52473219382786529)\n",
        "('ROC AUC:', 0.52185530338423203)\n",
        "Mean: 0.516033, Median: 0.521855\n",
        "SVC PCA 5 component(s)\n",
        "('ROC AUC:', 0.53045551512109423)"
       ]
      },
      {
       "output_type": "stream",
       "stream": "stdout",
       "text": [
        "\n",
        "('ROC AUC:', 0.52667382742570712)"
       ]
      },
      {
       "output_type": "stream",
       "stream": "stdout",
       "text": [
        "\n",
        "('ROC AUC:', 0.52149281582384777)"
       ]
      },
      {
       "output_type": "stream",
       "stream": "stdout",
       "text": [
        "\n",
        "('ROC AUC:', 0.53381577621814036)"
       ]
      },
      {
       "output_type": "stream",
       "stream": "stdout",
       "text": [
        "\n",
        "('ROC AUC:', 0.55396411681296975)"
       ]
      },
      {
       "output_type": "stream",
       "stream": "stdout",
       "text": [
        "\n",
        "Mean: 0.533280, Median: 0.530456\n",
        "LR PCA 5 component(s)\n",
        "('ROC AUC:', 0.51809511858451507)\n",
        "('ROC AUC:', 0.52655448144169947)\n",
        "('ROC AUC:', 0.54545997387572309)\n",
        "('ROC AUC:', 0.53753483998791096)\n",
        "('ROC AUC:', 0.53375216176121032)\n",
        "Mean: 0.532279, Median: 0.533752\n",
        "SVC PCA 6 component(s)\n",
        "('ROC AUC:', 0.54455598778600411)"
       ]
      },
      {
       "output_type": "stream",
       "stream": "stdout",
       "text": [
        "\n",
        "('ROC AUC:', 0.545434098065677)"
       ]
      },
      {
       "output_type": "stream",
       "stream": "stdout",
       "text": [
        "\n",
        "('ROC AUC:', 0.52595260309759284)"
       ]
      },
      {
       "output_type": "stream",
       "stream": "stdout",
       "text": [
        "\n",
        "('ROC AUC:', 0.54007018368649051)"
       ]
      },
      {
       "output_type": "stream",
       "stream": "stdout",
       "text": [
        "\n",
        "('ROC AUC:', 0.56218495660085077)"
       ]
      },
      {
       "output_type": "stream",
       "stream": "stdout",
       "text": [
        "\n",
        "Mean: 0.543640, Median: 0.544556\n",
        "LR PCA 6 component(s)\n",
        "('ROC AUC:', 0.51727945789936003)\n",
        "('ROC AUC:', 0.53467918881452714)\n",
        "('ROC AUC:', 0.54581078559432727)\n",
        "('ROC AUC:', 0.53590617549279695)\n",
        "('ROC AUC:', 0.52549853696919036)\n",
        "Mean: 0.531835, Median: 0.534679\n",
        "SVC PCA 7 component(s)\n",
        "('ROC AUC:', 0.52743547914836653)"
       ]
      },
      {
       "output_type": "stream",
       "stream": "stdout",
       "text": [
        "\n",
        "('ROC AUC:', 0.56415764686441372)"
       ]
      },
      {
       "output_type": "stream",
       "stream": "stdout",
       "text": [
        "\n",
        "('ROC AUC:', 0.54654226534801276)"
       ]
      },
      {
       "output_type": "stream",
       "stream": "stdout",
       "text": [
        "\n",
        "('ROC AUC:', 0.54534235535108633)"
       ]
      },
      {
       "output_type": "stream",
       "stream": "stdout",
       "text": [
        "\n",
        "('ROC AUC:', 0.57577434081651047)"
       ]
      },
      {
       "output_type": "stream",
       "stream": "stdout",
       "text": [
        "\n",
        "Mean: 0.551850, Median: 0.546542\n",
        "LR PCA 7 component(s)\n",
        "('ROC AUC:', 0.49094407495712544)\n",
        "('ROC AUC:', 0.55200730764640538)\n",
        "('ROC AUC:', 0.52621757790632573)\n",
        "('ROC AUC:', 0.51921656200678323)\n",
        "('ROC AUC:', 0.53213750030735951)\n",
        "Mean: 0.524105, Median: 0.526218\n",
        "SVC PCA 8 component(s)\n",
        "('ROC AUC:', 0.53617350566779598)"
       ]
      },
      {
       "output_type": "stream",
       "stream": "stdout",
       "text": [
        "\n",
        "('ROC AUC:', 0.57671651656614065)"
       ]
      },
      {
       "output_type": "stream",
       "stream": "stdout",
       "text": [
        "\n",
        "('ROC AUC:', 0.54728494122037696)"
       ]
      },
      {
       "output_type": "stream",
       "stream": "stdout",
       "text": [
        "\n",
        "('ROC AUC:', 0.55946304442728101)"
       ]
      },
      {
       "output_type": "stream",
       "stream": "stdout",
       "text": [
        "\n",
        "('ROC AUC:', 0.56559459703131798)"
       ]
      },
      {
       "output_type": "stream",
       "stream": "stdout",
       "text": [
        "\n",
        "Mean: 0.557047, Median: 0.559463\n",
        "LR PCA 8 component(s)\n",
        "('ROC AUC:', 0.50830719036265526)\n",
        "('ROC AUC:', 0.57704701313723872)\n",
        "('ROC AUC:', 0.53160291099085655)\n",
        "('ROC AUC:', 0.53427751099768295)\n",
        "('ROC AUC:', 0.5237691280008524)\n",
        "Mean: 0.535001, Median: 0.531603\n",
        "SVC PCA 9 component(s)\n",
        "('ROC AUC:', 0.53535784498264105)"
       ]
      },
      {
       "output_type": "stream",
       "stream": "stdout",
       "text": [
        "\n",
        "('ROC AUC:', 0.56951444545429508)"
       ]
      },
      {
       "output_type": "stream",
       "stream": "stdout",
       "text": [
        "\n",
        "('ROC AUC:', 0.54373577159917896)"
       ]
      },
      {
       "output_type": "stream",
       "stream": "stdout",
       "text": [
        "\n",
        "('ROC AUC:', 0.5491621612545754)"
       ]
      },
      {
       "output_type": "stream",
       "stream": "stdout",
       "text": [
        "\n",
        "('ROC AUC:', 0.57295892858606468)"
       ]
      },
      {
       "output_type": "stream",
       "stream": "stdout",
       "text": [
        "\n",
        "Mean: 0.554146, Median: 0.549162\n",
        "LR PCA 9 component(s)\n",
        "('ROC AUC:', 0.52380474338059979)\n",
        "('ROC AUC:', 0.56342780026990547)\n",
        "('ROC AUC:', 0.53820862101138278)\n",
        "('ROC AUC:', 0.54024648242049766)\n",
        "('ROC AUC:', 0.54446056373814611)\n",
        "Mean: 0.542030, Median: 0.540246\n"
       ]
      }
     ],
     "prompt_number": 92
    },
    {
     "cell_type": "code",
     "collapsed": false,
     "input": [
      "\n",
      "\n",
      "from ggplot import *"
     ],
     "language": "python",
     "metadata": {},
     "outputs": [],
     "prompt_number": 90
    },
    {
     "cell_type": "code",
     "collapsed": false,
     "input": [
      "print 1"
     ],
     "language": "python",
     "metadata": {},
     "outputs": []
    },
    {
     "cell_type": "code",
     "collapsed": false,
     "input": [
      "pd.DataFrame(svc_res)"
     ],
     "language": "python",
     "metadata": {},
     "outputs": []
    },
    {
     "cell_type": "code",
     "collapsed": false,
     "input": [
      "print ggplot(pd.DataFrame(svc_res), aes(x='pc_n', y='mean')) + geom_line()"
     ],
     "language": "python",
     "metadata": {},
     "outputs": []
    }
   ],
   "metadata": {}
  }
 ]
}