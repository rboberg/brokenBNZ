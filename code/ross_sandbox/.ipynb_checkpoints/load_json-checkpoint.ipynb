{
 "metadata": {
  "name": "",
  "signature": "sha256:54f775a92b3d302a45a8c075328ea672465624aab8d8e0a42aa6dea0070bc1db"
 },
 "nbformat": 3,
 "nbformat_minor": 0,
 "worksheets": []
}