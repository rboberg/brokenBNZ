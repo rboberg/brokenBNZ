{
 "metadata": {
  "name": "",
  "signature": "sha256:10355b4a0498617aec3bf3190c21d2650b37f232ee26ff7d211b20c60b392294"
 },
 "nbformat": 3,
 "nbformat_minor": 0,
 "worksheets": [
  {
   "cells": [
    {
     "cell_type": "code",
     "collapsed": false,
     "input": [
      "import json\n",
      "import csv\n",
      "import numpy as np\n",
      "import random as rand\n",
      "import pandas as pd\n",
      "from sklearn.linear_model import LogisticRegression\n",
      "from sklearn.svm import SVC\n",
      "from sklearn.metrics import classification_report\n",
      "from sklearn.metrics import roc_auc_score\n",
      "from sklearn.cross_validation import KFold\n",
      "from sklearn.preprocessing import StandardScaler\n",
      "from sklearn.decomposition import PCA"
     ],
     "language": "python",
     "metadata": {},
     "outputs": [
      {
       "ename": "ImportError",
       "evalue": "cannot import name check_arrays",
       "output_type": "pyerr",
       "traceback": [
        "\u001b[1;31m---------------------------------------------------------------------------\u001b[0m\n\u001b[1;31mImportError\u001b[0m                               Traceback (most recent call last)",
        "\u001b[1;32m<ipython-input-1-ce8a41ecf3ad>\u001b[0m in \u001b[0;36m<module>\u001b[1;34m()\u001b[0m\n\u001b[0;32m      4\u001b[0m \u001b[1;32mimport\u001b[0m \u001b[0mrandom\u001b[0m \u001b[1;32mas\u001b[0m \u001b[0mrand\u001b[0m\u001b[1;33m\u001b[0m\u001b[0m\n\u001b[0;32m      5\u001b[0m \u001b[1;32mimport\u001b[0m \u001b[0mpandas\u001b[0m \u001b[1;32mas\u001b[0m \u001b[0mpd\u001b[0m\u001b[1;33m\u001b[0m\u001b[0m\n\u001b[1;32m----> 6\u001b[1;33m \u001b[1;32mfrom\u001b[0m \u001b[0msklearn\u001b[0m\u001b[1;33m.\u001b[0m\u001b[0mlinear_model\u001b[0m \u001b[1;32mimport\u001b[0m \u001b[0mLogisticRegression\u001b[0m\u001b[1;33m\u001b[0m\u001b[0m\n\u001b[0m\u001b[0;32m      7\u001b[0m \u001b[1;32mfrom\u001b[0m \u001b[0msklearn\u001b[0m\u001b[1;33m.\u001b[0m\u001b[0msvm\u001b[0m \u001b[1;32mimport\u001b[0m \u001b[0mSVC\u001b[0m\u001b[1;33m\u001b[0m\u001b[0m\n\u001b[0;32m      8\u001b[0m \u001b[1;32mfrom\u001b[0m \u001b[0msklearn\u001b[0m\u001b[1;33m.\u001b[0m\u001b[0mmetrics\u001b[0m \u001b[1;32mimport\u001b[0m \u001b[0mclassification_report\u001b[0m\u001b[1;33m\u001b[0m\u001b[0m\n",
        "\u001b[1;32mC:\\Users\\Ross\\Anaconda\\lib\\site-packages\\sklearn\\linear_model\\__init__.py\u001b[0m in \u001b[0;36m<module>\u001b[1;34m()\u001b[0m\n\u001b[0;32m     13\u001b[0m \u001b[1;33m\u001b[0m\u001b[0m\n\u001b[0;32m     14\u001b[0m \u001b[1;32mfrom\u001b[0m \u001b[1;33m.\u001b[0m\u001b[0mbayes\u001b[0m \u001b[1;32mimport\u001b[0m \u001b[0mBayesianRidge\u001b[0m\u001b[1;33m,\u001b[0m \u001b[0mARDRegression\u001b[0m\u001b[1;33m\u001b[0m\u001b[0m\n\u001b[1;32m---> 15\u001b[1;33m from .least_angle import (Lars, LassoLars, lars_path, LarsCV, LassoLarsCV,\n\u001b[0m\u001b[0;32m     16\u001b[0m                           LassoLarsIC)\n\u001b[0;32m     17\u001b[0m from .coordinate_descent import (Lasso, ElasticNet, LassoCV, ElasticNetCV,\n",
        "\u001b[1;32mC:\\Users\\Ross\\Anaconda\\lib\\site-packages\\sklearn\\linear_model\\least_angle.py\u001b[0m in \u001b[0;36m<module>\u001b[1;34m()\u001b[0m\n\u001b[0;32m     23\u001b[0m \u001b[1;32mfrom\u001b[0m \u001b[1;33m.\u001b[0m\u001b[1;33m.\u001b[0m\u001b[0mbase\u001b[0m \u001b[1;32mimport\u001b[0m \u001b[0mRegressorMixin\u001b[0m\u001b[1;33m\u001b[0m\u001b[0m\n\u001b[0;32m     24\u001b[0m \u001b[1;32mfrom\u001b[0m \u001b[1;33m.\u001b[0m\u001b[1;33m.\u001b[0m\u001b[0mutils\u001b[0m \u001b[1;32mimport\u001b[0m \u001b[0marrayfuncs\u001b[0m\u001b[1;33m,\u001b[0m \u001b[0mas_float_array\u001b[0m\u001b[1;33m,\u001b[0m \u001b[0mcheck_X_y\u001b[0m\u001b[1;33m\u001b[0m\u001b[0m\n\u001b[1;32m---> 25\u001b[1;33m \u001b[1;32mfrom\u001b[0m \u001b[1;33m.\u001b[0m\u001b[1;33m.\u001b[0m\u001b[0mcross_validation\u001b[0m \u001b[1;32mimport\u001b[0m \u001b[0m_check_cv\u001b[0m \u001b[1;32mas\u001b[0m \u001b[0mcheck_cv\u001b[0m\u001b[1;33m\u001b[0m\u001b[0m\n\u001b[0m\u001b[0;32m     26\u001b[0m \u001b[1;32mfrom\u001b[0m \u001b[1;33m.\u001b[0m\u001b[1;33m.\u001b[0m\u001b[0mutils\u001b[0m \u001b[1;32mimport\u001b[0m \u001b[0mConvergenceWarning\u001b[0m\u001b[1;33m\u001b[0m\u001b[0m\n\u001b[0;32m     27\u001b[0m \u001b[1;32mfrom\u001b[0m \u001b[1;33m.\u001b[0m\u001b[1;33m.\u001b[0m\u001b[0mexternals\u001b[0m\u001b[1;33m.\u001b[0m\u001b[0mjoblib\u001b[0m \u001b[1;32mimport\u001b[0m \u001b[0mParallel\u001b[0m\u001b[1;33m,\u001b[0m \u001b[0mdelayed\u001b[0m\u001b[1;33m\u001b[0m\u001b[0m\n",
        "\u001b[1;32mC:\\Users\\Ross\\Anaconda\\lib\\site-packages\\sklearn\\cross_validation.py\u001b[0m in \u001b[0;36m<module>\u001b[1;34m()\u001b[0m\n\u001b[0;32m     30\u001b[0m \u001b[1;32mfrom\u001b[0m \u001b[1;33m.\u001b[0m\u001b[0mexternals\u001b[0m\u001b[1;33m.\u001b[0m\u001b[0msix\u001b[0m \u001b[1;32mimport\u001b[0m \u001b[0mwith_metaclass\u001b[0m\u001b[1;33m\u001b[0m\u001b[0m\n\u001b[0;32m     31\u001b[0m \u001b[1;32mfrom\u001b[0m \u001b[1;33m.\u001b[0m\u001b[0mexternals\u001b[0m\u001b[1;33m.\u001b[0m\u001b[0msix\u001b[0m\u001b[1;33m.\u001b[0m\u001b[0mmoves\u001b[0m \u001b[1;32mimport\u001b[0m \u001b[0mzip\u001b[0m\u001b[1;33m\u001b[0m\u001b[0m\n\u001b[1;32m---> 32\u001b[1;33m \u001b[1;32mfrom\u001b[0m \u001b[1;33m.\u001b[0m\u001b[0mmetrics\u001b[0m\u001b[1;33m.\u001b[0m\u001b[0mscorer\u001b[0m \u001b[1;32mimport\u001b[0m \u001b[0mcheck_scoring\u001b[0m\u001b[1;33m\u001b[0m\u001b[0m\n\u001b[0m\u001b[0;32m     33\u001b[0m \u001b[1;32mfrom\u001b[0m \u001b[1;33m.\u001b[0m\u001b[0mutils\u001b[0m\u001b[1;33m.\u001b[0m\u001b[0mfixes\u001b[0m \u001b[1;32mimport\u001b[0m \u001b[0mbincount\u001b[0m\u001b[1;33m\u001b[0m\u001b[0m\n\u001b[0;32m     34\u001b[0m \u001b[1;33m\u001b[0m\u001b[0m\n",
        "\u001b[1;32mC:\\Users\\Ross\\Anaconda\\lib\\site-packages\\sklearn\\metrics\\__init__.py\u001b[0m in \u001b[0;36m<module>\u001b[1;34m()\u001b[0m\n\u001b[0;32m     29\u001b[0m \u001b[1;32mfrom\u001b[0m \u001b[1;33m.\u001b[0m\u001b[0mclassification\u001b[0m \u001b[1;32mimport\u001b[0m \u001b[0mbrier_score_loss\u001b[0m\u001b[1;33m\u001b[0m\u001b[0m\n\u001b[0;32m     30\u001b[0m \u001b[1;33m\u001b[0m\u001b[0m\n\u001b[1;32m---> 31\u001b[1;33m \u001b[1;32mfrom\u001b[0m \u001b[1;33m.\u001b[0m \u001b[1;32mimport\u001b[0m \u001b[0mcluster\u001b[0m\u001b[1;33m\u001b[0m\u001b[0m\n\u001b[0m\u001b[0;32m     32\u001b[0m \u001b[1;32mfrom\u001b[0m \u001b[1;33m.\u001b[0m\u001b[0mcluster\u001b[0m \u001b[1;32mimport\u001b[0m \u001b[0madjusted_mutual_info_score\u001b[0m\u001b[1;33m\u001b[0m\u001b[0m\n\u001b[0;32m     33\u001b[0m \u001b[1;32mfrom\u001b[0m \u001b[1;33m.\u001b[0m\u001b[0mcluster\u001b[0m \u001b[1;32mimport\u001b[0m \u001b[0madjusted_rand_score\u001b[0m\u001b[1;33m\u001b[0m\u001b[0m\n",
        "\u001b[1;32mC:\\Users\\Ross\\Anaconda\\lib\\site-packages\\sklearn\\metrics\\cluster\\__init__.py\u001b[0m in \u001b[0;36m<module>\u001b[1;34m()\u001b[0m\n\u001b[0;32m     19\u001b[0m \u001b[1;32mfrom\u001b[0m \u001b[1;33m.\u001b[0m\u001b[0munsupervised\u001b[0m \u001b[1;32mimport\u001b[0m \u001b[0msilhouette_samples\u001b[0m\u001b[1;33m\u001b[0m\u001b[0m\n\u001b[0;32m     20\u001b[0m \u001b[1;32mfrom\u001b[0m \u001b[1;33m.\u001b[0m\u001b[0munsupervised\u001b[0m \u001b[1;32mimport\u001b[0m \u001b[0msilhouette_score\u001b[0m\u001b[1;33m\u001b[0m\u001b[0m\n\u001b[1;32m---> 21\u001b[1;33m \u001b[1;32mfrom\u001b[0m \u001b[1;33m.\u001b[0m\u001b[0mbicluster\u001b[0m \u001b[1;32mimport\u001b[0m \u001b[0mconsensus_score\u001b[0m\u001b[1;33m\u001b[0m\u001b[0m\n\u001b[0m\u001b[0;32m     22\u001b[0m \u001b[1;33m\u001b[0m\u001b[0m\n\u001b[0;32m     23\u001b[0m __all__ = [\"adjusted_mutual_info_score\", \"normalized_mutual_info_score\",\n",
        "\u001b[1;32mC:\\Users\\Ross\\Anaconda\\lib\\site-packages\\sklearn\\metrics\\cluster\\bicluster\\__init__.py\u001b[0m in \u001b[0;36m<module>\u001b[1;34m()\u001b[0m\n\u001b[1;32m----> 1\u001b[1;33m \u001b[1;32mfrom\u001b[0m \u001b[1;33m.\u001b[0m\u001b[0mbicluster_metrics\u001b[0m \u001b[1;32mimport\u001b[0m \u001b[0mconsensus_score\u001b[0m\u001b[1;33m\u001b[0m\u001b[0m\n\u001b[0m\u001b[0;32m      2\u001b[0m \u001b[1;33m\u001b[0m\u001b[0m\n\u001b[0;32m      3\u001b[0m \u001b[0m__all__\u001b[0m \u001b[1;33m=\u001b[0m \u001b[1;33m[\u001b[0m\u001b[1;34m'consensus_score'\u001b[0m\u001b[1;33m]\u001b[0m\u001b[1;33m\u001b[0m\u001b[0m\n",
        "\u001b[1;32mC:\\Users\\Ross\\Anaconda\\lib\\site-packages\\sklearn\\metrics\\cluster\\bicluster\\bicluster_metrics.py\u001b[0m in \u001b[0;36m<module>\u001b[1;34m()\u001b[0m\n\u001b[0;32m      4\u001b[0m \u001b[1;33m\u001b[0m\u001b[0m\n\u001b[0;32m      5\u001b[0m \u001b[1;32mfrom\u001b[0m \u001b[0msklearn\u001b[0m\u001b[1;33m.\u001b[0m\u001b[0mutils\u001b[0m\u001b[1;33m.\u001b[0m\u001b[0mlinear_assignment_\u001b[0m \u001b[1;32mimport\u001b[0m \u001b[0mlinear_assignment\u001b[0m\u001b[1;33m\u001b[0m\u001b[0m\n\u001b[1;32m----> 6\u001b[1;33m \u001b[1;32mfrom\u001b[0m \u001b[0msklearn\u001b[0m\u001b[1;33m.\u001b[0m\u001b[0mutils\u001b[0m\u001b[1;33m.\u001b[0m\u001b[0mvalidation\u001b[0m \u001b[1;32mimport\u001b[0m \u001b[0mcheck_arrays\u001b[0m\u001b[1;33m\u001b[0m\u001b[0m\n\u001b[0m\u001b[0;32m      7\u001b[0m \u001b[1;33m\u001b[0m\u001b[0m\n\u001b[0;32m      8\u001b[0m \u001b[1;33m\u001b[0m\u001b[0m\n",
        "\u001b[1;31mImportError\u001b[0m: cannot import name check_arrays"
       ]
      }
     ],
     "prompt_number": 1
    },
    {
     "cell_type": "code",
     "collapsed": false,
     "input": [
      "def load_json_file(path):\n",
      "    with open(path) as f:\n",
      "        data = json.load(f)\n",
      "    return data\n",
      "\n",
      "def make_submission_csv(predictions, ids, submission_name, path = '../../predictions'):\n",
      "    with open(path+'/'+submission_name+'.csv', 'w') as csvfile:\n",
      "        field_names = ['request_id', 'requester_received_pizza']\n",
      "        writer = csv.DictWriter(csvfile, fieldnames = field_names)\n",
      "        writer.writeheader()\n",
      "        csv_data = zip(ids, predictions)\n",
      "        for row in csv_data:\n",
      "            writer.writerow({field_names[0]:row[0], field_names[1]:int(row[1])})\n",
      "\n",
      "def test_kfolds(X, y, kf, model, verbose=True):\n",
      "    roc_auc_list = []\n",
      "    \n",
      "    for train_i, dev_i in kf:\n",
      "        X_train = X[train_i]\n",
      "        X_dev = X[dev_i]\n",
      "\n",
      "        model.fit(X_train, y[train_i])\n",
      "\n",
      "        dev_pred = model.predict(X_dev)\n",
      "        \n",
      "        roc_auc_i = roc_auc_score(y[dev_i], dev_pred)\n",
      "        roc_auc_list.append(roc_auc_i)\n",
      "        if verbose:\n",
      "            print('ROC AUC:',roc_auc_i)\n",
      "        \n",
      "    return roc_auc_list\n"
     ],
     "language": "python",
     "metadata": {},
     "outputs": [],
     "prompt_number": 2
    },
    {
     "cell_type": "code",
     "collapsed": false,
     "input": [
      "# load data from JSON file as list of dicts\n",
      "all_train_dict_list = load_json_file('../../data/train.json')\n",
      "submit_dict_list =  load_json_file('../../data/test.json')\n",
      "\n",
      "n_all = len(all_train_dict_list)\n",
      "n_submit = len(submit_dict_list)\n",
      "\n",
      "# shuffle data to avoid biased split of train / dev data\n",
      "rand.shuffle(all_train_dict_list)\n",
      "\n",
      "# set up kFolds\n",
      "kf = KFold(n_all, n_folds = 5)"
     ],
     "language": "python",
     "metadata": {},
     "outputs": [],
     "prompt_number": 3
    },
    {
     "cell_type": "code",
     "collapsed": false,
     "input": [
      "# process labels\n",
      "all_train_labels = np.array([x['requester_received_pizza'] for x in all_train_dict_list])\n",
      "\n",
      "# pandas is useful for turning dicts in to matrix-like objects\n",
      "# where each column is an numpy array\n",
      "submit_df = pd.DataFrame(submit_dict_list)\n",
      "all_train_df = pd.DataFrame(all_train_dict_list)\n",
      "\n",
      "# limit train to columns available in submit_df\n",
      "submit_cols = submit_df.columns\n",
      "all_train_df = all_train_df[submit_cols]"
     ],
     "language": "python",
     "metadata": {},
     "outputs": [],
     "prompt_number": 4
    },
    {
     "cell_type": "code",
     "collapsed": false,
     "input": [
      "all_train_df.columns.values"
     ],
     "language": "python",
     "metadata": {},
     "outputs": [
      {
       "metadata": {},
       "output_type": "pyout",
       "prompt_number": 5,
       "text": [
        "array([u'giver_username_if_known', u'request_id',\n",
        "       u'request_text_edit_aware', u'request_title',\n",
        "       u'requester_account_age_in_days_at_request',\n",
        "       u'requester_days_since_first_post_on_raop_at_request',\n",
        "       u'requester_number_of_comments_at_request',\n",
        "       u'requester_number_of_comments_in_raop_at_request',\n",
        "       u'requester_number_of_posts_at_request',\n",
        "       u'requester_number_of_posts_on_raop_at_request',\n",
        "       u'requester_number_of_subreddits_at_request',\n",
        "       u'requester_subreddits_at_request',\n",
        "       u'requester_upvotes_minus_downvotes_at_request',\n",
        "       u'requester_upvotes_plus_downvotes_at_request',\n",
        "       u'requester_username', u'unix_timestamp_of_request',\n",
        "       u'unix_timestamp_of_request_utc'], dtype=object)"
       ]
      }
     ],
     "prompt_number": 5
    },
    {
     "cell_type": "code",
     "collapsed": false,
     "input": [
      "# which columns are numeric activity variables\n",
      "activity_var = ['requester_account_age_in_days_at_request',\n",
      "                'requester_days_since_first_post_on_raop_at_request',\n",
      "                'requester_number_of_comments_at_request',\n",
      "                'requester_number_of_comments_in_raop_at_request',\n",
      "                'requester_number_of_posts_at_request',\n",
      "                'requester_number_of_posts_on_raop_at_request',\n",
      "                'requester_number_of_subreddits_at_request',\n",
      "                'requester_upvotes_minus_downvotes_at_request',\n",
      "                'requester_upvotes_plus_downvotes_at_request'\n",
      "                ]\n",
      "# look at correlations of requester activity variables:\n",
      "activity_all = all_train_df.loc[:,activity_var]\n",
      "activity_all.corr()\n",
      "\n",
      "scaler = StandardScaler()\n",
      "X_all = scaler.fit_transform(activity_all)\n",
      "\n",
      "# probably only need to include upvotes_minus_downvotes\n",
      "# OR upvotes_plus_downvotes? they are 90% correlated\n",
      "\n",
      "# number of comments is also highly correlated with number of subreddits"
     ],
     "language": "python",
     "metadata": {},
     "outputs": [],
     "prompt_number": 6
    },
    {
     "cell_type": "code",
     "collapsed": false,
     "input": [],
     "language": "python",
     "metadata": {},
     "outputs": [],
     "prompt_number": 6
    },
    {
     "cell_type": "code",
     "collapsed": false,
     "input": [
      "activity_all = all_train_df.loc[:,activity_var].values\n",
      "scaler = StandardScaler()\n",
      "X_all = scaler.fit_transform(activity_all)\n"
     ],
     "language": "python",
     "metadata": {},
     "outputs": [],
     "prompt_number": 7
    },
    {
     "cell_type": "code",
     "collapsed": false,
     "input": [
      "# NOTE class_weight = \"auto\" makes a huge difference!!\n",
      "svc = SVC(class_weight='auto')\n",
      "\n",
      "X_one = all_train_df['requester_number_of_comments_in_raop_at_request'].values > 0\n",
      "X_one = np.reshape(X_one, (X_one.shape[0],1))\n",
      "\n",
      "print 'class_weight = \"auto\"'\n",
      "test_kfolds(X_one, all_train_labels, kf, SVC(class_weight='auto'))\n",
      "print 'class_weight = None'\n",
      "test_kfolds(X_one, all_train_labels, kf, SVC(class_weight=None))"
     ],
     "language": "python",
     "metadata": {},
     "outputs": [
      {
       "output_type": "stream",
       "stream": "stdout",
       "text": [
        "class_weight = \"auto\"\n",
        "('ROC AUC:', 0.55074590041150084)"
       ]
      },
      {
       "output_type": "stream",
       "stream": "stdout",
       "text": [
        "\n",
        "('ROC AUC:', 0.54163538538538536)"
       ]
      },
      {
       "output_type": "stream",
       "stream": "stdout",
       "text": [
        "\n",
        "('ROC AUC:', 0.57013201320132012)"
       ]
      },
      {
       "output_type": "stream",
       "stream": "stdout",
       "text": [
        "\n",
        "('ROC AUC:', 0.542059943699288)"
       ]
      },
      {
       "output_type": "stream",
       "stream": "stdout",
       "text": [
        "\n",
        "('ROC AUC:', 0.5291774323527213)"
       ]
      },
      {
       "output_type": "stream",
       "stream": "stdout",
       "text": [
        "\n",
        "class_weight = None\n",
        "('ROC AUC:', 0.5)"
       ]
      },
      {
       "output_type": "stream",
       "stream": "stdout",
       "text": [
        "\n",
        "('ROC AUC:', 0.5)"
       ]
      },
      {
       "output_type": "stream",
       "stream": "stdout",
       "text": [
        "\n",
        "('ROC AUC:', 0.5)"
       ]
      },
      {
       "output_type": "stream",
       "stream": "stdout",
       "text": [
        "\n",
        "('ROC AUC:', 0.5)"
       ]
      },
      {
       "output_type": "stream",
       "stream": "stdout",
       "text": [
        "\n",
        "('ROC AUC:', 0.5)"
       ]
      },
      {
       "output_type": "stream",
       "stream": "stdout",
       "text": [
        "\n"
       ]
      },
      {
       "metadata": {},
       "output_type": "pyout",
       "prompt_number": 8,
       "text": [
        "[0.5, 0.5, 0.5, 0.5, 0.5]"
       ]
      }
     ],
     "prompt_number": 8
    },
    {
     "cell_type": "code",
     "collapsed": false,
     "input": [
      "# Check which vars are bset on their own\n",
      "# And difference between logistic and SVC\n",
      "\n",
      "svc = SVC(class_weight='auto')\n",
      "lr = LogisticRegression(class_weight='auto')\n",
      "\n",
      "res = []\n",
      "\n",
      "for var in activity_var:\n",
      "    X_one = all_train_df[var].values\n",
      "    X_one = np.reshape(X_one, (X_one.shape[0],1))\n",
      "    print var\n",
      "    \n",
      "    svc_score = test_kfolds(X_one, all_train_labels, kf, svc, verbose=False)\n",
      "    lr_score = test_kfolds(X_one, all_train_labels, kf, lr, verbose=False)\n",
      "    \n",
      "    res.append({\n",
      "        'var':var,\n",
      "        'svc_mean_score':np.mean(svc_score),\n",
      "        'svc_median_score':np.median(svc_score),\n",
      "        'lr_mean_score':np.mean(lr_score),\n",
      "        'lr_median_score':np.median(lr_score),\n",
      "        })"
     ],
     "language": "python",
     "metadata": {},
     "outputs": [
      {
       "output_type": "stream",
       "stream": "stdout",
       "text": [
        "requester_account_age_in_days_at_request\n",
        "requester_days_since_first_post_on_raop_at_request"
       ]
      },
      {
       "output_type": "stream",
       "stream": "stdout",
       "text": [
        "\n",
        "requester_number_of_comments_at_request"
       ]
      },
      {
       "output_type": "stream",
       "stream": "stdout",
       "text": [
        "\n",
        "requester_number_of_comments_in_raop_at_request"
       ]
      },
      {
       "output_type": "stream",
       "stream": "stdout",
       "text": [
        "\n",
        "requester_number_of_posts_at_request"
       ]
      },
      {
       "output_type": "stream",
       "stream": "stdout",
       "text": [
        "\n",
        "requester_number_of_posts_on_raop_at_request"
       ]
      },
      {
       "output_type": "stream",
       "stream": "stdout",
       "text": [
        "\n",
        "requester_number_of_subreddits_at_request"
       ]
      },
      {
       "output_type": "stream",
       "stream": "stdout",
       "text": [
        "\n",
        "requester_upvotes_minus_downvotes_at_request"
       ]
      },
      {
       "output_type": "stream",
       "stream": "stdout",
       "text": [
        "\n",
        "requester_upvotes_plus_downvotes_at_request"
       ]
      },
      {
       "output_type": "stream",
       "stream": "stdout",
       "text": [
        "\n"
       ]
      }
     ],
     "prompt_number": 9
    },
    {
     "cell_type": "code",
     "collapsed": false,
     "input": [
      "pd.DataFrame(res)"
     ],
     "language": "python",
     "metadata": {},
     "outputs": [
      {
       "html": [
        "<div style=\"max-height:1000px;max-width:1500px;overflow:auto;\">\n",
        "<table border=\"1\" class=\"dataframe\">\n",
        "  <thead>\n",
        "    <tr style=\"text-align: right;\">\n",
        "      <th></th>\n",
        "      <th>lr_mean_score</th>\n",
        "      <th>lr_median_score</th>\n",
        "      <th>svc_mean_score</th>\n",
        "      <th>svc_median_score</th>\n",
        "      <th>var</th>\n",
        "    </tr>\n",
        "  </thead>\n",
        "  <tbody>\n",
        "    <tr>\n",
        "      <th>0</th>\n",
        "      <td> 0.512874</td>\n",
        "      <td> 0.506601</td>\n",
        "      <td> 0.513453</td>\n",
        "      <td> 0.504025</td>\n",
        "      <td>          requester_account_age_in_days_at_request</td>\n",
        "    </tr>\n",
        "    <tr>\n",
        "      <th>1</th>\n",
        "      <td> 0.538299</td>\n",
        "      <td> 0.538779</td>\n",
        "      <td> 0.534995</td>\n",
        "      <td> 0.534657</td>\n",
        "      <td> requester_days_since_first_post_on_raop_at_req...</td>\n",
        "    </tr>\n",
        "    <tr>\n",
        "      <th>2</th>\n",
        "      <td> 0.514588</td>\n",
        "      <td> 0.514851</td>\n",
        "      <td> 0.522920</td>\n",
        "      <td> 0.529879</td>\n",
        "      <td>           requester_number_of_comments_at_request</td>\n",
        "    </tr>\n",
        "    <tr>\n",
        "      <th>3</th>\n",
        "      <td> 0.546750</td>\n",
        "      <td> 0.542060</td>\n",
        "      <td> 0.546827</td>\n",
        "      <td> 0.541994</td>\n",
        "      <td>   requester_number_of_comments_in_raop_at_request</td>\n",
        "    </tr>\n",
        "    <tr>\n",
        "      <th>4</th>\n",
        "      <td> 0.510951</td>\n",
        "      <td> 0.513037</td>\n",
        "      <td> 0.529937</td>\n",
        "      <td> 0.527228</td>\n",
        "      <td>              requester_number_of_posts_at_request</td>\n",
        "    </tr>\n",
        "    <tr>\n",
        "      <th>5</th>\n",
        "      <td> 0.530218</td>\n",
        "      <td> 0.533292</td>\n",
        "      <td> 0.530218</td>\n",
        "      <td> 0.533292</td>\n",
        "      <td>      requester_number_of_posts_on_raop_at_request</td>\n",
        "    </tr>\n",
        "    <tr>\n",
        "      <th>6</th>\n",
        "      <td> 0.517714</td>\n",
        "      <td> 0.518416</td>\n",
        "      <td> 0.538625</td>\n",
        "      <td> 0.539054</td>\n",
        "      <td>         requester_number_of_subreddits_at_request</td>\n",
        "    </tr>\n",
        "    <tr>\n",
        "      <th>7</th>\n",
        "      <td> 0.523629</td>\n",
        "      <td> 0.525682</td>\n",
        "      <td> 0.518209</td>\n",
        "      <td> 0.522663</td>\n",
        "      <td>      requester_upvotes_minus_downvotes_at_request</td>\n",
        "    </tr>\n",
        "    <tr>\n",
        "      <th>8</th>\n",
        "      <td> 0.540922</td>\n",
        "      <td> 0.536869</td>\n",
        "      <td> 0.526003</td>\n",
        "      <td> 0.526276</td>\n",
        "      <td>       requester_upvotes_plus_downvotes_at_request</td>\n",
        "    </tr>\n",
        "  </tbody>\n",
        "</table>\n",
        "</div>"
       ],
       "metadata": {},
       "output_type": "pyout",
       "prompt_number": 10,
       "text": [
        "   lr_mean_score  lr_median_score  svc_mean_score  svc_median_score  \\\n",
        "0       0.512874         0.506601        0.513453          0.504025   \n",
        "1       0.538299         0.538779        0.534995          0.534657   \n",
        "2       0.514588         0.514851        0.522920          0.529879   \n",
        "3       0.546750         0.542060        0.546827          0.541994   \n",
        "4       0.510951         0.513037        0.529937          0.527228   \n",
        "5       0.530218         0.533292        0.530218          0.533292   \n",
        "6       0.517714         0.518416        0.538625          0.539054   \n",
        "7       0.523629         0.525682        0.518209          0.522663   \n",
        "8       0.540922         0.536869        0.526003          0.526276   \n",
        "\n",
        "                                                 var  \n",
        "0           requester_account_age_in_days_at_request  \n",
        "1  requester_days_since_first_post_on_raop_at_req...  \n",
        "2            requester_number_of_comments_at_request  \n",
        "3    requester_number_of_comments_in_raop_at_request  \n",
        "4               requester_number_of_posts_at_request  \n",
        "5       requester_number_of_posts_on_raop_at_request  \n",
        "6          requester_number_of_subreddits_at_request  \n",
        "7       requester_upvotes_minus_downvotes_at_request  \n",
        "8        requester_upvotes_plus_downvotes_at_request  "
       ]
      }
     ],
     "prompt_number": 10
    },
    {
     "cell_type": "code",
     "collapsed": false,
     "input": [
      "# subset of variables\n",
      "activity_sub_var = ['requester_account_age_in_days_at_request',\n",
      "                'requester_days_since_first_post_on_raop_at_request',\n",
      "                'requester_number_of_comments_in_raop_at_request',\n",
      "                'requester_number_of_posts_at_request',\n",
      "                'requester_number_of_posts_on_raop_at_request',\n",
      "                'requester_number_of_subreddits_at_request',\n",
      "                'requester_upvotes_plus_downvotes_at_request'\n",
      "                ]\n",
      "\n",
      "\n",
      "activity_sub = all_train_df.loc[:,activity_sub_var].values\n",
      "scaler = StandardScaler()\n",
      "X_sub = scaler.fit_transform(activity_sub)\n",
      "\n"
     ],
     "language": "python",
     "metadata": {},
     "outputs": [],
     "prompt_number": 11
    },
    {
     "cell_type": "code",
     "collapsed": false,
     "input": [
      "# NOTE RAOP comments seem to get most of the value from activity vars?\n",
      "\n",
      "X_one = all_train_df['requester_number_of_comments_in_raop_at_request'].values\n",
      "X_one = np.reshape(X_one, (X_one.shape[0],1))\n",
      "\n",
      "svc = SVC(class_weight='auto')\n",
      "lr = LogisticRegression(class_weight='auto')\n",
      "\n",
      "print '\\nAll Activity'\n",
      "all_res = test_kfolds(X_sub, all_train_labels, kf, svc)\n",
      "print 'Mean: %f, Median: %f' %(np.mean(all_res), np.median(all_res))\n",
      "\n",
      "all_res = test_kfolds(X_sub, all_train_labels, kf, lr)\n",
      "print 'Mean: %f, Median: %f' %(np.mean(all_res), np.median(all_res))\n",
      "\n",
      "\n",
      "print '\\nRAOP Comments Only'\n",
      "one_res = test_kfolds(X_one, all_train_labels, kf, svc)\n",
      "print 'Mean: %f, Median: %f' %(np.mean(one_res), np.median(one_res))"
     ],
     "language": "python",
     "metadata": {},
     "outputs": [
      {
       "output_type": "stream",
       "stream": "stdout",
       "text": [
        "\n",
        "All Activity\n",
        "('ROC AUC:', 0.56450077982500191)"
       ]
      },
      {
       "output_type": "stream",
       "stream": "stdout",
       "text": [
        "\n",
        "('ROC AUC:', 0.5518330830830831)"
       ]
      },
      {
       "output_type": "stream",
       "stream": "stdout",
       "text": [
        "\n",
        "('ROC AUC:', 0.54702970297029707)"
       ]
      },
      {
       "output_type": "stream",
       "stream": "stdout",
       "text": [
        "\n",
        "('ROC AUC:', 0.56433184302036765)"
       ]
      },
      {
       "output_type": "stream",
       "stream": "stdout",
       "text": [
        "\n",
        "('ROC AUC:', 0.51080861033339708)"
       ]
      },
      {
       "output_type": "stream",
       "stream": "stdout",
       "text": [
        "\n",
        "Mean: 0.547701, Median: 0.551833\n",
        "('ROC AUC:', 0.55057407456360641)\n",
        "('ROC AUC:', 0.54685935935935936)\n",
        "('ROC AUC:', 0.57095709570957098)\n",
        "('ROC AUC:', 0.54354197714853447)\n",
        "('ROC AUC:', 0.53484759111716673)\n",
        "Mean: 0.549356, Median: 0.546859\n",
        "\n",
        "RAOP Comments Only\n",
        "('ROC AUC:', 0.550375813969882)"
       ]
      },
      {
       "output_type": "stream",
       "stream": "stdout",
       "text": [
        "\n",
        "('ROC AUC:', 0.54163538538538536)"
       ]
      },
      {
       "output_type": "stream",
       "stream": "stdout",
       "text": [
        "\n",
        "('ROC AUC:', 0.57013201320132012)"
       ]
      },
      {
       "output_type": "stream",
       "stream": "stdout",
       "text": [
        "\n",
        "('ROC AUC:', 0.541993707567478)"
       ]
      },
      {
       "output_type": "stream",
       "stream": "stdout",
       "text": [
        "\n",
        "('ROC AUC:', 0.52999576295828599)"
       ]
      },
      {
       "output_type": "stream",
       "stream": "stdout",
       "text": [
        "\n",
        "Mean: 0.546827, Median: 0.541994\n"
       ]
      }
     ],
     "prompt_number": 12
    },
    {
     "cell_type": "code",
     "collapsed": false,
     "input": [
      "#scaler = StandardScaler()\n",
      "#X_submit = scaler.transform(submit_df.loc[:,activity_var].values)\n",
      "#\n",
      "#svc = SVC(class_weight='auto')\n",
      "#svc.fit(X_all, all_train_labels)\n",
      "#\n",
      "#submit_pred = svc.predict(X_submit)\n",
      "#submit_id = [x['request_id'] for x in submit_dict_list]\n",
      "#make_submission_csv(submit_pred, submit_id, 'activity_svc')"
     ],
     "language": "python",
     "metadata": {},
     "outputs": [],
     "prompt_number": 17
    },
    {
     "cell_type": "code",
     "collapsed": false,
     "input": [
      "######### Start PCA Work\n",
      "\n",
      "X_act = activity_all\n",
      "\n",
      "pca = PCA(n_components=X_act.shape[1])\n",
      "pca.fit(X_act)\n",
      "print pca.explained_variance_ratio_\n",
      "\n",
      "# only the first first pc seems to be valuable\n",
      "\n",
      "# get PC values over time\n",
      "\n",
      "weights = pca.components_\n",
      "\n",
      "scaler = StandardScaler()\n",
      "X_pca = scaler.fit_transform(np.dot(X_act, weights.transpose()))\n"
     ],
     "language": "python",
     "metadata": {},
     "outputs": [
      {
       "output_type": "stream",
       "stream": "stdout",
       "text": [
        "[  9.96593967e-01   3.25562815e-03   1.13355884e-04   2.79331882e-05\n",
        "   6.78194967e-06   2.12246717e-06   1.96870604e-07   1.46351937e-08\n",
        "   1.15167535e-10]\n"
       ]
      }
     ],
     "prompt_number": 18
    },
    {
     "cell_type": "code",
     "collapsed": false,
     "input": [
      "pd.DataFrame(X_pca).describe()"
     ],
     "language": "python",
     "metadata": {},
     "outputs": [
      {
       "html": [
        "<div style=\"max-height:1000px;max-width:1500px;overflow:auto;\">\n",
        "<table border=\"1\" class=\"dataframe\">\n",
        "  <thead>\n",
        "    <tr style=\"text-align: right;\">\n",
        "      <th></th>\n",
        "      <th>0</th>\n",
        "      <th>1</th>\n",
        "      <th>2</th>\n",
        "      <th>3</th>\n",
        "      <th>4</th>\n",
        "      <th>5</th>\n",
        "      <th>6</th>\n",
        "      <th>7</th>\n",
        "      <th>8</th>\n",
        "    </tr>\n",
        "  </thead>\n",
        "  <tbody>\n",
        "    <tr>\n",
        "      <th>count</th>\n",
        "      <td> 4.040000e+03</td>\n",
        "      <td> 4.040000e+03</td>\n",
        "      <td> 4.040000e+03</td>\n",
        "      <td> 4.040000e+03</td>\n",
        "      <td> 4.040000e+03</td>\n",
        "      <td> 4.040000e+03</td>\n",
        "      <td> 4.040000e+03</td>\n",
        "      <td> 4.040000e+03</td>\n",
        "      <td> 4.040000e+03</td>\n",
        "    </tr>\n",
        "    <tr>\n",
        "      <th>mean</th>\n",
        "      <td> 5.891877e-17</td>\n",
        "      <td>-6.261218e-16</td>\n",
        "      <td>-1.068013e-15</td>\n",
        "      <td> 1.305886e-16</td>\n",
        "      <td> 1.231138e-17</td>\n",
        "      <td>-5.276307e-18</td>\n",
        "      <td> 6.777857e-16</td>\n",
        "      <td>-1.222345e-16</td>\n",
        "      <td>-1.802738e-16</td>\n",
        "    </tr>\n",
        "    <tr>\n",
        "      <th>std</th>\n",
        "      <td> 1.000124e+00</td>\n",
        "      <td> 1.000124e+00</td>\n",
        "      <td> 1.000124e+00</td>\n",
        "      <td> 1.000124e+00</td>\n",
        "      <td> 1.000124e+00</td>\n",
        "      <td> 1.000124e+00</td>\n",
        "      <td> 1.000124e+00</td>\n",
        "      <td> 1.000124e+00</td>\n",
        "      <td> 1.000124e+00</td>\n",
        "    </tr>\n",
        "    <tr>\n",
        "      <th>min</th>\n",
        "      <td>-1.482596e-01</td>\n",
        "      <td>-1.142336e+01</td>\n",
        "      <td>-9.949207e+00</td>\n",
        "      <td>-5.267585e+00</td>\n",
        "      <td>-1.056379e+01</td>\n",
        "      <td>-1.886744e+01</td>\n",
        "      <td>-8.659860e+00</td>\n",
        "      <td>-2.522552e+01</td>\n",
        "      <td>-1.679041e+01</td>\n",
        "    </tr>\n",
        "    <tr>\n",
        "      <th>25%</th>\n",
        "      <td>-1.479122e-01</td>\n",
        "      <td>-4.587525e-01</td>\n",
        "      <td>-7.129474e-01</td>\n",
        "      <td>-6.634485e-02</td>\n",
        "      <td> 2.142348e-03</td>\n",
        "      <td>-2.514274e-02</td>\n",
        "      <td>-3.126622e-01</td>\n",
        "      <td> 6.209975e-02</td>\n",
        "      <td> 7.379424e-02</td>\n",
        "    </tr>\n",
        "    <tr>\n",
        "      <th>50%</th>\n",
        "      <td>-1.338279e-01</td>\n",
        "      <td>-3.694954e-01</td>\n",
        "      <td>-3.397371e-01</td>\n",
        "      <td> 9.850711e-02</td>\n",
        "      <td> 8.334995e-02</td>\n",
        "      <td> 5.147753e-02</td>\n",
        "      <td> 2.203753e-01</td>\n",
        "      <td> 1.200078e-01</td>\n",
        "      <td> 1.075434e-01</td>\n",
        "    </tr>\n",
        "    <tr>\n",
        "      <th>75%</th>\n",
        "      <td>-5.475979e-02</td>\n",
        "      <td> 6.503641e-02</td>\n",
        "      <td> 4.179718e-01</td>\n",
        "      <td> 3.057744e-01</td>\n",
        "      <td> 3.018160e-01</td>\n",
        "      <td> 2.291055e-01</td>\n",
        "      <td> 3.947049e-01</td>\n",
        "      <td> 1.227673e-01</td>\n",
        "      <td> 1.160819e-01</td>\n",
        "    </tr>\n",
        "    <tr>\n",
        "      <th>max</th>\n",
        "      <td> 4.958752e+01</td>\n",
        "      <td> 2.406387e+01</td>\n",
        "      <td> 9.053384e+00</td>\n",
        "      <td> 2.064090e+01</td>\n",
        "      <td> 2.587822e+00</td>\n",
        "      <td> 1.082975e+01</td>\n",
        "      <td> 7.802733e+00</td>\n",
        "      <td> 4.055517e+00</td>\n",
        "      <td> 8.229362e+00</td>\n",
        "    </tr>\n",
        "  </tbody>\n",
        "</table>\n",
        "</div>"
       ],
       "metadata": {},
       "output_type": "pyout",
       "prompt_number": 19,
       "text": [
        "                  0             1             2             3             4  \\\n",
        "count  4.040000e+03  4.040000e+03  4.040000e+03  4.040000e+03  4.040000e+03   \n",
        "mean   5.891877e-17 -6.261218e-16 -1.068013e-15  1.305886e-16  1.231138e-17   \n",
        "std    1.000124e+00  1.000124e+00  1.000124e+00  1.000124e+00  1.000124e+00   \n",
        "min   -1.482596e-01 -1.142336e+01 -9.949207e+00 -5.267585e+00 -1.056379e+01   \n",
        "25%   -1.479122e-01 -4.587525e-01 -7.129474e-01 -6.634485e-02  2.142348e-03   \n",
        "50%   -1.338279e-01 -3.694954e-01 -3.397371e-01  9.850711e-02  8.334995e-02   \n",
        "75%   -5.475979e-02  6.503641e-02  4.179718e-01  3.057744e-01  3.018160e-01   \n",
        "max    4.958752e+01  2.406387e+01  9.053384e+00  2.064090e+01  2.587822e+00   \n",
        "\n",
        "                  5             6             7             8  \n",
        "count  4.040000e+03  4.040000e+03  4.040000e+03  4.040000e+03  \n",
        "mean  -5.276307e-18  6.777857e-16 -1.222345e-16 -1.802738e-16  \n",
        "std    1.000124e+00  1.000124e+00  1.000124e+00  1.000124e+00  \n",
        "min   -1.886744e+01 -8.659860e+00 -2.522552e+01 -1.679041e+01  \n",
        "25%   -2.514274e-02 -3.126622e-01  6.209975e-02  7.379424e-02  \n",
        "50%    5.147753e-02  2.203753e-01  1.200078e-01  1.075434e-01  \n",
        "75%    2.291055e-01  3.947049e-01  1.227673e-01  1.160819e-01  \n",
        "max    1.082975e+01  7.802733e+00  4.055517e+00  8.229362e+00  "
       ]
      }
     ],
     "prompt_number": 19
    },
    {
     "cell_type": "code",
     "collapsed": false,
     "input": [
      "# PCA does not seem to add much value beyond just using the underlying variables\n",
      "svc = SVC(class_weight='auto')\n",
      "lr = LogisticRegression(class_weight='auto')\n",
      "\n",
      "svc_res = []\n",
      "lr_res = []\n",
      "\n",
      "for n_pca in range(1,X_pca.shape[1]+1):\n",
      "\n",
      "    print 'SVC PCA %d component(s)' % n_pca\n",
      "    all_res = test_kfolds(X_pca[:,:n_pca], all_train_labels, kf, svc)\n",
      "    res_smry = {'mean':np.mean(all_res), 'median':np.median(all_res), 'pc_n':n_pca}\n",
      "    svc_res.append(res_smry)\n",
      "    print 'Mean: %f, Median: %f' % (res_smry['mean'], res_smry['median'])\n",
      "\n",
      "    print 'LR PCA %d component(s)' % n_pca\n",
      "    all_res = test_kfolds(X_pca[:,:n_pca], all_train_labels, kf, lr)\n",
      "    res_smry = {'mean':np.mean(all_res), 'median':np.median(all_res), 'pc_n':n_pca}\n",
      "    lr_res.append(res_smry)\n",
      "    print 'Mean: %f, Median: %f' % (res_smry['mean'], res_smry['median'])"
     ],
     "language": "python",
     "metadata": {},
     "outputs": [
      {
       "output_type": "stream",
       "stream": "stdout",
       "text": [
        "SVC PCA 1 component(s)\n",
        "('ROC AUC:', 0.51987452307312731)"
       ]
      },
      {
       "output_type": "stream",
       "stream": "stdout",
       "text": [
        "\n",
        "('ROC AUC:', 0.51617242242242234)"
       ]
      },
      {
       "output_type": "stream",
       "stream": "stdout",
       "text": [
        "\n",
        "('ROC AUC:', 0.51815181518151809)"
       ]
      },
      {
       "output_type": "stream",
       "stream": "stdout",
       "text": [
        "\n",
        "('ROC AUC:', 0.52123695976154993)"
       ]
      },
      {
       "output_type": "stream",
       "stream": "stdout",
       "text": [
        "\n",
        "('ROC AUC:', 0.51895453072686037)"
       ]
      },
      {
       "output_type": "stream",
       "stream": "stdout",
       "text": [
        "\n",
        "Mean: 0.518878, Median: 0.518955\n",
        "LR PCA 1 component(s)\n",
        "('ROC AUC:', 0.51258293901504137)\n",
        "('ROC AUC:', 0.52283533533533533)\n",
        "('ROC AUC:', 0.51897689768976896)\n",
        "('ROC AUC:', 0.5193078324225866)\n",
        "('ROC AUC:', 0.51527827394551662)\n",
        "Mean: 0.517796, Median: 0.518977\n",
        "SVC PCA 2 component(s)\n",
        "('ROC AUC:', 0.52240344709085629)"
       ]
      },
      {
       "output_type": "stream",
       "stream": "stdout",
       "text": [
        "\n",
        "('ROC AUC:', 0.51351351351351349)"
       ]
      },
      {
       "output_type": "stream",
       "stream": "stdout",
       "text": [
        "\n",
        "('ROC AUC:', 0.51237623762376228)"
       ]
      },
      {
       "output_type": "stream",
       "stream": "stdout",
       "text": [
        "\n",
        "('ROC AUC:', 0.52805100182149356)"
       ]
      },
      {
       "output_type": "stream",
       "stream": "stdout",
       "text": [
        "\n",
        "('ROC AUC:', 0.50008723321176074)"
       ]
      },
      {
       "output_type": "stream",
       "stream": "stdout",
       "text": [
        "\n",
        "Mean: 0.515286, Median: 0.513514\n",
        "LR PCA 2 component(s)\n",
        "('ROC AUC:', 0.53040876928634995)\n",
        "('ROC AUC:', 0.51976976976976974)\n",
        "('ROC AUC:', 0.51815181518151809)\n",
        "('ROC AUC:', 0.51941546613677758)\n",
        "('ROC AUC:', 0.50809191888142102)\n",
        "Mean: 0.519168, Median: 0.519415\n",
        "SVC PCA 3 component(s)\n",
        "('ROC AUC:', 0.58978120842034776)"
       ]
      },
      {
       "output_type": "stream",
       "stream": "stdout",
       "text": [
        "\n",
        "('ROC AUC:', 0.52346096096096095)"
       ]
      },
      {
       "output_type": "stream",
       "stream": "stdout",
       "text": [
        "\n",
        "('ROC AUC:', 0.53052805280528059)"
       ]
      },
      {
       "output_type": "stream",
       "stream": "stdout",
       "text": [
        "\n",
        "('ROC AUC:', 0.53209968537837382)"
       ]
      },
      {
       "output_type": "stream",
       "stream": "stdout",
       "text": [
        "\n",
        "('ROC AUC:', 0.55618649629881944)"
       ]
      },
      {
       "output_type": "stream",
       "stream": "stdout",
       "text": [
        "\n",
        "Mean: 0.546411, Median: 0.532100\n",
        "LR PCA 3 component(s)\n",
        "('ROC AUC:', 0.50693912078035375)\n",
        "('ROC AUC:', 0.54379379379379378)\n",
        "('ROC AUC:', 0.5099009900990098)\n",
        "('ROC AUC:', 0.52661036595462818)\n",
        "('ROC AUC:', 0.50959980725614162)\n",
        "Mean: 0.519369, Median: 0.509901\n",
        "SVC PCA 4 component(s)\n",
        "('ROC AUC:', 0.54609338514543515)"
       ]
      },
      {
       "output_type": "stream",
       "stream": "stdout",
       "text": [
        "\n",
        "('ROC AUC:', 0.51273148148148151)"
       ]
      },
      {
       "output_type": "stream",
       "stream": "stdout",
       "text": [
        "\n",
        "('ROC AUC:', 0.528052805280528)"
       ]
      },
      {
       "output_type": "stream",
       "stream": "stdout",
       "text": [
        "\n",
        "('ROC AUC:', 0.52970690511674123)"
       ]
      },
      {
       "output_type": "stream",
       "stream": "stdout",
       "text": [
        "\n",
        "('ROC AUC:', 0.50249653144134188)"
       ]
      },
      {
       "output_type": "stream",
       "stream": "stdout",
       "text": [
        "\n",
        "Mean: 0.523816, Median: 0.528053\n",
        "LR PCA 4 component(s)\n",
        "('ROC AUC:', 0.49509194885757846)\n",
        "('ROC AUC:', 0.5452952952952953)\n",
        "('ROC AUC:', 0.51815181518151809)\n",
        "('ROC AUC:', 0.52415134956118559)\n",
        "('ROC AUC:', 0.50435750662557022)\n",
        "Mean: 0.517410, Median: 0.518152\n",
        "SVC PCA 5 component(s)\n",
        "('ROC AUC:', 0.54043634953783248)"
       ]
      },
      {
       "output_type": "stream",
       "stream": "stdout",
       "text": [
        "\n",
        "('ROC AUC:', 0.52361736736736741)"
       ]
      },
      {
       "output_type": "stream",
       "stream": "stdout",
       "text": [
        "\n",
        "('ROC AUC:', 0.528052805280528)"
       ]
      },
      {
       "output_type": "stream",
       "stream": "stdout",
       "text": [
        "\n",
        "('ROC AUC:', 0.55206159960258316)"
       ]
      },
      {
       "output_type": "stream",
       "stream": "stdout",
       "text": [
        "\n",
        "('ROC AUC:', 0.51178063755015901)"
       ]
      },
      {
       "output_type": "stream",
       "stream": "stdout",
       "text": [
        "\n",
        "Mean: 0.531190, Median: 0.528053\n",
        "LR PCA 5 component(s)\n",
        "('ROC AUC:', 0.52289248988870962)\n",
        "('ROC AUC:', 0.54110360360360366)\n",
        "('ROC AUC:', 0.53795379537953802)\n",
        "('ROC AUC:', 0.52947507865540644)\n",
        "('ROC AUC:', 0.50555384781543122)\n",
        "Mean: 0.527396, Median: 0.529475\n",
        "SVC PCA 6 component(s)\n",
        "('ROC AUC:', 0.54163031889115065)"
       ]
      },
      {
       "output_type": "stream",
       "stream": "stdout",
       "text": [
        "\n",
        "('ROC AUC:', 0.55192692692692691)"
       ]
      },
      {
       "output_type": "stream",
       "stream": "stdout",
       "text": [
        "\n",
        "('ROC AUC:', 0.52392739273927391)"
       ]
      },
      {
       "output_type": "stream",
       "stream": "stdout",
       "text": [
        "\n",
        "('ROC AUC:', 0.56205497598940213)"
       ]
      },
      {
       "output_type": "stream",
       "stream": "stdout",
       "text": [
        "\n",
        "('ROC AUC:', 0.51799496539749268)"
       ]
      },
      {
       "output_type": "stream",
       "stream": "stdout",
       "text": [
        "\n",
        "Mean: 0.539507, Median: 0.541630\n",
        "LR PCA 6 component(s)\n",
        "('ROC AUC:', 0.52368993805457886)\n",
        "('ROC AUC:', 0.53562937937937938)\n",
        "('ROC AUC:', 0.53547854785478544)\n",
        "('ROC AUC:', 0.52550919026328868)\n",
        "('ROC AUC:', 0.50391718660430185)\n",
        "Mean: 0.524845, Median: 0.525509\n",
        "SVC PCA 7 component(s)\n",
        "('ROC AUC:', 0.58605390925832923)"
       ]
      },
      {
       "output_type": "stream",
       "stream": "stdout",
       "text": [
        "\n",
        "('ROC AUC:', 0.53328328328328323)"
       ]
      },
      {
       "output_type": "stream",
       "stream": "stdout",
       "text": [
        "\n",
        "('ROC AUC:', 0.54290429042904287)"
       ]
      },
      {
       "output_type": "stream",
       "stream": "stdout",
       "text": [
        "\n",
        "('ROC AUC:', 0.54898161947342272)"
       ]
      },
      {
       "output_type": "stream",
       "stream": "stdout",
       "text": [
        "\n",
        "('ROC AUC:', 0.53103009961201997)"
       ]
      },
      {
       "output_type": "stream",
       "stream": "stdout",
       "text": [
        "\n",
        "Mean: 0.548451, Median: 0.542904\n",
        "LR PCA 7 component(s)\n",
        "('ROC AUC:', 0.52309075048243414)\n",
        "('ROC AUC:', 0.5543355855855856)\n",
        "('ROC AUC:', 0.53135313531353134)\n",
        "('ROC AUC:', 0.5288541149196887)\n",
        "('ROC AUC:', 0.50563692706472707)\n",
        "Mean: 0.528654, Median: 0.528854\n",
        "SVC PCA 8 component(s)\n",
        "('ROC AUC:', 0.57232987038162964)"
       ]
      },
      {
       "output_type": "stream",
       "stream": "stdout",
       "text": [
        "\n",
        "('ROC AUC:', 0.5452952952952953)"
       ]
      },
      {
       "output_type": "stream",
       "stream": "stdout",
       "text": [
        "\n",
        "('ROC AUC:', 0.57013201320132012)"
       ]
      },
      {
       "output_type": "stream",
       "stream": "stdout",
       "text": [
        "\n",
        "('ROC AUC:', 0.56927471435668164)"
       ]
      },
      {
       "output_type": "stream",
       "stream": "stdout",
       "text": [
        "\n",
        "('ROC AUC:', 0.5343034220342785)"
       ]
      },
      {
       "output_type": "stream",
       "stream": "stdout",
       "text": [
        "\n",
        "Mean: 0.558267, Median: 0.569275\n",
        "LR PCA 8 component(s)\n",
        "('ROC AUC:', 0.53983716196568765)\n",
        "('ROC AUC:', 0.54132257257257255)\n",
        "('ROC AUC:', 0.56435643564356441)\n",
        "('ROC AUC:', 0.53022851465474419)\n",
        "('ROC AUC:', 0.52494454460109496)\n",
        "Mean: 0.540138, Median: 0.539837\n",
        "SVC PCA 9 component(s)\n",
        "('ROC AUC:', 0.58785147197476362)"
       ]
      },
      {
       "output_type": "stream",
       "stream": "stdout",
       "text": [
        "\n",
        "('ROC AUC:', 0.53209459459459463)"
       ]
      },
      {
       "output_type": "stream",
       "stream": "stdout",
       "text": [
        "\n",
        "('ROC AUC:', 0.5643564356435643)"
       ]
      },
      {
       "output_type": "stream",
       "stream": "stdout",
       "text": [
        "\n",
        "('ROC AUC:', 0.5756996191422421)"
       ]
      },
      {
       "output_type": "stream",
       "stream": "stdout",
       "text": [
        "\n",
        "('ROC AUC:', 0.51890883713974756)"
       ]
      },
      {
       "output_type": "stream",
       "stream": "stdout",
       "text": [
        "\n",
        "Mean: 0.555782, Median: 0.564356\n",
        "LR PCA 9 component(s)\n",
        "('ROC AUC:', 0.54063461013155689)\n",
        "('ROC AUC:', 0.54811061061061062)\n",
        "('ROC AUC:', 0.56765676567656764)\n",
        "('ROC AUC:', 0.53698460009935423)\n",
        "('ROC AUC:', 0.53058977959075171)\n",
        "Mean: 0.544795, Median: 0.540635\n"
       ]
      }
     ],
     "prompt_number": 20
    },
    {
     "cell_type": "code",
     "collapsed": false,
     "input": [
      "\n",
      "\n",
      "from ggplot import *"
     ],
     "language": "python",
     "metadata": {},
     "outputs": [],
     "prompt_number": 21
    },
    {
     "cell_type": "code",
     "collapsed": false,
     "input": [
      "pd.DataFrame(svc_res)"
     ],
     "language": "python",
     "metadata": {},
     "outputs": [
      {
       "html": [
        "<div style=\"max-height:1000px;max-width:1500px;overflow:auto;\">\n",
        "<table border=\"1\" class=\"dataframe\">\n",
        "  <thead>\n",
        "    <tr style=\"text-align: right;\">\n",
        "      <th></th>\n",
        "      <th>mean</th>\n",
        "      <th>median</th>\n",
        "      <th>pc_n</th>\n",
        "    </tr>\n",
        "  </thead>\n",
        "  <tbody>\n",
        "    <tr>\n",
        "      <th>0</th>\n",
        "      <td> 0.518878</td>\n",
        "      <td> 0.518955</td>\n",
        "      <td> 1</td>\n",
        "    </tr>\n",
        "    <tr>\n",
        "      <th>1</th>\n",
        "      <td> 0.515286</td>\n",
        "      <td> 0.513514</td>\n",
        "      <td> 2</td>\n",
        "    </tr>\n",
        "    <tr>\n",
        "      <th>2</th>\n",
        "      <td> 0.546411</td>\n",
        "      <td> 0.532100</td>\n",
        "      <td> 3</td>\n",
        "    </tr>\n",
        "    <tr>\n",
        "      <th>3</th>\n",
        "      <td> 0.523816</td>\n",
        "      <td> 0.528053</td>\n",
        "      <td> 4</td>\n",
        "    </tr>\n",
        "    <tr>\n",
        "      <th>4</th>\n",
        "      <td> 0.531190</td>\n",
        "      <td> 0.528053</td>\n",
        "      <td> 5</td>\n",
        "    </tr>\n",
        "    <tr>\n",
        "      <th>5</th>\n",
        "      <td> 0.539507</td>\n",
        "      <td> 0.541630</td>\n",
        "      <td> 6</td>\n",
        "    </tr>\n",
        "    <tr>\n",
        "      <th>6</th>\n",
        "      <td> 0.548451</td>\n",
        "      <td> 0.542904</td>\n",
        "      <td> 7</td>\n",
        "    </tr>\n",
        "    <tr>\n",
        "      <th>7</th>\n",
        "      <td> 0.558267</td>\n",
        "      <td> 0.569275</td>\n",
        "      <td> 8</td>\n",
        "    </tr>\n",
        "    <tr>\n",
        "      <th>8</th>\n",
        "      <td> 0.555782</td>\n",
        "      <td> 0.564356</td>\n",
        "      <td> 9</td>\n",
        "    </tr>\n",
        "  </tbody>\n",
        "</table>\n",
        "</div>"
       ],
       "metadata": {},
       "output_type": "pyout",
       "prompt_number": 23,
       "text": [
        "       mean    median  pc_n\n",
        "0  0.518878  0.518955     1\n",
        "1  0.515286  0.513514     2\n",
        "2  0.546411  0.532100     3\n",
        "3  0.523816  0.528053     4\n",
        "4  0.531190  0.528053     5\n",
        "5  0.539507  0.541630     6\n",
        "6  0.548451  0.542904     7\n",
        "7  0.558267  0.569275     8\n",
        "8  0.555782  0.564356     9"
       ]
      }
     ],
     "prompt_number": 23
    },
    {
     "cell_type": "code",
     "collapsed": false,
     "input": [
      "print ggplot(pd.DataFrame(svc_res), aes(x='pc_n')) + geom_line(aes(y='mean')) + geom_line(aes(y='median'))"
     ],
     "language": "python",
     "metadata": {},
     "outputs": [
      {
       "output_type": "stream",
       "stream": "stdout",
       "text": [
        "<ggplot: (28238880)>\n"
       ]
      }
     ],
     "prompt_number": 26
    },
    {
     "cell_type": "code",
     "collapsed": false,
     "input": [],
     "language": "python",
     "metadata": {},
     "outputs": []
    }
   ],
   "metadata": {}
  }
 ]
}